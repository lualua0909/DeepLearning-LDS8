{
  "nbformat": 4,
  "nbformat_minor": 0,
  "metadata": {
    "colab": {
      "name": "demo_1.ipynb",
      "provenance": [],
      "collapsed_sections": [],
      "authorship_tag": "ABX9TyPpJ84RJ1Ytm/t6ewPwc1Aa",
      "include_colab_link": true
    },
    "kernelspec": {
      "name": "python3",
      "display_name": "Python 3"
    },
    "language_info": {
      "name": "python"
    }
  },
  "cells": [
    {
      "cell_type": "markdown",
      "metadata": {
        "id": "view-in-github",
        "colab_type": "text"
      },
      "source": [
        "<a href=\"https://colab.research.google.com/github/lualua0909/DeepLearning-LDS8/blob/main/Week_2/demo_1.ipynb\" target=\"_parent\"><img src=\"https://colab.research.google.com/assets/colab-badge.svg\" alt=\"Open In Colab\"/></a>"
      ]
    },
    {
      "cell_type": "code",
      "metadata": {
        "id": "O7_AF_zFxDHY"
      },
      "source": [
        "import pandas as pd"
      ],
      "execution_count": 72,
      "outputs": []
    },
    {
      "cell_type": "code",
      "metadata": {
        "colab": {
          "base_uri": "https://localhost:8080/",
          "height": 221
        },
        "id": "YUCQarLbxlN_",
        "outputId": "2535e45c-1e2c-4c3a-a719-e3bc7e716345"
      },
      "source": [
        "red_wine = pd.read_csv('https://raw.githubusercontent.com/lualua0909/DeepLearning-LDS8/main/Data/red-wine.csv')\n",
        "red_wine.head()"
      ],
      "execution_count": 73,
      "outputs": [
        {
          "output_type": "execute_result",
          "data": {
            "text/html": [
              "<div>\n",
              "<style scoped>\n",
              "    .dataframe tbody tr th:only-of-type {\n",
              "        vertical-align: middle;\n",
              "    }\n",
              "\n",
              "    .dataframe tbody tr th {\n",
              "        vertical-align: top;\n",
              "    }\n",
              "\n",
              "    .dataframe thead th {\n",
              "        text-align: right;\n",
              "    }\n",
              "</style>\n",
              "<table border=\"1\" class=\"dataframe\">\n",
              "  <thead>\n",
              "    <tr style=\"text-align: right;\">\n",
              "      <th></th>\n",
              "      <th>fixed acidity</th>\n",
              "      <th>volatile acidity</th>\n",
              "      <th>citric acid</th>\n",
              "      <th>residual sugar</th>\n",
              "      <th>chlorides</th>\n",
              "      <th>free sulfur dioxide</th>\n",
              "      <th>total sulfur dioxide</th>\n",
              "      <th>density</th>\n",
              "      <th>pH</th>\n",
              "      <th>sulphates</th>\n",
              "      <th>alcohol</th>\n",
              "      <th>quality</th>\n",
              "    </tr>\n",
              "  </thead>\n",
              "  <tbody>\n",
              "    <tr>\n",
              "      <th>0</th>\n",
              "      <td>7.4</td>\n",
              "      <td>0.70</td>\n",
              "      <td>0.00</td>\n",
              "      <td>1.9</td>\n",
              "      <td>0.076</td>\n",
              "      <td>11.0</td>\n",
              "      <td>34.0</td>\n",
              "      <td>0.9978</td>\n",
              "      <td>3.51</td>\n",
              "      <td>0.56</td>\n",
              "      <td>9.4</td>\n",
              "      <td>5</td>\n",
              "    </tr>\n",
              "    <tr>\n",
              "      <th>1</th>\n",
              "      <td>7.8</td>\n",
              "      <td>0.88</td>\n",
              "      <td>0.00</td>\n",
              "      <td>2.6</td>\n",
              "      <td>0.098</td>\n",
              "      <td>25.0</td>\n",
              "      <td>67.0</td>\n",
              "      <td>0.9968</td>\n",
              "      <td>3.20</td>\n",
              "      <td>0.68</td>\n",
              "      <td>9.8</td>\n",
              "      <td>5</td>\n",
              "    </tr>\n",
              "    <tr>\n",
              "      <th>2</th>\n",
              "      <td>7.8</td>\n",
              "      <td>0.76</td>\n",
              "      <td>0.04</td>\n",
              "      <td>2.3</td>\n",
              "      <td>0.092</td>\n",
              "      <td>15.0</td>\n",
              "      <td>54.0</td>\n",
              "      <td>0.9970</td>\n",
              "      <td>3.26</td>\n",
              "      <td>0.65</td>\n",
              "      <td>9.8</td>\n",
              "      <td>5</td>\n",
              "    </tr>\n",
              "    <tr>\n",
              "      <th>3</th>\n",
              "      <td>11.2</td>\n",
              "      <td>0.28</td>\n",
              "      <td>0.56</td>\n",
              "      <td>1.9</td>\n",
              "      <td>0.075</td>\n",
              "      <td>17.0</td>\n",
              "      <td>60.0</td>\n",
              "      <td>0.9980</td>\n",
              "      <td>3.16</td>\n",
              "      <td>0.58</td>\n",
              "      <td>9.8</td>\n",
              "      <td>6</td>\n",
              "    </tr>\n",
              "    <tr>\n",
              "      <th>4</th>\n",
              "      <td>7.4</td>\n",
              "      <td>0.70</td>\n",
              "      <td>0.00</td>\n",
              "      <td>1.9</td>\n",
              "      <td>0.076</td>\n",
              "      <td>11.0</td>\n",
              "      <td>34.0</td>\n",
              "      <td>0.9978</td>\n",
              "      <td>3.51</td>\n",
              "      <td>0.56</td>\n",
              "      <td>9.4</td>\n",
              "      <td>5</td>\n",
              "    </tr>\n",
              "  </tbody>\n",
              "</table>\n",
              "</div>"
            ],
            "text/plain": [
              "   fixed acidity  volatile acidity  citric acid  ...  sulphates  alcohol  quality\n",
              "0            7.4              0.70         0.00  ...       0.56      9.4        5\n",
              "1            7.8              0.88         0.00  ...       0.68      9.8        5\n",
              "2            7.8              0.76         0.04  ...       0.65      9.8        5\n",
              "3           11.2              0.28         0.56  ...       0.58      9.8        6\n",
              "4            7.4              0.70         0.00  ...       0.56      9.4        5\n",
              "\n",
              "[5 rows x 12 columns]"
            ]
          },
          "metadata": {},
          "execution_count": 73
        }
      ]
    },
    {
      "cell_type": "code",
      "metadata": {
        "colab": {
          "base_uri": "https://localhost:8080/"
        },
        "id": "RRmlCF7Xx4CH",
        "outputId": "b355692d-f555-4da1-bdcf-98eda3a188f7"
      },
      "source": [
        "red_wine.shape"
      ],
      "execution_count": 74,
      "outputs": [
        {
          "output_type": "execute_result",
          "data": {
            "text/plain": [
              "(1599, 12)"
            ]
          },
          "metadata": {},
          "execution_count": 74
        }
      ]
    },
    {
      "cell_type": "markdown",
      "metadata": {
        "id": "6SxJ_nZozVn4"
      },
      "source": [
        "**input shape = input - 1 (target)**"
      ]
    },
    {
      "cell_type": "code",
      "metadata": {
        "colab": {
          "base_uri": "https://localhost:8080/"
        },
        "id": "BRo1DqfxzDld",
        "outputId": "fc7f75a1-c1bb-43fe-c65a-8b7a7b5cb4d2"
      },
      "source": [
        "input_shape = [red_wine.shape[1] - 1]\n",
        "input_shape"
      ],
      "execution_count": 75,
      "outputs": [
        {
          "output_type": "execute_result",
          "data": {
            "text/plain": [
              "[11]"
            ]
          },
          "metadata": {},
          "execution_count": 75
        }
      ]
    },
    {
      "cell_type": "markdown",
      "metadata": {
        "id": "xtwcXwq-zpHz"
      },
      "source": [
        "**Define linear model**"
      ]
    },
    {
      "cell_type": "code",
      "metadata": {
        "id": "qEubmrYPzlwB"
      },
      "source": [
        "from tensorflow import keras\n",
        "from tensorflow.keras import layers"
      ],
      "execution_count": 76,
      "outputs": []
    },
    {
      "cell_type": "code",
      "metadata": {
        "id": "y2gptmsQz35S"
      },
      "source": [
        "model = keras.Sequential([\n",
        "           layers.Dense(units=1, input_shape=input_shape)\n",
        "])"
      ],
      "execution_count": 77,
      "outputs": []
    },
    {
      "cell_type": "markdown",
      "metadata": {
        "id": "TU1WL6XI0LKE"
      },
      "source": [
        "**Look at the weight**"
      ]
    },
    {
      "cell_type": "code",
      "metadata": {
        "id": "JF303dcR0F91"
      },
      "source": [
        "w, b = model.weights"
      ],
      "execution_count": 78,
      "outputs": []
    },
    {
      "cell_type": "code",
      "metadata": {
        "colab": {
          "base_uri": "https://localhost:8080/"
        },
        "id": "vHxRSx6k0QbG",
        "outputId": "75c1907a-06de-4c01-c9a3-7c9cdf65f449"
      },
      "source": [
        "w"
      ],
      "execution_count": 79,
      "outputs": [
        {
          "output_type": "execute_result",
          "data": {
            "text/plain": [
              "<tf.Variable 'dense_15/kernel:0' shape=(11, 1) dtype=float32, numpy=\n",
              "array([[ 0.4235981 ],\n",
              "       [-0.25663874],\n",
              "       [-0.35422167],\n",
              "       [ 0.36530918],\n",
              "       [ 0.4692436 ],\n",
              "       [-0.5125203 ],\n",
              "       [-0.592084  ],\n",
              "       [ 0.03050506],\n",
              "       [-0.16177362],\n",
              "       [-0.1620059 ],\n",
              "       [-0.6823915 ]], dtype=float32)>"
            ]
          },
          "metadata": {},
          "execution_count": 79
        }
      ]
    },
    {
      "cell_type": "code",
      "metadata": {
        "colab": {
          "base_uri": "https://localhost:8080/"
        },
        "id": "3cT3VIU81exo",
        "outputId": "b2547298-bf86-4fa3-d601-c90d692665b3"
      },
      "source": [
        "b"
      ],
      "execution_count": 80,
      "outputs": [
        {
          "output_type": "execute_result",
          "data": {
            "text/plain": [
              "<tf.Variable 'dense_15/bias:0' shape=(1,) dtype=float32, numpy=array([0.], dtype=float32)>"
            ]
          },
          "metadata": {},
          "execution_count": 80
        }
      ]
    },
    {
      "cell_type": "code",
      "metadata": {
        "id": "H6puSpb62Lwk"
      },
      "source": [
        "import tensorflow as tf\n",
        "import matplotlib.pyplot as plt"
      ],
      "execution_count": 81,
      "outputs": []
    },
    {
      "cell_type": "code",
      "metadata": {
        "colab": {
          "base_uri": "https://localhost:8080/"
        },
        "id": "_13fZiKo3O_x",
        "outputId": "c7944ac6-c322-4aa4-9c45-0aed272b066d"
      },
      "source": [
        "model = keras.Sequential([\n",
        "           layers.Dense(units=1, input_shape=[1])\n",
        "])\n",
        "\n",
        "x = tf.linspace(-1.0, 1.0, 100)\n",
        "y = model.predict(x)\n",
        "x"
      ],
      "execution_count": 82,
      "outputs": [
        {
          "output_type": "execute_result",
          "data": {
            "text/plain": [
              "<tf.Tensor: shape=(100,), dtype=float32, numpy=\n",
              "array([-1.        , -0.97979796, -0.959596  , -0.93939394, -0.9191919 ,\n",
              "       -0.8989899 , -0.8787879 , -0.85858583, -0.83838385, -0.8181818 ,\n",
              "       -0.79797983, -0.7777778 , -0.75757575, -0.7373737 , -0.7171717 ,\n",
              "       -0.6969697 , -0.6767677 , -0.65656567, -0.6363636 , -0.6161616 ,\n",
              "       -0.5959596 , -0.57575756, -0.5555556 , -0.53535354, -0.5151515 ,\n",
              "       -0.49494952, -0.47474748, -0.45454544, -0.43434346, -0.41414142,\n",
              "       -0.39393938, -0.3737374 , -0.35353535, -0.3333333 , -0.31313133,\n",
              "       -0.2929293 , -0.27272725, -0.25252527, -0.23232323, -0.21212119,\n",
              "       -0.19191921, -0.17171717, -0.15151513, -0.13131315, -0.1111111 ,\n",
              "       -0.09090906, -0.07070708, -0.05050504, -0.030303  , -0.01010102,\n",
              "        0.01010096,  0.030303  ,  0.05050504,  0.07070708,  0.09090912,\n",
              "        0.11111116,  0.13131309,  0.15151513,  0.17171717,  0.19191921,\n",
              "        0.21212125,  0.23232329,  0.2525252 ,  0.27272725,  0.2929293 ,\n",
              "        0.31313133,  0.33333337,  0.3535353 ,  0.37373734,  0.39393938,\n",
              "        0.41414142,  0.43434346,  0.4545455 ,  0.47474742,  0.49494946,\n",
              "        0.5151515 ,  0.53535354,  0.5555556 ,  0.5757576 ,  0.59595954,\n",
              "        0.6161616 ,  0.6363636 ,  0.65656567,  0.6767677 ,  0.69696975,\n",
              "        0.71717167,  0.7373737 ,  0.75757575,  0.7777778 ,  0.79797983,\n",
              "        0.8181819 ,  0.8383838 ,  0.85858583,  0.8787879 ,  0.8989899 ,\n",
              "        0.91919196,  0.939394  ,  0.9595959 ,  0.97979796,  1.        ],\n",
              "      dtype=float32)>"
            ]
          },
          "metadata": {},
          "execution_count": 82
        }
      ]
    },
    {
      "cell_type": "code",
      "metadata": {
        "colab": {
          "base_uri": "https://localhost:8080/",
          "height": 310
        },
        "id": "yYF_F5_A3ep_",
        "outputId": "bf1ac50c-c1d1-4f2b-8815-3a98a77f4742"
      },
      "source": [
        "plt.plot(x, y, 'K')\n",
        "plt.xlim(-1, 1)\n",
        "plt.ylim(-1, 1)\n",
        "plt.xlabel('Input: X')\n",
        "plt.ylabel('Target: Y')\n",
        "\n",
        "w, b = model.weights\n",
        "plt.title(\"weight: {:0.2f}\\nbias: {:0.2f}\". format(w[0][0], b[0]))\n",
        "plt.show()"
      ],
      "execution_count": 83,
      "outputs": [
        {
          "output_type": "display_data",
          "data": {
            "image/png": "[encoded data removed]",
            "text/plain": [
              "<Figure size 432x288 with 1 Axes>"
            ]
          },
          "metadata": {
            "needs_background": "light"
          }
        }
      ]
    },
    {
      "cell_type": "code",
      "metadata": {
        "id": "5iPm37993-Mm"
      },
      "source": [
        ""
      ],
      "execution_count": 83,
      "outputs": []
    }
  ]
}