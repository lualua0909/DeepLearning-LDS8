{
  "nbformat": 4,
  "nbformat_minor": 0,
  "metadata": {
    "colab": {
      "name": "demo_CNN.ipynb",
      "provenance": [],
      "authorship_tag": "ABX9TyNfCMm6YSAWqlXHaxKtdaHc",
      "include_colab_link": true
    },
    "kernelspec": {
      "name": "python3",
      "display_name": "Python 3"
    },
    "language_info": {
      "name": "python"
    },
    "accelerator": "GPU"
  },
  "cells": [
    {
      "cell_type": "markdown",
      "metadata": {
        "id": "view-in-github",
        "colab_type": "text"
      },
      "source": [
        "<a href=\"https://colab.research.google.com/github/lualua0909/DeepLearning-LDS8/blob/main/Week_2/demo_CNN.ipynb\" target=\"_parent\"><img src=\"https://colab.research.google.com/assets/colab-badge.svg\" alt=\"Open In Colab\"/></a>"
      ]
    },
    {
      "cell_type": "markdown",
      "metadata": {
        "id": "Y1k8WiaTRl1_"
      },
      "source": [
        "#**Thiết kế CNN**\n",
        "\n",
        "* CNN bao gồm một lớp đầu vào (input layer), một lớp đầu ra (output), và nhiều lớp ẩn (hidden layer).\n",
        "\n",
        "* Các lớp ẩn của CNN thường bao gồm các lớp tích chập (convolutional layers), các lớp tổng hợp (pooling layers), các lớp được kết nối hoàn toàn (fully connected layers) và các lớp chuẩn hóa (normalization layers).\n",
        "\n",
        "##**Convolution Operation**\n",
        "\n",
        "Trong mỗi convolution layer, chúng ta lấy một bộ lọc có kích thước nhỏ và di chuyển bộ lọc đó qua hình ảnh và thực hiện các toán tử tích chập, đó là phép nhân ma trận element-wise giữa các giá trị bộ lọc và các điểm ảnh trong hình ảnh và các giá trị kết quả được cộng lại.\n",
        "\n",
        "##**Xem xét mối quan hệ của các parameter với weight và activation của layer:**\n",
        "\n",
        "* **Weight**\n",
        "\n",
        "* Các weight mà một convnet có thể học được trong quá trình huấn luyện chủ yếu được chứa trong các convolutional layer của nó. Các weight này được gọi là kernel. Kenel có thể được biểu diễn dưới dạng array kích thước nhỏ (3x3)\n",
        "\n",
        "* Kernel hoạt động bằng cách quét qua một hình ảnh và tạo ra một tổng weight của các giá trị pixel. Theo cách này, Kernel sẽ hoạt động giống như một thấu kính phân cực, nhấn mạnh hoặc làm nổi bật các mẫu thông tin nhất định\n",
        "\n",
        "Các kernel xác định cách một convolutional layer được kết nối với lớp sau đó. Kernel ở trên sẽ kết nối mỗi neuron ở output với 9 neuron ở input. Bằng cách thiết lập các kích thước của các kernel (kernel_size), chúng ta đang cho convent biết cách hình thành các kết nối này. Thông thường, một kernel sẽ có các kích thước lẻ, ví dụ: kernel_size = (3, 3) hoặc (5, 5) - để một pixel duy nhất nằm ở trung tâm (không bắt buộc).Các kernel trong một convolutional layer xác định loại tính năng mà nó tạo ra. Trong quá trình huấn luyện, một convnet cố gắng tìm hiểu những tính năng mà nó cần để giải quyết vấn đề phân loại. Điều này có nghĩa là tìm các giá trị tốt nhất cho kernel của nó.\n",
        "\n",
        "##**Activation function**\n",
        "Các activation trong mạng gọi là feature map (bản đồ tính năng). Chúng là kết quả khi áp dụng filter cho hình ảnh; chúng chứa các feature mà kernel trích xuất.\n",
        "\n",
        "Kết hợp hình ảnh với các bộ lọc (filter) khác nhau có thể thực hiện các hoạt động như phát hiện cạnh (edge detection), làm mờ (blur) và làm sắc nét (sharpen). Từ các giá trị số trong kernel, ta có thể biết các loại feature map mà nó tạo ra. Với tham số filters, chúng ta cho convolutional layer biết có bao nhiêu feature map ta muốn nó tạo ra ở output.\n",
        "\n",
        "Ví dụ phía sau cho thấy hình ảnh tích chập khác nhau sau khi áp dụng các loại kernel khác nhau\n",
        "\n",
        "##**Pooling layer**\n",
        "\n",
        "* Các Convolutional network có thể bao gồm các local hoặc global pooling layer (lớp tổng hợp cục bộ hoặc toàn cục), kết hợp các output của các neuron cluster (cụm neuron) tại một layer vào một single neuron ở layer kế tiếp.\n",
        "\n",
        "* Pooling là một công cụ mạnh mẽ khác mà CNNs sử dụng. Pooling là một cách lấy những hình ảnh lớn và co chúng lại trong khi vẫn giữ các thông tin quan trọng nhất trong đó theo cách nói trên.\n",
        "\n",
        "Có một số loại pooling sau:\n",
        "\n",
        "* Max Pooling: lấy element lớn nhất từ rectified feature map (layer trước)\n",
        "\n",
        "* Average Pooling: lấy giá trị trung bình của các element\n",
        "\n",
        "* Sum Pooling: lấy giá trị tổng của các element"
      ]
    },
    {
      "cell_type": "code",
      "metadata": {
        "id": "bR1nQzyNRVtP"
      },
      "source": [
        ""
      ],
      "execution_count": null,
      "outputs": []
    }
  ]
}