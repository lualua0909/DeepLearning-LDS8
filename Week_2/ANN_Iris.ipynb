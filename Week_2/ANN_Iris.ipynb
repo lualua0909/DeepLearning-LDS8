{
  "nbformat": 4,
  "nbformat_minor": 0,
  "metadata": {
    "colab": {
      "name": "ANN_Iris.ipynb",
      "provenance": [],
      "collapsed_sections": [],
      "authorship_tag": "ABX9TyNiSQWKp0wluHij8+5+RSrC",
      "include_colab_link": true
    },
    "kernelspec": {
      "name": "python3",
      "display_name": "Python 3"
    },
    "language_info": {
      "name": "python"
    },
    "accelerator": "GPU"
  },
  "cells": [
    {
      "cell_type": "markdown",
      "metadata": {
        "id": "view-in-github",
        "colab_type": "text"
      },
      "source": [
        "<a href=\"https://colab.research.google.com/github/lualua0909/DeepLearning-LDS8/blob/main/Week_2/ANN_Iris.ipynb\" target=\"_parent\"><img src=\"https://colab.research.google.com/assets/colab-badge.svg\" alt=\"Open In Colab\"/></a>"
      ]
    },
    {
      "cell_type": "markdown",
      "metadata": {
        "id": "5DIFLYEpZnfh"
      },
      "source": [
        "#**Iris 2 output**\n",
        "\n",
        "Xây dựng model để dự đoán petallength và loại iris từ những thuộc tính còn lại"
      ]
    },
    {
      "cell_type": "code",
      "metadata": {
        "id": "xdNz3Vx-ZkzG"
      },
      "source": [
        "import pandas as pd\n",
        "from tensorflow.keras.layers import Dense\n",
        "from tensorflow.keras import Input, Model\n",
        "import tensorflow as tf"
      ],
      "execution_count": 49,
      "outputs": []
    },
    {
      "cell_type": "code",
      "metadata": {
        "id": "bTx0RXwRZ67f"
      },
      "source": [
        "data = pd.read_excel(\"https://github.com/lualua0909/DeepLearning-LDS8/raw/main/Data/Iris.xls\")"
      ],
      "execution_count": 50,
      "outputs": []
    },
    {
      "cell_type": "code",
      "metadata": {
        "colab": {
          "base_uri": "https://localhost:8080/",
          "height": 206
        },
        "id": "Q_yEvfWIai8T",
        "outputId": "a69493eb-997b-4079-f191-4939e378a715"
      },
      "source": [
        "data.head()"
      ],
      "execution_count": 51,
      "outputs": [
        {
          "output_type": "execute_result",
          "data": {
            "text/html": [
              "<div>\n",
              "<style scoped>\n",
              "    .dataframe tbody tr th:only-of-type {\n",
              "        vertical-align: middle;\n",
              "    }\n",
              "\n",
              "    .dataframe tbody tr th {\n",
              "        vertical-align: top;\n",
              "    }\n",
              "\n",
              "    .dataframe thead th {\n",
              "        text-align: right;\n",
              "    }\n",
              "</style>\n",
              "<table border=\"1\" class=\"dataframe\">\n",
              "  <thead>\n",
              "    <tr style=\"text-align: right;\">\n",
              "      <th></th>\n",
              "      <th>sepallength</th>\n",
              "      <th>sepalwidth</th>\n",
              "      <th>petallength</th>\n",
              "      <th>petalwidth</th>\n",
              "      <th>iris</th>\n",
              "    </tr>\n",
              "  </thead>\n",
              "  <tbody>\n",
              "    <tr>\n",
              "      <th>0</th>\n",
              "      <td>5.1</td>\n",
              "      <td>3.5</td>\n",
              "      <td>1.4</td>\n",
              "      <td>0.2</td>\n",
              "      <td>Iris-setosa</td>\n",
              "    </tr>\n",
              "    <tr>\n",
              "      <th>1</th>\n",
              "      <td>4.9</td>\n",
              "      <td>3.0</td>\n",
              "      <td>1.4</td>\n",
              "      <td>0.2</td>\n",
              "      <td>Iris-setosa</td>\n",
              "    </tr>\n",
              "    <tr>\n",
              "      <th>2</th>\n",
              "      <td>4.7</td>\n",
              "      <td>3.2</td>\n",
              "      <td>1.3</td>\n",
              "      <td>0.2</td>\n",
              "      <td>Iris-setosa</td>\n",
              "    </tr>\n",
              "    <tr>\n",
              "      <th>3</th>\n",
              "      <td>4.6</td>\n",
              "      <td>3.1</td>\n",
              "      <td>1.5</td>\n",
              "      <td>0.2</td>\n",
              "      <td>Iris-setosa</td>\n",
              "    </tr>\n",
              "    <tr>\n",
              "      <th>4</th>\n",
              "      <td>5.0</td>\n",
              "      <td>3.6</td>\n",
              "      <td>1.4</td>\n",
              "      <td>0.2</td>\n",
              "      <td>Iris-setosa</td>\n",
              "    </tr>\n",
              "  </tbody>\n",
              "</table>\n",
              "</div>"
            ],
            "text/plain": [
              "   sepallength  sepalwidth  petallength  petalwidth         iris\n",
              "0          5.1         3.5          1.4         0.2  Iris-setosa\n",
              "1          4.9         3.0          1.4         0.2  Iris-setosa\n",
              "2          4.7         3.2          1.3         0.2  Iris-setosa\n",
              "3          4.6         3.1          1.5         0.2  Iris-setosa\n",
              "4          5.0         3.6          1.4         0.2  Iris-setosa"
            ]
          },
          "metadata": {},
          "execution_count": 51
        }
      ]
    },
    {
      "cell_type": "code",
      "metadata": {
        "colab": {
          "base_uri": "https://localhost:8080/",
          "height": 206
        },
        "id": "Yu4LogxcakzF",
        "outputId": "aae81a84-a86b-4341-e52b-f84b57b26c54"
      },
      "source": [
        "iris_class = {'Iris-setosa':0, 'Iris-versicolor':1, 'Iris-virginica':2}\n",
        "data['species_num'] = [iris_class[i] for i in data.iris]\n",
        "data.head()"
      ],
      "execution_count": 52,
      "outputs": [
        {
          "output_type": "execute_result",
          "data": {
            "text/html": [
              "<div>\n",
              "<style scoped>\n",
              "    .dataframe tbody tr th:only-of-type {\n",
              "        vertical-align: middle;\n",
              "    }\n",
              "\n",
              "    .dataframe tbody tr th {\n",
              "        vertical-align: top;\n",
              "    }\n",
              "\n",
              "    .dataframe thead th {\n",
              "        text-align: right;\n",
              "    }\n",
              "</style>\n",
              "<table border=\"1\" class=\"dataframe\">\n",
              "  <thead>\n",
              "    <tr style=\"text-align: right;\">\n",
              "      <th></th>\n",
              "      <th>sepallength</th>\n",
              "      <th>sepalwidth</th>\n",
              "      <th>petallength</th>\n",
              "      <th>petalwidth</th>\n",
              "      <th>iris</th>\n",
              "      <th>species_num</th>\n",
              "    </tr>\n",
              "  </thead>\n",
              "  <tbody>\n",
              "    <tr>\n",
              "      <th>0</th>\n",
              "      <td>5.1</td>\n",
              "      <td>3.5</td>\n",
              "      <td>1.4</td>\n",
              "      <td>0.2</td>\n",
              "      <td>Iris-setosa</td>\n",
              "      <td>0</td>\n",
              "    </tr>\n",
              "    <tr>\n",
              "      <th>1</th>\n",
              "      <td>4.9</td>\n",
              "      <td>3.0</td>\n",
              "      <td>1.4</td>\n",
              "      <td>0.2</td>\n",
              "      <td>Iris-setosa</td>\n",
              "      <td>0</td>\n",
              "    </tr>\n",
              "    <tr>\n",
              "      <th>2</th>\n",
              "      <td>4.7</td>\n",
              "      <td>3.2</td>\n",
              "      <td>1.3</td>\n",
              "      <td>0.2</td>\n",
              "      <td>Iris-setosa</td>\n",
              "      <td>0</td>\n",
              "    </tr>\n",
              "    <tr>\n",
              "      <th>3</th>\n",
              "      <td>4.6</td>\n",
              "      <td>3.1</td>\n",
              "      <td>1.5</td>\n",
              "      <td>0.2</td>\n",
              "      <td>Iris-setosa</td>\n",
              "      <td>0</td>\n",
              "    </tr>\n",
              "    <tr>\n",
              "      <th>4</th>\n",
              "      <td>5.0</td>\n",
              "      <td>3.6</td>\n",
              "      <td>1.4</td>\n",
              "      <td>0.2</td>\n",
              "      <td>Iris-setosa</td>\n",
              "      <td>0</td>\n",
              "    </tr>\n",
              "  </tbody>\n",
              "</table>\n",
              "</div>"
            ],
            "text/plain": [
              "   sepallength  sepalwidth  petallength  petalwidth         iris  species_num\n",
              "0          5.1         3.5          1.4         0.2  Iris-setosa            0\n",
              "1          4.9         3.0          1.4         0.2  Iris-setosa            0\n",
              "2          4.7         3.2          1.3         0.2  Iris-setosa            0\n",
              "3          4.6         3.1          1.5         0.2  Iris-setosa            0\n",
              "4          5.0         3.6          1.4         0.2  Iris-setosa            0"
            ]
          },
          "metadata": {},
          "execution_count": 52
        }
      ]
    },
    {
      "cell_type": "code",
      "metadata": {
        "id": "xHx3oFPYb4UE"
      },
      "source": [
        "df_train = data.sample(frac=0.7, random_state=0)\n",
        "df_valid = data.drop(df_train.index)"
      ],
      "execution_count": 53,
      "outputs": []
    },
    {
      "cell_type": "code",
      "metadata": {
        "id": "ayG7ccSHcMkg"
      },
      "source": [
        "X_train = df_train.drop(['petallength', 'iris', 'species_num'], axis=1)\n",
        "X_valid = df_valid.drop(['petallength', 'iris', 'species_num'], axis=1)"
      ],
      "execution_count": 54,
      "outputs": []
    },
    {
      "cell_type": "code",
      "metadata": {
        "id": "IInjIYfqccIS"
      },
      "source": [
        "y_train = df_train['petallength']\n",
        "y_valid = df_valid['petallength']"
      ],
      "execution_count": 55,
      "outputs": []
    },
    {
      "cell_type": "code",
      "metadata": {
        "id": "F2fkyg2RckvE"
      },
      "source": [
        "z_train = df_train['species_num']\n",
        "z_valid = df_valid['species_num']"
      ],
      "execution_count": 56,
      "outputs": []
    },
    {
      "cell_type": "markdown",
      "metadata": {
        "id": "asRxO2gZd6Xl"
      },
      "source": [
        "#**Build model**"
      ]
    },
    {
      "cell_type": "code",
      "metadata": {
        "id": "ty7Uhi1Fcokm"
      },
      "source": [
        "inputs = Input(shape=(3,), name='input')\n",
        "x = Dense(16, activation='relu', name='16')(inputs)\n",
        "x = Dense(32, activation='relu', name='32')(x)\n",
        "\n",
        "output1 = Dense(1, name='cont_out')(x)\n",
        "output2 = Dense(3, activation='softmax', name='cat_out')(x)"
      ],
      "execution_count": 57,
      "outputs": []
    },
    {
      "cell_type": "code",
      "metadata": {
        "id": "lhzNoUtFgG0y"
      },
      "source": [
        "model = Model(inputs=inputs, outputs=[output1, output2])"
      ],
      "execution_count": 58,
      "outputs": []
    },
    {
      "cell_type": "code",
      "metadata": {
        "colab": {
          "base_uri": "https://localhost:8080/"
        },
        "id": "CrPKbmcggN0z",
        "outputId": "a9ae11de-91fa-4ad2-8c90-18e17f4bbacc"
      },
      "source": [
        "model.compile"
      ],
      "execution_count": 59,
      "outputs": [
        {
          "output_type": "execute_result",
          "data": {
            "text/plain": [
              "<bound method Model.compile of <keras.engine.functional.Functional object at 0x7fbfbcb127d0>>"
            ]
          },
          "metadata": {},
          "execution_count": 59
        }
      ]
    },
    {
      "cell_type": "code",
      "metadata": {
        "id": "bBQa2JzkgZti"
      },
      "source": [
        "model.compile(loss={'cont_out': 'mean_absolute_error',\n",
        "                    'cat_out': 'sparse_categorical_crossentropy'},\n",
        "              optimizer='adam')"
      ],
      "execution_count": 60,
      "outputs": []
    },
    {
      "cell_type": "code",
      "metadata": {
        "colab": {
          "base_uri": "https://localhost:8080/"
        },
        "id": "GdHZ-nQignSl",
        "outputId": "47577a85-95cc-4262-d4fd-f7c85cbbba22"
      },
      "source": [
        "model.summary()"
      ],
      "execution_count": 61,
      "outputs": [
        {
          "output_type": "stream",
          "name": "stdout",
          "text": [
            "Model: \"model_4\"\n",
            "__________________________________________________________________________________________________\n",
            "Layer (type)                    Output Shape         Param #     Connected to                     \n",
            "==================================================================================================\n",
            "input (InputLayer)              [(None, 3)]          0                                            \n",
            "__________________________________________________________________________________________________\n",
            "16 (Dense)                      (None, 16)           64          input[0][0]                      \n",
            "__________________________________________________________________________________________________\n",
            "32 (Dense)                      (None, 32)           544         16[0][0]                         \n",
            "__________________________________________________________________________________________________\n",
            "cont_out (Dense)                (None, 1)            33          32[0][0]                         \n",
            "__________________________________________________________________________________________________\n",
            "cat_out (Dense)                 (None, 3)            99          32[0][0]                         \n",
            "==================================================================================================\n",
            "Total params: 740\n",
            "Trainable params: 740\n",
            "Non-trainable params: 0\n",
            "__________________________________________________________________________________________________\n"
          ]
        }
      ]
    },
    {
      "cell_type": "code",
      "metadata": {
        "colab": {
          "base_uri": "https://localhost:8080/"
        },
        "id": "B_kVmdu9goMA",
        "outputId": "1107de97-1e55-4510-bf8f-0e565214c71b"
      },
      "source": [
        "history = model.fit(X_train,\n",
        "                    {'cont_out': y_train, 'cat_out': z_train},\n",
        "                    validation_data=(X_valid, {'cont_out': y_valid, 'cat_out': z_valid}),\n",
        "                    epochs=100,\n",
        "                    batch_size=32)"
      ],
      "execution_count": 62,
      "outputs": [
        {
          "output_type": "stream",
          "name": "stdout",
          "text": [
            "Epoch 1/100\n",
            "4/4 [==============================] - 3s 90ms/step - loss: 3.2588 - cont_out_loss: 2.1735 - cat_out_loss: 1.0853 - val_loss: 3.0098 - val_cont_out_loss: 1.9021 - val_cat_out_loss: 1.1077\n",
            "Epoch 2/100\n",
            "4/4 [==============================] - 0s 12ms/step - loss: 3.0575 - cont_out_loss: 1.9976 - cat_out_loss: 1.0599 - val_loss: 2.8386 - val_cont_out_loss: 1.7548 - val_cat_out_loss: 1.0838\n",
            "Epoch 3/100\n",
            "4/4 [==============================] - 0s 12ms/step - loss: 2.8535 - cont_out_loss: 1.8167 - cat_out_loss: 1.0368 - val_loss: 2.6616 - val_cont_out_loss: 1.5942 - val_cat_out_loss: 1.0674\n",
            "Epoch 4/100\n",
            "4/4 [==============================] - 0s 12ms/step - loss: 2.6501 - cont_out_loss: 1.6321 - cat_out_loss: 1.0180 - val_loss: 2.4888 - val_cont_out_loss: 1.4342 - val_cat_out_loss: 1.0546\n",
            "Epoch 5/100\n",
            "4/4 [==============================] - 0s 12ms/step - loss: 2.4368 - cont_out_loss: 1.4306 - cat_out_loss: 1.0062 - val_loss: 2.3095 - val_cont_out_loss: 1.2781 - val_cat_out_loss: 1.0314\n",
            "Epoch 6/100\n",
            "4/4 [==============================] - 0s 12ms/step - loss: 2.2191 - cont_out_loss: 1.2358 - cat_out_loss: 0.9832 - val_loss: 2.1248 - val_cont_out_loss: 1.1213 - val_cat_out_loss: 1.0035\n",
            "Epoch 7/100\n",
            "4/4 [==============================] - 0s 11ms/step - loss: 2.0138 - cont_out_loss: 1.0572 - cat_out_loss: 0.9567 - val_loss: 1.9493 - val_cont_out_loss: 0.9703 - val_cat_out_loss: 0.9790\n",
            "Epoch 8/100\n",
            "4/4 [==============================] - 0s 12ms/step - loss: 1.8186 - cont_out_loss: 0.8871 - cat_out_loss: 0.9316 - val_loss: 1.8819 - val_cont_out_loss: 0.9297 - val_cat_out_loss: 0.9522\n",
            "Epoch 9/100\n",
            "4/4 [==============================] - 0s 12ms/step - loss: 1.7025 - cont_out_loss: 0.7929 - cat_out_loss: 0.9096 - val_loss: 1.8653 - val_cont_out_loss: 0.9445 - val_cat_out_loss: 0.9208\n",
            "Epoch 10/100\n",
            "4/4 [==============================] - 0s 14ms/step - loss: 1.6586 - cont_out_loss: 0.7725 - cat_out_loss: 0.8861 - val_loss: 1.7895 - val_cont_out_loss: 0.8997 - val_cat_out_loss: 0.8898\n",
            "Epoch 11/100\n",
            "4/4 [==============================] - 0s 18ms/step - loss: 1.5890 - cont_out_loss: 0.7219 - cat_out_loss: 0.8671 - val_loss: 1.6560 - val_cont_out_loss: 0.7890 - val_cat_out_loss: 0.8670\n",
            "Epoch 12/100\n",
            "4/4 [==============================] - 0s 17ms/step - loss: 1.4983 - cont_out_loss: 0.6420 - cat_out_loss: 0.8563 - val_loss: 1.5624 - val_cont_out_loss: 0.7085 - val_cat_out_loss: 0.8539\n",
            "Epoch 13/100\n",
            "4/4 [==============================] - 0s 14ms/step - loss: 1.4451 - cont_out_loss: 0.5998 - cat_out_loss: 0.8453 - val_loss: 1.5060 - val_cont_out_loss: 0.6631 - val_cat_out_loss: 0.8429\n",
            "Epoch 14/100\n",
            "4/4 [==============================] - 0s 18ms/step - loss: 1.4046 - cont_out_loss: 0.5698 - cat_out_loss: 0.8348 - val_loss: 1.4507 - val_cont_out_loss: 0.6211 - val_cat_out_loss: 0.8297\n",
            "Epoch 15/100\n",
            "4/4 [==============================] - 0s 12ms/step - loss: 1.3408 - cont_out_loss: 0.5191 - cat_out_loss: 0.8217 - val_loss: 1.4031 - val_cont_out_loss: 0.5883 - val_cat_out_loss: 0.8148\n",
            "Epoch 16/100\n",
            "4/4 [==============================] - 0s 14ms/step - loss: 1.2866 - cont_out_loss: 0.4801 - cat_out_loss: 0.8064 - val_loss: 1.3471 - val_cont_out_loss: 0.5451 - val_cat_out_loss: 0.8020\n",
            "Epoch 17/100\n",
            "4/4 [==============================] - 0s 15ms/step - loss: 1.2342 - cont_out_loss: 0.4418 - cat_out_loss: 0.7925 - val_loss: 1.2776 - val_cont_out_loss: 0.4885 - val_cat_out_loss: 0.7892\n",
            "Epoch 18/100\n",
            "4/4 [==============================] - 0s 14ms/step - loss: 1.1873 - cont_out_loss: 0.4070 - cat_out_loss: 0.7802 - val_loss: 1.2165 - val_cont_out_loss: 0.4395 - val_cat_out_loss: 0.7770\n",
            "Epoch 19/100\n",
            "4/4 [==============================] - 0s 14ms/step - loss: 1.1284 - cont_out_loss: 0.3654 - cat_out_loss: 0.7631 - val_loss: 1.1702 - val_cont_out_loss: 0.4093 - val_cat_out_loss: 0.7609\n",
            "Epoch 20/100\n",
            "4/4 [==============================] - 0s 14ms/step - loss: 1.0793 - cont_out_loss: 0.3329 - cat_out_loss: 0.7465 - val_loss: 1.1079 - val_cont_out_loss: 0.3629 - val_cat_out_loss: 0.7449\n",
            "Epoch 21/100\n",
            "4/4 [==============================] - 0s 19ms/step - loss: 1.0364 - cont_out_loss: 0.3050 - cat_out_loss: 0.7315 - val_loss: 1.0535 - val_cont_out_loss: 0.3242 - val_cat_out_loss: 0.7294\n",
            "Epoch 22/100\n",
            "4/4 [==============================] - 0s 13ms/step - loss: 0.9955 - cont_out_loss: 0.2785 - cat_out_loss: 0.7170 - val_loss: 1.0153 - val_cont_out_loss: 0.2991 - val_cat_out_loss: 0.7162\n",
            "Epoch 23/100\n",
            "4/4 [==============================] - 0s 12ms/step - loss: 0.9637 - cont_out_loss: 0.2595 - cat_out_loss: 0.7042 - val_loss: 0.9826 - val_cont_out_loss: 0.2776 - val_cat_out_loss: 0.7049\n",
            "Epoch 24/100\n",
            "4/4 [==============================] - 0s 12ms/step - loss: 0.9356 - cont_out_loss: 0.2435 - cat_out_loss: 0.6921 - val_loss: 0.9488 - val_cont_out_loss: 0.2586 - val_cat_out_loss: 0.6902\n",
            "Epoch 25/100\n",
            "4/4 [==============================] - 0s 13ms/step - loss: 0.9081 - cont_out_loss: 0.2293 - cat_out_loss: 0.6787 - val_loss: 0.9212 - val_cont_out_loss: 0.2475 - val_cat_out_loss: 0.6737\n",
            "Epoch 26/100\n",
            "4/4 [==============================] - 0s 13ms/step - loss: 0.8931 - cont_out_loss: 0.2254 - cat_out_loss: 0.6676 - val_loss: 0.9031 - val_cont_out_loss: 0.2440 - val_cat_out_loss: 0.6590\n",
            "Epoch 27/100\n",
            "4/4 [==============================] - 0s 12ms/step - loss: 0.8835 - cont_out_loss: 0.2264 - cat_out_loss: 0.6571 - val_loss: 0.8899 - val_cont_out_loss: 0.2424 - val_cat_out_loss: 0.6475\n",
            "Epoch 28/100\n",
            "4/4 [==============================] - 0s 12ms/step - loss: 0.8742 - cont_out_loss: 0.2262 - cat_out_loss: 0.6480 - val_loss: 0.8722 - val_cont_out_loss: 0.2380 - val_cat_out_loss: 0.6342\n",
            "Epoch 29/100\n",
            "4/4 [==============================] - 0s 12ms/step - loss: 0.8637 - cont_out_loss: 0.2246 - cat_out_loss: 0.6391 - val_loss: 0.8605 - val_cont_out_loss: 0.2383 - val_cat_out_loss: 0.6222\n",
            "Epoch 30/100\n",
            "4/4 [==============================] - 0s 12ms/step - loss: 0.8537 - cont_out_loss: 0.2230 - cat_out_loss: 0.6307 - val_loss: 0.8570 - val_cont_out_loss: 0.2441 - val_cat_out_loss: 0.6129\n",
            "Epoch 31/100\n",
            "4/4 [==============================] - 0s 12ms/step - loss: 0.8403 - cont_out_loss: 0.2176 - cat_out_loss: 0.6227 - val_loss: 0.8448 - val_cont_out_loss: 0.2424 - val_cat_out_loss: 0.6024\n",
            "Epoch 32/100\n",
            "4/4 [==============================] - 0s 15ms/step - loss: 0.8355 - cont_out_loss: 0.2216 - cat_out_loss: 0.6139 - val_loss: 0.8393 - val_cont_out_loss: 0.2451 - val_cat_out_loss: 0.5942\n",
            "Epoch 33/100\n",
            "4/4 [==============================] - 0s 12ms/step - loss: 0.8264 - cont_out_loss: 0.2222 - cat_out_loss: 0.6042 - val_loss: 0.8377 - val_cont_out_loss: 0.2493 - val_cat_out_loss: 0.5883\n",
            "Epoch 34/100\n",
            "4/4 [==============================] - 0s 15ms/step - loss: 0.8238 - cont_out_loss: 0.2266 - cat_out_loss: 0.5971 - val_loss: 0.8419 - val_cont_out_loss: 0.2566 - val_cat_out_loss: 0.5853\n",
            "Epoch 35/100\n",
            "4/4 [==============================] - 0s 12ms/step - loss: 0.8135 - cont_out_loss: 0.2261 - cat_out_loss: 0.5874 - val_loss: 0.8213 - val_cont_out_loss: 0.2439 - val_cat_out_loss: 0.5774\n",
            "Epoch 36/100\n",
            "4/4 [==============================] - 0s 18ms/step - loss: 0.7995 - cont_out_loss: 0.2197 - cat_out_loss: 0.5798 - val_loss: 0.8165 - val_cont_out_loss: 0.2437 - val_cat_out_loss: 0.5728\n",
            "Epoch 37/100\n",
            "4/4 [==============================] - 0s 13ms/step - loss: 0.7944 - cont_out_loss: 0.2198 - cat_out_loss: 0.5746 - val_loss: 0.8104 - val_cont_out_loss: 0.2429 - val_cat_out_loss: 0.5675\n",
            "Epoch 38/100\n",
            "4/4 [==============================] - 0s 12ms/step - loss: 0.7867 - cont_out_loss: 0.2195 - cat_out_loss: 0.5673 - val_loss: 0.8005 - val_cont_out_loss: 0.2421 - val_cat_out_loss: 0.5583\n",
            "Epoch 39/100\n",
            "4/4 [==============================] - 0s 13ms/step - loss: 0.7829 - cont_out_loss: 0.2218 - cat_out_loss: 0.5611 - val_loss: 0.7940 - val_cont_out_loss: 0.2434 - val_cat_out_loss: 0.5506\n",
            "Epoch 40/100\n",
            "4/4 [==============================] - 0s 12ms/step - loss: 0.7737 - cont_out_loss: 0.2176 - cat_out_loss: 0.5560 - val_loss: 0.7954 - val_cont_out_loss: 0.2516 - val_cat_out_loss: 0.5438\n",
            "Epoch 41/100\n",
            "4/4 [==============================] - 0s 12ms/step - loss: 0.7758 - cont_out_loss: 0.2259 - cat_out_loss: 0.5499 - val_loss: 0.7798 - val_cont_out_loss: 0.2442 - val_cat_out_loss: 0.5356\n",
            "Epoch 42/100\n",
            "4/4 [==============================] - 0s 12ms/step - loss: 0.7655 - cont_out_loss: 0.2218 - cat_out_loss: 0.5436 - val_loss: 0.7723 - val_cont_out_loss: 0.2451 - val_cat_out_loss: 0.5272\n",
            "Epoch 43/100\n",
            "4/4 [==============================] - 0s 14ms/step - loss: 0.7634 - cont_out_loss: 0.2250 - cat_out_loss: 0.5384 - val_loss: 0.7644 - val_cont_out_loss: 0.2429 - val_cat_out_loss: 0.5214\n",
            "Epoch 44/100\n",
            "4/4 [==============================] - 0s 12ms/step - loss: 0.7539 - cont_out_loss: 0.2202 - cat_out_loss: 0.5337 - val_loss: 0.7640 - val_cont_out_loss: 0.2478 - val_cat_out_loss: 0.5162\n",
            "Epoch 45/100\n",
            "4/4 [==============================] - 0s 12ms/step - loss: 0.7473 - cont_out_loss: 0.2190 - cat_out_loss: 0.5283 - val_loss: 0.7523 - val_cont_out_loss: 0.2417 - val_cat_out_loss: 0.5105\n",
            "Epoch 46/100\n",
            "4/4 [==============================] - 0s 14ms/step - loss: 0.7487 - cont_out_loss: 0.2256 - cat_out_loss: 0.5231 - val_loss: 0.7565 - val_cont_out_loss: 0.2510 - val_cat_out_loss: 0.5055\n",
            "Epoch 47/100\n",
            "4/4 [==============================] - 0s 13ms/step - loss: 0.7517 - cont_out_loss: 0.2323 - cat_out_loss: 0.5194 - val_loss: 0.7443 - val_cont_out_loss: 0.2419 - val_cat_out_loss: 0.5024\n",
            "Epoch 48/100\n",
            "4/4 [==============================] - 0s 13ms/step - loss: 0.7302 - cont_out_loss: 0.2166 - cat_out_loss: 0.5136 - val_loss: 0.7587 - val_cont_out_loss: 0.2587 - val_cat_out_loss: 0.5000\n",
            "Epoch 49/100\n",
            "4/4 [==============================] - 0s 12ms/step - loss: 0.7452 - cont_out_loss: 0.2350 - cat_out_loss: 0.5102 - val_loss: 0.7393 - val_cont_out_loss: 0.2435 - val_cat_out_loss: 0.4959\n",
            "Epoch 50/100\n",
            "4/4 [==============================] - 0s 14ms/step - loss: 0.7507 - cont_out_loss: 0.2448 - cat_out_loss: 0.5060 - val_loss: 0.7468 - val_cont_out_loss: 0.2582 - val_cat_out_loss: 0.4886\n",
            "Epoch 51/100\n",
            "4/4 [==============================] - 0s 13ms/step - loss: 0.7403 - cont_out_loss: 0.2387 - cat_out_loss: 0.5016 - val_loss: 0.7279 - val_cont_out_loss: 0.2416 - val_cat_out_loss: 0.4862\n",
            "Epoch 52/100\n",
            "4/4 [==============================] - 0s 14ms/step - loss: 0.7152 - cont_out_loss: 0.2177 - cat_out_loss: 0.4975 - val_loss: 0.7282 - val_cont_out_loss: 0.2469 - val_cat_out_loss: 0.4813\n",
            "Epoch 53/100\n",
            "4/4 [==============================] - 0s 12ms/step - loss: 0.7178 - cont_out_loss: 0.2249 - cat_out_loss: 0.4929 - val_loss: 0.7158 - val_cont_out_loss: 0.2406 - val_cat_out_loss: 0.4752\n",
            "Epoch 54/100\n",
            "4/4 [==============================] - 0s 14ms/step - loss: 0.7112 - cont_out_loss: 0.2226 - cat_out_loss: 0.4886 - val_loss: 0.7111 - val_cont_out_loss: 0.2411 - val_cat_out_loss: 0.4700\n",
            "Epoch 55/100\n",
            "4/4 [==============================] - 0s 14ms/step - loss: 0.7094 - cont_out_loss: 0.2240 - cat_out_loss: 0.4854 - val_loss: 0.7056 - val_cont_out_loss: 0.2401 - val_cat_out_loss: 0.4655\n",
            "Epoch 56/100\n",
            "4/4 [==============================] - 0s 12ms/step - loss: 0.7006 - cont_out_loss: 0.2187 - cat_out_loss: 0.4819 - val_loss: 0.7010 - val_cont_out_loss: 0.2403 - val_cat_out_loss: 0.4606\n",
            "Epoch 57/100\n",
            "4/4 [==============================] - 0s 12ms/step - loss: 0.6977 - cont_out_loss: 0.2188 - cat_out_loss: 0.4789 - val_loss: 0.6954 - val_cont_out_loss: 0.2393 - val_cat_out_loss: 0.4562\n",
            "Epoch 58/100\n",
            "4/4 [==============================] - 0s 12ms/step - loss: 0.6945 - cont_out_loss: 0.2189 - cat_out_loss: 0.4756 - val_loss: 0.6938 - val_cont_out_loss: 0.2403 - val_cat_out_loss: 0.4535\n",
            "Epoch 59/100\n",
            "4/4 [==============================] - 0s 13ms/step - loss: 0.6905 - cont_out_loss: 0.2185 - cat_out_loss: 0.4720 - val_loss: 0.6915 - val_cont_out_loss: 0.2395 - val_cat_out_loss: 0.4520\n",
            "Epoch 60/100\n",
            "4/4 [==============================] - 0s 15ms/step - loss: 0.6963 - cont_out_loss: 0.2283 - cat_out_loss: 0.4680 - val_loss: 0.6965 - val_cont_out_loss: 0.2471 - val_cat_out_loss: 0.4494\n",
            "Epoch 61/100\n",
            "4/4 [==============================] - 0s 13ms/step - loss: 0.6881 - cont_out_loss: 0.2248 - cat_out_loss: 0.4633 - val_loss: 0.6910 - val_cont_out_loss: 0.2399 - val_cat_out_loss: 0.4511\n",
            "Epoch 62/100\n",
            "4/4 [==============================] - 0s 12ms/step - loss: 0.6822 - cont_out_loss: 0.2191 - cat_out_loss: 0.4631 - val_loss: 0.6956 - val_cont_out_loss: 0.2424 - val_cat_out_loss: 0.4533\n",
            "Epoch 63/100\n",
            "4/4 [==============================] - 0s 13ms/step - loss: 0.6803 - cont_out_loss: 0.2201 - cat_out_loss: 0.4602 - val_loss: 0.6893 - val_cont_out_loss: 0.2399 - val_cat_out_loss: 0.4494\n",
            "Epoch 64/100\n",
            "4/4 [==============================] - 0s 12ms/step - loss: 0.6810 - cont_out_loss: 0.2241 - cat_out_loss: 0.4569 - val_loss: 0.6842 - val_cont_out_loss: 0.2385 - val_cat_out_loss: 0.4457\n",
            "Epoch 65/100\n",
            "4/4 [==============================] - 0s 12ms/step - loss: 0.6721 - cont_out_loss: 0.2175 - cat_out_loss: 0.4546 - val_loss: 0.6838 - val_cont_out_loss: 0.2434 - val_cat_out_loss: 0.4405\n",
            "Epoch 66/100\n",
            "4/4 [==============================] - 0s 19ms/step - loss: 0.6772 - cont_out_loss: 0.2271 - cat_out_loss: 0.4501 - val_loss: 0.6759 - val_cont_out_loss: 0.2399 - val_cat_out_loss: 0.4360\n",
            "Epoch 67/100\n",
            "4/4 [==============================] - 0s 13ms/step - loss: 0.6635 - cont_out_loss: 0.2170 - cat_out_loss: 0.4466 - val_loss: 0.6730 - val_cont_out_loss: 0.2426 - val_cat_out_loss: 0.4304\n",
            "Epoch 68/100\n",
            "4/4 [==============================] - 0s 15ms/step - loss: 0.6705 - cont_out_loss: 0.2273 - cat_out_loss: 0.4432 - val_loss: 0.6748 - val_cont_out_loss: 0.2496 - val_cat_out_loss: 0.4252\n",
            "Epoch 69/100\n",
            "4/4 [==============================] - 0s 12ms/step - loss: 0.6666 - cont_out_loss: 0.2259 - cat_out_loss: 0.4407 - val_loss: 0.6597 - val_cont_out_loss: 0.2373 - val_cat_out_loss: 0.4225\n",
            "Epoch 70/100\n",
            "4/4 [==============================] - 0s 13ms/step - loss: 0.6589 - cont_out_loss: 0.2214 - cat_out_loss: 0.4375 - val_loss: 0.6563 - val_cont_out_loss: 0.2386 - val_cat_out_loss: 0.4177\n",
            "Epoch 71/100\n",
            "4/4 [==============================] - 0s 13ms/step - loss: 0.6538 - cont_out_loss: 0.2176 - cat_out_loss: 0.4362 - val_loss: 0.6531 - val_cont_out_loss: 0.2407 - val_cat_out_loss: 0.4124\n",
            "Epoch 72/100\n",
            "4/4 [==============================] - 0s 13ms/step - loss: 0.6528 - cont_out_loss: 0.2198 - cat_out_loss: 0.4330 - val_loss: 0.6472 - val_cont_out_loss: 0.2368 - val_cat_out_loss: 0.4104\n",
            "Epoch 73/100\n",
            "4/4 [==============================] - 0s 13ms/step - loss: 0.6450 - cont_out_loss: 0.2163 - cat_out_loss: 0.4287 - val_loss: 0.6514 - val_cont_out_loss: 0.2406 - val_cat_out_loss: 0.4108\n",
            "Epoch 74/100\n",
            "4/4 [==============================] - 0s 15ms/step - loss: 0.6522 - cont_out_loss: 0.2247 - cat_out_loss: 0.4274 - val_loss: 0.6461 - val_cont_out_loss: 0.2359 - val_cat_out_loss: 0.4103\n",
            "Epoch 75/100\n",
            "4/4 [==============================] - 0s 14ms/step - loss: 0.6424 - cont_out_loss: 0.2187 - cat_out_loss: 0.4238 - val_loss: 0.6464 - val_cont_out_loss: 0.2390 - val_cat_out_loss: 0.4073\n",
            "Epoch 76/100\n",
            "4/4 [==============================] - 0s 14ms/step - loss: 0.6414 - cont_out_loss: 0.2192 - cat_out_loss: 0.4222 - val_loss: 0.6423 - val_cont_out_loss: 0.2358 - val_cat_out_loss: 0.4066\n",
            "Epoch 77/100\n",
            "4/4 [==============================] - 0s 15ms/step - loss: 0.6373 - cont_out_loss: 0.2181 - cat_out_loss: 0.4192 - val_loss: 0.6411 - val_cont_out_loss: 0.2373 - val_cat_out_loss: 0.4038\n",
            "Epoch 78/100\n",
            "4/4 [==============================] - 0s 12ms/step - loss: 0.6353 - cont_out_loss: 0.2191 - cat_out_loss: 0.4162 - val_loss: 0.6372 - val_cont_out_loss: 0.2381 - val_cat_out_loss: 0.3992\n",
            "Epoch 79/100\n",
            "4/4 [==============================] - 0s 13ms/step - loss: 0.6300 - cont_out_loss: 0.2160 - cat_out_loss: 0.4140 - val_loss: 0.6333 - val_cont_out_loss: 0.2379 - val_cat_out_loss: 0.3954\n",
            "Epoch 80/100\n",
            "4/4 [==============================] - 0s 16ms/step - loss: 0.6343 - cont_out_loss: 0.2228 - cat_out_loss: 0.4115 - val_loss: 0.6277 - val_cont_out_loss: 0.2364 - val_cat_out_loss: 0.3913\n",
            "Epoch 81/100\n",
            "4/4 [==============================] - 0s 16ms/step - loss: 0.6330 - cont_out_loss: 0.2246 - cat_out_loss: 0.4085 - val_loss: 0.6374 - val_cont_out_loss: 0.2502 - val_cat_out_loss: 0.3873\n",
            "Epoch 82/100\n",
            "4/4 [==============================] - 0s 15ms/step - loss: 0.6328 - cont_out_loss: 0.2262 - cat_out_loss: 0.4065 - val_loss: 0.6201 - val_cont_out_loss: 0.2347 - val_cat_out_loss: 0.3855\n",
            "Epoch 83/100\n",
            "4/4 [==============================] - 0s 13ms/step - loss: 0.6268 - cont_out_loss: 0.2231 - cat_out_loss: 0.4037 - val_loss: 0.6348 - val_cont_out_loss: 0.2502 - val_cat_out_loss: 0.3845\n",
            "Epoch 84/100\n",
            "4/4 [==============================] - 0s 15ms/step - loss: 0.6315 - cont_out_loss: 0.2304 - cat_out_loss: 0.4011 - val_loss: 0.6147 - val_cont_out_loss: 0.2341 - val_cat_out_loss: 0.3806\n",
            "Epoch 85/100\n",
            "4/4 [==============================] - 0s 15ms/step - loss: 0.6186 - cont_out_loss: 0.2199 - cat_out_loss: 0.3987 - val_loss: 0.6191 - val_cont_out_loss: 0.2430 - val_cat_out_loss: 0.3761\n",
            "Epoch 86/100\n",
            "4/4 [==============================] - 0s 14ms/step - loss: 0.6158 - cont_out_loss: 0.2193 - cat_out_loss: 0.3966 - val_loss: 0.6162 - val_cont_out_loss: 0.2403 - val_cat_out_loss: 0.3759\n",
            "Epoch 87/100\n",
            "4/4 [==============================] - 0s 14ms/step - loss: 0.6227 - cont_out_loss: 0.2286 - cat_out_loss: 0.3941 - val_loss: 0.6190 - val_cont_out_loss: 0.2445 - val_cat_out_loss: 0.3745\n",
            "Epoch 88/100\n",
            "4/4 [==============================] - 0s 13ms/step - loss: 0.6158 - cont_out_loss: 0.2239 - cat_out_loss: 0.3919 - val_loss: 0.6091 - val_cont_out_loss: 0.2381 - val_cat_out_loss: 0.3710\n",
            "Epoch 89/100\n",
            "4/4 [==============================] - 0s 14ms/step - loss: 0.6162 - cont_out_loss: 0.2260 - cat_out_loss: 0.3902 - val_loss: 0.6237 - val_cont_out_loss: 0.2568 - val_cat_out_loss: 0.3670\n",
            "Epoch 90/100\n",
            "4/4 [==============================] - 0s 13ms/step - loss: 0.6237 - cont_out_loss: 0.2363 - cat_out_loss: 0.3874 - val_loss: 0.6017 - val_cont_out_loss: 0.2356 - val_cat_out_loss: 0.3661\n",
            "Epoch 91/100\n",
            "4/4 [==============================] - 0s 16ms/step - loss: 0.6021 - cont_out_loss: 0.2163 - cat_out_loss: 0.3858 - val_loss: 0.6069 - val_cont_out_loss: 0.2414 - val_cat_out_loss: 0.3655\n",
            "Epoch 92/100\n",
            "4/4 [==============================] - 0s 14ms/step - loss: 0.6074 - cont_out_loss: 0.2251 - cat_out_loss: 0.3823 - val_loss: 0.5951 - val_cont_out_loss: 0.2344 - val_cat_out_loss: 0.3606\n",
            "Epoch 93/100\n",
            "4/4 [==============================] - 0s 13ms/step - loss: 0.5948 - cont_out_loss: 0.2151 - cat_out_loss: 0.3797 - val_loss: 0.5954 - val_cont_out_loss: 0.2378 - val_cat_out_loss: 0.3576\n",
            "Epoch 94/100\n",
            "4/4 [==============================] - 0s 13ms/step - loss: 0.5948 - cont_out_loss: 0.2168 - cat_out_loss: 0.3780 - val_loss: 0.5909 - val_cont_out_loss: 0.2356 - val_cat_out_loss: 0.3553\n",
            "Epoch 95/100\n",
            "4/4 [==============================] - 0s 12ms/step - loss: 0.5912 - cont_out_loss: 0.2156 - cat_out_loss: 0.3756 - val_loss: 0.5876 - val_cont_out_loss: 0.2340 - val_cat_out_loss: 0.3535\n",
            "Epoch 96/100\n",
            "4/4 [==============================] - 0s 12ms/step - loss: 0.5894 - cont_out_loss: 0.2157 - cat_out_loss: 0.3737 - val_loss: 0.5876 - val_cont_out_loss: 0.2361 - val_cat_out_loss: 0.3515\n",
            "Epoch 97/100\n",
            "4/4 [==============================] - 0s 13ms/step - loss: 0.5884 - cont_out_loss: 0.2174 - cat_out_loss: 0.3710 - val_loss: 0.5848 - val_cont_out_loss: 0.2337 - val_cat_out_loss: 0.3511\n",
            "Epoch 98/100\n",
            "4/4 [==============================] - 0s 14ms/step - loss: 0.5887 - cont_out_loss: 0.2191 - cat_out_loss: 0.3696 - val_loss: 0.5841 - val_cont_out_loss: 0.2335 - val_cat_out_loss: 0.3506\n",
            "Epoch 99/100\n",
            "4/4 [==============================] - 0s 15ms/step - loss: 0.5814 - cont_out_loss: 0.2144 - cat_out_loss: 0.3670 - val_loss: 0.5881 - val_cont_out_loss: 0.2403 - val_cat_out_loss: 0.3478\n",
            "Epoch 100/100\n",
            "4/4 [==============================] - 0s 13ms/step - loss: 0.5866 - cont_out_loss: 0.2214 - cat_out_loss: 0.3653 - val_loss: 0.5831 - val_cont_out_loss: 0.2375 - val_cat_out_loss: 0.3457\n"
          ]
        }
      ]
    },
    {
      "cell_type": "code",
      "metadata": {
        "colab": {
          "base_uri": "https://localhost:8080/",
          "height": 423
        },
        "id": "B6ntf8vnhgeg",
        "outputId": "fb070f88-dffe-48dd-87cf-e91a46abe946"
      },
      "source": [
        "history_df = pd.DataFrame(history.history)\n",
        "history_df"
      ],
      "execution_count": 66,
      "outputs": [
        {
          "output_type": "execute_result",
          "data": {
            "text/html": [
              "<div>\n",
              "<style scoped>\n",
              "    .dataframe tbody tr th:only-of-type {\n",
              "        vertical-align: middle;\n",
              "    }\n",
              "\n",
              "    .dataframe tbody tr th {\n",
              "        vertical-align: top;\n",
              "    }\n",
              "\n",
              "    .dataframe thead th {\n",
              "        text-align: right;\n",
              "    }\n",
              "</style>\n",
              "<table border=\"1\" class=\"dataframe\">\n",
              "  <thead>\n",
              "    <tr style=\"text-align: right;\">\n",
              "      <th></th>\n",
              "      <th>loss</th>\n",
              "      <th>cont_out_loss</th>\n",
              "      <th>cat_out_loss</th>\n",
              "      <th>val_loss</th>\n",
              "      <th>val_cont_out_loss</th>\n",
              "      <th>val_cat_out_loss</th>\n",
              "    </tr>\n",
              "  </thead>\n",
              "  <tbody>\n",
              "    <tr>\n",
              "      <th>0</th>\n",
              "      <td>3.258845</td>\n",
              "      <td>2.173529</td>\n",
              "      <td>1.085315</td>\n",
              "      <td>3.009751</td>\n",
              "      <td>1.902050</td>\n",
              "      <td>1.107700</td>\n",
              "    </tr>\n",
              "    <tr>\n",
              "      <th>1</th>\n",
              "      <td>3.057494</td>\n",
              "      <td>1.997636</td>\n",
              "      <td>1.059858</td>\n",
              "      <td>2.838648</td>\n",
              "      <td>1.754839</td>\n",
              "      <td>1.083809</td>\n",
              "    </tr>\n",
              "    <tr>\n",
              "      <th>2</th>\n",
              "      <td>2.853456</td>\n",
              "      <td>1.816668</td>\n",
              "      <td>1.036788</td>\n",
              "      <td>2.661602</td>\n",
              "      <td>1.594185</td>\n",
              "      <td>1.067417</td>\n",
              "    </tr>\n",
              "    <tr>\n",
              "      <th>3</th>\n",
              "      <td>2.650091</td>\n",
              "      <td>1.632101</td>\n",
              "      <td>1.017990</td>\n",
              "      <td>2.488796</td>\n",
              "      <td>1.434168</td>\n",
              "      <td>1.054628</td>\n",
              "    </tr>\n",
              "    <tr>\n",
              "      <th>4</th>\n",
              "      <td>2.436793</td>\n",
              "      <td>1.430630</td>\n",
              "      <td>1.006163</td>\n",
              "      <td>2.309461</td>\n",
              "      <td>1.278061</td>\n",
              "      <td>1.031401</td>\n",
              "    </tr>\n",
              "    <tr>\n",
              "      <th>...</th>\n",
              "      <td>...</td>\n",
              "      <td>...</td>\n",
              "      <td>...</td>\n",
              "      <td>...</td>\n",
              "      <td>...</td>\n",
              "      <td>...</td>\n",
              "    </tr>\n",
              "    <tr>\n",
              "      <th>95</th>\n",
              "      <td>0.589419</td>\n",
              "      <td>0.215671</td>\n",
              "      <td>0.373747</td>\n",
              "      <td>0.587638</td>\n",
              "      <td>0.236104</td>\n",
              "      <td>0.351534</td>\n",
              "    </tr>\n",
              "    <tr>\n",
              "      <th>96</th>\n",
              "      <td>0.588395</td>\n",
              "      <td>0.217371</td>\n",
              "      <td>0.371024</td>\n",
              "      <td>0.584796</td>\n",
              "      <td>0.233683</td>\n",
              "      <td>0.351114</td>\n",
              "    </tr>\n",
              "    <tr>\n",
              "      <th>97</th>\n",
              "      <td>0.588652</td>\n",
              "      <td>0.219081</td>\n",
              "      <td>0.369572</td>\n",
              "      <td>0.584110</td>\n",
              "      <td>0.233497</td>\n",
              "      <td>0.350613</td>\n",
              "    </tr>\n",
              "    <tr>\n",
              "      <th>98</th>\n",
              "      <td>0.581447</td>\n",
              "      <td>0.214444</td>\n",
              "      <td>0.367003</td>\n",
              "      <td>0.588077</td>\n",
              "      <td>0.240266</td>\n",
              "      <td>0.347811</td>\n",
              "    </tr>\n",
              "    <tr>\n",
              "      <th>99</th>\n",
              "      <td>0.586633</td>\n",
              "      <td>0.221356</td>\n",
              "      <td>0.365277</td>\n",
              "      <td>0.583137</td>\n",
              "      <td>0.237485</td>\n",
              "      <td>0.345652</td>\n",
              "    </tr>\n",
              "  </tbody>\n",
              "</table>\n",
              "<p>100 rows × 6 columns</p>\n",
              "</div>"
            ],
            "text/plain": [
              "        loss  cont_out_loss  ...  val_cont_out_loss  val_cat_out_loss\n",
              "0   3.258845       2.173529  ...           1.902050          1.107700\n",
              "1   3.057494       1.997636  ...           1.754839          1.083809\n",
              "2   2.853456       1.816668  ...           1.594185          1.067417\n",
              "3   2.650091       1.632101  ...           1.434168          1.054628\n",
              "4   2.436793       1.430630  ...           1.278061          1.031401\n",
              "..       ...            ...  ...                ...               ...\n",
              "95  0.589419       0.215671  ...           0.236104          0.351534\n",
              "96  0.588395       0.217371  ...           0.233683          0.351114\n",
              "97  0.588652       0.219081  ...           0.233497          0.350613\n",
              "98  0.581447       0.214444  ...           0.240266          0.347811\n",
              "99  0.586633       0.221356  ...           0.237485          0.345652\n",
              "\n",
              "[100 rows x 6 columns]"
            ]
          },
          "metadata": {},
          "execution_count": 66
        }
      ]
    },
    {
      "cell_type": "markdown",
      "metadata": {
        "id": "rN1RWOUfjh5G"
      },
      "source": [
        "#**Plotting**"
      ]
    },
    {
      "cell_type": "code",
      "metadata": {
        "colab": {
          "base_uri": "https://localhost:8080/",
          "height": 282
        },
        "id": "Lpdt9GC1iaZj",
        "outputId": "d89fa591-5c2c-4500-cd69-67b6b204f588"
      },
      "source": [
        "history_df.loc[:, ['loss', 'cont_out_loss', 'cat_out_loss']].plot()"
      ],
      "execution_count": 67,
      "outputs": [
        {
          "output_type": "execute_result",
          "data": {
            "text/plain": [
              "<matplotlib.axes._subplots.AxesSubplot at 0x7fbfbc19e510>"
            ]
          },
          "metadata": {},
          "execution_count": 67
        },
        {
          "output_type": "display_data",
          "data": {
            "image/png": "[encoded data removed]",
            "text/plain": [
              "<Figure size 432x288 with 1 Axes>"
            ]
          },
          "metadata": {
            "needs_background": "light"
          }
        }
      ]
    },
    {
      "cell_type": "code",
      "metadata": {
        "colab": {
          "base_uri": "https://localhost:8080/"
        },
        "id": "3VobYytEjwAz",
        "outputId": "6164fad1-faf3-4615-8bd2-05dae4dc6498"
      },
      "source": [
        "print('Minium loss = {}'.format(history_df['loss'].min()))"
      ],
      "execution_count": 68,
      "outputs": [
        {
          "output_type": "stream",
          "name": "stdout",
          "text": [
            "Minium loss = 0.5814465284347534\n"
          ]
        }
      ]
    },
    {
      "cell_type": "markdown",
      "metadata": {
        "id": "i5qufV1AkZvx"
      },
      "source": [
        "#**Dự đoán kết quả**"
      ]
    },
    {
      "cell_type": "code",
      "metadata": {
        "id": "4CI_Un7-j3F0"
      },
      "source": [
        "y_hat_valid = model.predict(X_valid)"
      ],
      "execution_count": 69,
      "outputs": []
    },
    {
      "cell_type": "code",
      "metadata": {
        "colab": {
          "base_uri": "https://localhost:8080/"
        },
        "id": "uQLC1CyvkroM",
        "outputId": "befc34d5-6f7f-424d-b29d-fb4e96097f14"
      },
      "source": [
        "y_hat_valid[0][0:5] # Du doan petal length"
      ],
      "execution_count": 70,
      "outputs": [
        {
          "output_type": "execute_result",
          "data": {
            "text/plain": [
              "array([[1.4409684],\n",
              "       [1.3507844],\n",
              "       [1.6135681],\n",
              "       [1.4684902],\n",
              "       [1.6192518]], dtype=float32)"
            ]
          },
          "metadata": {},
          "execution_count": 70
        }
      ]
    },
    {
      "cell_type": "code",
      "metadata": {
        "colab": {
          "base_uri": "https://localhost:8080/"
        },
        "id": "tuZ57a-5kvCk",
        "outputId": "f6655451-b0b6-45df-f2ff-82a3fd3a645c"
      },
      "source": [
        "y_hat_valid[1][0:5] # Du doan specie nums"
      ],
      "execution_count": 71,
      "outputs": [
        {
          "output_type": "execute_result",
          "data": {
            "text/plain": [
              "array([[0.9527574 , 0.04366834, 0.00357433],\n",
              "       [0.93809944, 0.0566434 , 0.00525715],\n",
              "       [0.9703766 , 0.02798105, 0.00164233],\n",
              "       [0.96011794, 0.03703194, 0.00285016],\n",
              "       [0.94107777, 0.05399915, 0.00492309]], dtype=float32)"
            ]
          },
          "metadata": {},
          "execution_count": 71
        }
      ]
    },
    {
      "cell_type": "code",
      "metadata": {
        "id": "rWBPm6sxk6B4"
      },
      "source": [
        "import numpy as np"
      ],
      "execution_count": 72,
      "outputs": []
    },
    {
      "cell_type": "code",
      "metadata": {
        "id": "rWphOXATlvWn"
      },
      "source": [
        "z_hat_valid = np.argmax(y_hat_valid[1], axis=-1)"
      ],
      "execution_count": 73,
      "outputs": []
    },
    {
      "cell_type": "code",
      "metadata": {
        "colab": {
          "base_uri": "https://localhost:8080/"
        },
        "id": "6G7m-0Cbl2bL",
        "outputId": "cefd2d2b-6082-47fa-df78-50ef469c397f"
      },
      "source": [
        "z_hat_valid"
      ],
      "execution_count": 76,
      "outputs": [
        {
          "output_type": "execute_result",
          "data": {
            "text/plain": [
              "array([0, 0, 0, 0, 0, 0, 0, 0, 0, 0, 0, 0, 0, 0, 0, 0, 0, 1, 1, 1, 1, 1,\n",
              "       2, 2, 1, 1, 2, 1, 1, 1, 2, 1, 1, 2, 2, 2, 2, 2, 2, 1, 2, 2, 2, 2,\n",
              "       2])"
            ]
          },
          "metadata": {},
          "execution_count": 76
        }
      ]
    },
    {
      "cell_type": "code",
      "metadata": {
        "id": "oVShwW30l4iJ"
      },
      "source": [
        ""
      ],
      "execution_count": null,
      "outputs": []
    }
  ]
}