{
  "nbformat": 4,
  "nbformat_minor": 0,
  "metadata": {
    "colab": {
      "name": "ex1_ANN_Cars_activation_function.ipynb",
      "provenance": [],
      "authorship_tag": "ABX9TyPSWYlY77vdy2wh+C2LZzv7",
      "include_colab_link": true
    },
    "kernelspec": {
      "name": "python3",
      "display_name": "Python 3"
    },
    "language_info": {
      "name": "python"
    }
  },
  "cells": [
    {
      "cell_type": "markdown",
      "metadata": {
        "id": "view-in-github",
        "colab_type": "text"
      },
      "source": [
        "<a href=\"https://colab.research.google.com/github/lualua0909/DeepLearning-LDS8/blob/main/Week_1/Ex1_ANN_Cars_activation_function.ipynb\" target=\"_parent\"><img src=\"https://colab.research.google.com/assets/colab-badge.svg\" alt=\"Open In Colab\"/></a>"
      ]
    },
    {
      "cell_type": "markdown",
      "metadata": {
        "id": "nNDZSjJCkovT"
      },
      "source": [
        "##**Cho dữ liệu cars.csv <br/> Áp dụng ANN để dự đoán giá trị của một \"potential car sale**"
      ]
    },
    {
      "cell_type": "code",
      "metadata": {
        "id": "LX_Oq3Eej8Gp"
      },
      "source": [
        "import tensorflow as tf\n",
        "from tensorflow import keras\n",
        "import matplotlib.pyplot as plt\n",
        "import numpy as np\n",
        "import pandas as pd\n",
        "from sklearn.model_selection import train_test_split\n",
        "from sklearn.model_selection import KFold\n",
        "from sklearn.pipeline import Pipeline\n",
        "from sklearn.preprocessing import MinMaxScaler\n",
        "from tensorflow.keras import Sequential\n",
        "from tensorflow.keras.layers import Dense\n",
        "from tensorflow.keras.wrappers.scikit_learn import KerasRegressor"
      ],
      "execution_count": 17,
      "outputs": []
    },
    {
      "cell_type": "code",
      "metadata": {
        "colab": {
          "base_uri": "https://localhost:8080/"
        },
        "id": "EUZfdX5ZkvQT",
        "outputId": "1fc82fcc-2a07-4465-e93d-2c55e4af2e1c"
      },
      "source": [
        "print(tf.__version__)\n",
        "print(keras.__version__)"
      ],
      "execution_count": 18,
      "outputs": [
        {
          "output_type": "stream",
          "name": "stdout",
          "text": [
            "2.6.0\n",
            "2.6.0\n"
          ]
        }
      ]
    },
    {
      "cell_type": "code",
      "metadata": {
        "colab": {
          "base_uri": "https://localhost:8080/"
        },
        "id": "5fty7DEHk0Iu",
        "outputId": "14a460ba-a82c-43f0-f7bd-2e19e7599397"
      },
      "source": [
        "# Load Dataset\n",
        "#Variables\n",
        "dataset=pd.read_csv(\"https://raw.githubusercontent.com/lualua0909/DeepLearning-LDS8/main/Data/cars.csv\", delimiter=\",\", header=None)\n",
        "dataset.info()"
      ],
      "execution_count": 19,
      "outputs": [
        {
          "output_type": "stream",
          "name": "stdout",
          "text": [
            "<class 'pandas.core.frame.DataFrame'>\n",
            "RangeIndex: 963 entries, 0 to 962\n",
            "Data columns (total 6 columns):\n",
            " #   Column  Non-Null Count  Dtype\n",
            "---  ------  --------------  -----\n",
            " 0   0       963 non-null    int64\n",
            " 1   1       963 non-null    int64\n",
            " 2   2       963 non-null    int64\n",
            " 3   3       963 non-null    int64\n",
            " 4   4       963 non-null    int64\n",
            " 5   5       963 non-null    int64\n",
            "dtypes: int64(6)\n",
            "memory usage: 45.3 KB\n"
          ]
        }
      ]
    },
    {
      "cell_type": "code",
      "metadata": {
        "colab": {
          "base_uri": "https://localhost:8080/",
          "height": 204
        },
        "id": "DUdKg9gTk2I8",
        "outputId": "2d967f3a-4d5f-4b45-a2d3-7d2e55b7bb1b"
      },
      "source": [
        "dataset.head()"
      ],
      "execution_count": 20,
      "outputs": [
        {
          "output_type": "execute_result",
          "data": {
            "text/html": [
              "<div>\n",
              "<style scoped>\n",
              "    .dataframe tbody tr th:only-of-type {\n",
              "        vertical-align: middle;\n",
              "    }\n",
              "\n",
              "    .dataframe tbody tr th {\n",
              "        vertical-align: top;\n",
              "    }\n",
              "\n",
              "    .dataframe thead th {\n",
              "        text-align: right;\n",
              "    }\n",
              "</style>\n",
              "<table border=\"1\" class=\"dataframe\">\n",
              "  <thead>\n",
              "    <tr style=\"text-align: right;\">\n",
              "      <th></th>\n",
              "      <th>0</th>\n",
              "      <th>1</th>\n",
              "      <th>2</th>\n",
              "      <th>3</th>\n",
              "      <th>4</th>\n",
              "      <th>5</th>\n",
              "    </tr>\n",
              "  </thead>\n",
              "  <tbody>\n",
              "    <tr>\n",
              "      <th>0</th>\n",
              "      <td>28</td>\n",
              "      <td>0</td>\n",
              "      <td>23</td>\n",
              "      <td>0</td>\n",
              "      <td>4099</td>\n",
              "      <td>620</td>\n",
              "    </tr>\n",
              "    <tr>\n",
              "      <th>1</th>\n",
              "      <td>26</td>\n",
              "      <td>0</td>\n",
              "      <td>27</td>\n",
              "      <td>0</td>\n",
              "      <td>2677</td>\n",
              "      <td>1792</td>\n",
              "    </tr>\n",
              "    <tr>\n",
              "      <th>2</th>\n",
              "      <td>30</td>\n",
              "      <td>1</td>\n",
              "      <td>58</td>\n",
              "      <td>41576</td>\n",
              "      <td>6215</td>\n",
              "      <td>27754</td>\n",
              "    </tr>\n",
              "    <tr>\n",
              "      <th>3</th>\n",
              "      <td>26</td>\n",
              "      <td>1</td>\n",
              "      <td>25</td>\n",
              "      <td>43172</td>\n",
              "      <td>7626</td>\n",
              "      <td>28256</td>\n",
              "    </tr>\n",
              "    <tr>\n",
              "      <th>4</th>\n",
              "      <td>20</td>\n",
              "      <td>1</td>\n",
              "      <td>17</td>\n",
              "      <td>6979</td>\n",
              "      <td>8071</td>\n",
              "      <td>4438</td>\n",
              "    </tr>\n",
              "  </tbody>\n",
              "</table>\n",
              "</div>"
            ],
            "text/plain": [
              "    0  1   2      3     4      5\n",
              "0  28  0  23      0  4099    620\n",
              "1  26  0  27      0  2677   1792\n",
              "2  30  1  58  41576  6215  27754\n",
              "3  26  1  25  43172  7626  28256\n",
              "4  20  1  17   6979  8071   4438"
            ]
          },
          "metadata": {},
          "execution_count": 20
        }
      ]
    },
    {
      "cell_type": "code",
      "metadata": {
        "colab": {
          "base_uri": "https://localhost:8080/",
          "height": 297
        },
        "id": "OptrPsbQlDZ-",
        "outputId": "2c4bdbc4-2ca3-4da1-ab36-f40fa4baf0fa"
      },
      "source": [
        "dataset.describe()"
      ],
      "execution_count": 21,
      "outputs": [
        {
          "output_type": "execute_result",
          "data": {
            "text/html": [
              "<div>\n",
              "<style scoped>\n",
              "    .dataframe tbody tr th:only-of-type {\n",
              "        vertical-align: middle;\n",
              "    }\n",
              "\n",
              "    .dataframe tbody tr th {\n",
              "        vertical-align: top;\n",
              "    }\n",
              "\n",
              "    .dataframe thead th {\n",
              "        text-align: right;\n",
              "    }\n",
              "</style>\n",
              "<table border=\"1\" class=\"dataframe\">\n",
              "  <thead>\n",
              "    <tr style=\"text-align: right;\">\n",
              "      <th></th>\n",
              "      <th>0</th>\n",
              "      <th>1</th>\n",
              "      <th>2</th>\n",
              "      <th>3</th>\n",
              "      <th>4</th>\n",
              "      <th>5</th>\n",
              "    </tr>\n",
              "  </thead>\n",
              "  <tbody>\n",
              "    <tr>\n",
              "      <th>count</th>\n",
              "      <td>963.000000</td>\n",
              "      <td>963.000000</td>\n",
              "      <td>963.000000</td>\n",
              "      <td>963.000000</td>\n",
              "      <td>963.000000</td>\n",
              "      <td>963.000000</td>\n",
              "    </tr>\n",
              "    <tr>\n",
              "      <th>mean</th>\n",
              "      <td>37.971963</td>\n",
              "      <td>0.512980</td>\n",
              "      <td>27.704050</td>\n",
              "      <td>14109.004154</td>\n",
              "      <td>6176.047767</td>\n",
              "      <td>11689.860852</td>\n",
              "    </tr>\n",
              "    <tr>\n",
              "      <th>std</th>\n",
              "      <td>12.290838</td>\n",
              "      <td>0.500091</td>\n",
              "      <td>13.378181</td>\n",
              "      <td>18273.702481</td>\n",
              "      <td>3260.670142</td>\n",
              "      <td>8986.896921</td>\n",
              "    </tr>\n",
              "    <tr>\n",
              "      <th>min</th>\n",
              "      <td>19.000000</td>\n",
              "      <td>0.000000</td>\n",
              "      <td>10.000000</td>\n",
              "      <td>0.000000</td>\n",
              "      <td>0.000000</td>\n",
              "      <td>500.000000</td>\n",
              "    </tr>\n",
              "    <tr>\n",
              "      <th>25%</th>\n",
              "      <td>27.000000</td>\n",
              "      <td>0.000000</td>\n",
              "      <td>20.000000</td>\n",
              "      <td>1475.000000</td>\n",
              "      <td>3506.500000</td>\n",
              "      <td>3554.000000</td>\n",
              "    </tr>\n",
              "    <tr>\n",
              "      <th>50%</th>\n",
              "      <td>37.000000</td>\n",
              "      <td>1.000000</td>\n",
              "      <td>25.000000</td>\n",
              "      <td>6236.000000</td>\n",
              "      <td>6360.000000</td>\n",
              "      <td>9130.000000</td>\n",
              "    </tr>\n",
              "    <tr>\n",
              "      <th>75%</th>\n",
              "      <td>49.000000</td>\n",
              "      <td>1.000000</td>\n",
              "      <td>32.000000</td>\n",
              "      <td>16686.000000</td>\n",
              "      <td>8649.500000</td>\n",
              "      <td>19245.000000</td>\n",
              "    </tr>\n",
              "    <tr>\n",
              "      <th>max</th>\n",
              "      <td>60.000000</td>\n",
              "      <td>1.000000</td>\n",
              "      <td>97.000000</td>\n",
              "      <td>59770.000000</td>\n",
              "      <td>11970.000000</td>\n",
              "      <td>29926.000000</td>\n",
              "    </tr>\n",
              "  </tbody>\n",
              "</table>\n",
              "</div>"
            ],
            "text/plain": [
              "                0           1  ...             4             5\n",
              "count  963.000000  963.000000  ...    963.000000    963.000000\n",
              "mean    37.971963    0.512980  ...   6176.047767  11689.860852\n",
              "std     12.290838    0.500091  ...   3260.670142   8986.896921\n",
              "min     19.000000    0.000000  ...      0.000000    500.000000\n",
              "25%     27.000000    0.000000  ...   3506.500000   3554.000000\n",
              "50%     37.000000    1.000000  ...   6360.000000   9130.000000\n",
              "75%     49.000000    1.000000  ...   8649.500000  19245.000000\n",
              "max     60.000000    1.000000  ...  11970.000000  29926.000000\n",
              "\n",
              "[8 rows x 6 columns]"
            ]
          },
          "metadata": {},
          "execution_count": 21
        }
      ]
    },
    {
      "cell_type": "code",
      "metadata": {
        "colab": {
          "base_uri": "https://localhost:8080/"
        },
        "id": "NkCPoYV8lFqj",
        "outputId": "7f0eb238-c514-46e5-be3a-1cf457d93489"
      },
      "source": [
        "x=dataset.iloc[:,0:5]\n",
        "y=dataset.iloc[:,5]\n",
        "print(type(x))\n",
        "print(type(y))"
      ],
      "execution_count": 22,
      "outputs": [
        {
          "output_type": "stream",
          "name": "stdout",
          "text": [
            "<class 'pandas.core.frame.DataFrame'>\n",
            "<class 'pandas.core.series.Series'>\n"
          ]
        }
      ]
    },
    {
      "cell_type": "code",
      "metadata": {
        "id": "yxjkU3W-lHV7"
      },
      "source": [
        "y=np.reshape(np.array(y), (-1,1))\n",
        "scaler_x = MinMaxScaler()\n",
        "scaler_y = MinMaxScaler()\n",
        "# print(scaler.fit(x))\n",
        "# print(scaler.fit(y))"
      ],
      "execution_count": 23,
      "outputs": []
    },
    {
      "cell_type": "code",
      "metadata": {
        "id": "hptdjSsElJpk"
      },
      "source": [
        "xscale=scaler_x.fit_transform(x)\n",
        "yscale=scaler_y.fit_transform(y)\n",
        "#print(xscale)\n",
        "#print(yscale)"
      ],
      "execution_count": 24,
      "outputs": []
    },
    {
      "cell_type": "code",
      "metadata": {
        "colab": {
          "base_uri": "https://localhost:8080/"
        },
        "id": "nKRcYr8QlLc9",
        "outputId": "36afda67-b5f0-4796-a0c7-bd8f514d77c6"
      },
      "source": [
        "# Keras Model Configuration: Neural Network API\n",
        "model = Sequential()\n",
        "model.add(Dense(3, input_dim=5, kernel_initializer='normal', activation='relu'))\n",
        "# model.add(Dense(12, input_dim=5, kernel_initializer='normal', activation='relu\n",
        "# tham số đầu tiên là units: là số nguyên, nodes của đầu ra\n",
        "model.add(Dense(3, activation='relu'))\n",
        "model.add(Dense(1, activation='linear'))\n",
        "model.summary()"
      ],
      "execution_count": 25,
      "outputs": [
        {
          "output_type": "stream",
          "name": "stdout",
          "text": [
            "Model: \"sequential_1\"\n",
            "_________________________________________________________________\n",
            "Layer (type)                 Output Shape              Param #   \n",
            "=================================================================\n",
            "dense_3 (Dense)              (None, 3)                 18        \n",
            "_________________________________________________________________\n",
            "dense_4 (Dense)              (None, 3)                 12        \n",
            "_________________________________________________________________\n",
            "dense_5 (Dense)              (None, 1)                 4         \n",
            "=================================================================\n",
            "Total params: 34\n",
            "Trainable params: 34\n",
            "Non-trainable params: 0\n",
            "_________________________________________________________________\n"
          ]
        }
      ]
    },
    {
      "cell_type": "code",
      "metadata": {
        "id": "g66Y5wv0lNaF"
      },
      "source": [
        "model.compile(loss='mse', optimizer='adam', metrics=['mse','mae'])"
      ],
      "execution_count": 26,
      "outputs": []
    },
    {
      "cell_type": "code",
      "metadata": {
        "id": "wlSGjHTilQtW"
      },
      "source": [
        "# fit model\n",
        "history = model.fit(xscale, yscale, epochs=150,\n",
        "batch_size=32,\n",
        "verbose=0,\n",
        "validation_split=0.2)"
      ],
      "execution_count": 27,
      "outputs": []
    },
    {
      "cell_type": "code",
      "metadata": {
        "colab": {
          "base_uri": "https://localhost:8080/",
          "height": 312
        },
        "id": "LCTlRcrGlSTQ",
        "outputId": "ef4a46ff-66f8-4222-ffb9-df20527d1f09"
      },
      "source": [
        "print(history.history.keys())\n",
        "# \"Loss\"\n",
        "plt.plot(history.history['loss'])\n",
        "plt.plot(history.history['val_loss'])\n",
        "plt.title('model loss')\n",
        "plt.ylabel('loss')\n",
        "plt.xlabel('epoch')\n",
        "plt.legend(['train', 'validation'], loc='upper left')\n",
        "plt.show()"
      ],
      "execution_count": 28,
      "outputs": [
        {
          "output_type": "stream",
          "name": "stdout",
          "text": [
            "dict_keys(['loss', 'mse', 'mae', 'val_loss', 'val_mse', 'val_mae'])\n"
          ]
        },
        {
          "output_type": "display_data",
          "data": {
            "image/png": "[encoded data removed]",
            "text/plain": [
              "<Figure size 432x288 with 1 Axes>"
            ]
          },
          "metadata": {
            "needs_background": "light"
          }
        }
      ]
    },
    {
      "cell_type": "code",
      "metadata": {
        "colab": {
          "base_uri": "https://localhost:8080/"
        },
        "id": "Qc9US69wtsuF",
        "outputId": "9b22ee0b-1a7a-4125-ef72-28cfd13ae650"
      },
      "source": [
        "# Evaluate the model on the test data using `evaluate`\n",
        "print('\\n# Evaluate on test data')\n",
        "results = model.evaluate(xscale, yscale)\n",
        "print('loss, mse, mae:', results)"
      ],
      "execution_count": 29,
      "outputs": [
        {
          "output_type": "stream",
          "name": "stdout",
          "text": [
            "\n",
            "# Evaluate on test data\n",
            "31/31 [==============================] - 0s 1ms/step - loss: 0.0162 - mse: 0.0162 - mae: 0.0971\n",
            "loss, mse, mae: [0.016195854172110558, 0.016195854172110558, 0.0971406102180481]\n"
          ]
        }
      ]
    },
    {
      "cell_type": "code",
      "metadata": {
        "colab": {
          "base_uri": "https://localhost:8080/"
        },
        "id": "--_BJKuntvDE",
        "outputId": "01a05d1e-6ed9-4f5b-e754-74063f650abb"
      },
      "source": [
        "# Predictions\n",
        "Xnew = np.array([[40, 0, 26, 9000, 8000]])\n",
        "X_new = scaler_x.transform(Xnew)\n",
        "ynew=model.predict(X_new)\n",
        "y_new = scaler_y.inverse_transform(ynew)\n",
        "print(\"X=%s, Predicted=%s\" % (Xnew[0], y_new[0]))"
      ],
      "execution_count": 30,
      "outputs": [
        {
          "output_type": "stream",
          "name": "stdout",
          "text": [
            "X=[  40    0   26 9000 8000], Predicted=[11743.093]\n"
          ]
        }
      ]
    },
    {
      "cell_type": "code",
      "metadata": {
        "id": "BWUnatWztw4A"
      },
      "source": [
        ""
      ],
      "execution_count": null,
      "outputs": []
    }
  ]
}