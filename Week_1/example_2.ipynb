{
  "nbformat": 4,
  "nbformat_minor": 0,
  "metadata": {
    "colab": {
      "name": "example_2.ipynb",
      "provenance": [],
      "authorship_tag": "ABX9TyMftD+WjjDJ0xTljg+3EI/B",
      "include_colab_link": true
    },
    "kernelspec": {
      "name": "python3",
      "display_name": "Python 3"
    },
    "language_info": {
      "name": "python"
    }
  },
  "cells": [
    {
      "cell_type": "markdown",
      "metadata": {
        "id": "view-in-github",
        "colab_type": "text"
      },
      "source": [
        "<a href=\"https://colab.research.google.com/github/lualua0909/DeepLearning-LDS8/blob/main/Week_1/example_2.ipynb\" target=\"_parent\"><img src=\"https://colab.research.google.com/assets/colab-badge.svg\" alt=\"Open In Colab\"/></a>"
      ]
    },
    {
      "cell_type": "code",
      "metadata": {
        "colab": {
          "base_uri": "https://localhost:8080/"
        },
        "id": "wyaFCNrKATsC",
        "outputId": "1ee91056-d046-41a9-bfcb-24be4943a3cd"
      },
      "source": [
        "import tensorflow as tf\n",
        "print(tf.__version__)"
      ],
      "execution_count": 21,
      "outputs": [
        {
          "output_type": "stream",
          "name": "stdout",
          "text": [
            "2.6.0\n"
          ]
        }
      ]
    },
    {
      "cell_type": "code",
      "metadata": {
        "colab": {
          "base_uri": "https://localhost:8080/"
        },
        "id": "DxdmF5zm97TC",
        "outputId": "14ef8741-eb83-4afa-ce79-8d8dcb448420"
      },
      "source": [
        "A = tf.constant(range(1, 13), shape=(2,2,3))\n",
        "A"
      ],
      "execution_count": 22,
      "outputs": [
        {
          "output_type": "execute_result",
          "data": {
            "text/plain": [
              "<tf.Tensor: shape=(2, 2, 3), dtype=int32, numpy=\n",
              "array([[[ 1,  2,  3],\n",
              "        [ 4,  5,  6]],\n",
              "\n",
              "       [[ 7,  8,  9],\n",
              "        [10, 11, 12]]], dtype=int32)>"
            ]
          },
          "metadata": {},
          "execution_count": 22
        }
      ]
    },
    {
      "cell_type": "code",
      "metadata": {
        "colab": {
          "base_uri": "https://localhost:8080/"
        },
        "id": "4_Fz8dc6AenR",
        "outputId": "f0cb7166-cc51-4213-afa9-c5f743157612"
      },
      "source": [
        "B = tf.reduce_sum(A)\n",
        "B"
      ],
      "execution_count": 23,
      "outputs": [
        {
          "output_type": "execute_result",
          "data": {
            "text/plain": [
              "<tf.Tensor: shape=(), dtype=int32, numpy=78>"
            ]
          },
          "metadata": {},
          "execution_count": 23
        }
      ]
    },
    {
      "cell_type": "code",
      "metadata": {
        "colab": {
          "base_uri": "https://localhost:8080/"
        },
        "id": "tAyZqs3fAxeW",
        "outputId": "4114983c-c07a-4723-ccca-ae87d162cc5a"
      },
      "source": [
        "B0 = tf.reduce_sum(A, 0)\n",
        "B0"
      ],
      "execution_count": 24,
      "outputs": [
        {
          "output_type": "execute_result",
          "data": {
            "text/plain": [
              "<tf.Tensor: shape=(2, 3), dtype=int32, numpy=\n",
              "array([[ 8, 10, 12],\n",
              "       [14, 16, 18]], dtype=int32)>"
            ]
          },
          "metadata": {},
          "execution_count": 24
        }
      ]
    },
    {
      "cell_type": "code",
      "metadata": {
        "colab": {
          "base_uri": "https://localhost:8080/"
        },
        "id": "LCun4CTgA2as",
        "outputId": "1ea82279-7ee1-4fb3-a0a1-79dd6c2d4b43"
      },
      "source": [
        "B1 = tf.reduce_sum(A, 1) # Cộng tổng trên cột\n",
        "B1"
      ],
      "execution_count": 25,
      "outputs": [
        {
          "output_type": "execute_result",
          "data": {
            "text/plain": [
              "<tf.Tensor: shape=(2, 3), dtype=int32, numpy=\n",
              "array([[ 5,  7,  9],\n",
              "       [17, 19, 21]], dtype=int32)>"
            ]
          },
          "metadata": {},
          "execution_count": 25
        }
      ]
    },
    {
      "cell_type": "code",
      "metadata": {
        "colab": {
          "base_uri": "https://localhost:8080/"
        },
        "id": "SQIhH0-nA7RE",
        "outputId": "5ee73cee-dffa-47e6-c9a8-20d04dd00826"
      },
      "source": [
        "B2 = tf.reduce_sum(A, 2) # Cộng tổng trên dòng\n",
        "B2"
      ],
      "execution_count": 26,
      "outputs": [
        {
          "output_type": "execute_result",
          "data": {
            "text/plain": [
              "<tf.Tensor: shape=(2, 2), dtype=int32, numpy=\n",
              "array([[ 6, 15],\n",
              "       [24, 33]], dtype=int32)>"
            ]
          },
          "metadata": {},
          "execution_count": 26
        }
      ]
    },
    {
      "cell_type": "code",
      "metadata": {
        "colab": {
          "base_uri": "https://localhost:8080/"
        },
        "id": "nm7xGz7-BCzx",
        "outputId": "6341deb5-c5c1-4ead-ceec-88d207ae9389"
      },
      "source": [
        "# Tạo ra grayscale image\n",
        "gray =  tf.random.uniform([2, 2], maxval=255, dtype='int32')\n",
        "gray"
      ],
      "execution_count": 31,
      "outputs": [
        {
          "output_type": "execute_result",
          "data": {
            "text/plain": [
              "<tf.Tensor: shape=(2, 2), dtype=int32, numpy=\n",
              "array([[185, 239],\n",
              "       [240, 197]], dtype=int32)>"
            ]
          },
          "metadata": {},
          "execution_count": 31
        }
      ]
    },
    {
      "cell_type": "code",
      "metadata": {
        "colab": {
          "base_uri": "https://localhost:8080/"
        },
        "id": "X26BpbSpCNUd",
        "outputId": "94efb7a5-afc9-40ef-d7eb-cd3beafed232"
      },
      "source": [
        "# Reshape grayscale img -> [n, 1]\n",
        "gray = tf.reshape(gray, [gray.shape[0] * gray.shape[1], 1])\n",
        "gray"
      ],
      "execution_count": 35,
      "outputs": [
        {
          "output_type": "execute_result",
          "data": {
            "text/plain": [
              "<tf.Tensor: shape=(4, 1), dtype=int32, numpy=\n",
              "array([[185],\n",
              "       [239],\n",
              "       [240],\n",
              "       [197]], dtype=int32)>"
            ]
          },
          "metadata": {},
          "execution_count": 35
        }
      ]
    },
    {
      "cell_type": "code",
      "metadata": {
        "colab": {
          "base_uri": "https://localhost:8080/"
        },
        "id": "EexkAlpjC7Mn",
        "outputId": "08ed61db-d990-46ac-81d1-4b38418137da"
      },
      "source": [
        "# Generate ra ảnh màu\n",
        "color = tf.random.uniform([2, 2, 3], maxval=255, dtype='int32')\n",
        "color"
      ],
      "execution_count": 36,
      "outputs": [
        {
          "output_type": "execute_result",
          "data": {
            "text/plain": [
              "<tf.Tensor: shape=(2, 2, 3), dtype=int32, numpy=\n",
              "array([[[187,  62,  69],\n",
              "        [230,  29, 154]],\n",
              "\n",
              "       [[ 66,  76,  99],\n",
              "        [ 40,  53, 138]]], dtype=int32)>"
            ]
          },
          "metadata": {},
          "execution_count": 36
        }
      ]
    },
    {
      "cell_type": "code",
      "metadata": {
        "colab": {
          "base_uri": "https://localhost:8080/"
        },
        "id": "I6OVJ8WWD6oe",
        "outputId": "8c6ab3a1-d086-4af5-90dd-e7bb232584b4"
      },
      "source": [
        "#Reshape color img\n",
        "color = tf.reshape(color, [2 * 2, 3])\n",
        "color"
      ],
      "execution_count": 37,
      "outputs": [
        {
          "output_type": "execute_result",
          "data": {
            "text/plain": [
              "<tf.Tensor: shape=(4, 3), dtype=int32, numpy=\n",
              "array([[187,  62,  69],\n",
              "       [230,  29, 154],\n",
              "       [ 66,  76,  99],\n",
              "       [ 40,  53, 138]], dtype=int32)>"
            ]
          },
          "metadata": {},
          "execution_count": 37
        }
      ]
    },
    {
      "cell_type": "code",
      "metadata": {
        "id": "iElpCjnmHw7T"
      },
      "source": [
        ""
      ],
      "execution_count": null,
      "outputs": []
    }
  ]
}