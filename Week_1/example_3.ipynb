{
  "nbformat": 4,
  "nbformat_minor": 0,
  "metadata": {
    "colab": {
      "name": "example_3.ipynb",
      "provenance": [],
      "authorship_tag": "ABX9TyND3YA6CtWToH0yb9okxMXN",
      "include_colab_link": true
    },
    "kernelspec": {
      "name": "python3",
      "display_name": "Python 3"
    },
    "language_info": {
      "name": "python"
    },
    "accelerator": "TPU"
  },
  "cells": [
    {
      "cell_type": "markdown",
      "metadata": {
        "id": "view-in-github",
        "colab_type": "text"
      },
      "source": [
        "<a href=\"https://colab.research.google.com/github/lualua0909/DeepLearning-LDS8/blob/main/Week_1/example_3.ipynb\" target=\"_parent\"><img src=\"https://colab.research.google.com/assets/colab-badge.svg\" alt=\"Open In Colab\"/></a>"
      ]
    },
    {
      "cell_type": "code",
      "metadata": {
        "id": "nqL7FNZ-JS0N"
      },
      "source": [
        "import tensorflow as tf\n",
        "import numpy as np\n",
        "import pandas as pd\n",
        "import matplotlib.pyplot as plt\n",
        "import seaborn as sns"
      ],
      "execution_count": 2,
      "outputs": []
    },
    {
      "cell_type": "code",
      "metadata": {
        "id": "Bmup93oxJWk9"
      },
      "source": [
        "def linear_regression(intercept, slope, features):\n",
        "  return intercept + features * slope"
      ],
      "execution_count": 3,
      "outputs": []
    },
    {
      "cell_type": "code",
      "metadata": {
        "id": "JssH9ou0PAa3"
      },
      "source": [
        "def loss_function(intercept, slope, targets, features):\n",
        "  predictions = linear_regression(intercept, slope, features)\n",
        "  return tf.keras.losses.mse(targets, predictions)"
      ],
      "execution_count": 4,
      "outputs": []
    },
    {
      "cell_type": "code",
      "metadata": {
        "id": "EdHL7PkOREeI",
        "outputId": "1a10b954-7989-4a90-88cb-e812a9ff9b7d",
        "colab": {
          "base_uri": "https://localhost:8080/",
          "height": 206
        }
      },
      "source": [
        "data = pd.read_csv('https://raw.githubusercontent.com/lualua0909/DeepLearning-LDS8/main/Data/iris.csv')\n",
        "data.head()"
      ],
      "execution_count": 5,
      "outputs": [
        {
          "output_type": "execute_result",
          "data": {
            "text/html": [
              "<div>\n",
              "<style scoped>\n",
              "    .dataframe tbody tr th:only-of-type {\n",
              "        vertical-align: middle;\n",
              "    }\n",
              "\n",
              "    .dataframe tbody tr th {\n",
              "        vertical-align: top;\n",
              "    }\n",
              "\n",
              "    .dataframe thead th {\n",
              "        text-align: right;\n",
              "    }\n",
              "</style>\n",
              "<table border=\"1\" class=\"dataframe\">\n",
              "  <thead>\n",
              "    <tr style=\"text-align: right;\">\n",
              "      <th></th>\n",
              "      <th>sepal_length</th>\n",
              "      <th>sepal_width</th>\n",
              "      <th>petal_length</th>\n",
              "      <th>petal_width</th>\n",
              "      <th>species</th>\n",
              "    </tr>\n",
              "  </thead>\n",
              "  <tbody>\n",
              "    <tr>\n",
              "      <th>0</th>\n",
              "      <td>5.1</td>\n",
              "      <td>3.5</td>\n",
              "      <td>1.4</td>\n",
              "      <td>0.2</td>\n",
              "      <td>setosa</td>\n",
              "    </tr>\n",
              "    <tr>\n",
              "      <th>1</th>\n",
              "      <td>4.9</td>\n",
              "      <td>3.0</td>\n",
              "      <td>1.4</td>\n",
              "      <td>0.2</td>\n",
              "      <td>setosa</td>\n",
              "    </tr>\n",
              "    <tr>\n",
              "      <th>2</th>\n",
              "      <td>4.7</td>\n",
              "      <td>3.2</td>\n",
              "      <td>1.3</td>\n",
              "      <td>0.2</td>\n",
              "      <td>setosa</td>\n",
              "    </tr>\n",
              "    <tr>\n",
              "      <th>3</th>\n",
              "      <td>4.6</td>\n",
              "      <td>3.1</td>\n",
              "      <td>1.5</td>\n",
              "      <td>0.2</td>\n",
              "      <td>setosa</td>\n",
              "    </tr>\n",
              "    <tr>\n",
              "      <th>4</th>\n",
              "      <td>5.0</td>\n",
              "      <td>3.6</td>\n",
              "      <td>1.4</td>\n",
              "      <td>0.2</td>\n",
              "      <td>setosa</td>\n",
              "    </tr>\n",
              "  </tbody>\n",
              "</table>\n",
              "</div>"
            ],
            "text/plain": [
              "   sepal_length  sepal_width  petal_length  petal_width species\n",
              "0           5.1          3.5           1.4          0.2  setosa\n",
              "1           4.9          3.0           1.4          0.2  setosa\n",
              "2           4.7          3.2           1.3          0.2  setosa\n",
              "3           4.6          3.1           1.5          0.2  setosa\n",
              "4           5.0          3.6           1.4          0.2  setosa"
            ]
          },
          "metadata": {},
          "execution_count": 5
        }
      ]
    },
    {
      "cell_type": "code",
      "metadata": {
        "id": "I_NQ--LcROKQ",
        "outputId": "336fef92-0d6d-4a9b-dc95-76354d26d2b0",
        "colab": {
          "base_uri": "https://localhost:8080/",
          "height": 335
        }
      },
      "source": [
        "plt.figure(figsize=(8,5))\n",
        "sns.regplot(data = data, x =\"petal_width\", y =\"petal_length\")\n",
        "plt.show()\n"
      ],
      "execution_count": 6,
      "outputs": [
        {
          "output_type": "display_data",
          "data": {
            "image/png": "[encoded data removed]",
            "text/plain": [
              "<Figure size 576x360 with 1 Axes>"
            ]
          },
          "metadata": {
            "needs_background": "light"
          }
        }
      ]
    },
    {
      "cell_type": "code",
      "metadata": {
        "id": "tGD1t7hePTD3"
      },
      "source": [
        "length = tf.cast(data.petal_length, tf.float32)\n",
        "width = tf.cast(data.petal_width, tf.float32)"
      ],
      "execution_count": 7,
      "outputs": []
    },
    {
      "cell_type": "code",
      "metadata": {
        "id": "9iMDfSYlQJFK"
      },
      "source": [
        "intercept = tf.Variable(0.1, tf.float32)\n",
        "slope = tf.Variable(0.1, tf.float32)"
      ],
      "execution_count": 8,
      "outputs": []
    },
    {
      "cell_type": "markdown",
      "metadata": {
        "id": "50U1EhGbRwu2"
      },
      "source": [
        "Tính toán tối thiểu Loss Function"
      ]
    },
    {
      "cell_type": "code",
      "metadata": {
        "id": "fan5Il-SQV7H"
      },
      "source": [
        "opt = tf.keras.optimizers.Adam()"
      ],
      "execution_count": 9,
      "outputs": []
    },
    {
      "cell_type": "code",
      "metadata": {
        "id": "eW0HvUMYTK4W",
        "outputId": "5f43e5e8-0740-4baa-cb9a-7a58e45875b3",
        "colab": {
          "base_uri": "https://localhost:8080/"
        }
      },
      "source": [
        "for j in range(10000):\n",
        "  opt.minimize(lambda: loss_function(intercept, slope, length, width),\\\n",
        "               var_list=[intercept, slope])\n",
        "  if j % 1000 == 0:\n",
        "    print(loss_function(intercept, slope, length, width))"
      ],
      "execution_count": 13,
      "outputs": [
        {
          "output_type": "stream",
          "name": "stdout",
          "text": [
            "tf.Tensor(0.22605252, shape=(), dtype=float32)\n",
            "tf.Tensor(0.22605252, shape=(), dtype=float32)\n",
            "tf.Tensor(0.22605248, shape=(), dtype=float32)\n",
            "tf.Tensor(0.22605248, shape=(), dtype=float32)\n",
            "tf.Tensor(0.22605251, shape=(), dtype=float32)\n",
            "tf.Tensor(0.22605251, shape=(), dtype=float32)\n",
            "tf.Tensor(0.22605251, shape=(), dtype=float32)\n",
            "tf.Tensor(0.22605245, shape=(), dtype=float32)\n",
            "tf.Tensor(0.22605248, shape=(), dtype=float32)\n",
            "tf.Tensor(0.22605248, shape=(), dtype=float32)\n"
          ]
        }
      ]
    },
    {
      "cell_type": "code",
      "metadata": {
        "id": "PpSWy53ITdcO",
        "outputId": "2f0721ee-efb2-4500-e5a1-27c7c1bf5160",
        "colab": {
          "base_uri": "https://localhost:8080/"
        }
      },
      "source": [
        "# MSE\n",
        "tf.print(loss_function(intercept, slope, length, width))"
      ],
      "execution_count": 14,
      "outputs": [
        {
          "output_type": "stream",
          "name": "stdout",
          "text": [
            "0.226052478\n"
          ]
        }
      ]
    },
    {
      "cell_type": "code",
      "metadata": {
        "id": "uFh27_RAXjsl",
        "outputId": "ebe6b984-2ac3-4ea7-c119-970d8e68d799",
        "colab": {
          "base_uri": "https://localhost:8080/"
        }
      },
      "source": [
        "print(intercept.numpy(), slope.numpy())"
      ],
      "execution_count": 16,
      "outputs": [
        {
          "output_type": "stream",
          "name": "stdout",
          "text": [
            "1.0905695 2.225883\n"
          ]
        }
      ]
    },
    {
      "cell_type": "code",
      "metadata": {
        "id": "Z3xewGZcXlg-",
        "outputId": "7e466106-04b4-44d9-e24b-5bb63084a846",
        "colab": {
          "base_uri": "https://localhost:8080/"
        }
      },
      "source": [
        "# Dự đoán width = 1.5=> height = ?\n",
        "x_new = 1.5\n",
        "y_new = linear_regression(intercept, slope, x_new)\n",
        "y_new.numpy()"
      ],
      "execution_count": 18,
      "outputs": [
        {
          "output_type": "execute_result",
          "data": {
            "text/plain": [
              "4.429394"
            ]
          },
          "metadata": {},
          "execution_count": 18
        }
      ]
    },
    {
      "cell_type": "code",
      "metadata": {
        "id": "OrB_gFyvX3ON"
      },
      "source": [
        ""
      ],
      "execution_count": null,
      "outputs": []
    }
  ]
}