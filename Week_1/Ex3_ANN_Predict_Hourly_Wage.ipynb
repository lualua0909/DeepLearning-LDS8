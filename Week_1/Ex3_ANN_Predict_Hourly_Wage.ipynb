{
  "nbformat": 4,
  "nbformat_minor": 0,
  "metadata": {
    "colab": {
      "name": "Ex3_ANN_Predict_Hourly_Wage.ipynb",
      "provenance": [],
      "authorship_tag": "ABX9TyPFdhta9leNjzBQxptx9TUk",
      "include_colab_link": true
    },
    "kernelspec": {
      "name": "python3",
      "display_name": "Python 3"
    },
    "language_info": {
      "name": "python"
    }
  },
  "cells": [
    {
      "cell_type": "markdown",
      "metadata": {
        "id": "view-in-github",
        "colab_type": "text"
      },
      "source": [
        "<a href=\"https://colab.research.google.com/github/lualua0909/DeepLearning-LDS8/blob/main/Week_1/Ex3_ANN_Predict_Hourly_Wage.ipynb\" target=\"_parent\"><img src=\"https://colab.research.google.com/assets/colab-badge.svg\" alt=\"Open In Colab\"/></a>"
      ]
    },
    {
      "cell_type": "markdown",
      "metadata": {
        "id": "aasgb9ROvcFG"
      },
      "source": [
        "* Cho dữ liệu Income_training.csv, hãy xây dựng mô hình dự đoán compositeHourlyWages từ\n",
        "những thuộc tính còn lại.\n",
        "\n",
        "* https://www.kaggle.com/c/predict-hourly-wage/data (https://www.kaggle.com/c/predict-hourly-wage/data)"
      ]
    },
    {
      "cell_type": "code",
      "metadata": {
        "id": "ndbuo0nGvPcv"
      },
      "source": [
        "import warnings\n",
        "warnings.filterwarnings('ignore')"
      ],
      "execution_count": 18,
      "outputs": []
    },
    {
      "cell_type": "code",
      "metadata": {
        "id": "CiDwiJa9vjgZ"
      },
      "source": [
        "# Import\n",
        "import tensorflow as tf\n",
        "from tensorflow import keras\n",
        "from tensorflow.keras import Sequential\n",
        "from tensorflow.keras.layers import Dense\n",
        "import numpy as np\n",
        "import pandas as pd"
      ],
      "execution_count": 19,
      "outputs": []
    },
    {
      "cell_type": "code",
      "metadata": {
        "colab": {
          "base_uri": "https://localhost:8080/"
        },
        "id": "9YCFCE0_vk5q",
        "outputId": "337db01b-39e0-4d60-beac-bc5b0fc57fb8"
      },
      "source": [
        "df = pd.read_csv(\"https://raw.githubusercontent.com/lualua0909/DeepLearning-LDS8/main/Data/all/Income_training.csv\")\n",
        "df.info()"
      ],
      "execution_count": 20,
      "outputs": [
        {
          "output_type": "stream",
          "name": "stdout",
          "text": [
            "<class 'pandas.core.frame.DataFrame'>\n",
            "RangeIndex: 3197 entries, 0 to 3196\n",
            "Data columns (total 4 columns):\n",
            " #   Column                Non-Null Count  Dtype  \n",
            "---  ------                --------------  -----  \n",
            " 0   compositeHourlyWages  3197 non-null   float64\n",
            " 1   age                   3197 non-null   int64  \n",
            " 2   yearsEducation        3197 non-null   int64  \n",
            " 3   sex1M0F               3197 non-null   int64  \n",
            "dtypes: float64(1), int64(3)\n",
            "memory usage: 100.0 KB\n"
          ]
        }
      ]
    },
    {
      "cell_type": "code",
      "metadata": {
        "colab": {
          "base_uri": "https://localhost:8080/",
          "height": 204
        },
        "id": "kuOsUJoQvulR",
        "outputId": "e9b1d2c6-ad9b-4142-b33c-8180266a76ea"
      },
      "source": [
        "df.head()"
      ],
      "execution_count": 21,
      "outputs": [
        {
          "output_type": "execute_result",
          "data": {
            "text/html": [
              "<div>\n",
              "<style scoped>\n",
              "    .dataframe tbody tr th:only-of-type {\n",
              "        vertical-align: middle;\n",
              "    }\n",
              "\n",
              "    .dataframe tbody tr th {\n",
              "        vertical-align: top;\n",
              "    }\n",
              "\n",
              "    .dataframe thead th {\n",
              "        text-align: right;\n",
              "    }\n",
              "</style>\n",
              "<table border=\"1\" class=\"dataframe\">\n",
              "  <thead>\n",
              "    <tr style=\"text-align: right;\">\n",
              "      <th></th>\n",
              "      <th>compositeHourlyWages</th>\n",
              "      <th>age</th>\n",
              "      <th>yearsEducation</th>\n",
              "      <th>sex1M0F</th>\n",
              "    </tr>\n",
              "  </thead>\n",
              "  <tbody>\n",
              "    <tr>\n",
              "      <th>0</th>\n",
              "      <td>21.38</td>\n",
              "      <td>58</td>\n",
              "      <td>10</td>\n",
              "      <td>1</td>\n",
              "    </tr>\n",
              "    <tr>\n",
              "      <th>1</th>\n",
              "      <td>25.15</td>\n",
              "      <td>42</td>\n",
              "      <td>16</td>\n",
              "      <td>1</td>\n",
              "    </tr>\n",
              "    <tr>\n",
              "      <th>2</th>\n",
              "      <td>8.57</td>\n",
              "      <td>31</td>\n",
              "      <td>12</td>\n",
              "      <td>0</td>\n",
              "    </tr>\n",
              "    <tr>\n",
              "      <th>3</th>\n",
              "      <td>12.07</td>\n",
              "      <td>43</td>\n",
              "      <td>13</td>\n",
              "      <td>0</td>\n",
              "    </tr>\n",
              "    <tr>\n",
              "      <th>4</th>\n",
              "      <td>10.97</td>\n",
              "      <td>46</td>\n",
              "      <td>12</td>\n",
              "      <td>0</td>\n",
              "    </tr>\n",
              "  </tbody>\n",
              "</table>\n",
              "</div>"
            ],
            "text/plain": [
              "   compositeHourlyWages  age  yearsEducation  sex1M0F\n",
              "0                 21.38   58              10        1\n",
              "1                 25.15   42              16        1\n",
              "2                  8.57   31              12        0\n",
              "3                 12.07   43              13        0\n",
              "4                 10.97   46              12        0"
            ]
          },
          "metadata": {},
          "execution_count": 21
        }
      ]
    },
    {
      "cell_type": "code",
      "metadata": {
        "colab": {
          "base_uri": "https://localhost:8080/",
          "height": 204
        },
        "id": "M_XZ-ZmTvw_F",
        "outputId": "e3fc5fe1-f37d-4342-a4ba-d6061e82b866"
      },
      "source": [
        "#create a dataframe with all training data except the target column\n",
        "train_X = df.drop(columns=['compositeHourlyWages'])\n",
        "#check that the target variable has been removed\n",
        "train_X.head()"
      ],
      "execution_count": 22,
      "outputs": [
        {
          "output_type": "execute_result",
          "data": {
            "text/html": [
              "<div>\n",
              "<style scoped>\n",
              "    .dataframe tbody tr th:only-of-type {\n",
              "        vertical-align: middle;\n",
              "    }\n",
              "\n",
              "    .dataframe tbody tr th {\n",
              "        vertical-align: top;\n",
              "    }\n",
              "\n",
              "    .dataframe thead th {\n",
              "        text-align: right;\n",
              "    }\n",
              "</style>\n",
              "<table border=\"1\" class=\"dataframe\">\n",
              "  <thead>\n",
              "    <tr style=\"text-align: right;\">\n",
              "      <th></th>\n",
              "      <th>age</th>\n",
              "      <th>yearsEducation</th>\n",
              "      <th>sex1M0F</th>\n",
              "    </tr>\n",
              "  </thead>\n",
              "  <tbody>\n",
              "    <tr>\n",
              "      <th>0</th>\n",
              "      <td>58</td>\n",
              "      <td>10</td>\n",
              "      <td>1</td>\n",
              "    </tr>\n",
              "    <tr>\n",
              "      <th>1</th>\n",
              "      <td>42</td>\n",
              "      <td>16</td>\n",
              "      <td>1</td>\n",
              "    </tr>\n",
              "    <tr>\n",
              "      <th>2</th>\n",
              "      <td>31</td>\n",
              "      <td>12</td>\n",
              "      <td>0</td>\n",
              "    </tr>\n",
              "    <tr>\n",
              "      <th>3</th>\n",
              "      <td>43</td>\n",
              "      <td>13</td>\n",
              "      <td>0</td>\n",
              "    </tr>\n",
              "    <tr>\n",
              "      <th>4</th>\n",
              "      <td>46</td>\n",
              "      <td>12</td>\n",
              "      <td>0</td>\n",
              "    </tr>\n",
              "  </tbody>\n",
              "</table>\n",
              "</div>"
            ],
            "text/plain": [
              "   age  yearsEducation  sex1M0F\n",
              "0   58              10        1\n",
              "1   42              16        1\n",
              "2   31              12        0\n",
              "3   43              13        0\n",
              "4   46              12        0"
            ]
          },
          "metadata": {},
          "execution_count": 22
        }
      ]
    },
    {
      "cell_type": "code",
      "metadata": {
        "colab": {
          "base_uri": "https://localhost:8080/",
          "height": 204
        },
        "id": "fAmRUhBdvy8f",
        "outputId": "57926a5c-0b03-49a5-9748-6abe250ce937"
      },
      "source": [
        "#create a dataframe with only the target column\n",
        "train_y = df[['compositeHourlyWages']]\n",
        "#view dataframe\n",
        "train_y.head()"
      ],
      "execution_count": 23,
      "outputs": [
        {
          "output_type": "execute_result",
          "data": {
            "text/html": [
              "<div>\n",
              "<style scoped>\n",
              "    .dataframe tbody tr th:only-of-type {\n",
              "        vertical-align: middle;\n",
              "    }\n",
              "\n",
              "    .dataframe tbody tr th {\n",
              "        vertical-align: top;\n",
              "    }\n",
              "\n",
              "    .dataframe thead th {\n",
              "        text-align: right;\n",
              "    }\n",
              "</style>\n",
              "<table border=\"1\" class=\"dataframe\">\n",
              "  <thead>\n",
              "    <tr style=\"text-align: right;\">\n",
              "      <th></th>\n",
              "      <th>compositeHourlyWages</th>\n",
              "    </tr>\n",
              "  </thead>\n",
              "  <tbody>\n",
              "    <tr>\n",
              "      <th>0</th>\n",
              "      <td>21.38</td>\n",
              "    </tr>\n",
              "    <tr>\n",
              "      <th>1</th>\n",
              "      <td>25.15</td>\n",
              "    </tr>\n",
              "    <tr>\n",
              "      <th>2</th>\n",
              "      <td>8.57</td>\n",
              "    </tr>\n",
              "    <tr>\n",
              "      <th>3</th>\n",
              "      <td>12.07</td>\n",
              "    </tr>\n",
              "    <tr>\n",
              "      <th>4</th>\n",
              "      <td>10.97</td>\n",
              "    </tr>\n",
              "  </tbody>\n",
              "</table>\n",
              "</div>"
            ],
            "text/plain": [
              "   compositeHourlyWages\n",
              "0                 21.38\n",
              "1                 25.15\n",
              "2                  8.57\n",
              "3                 12.07\n",
              "4                 10.97"
            ]
          },
          "metadata": {},
          "execution_count": 23
        }
      ]
    },
    {
      "cell_type": "code",
      "metadata": {
        "colab": {
          "base_uri": "https://localhost:8080/"
        },
        "id": "_Ysuiu6Mv1Go",
        "outputId": "0cca7eae-162a-4fcd-d5f9-a5c57b5b289c"
      },
      "source": [
        "#get number of columns in training data\n",
        "n_cols = train_X.shape[1]\n",
        "n_cols"
      ],
      "execution_count": 24,
      "outputs": [
        {
          "output_type": "execute_result",
          "data": {
            "text/plain": [
              "3"
            ]
          },
          "metadata": {},
          "execution_count": 24
        }
      ]
    },
    {
      "cell_type": "code",
      "metadata": {
        "id": "Nxr6gSJyv3tQ"
      },
      "source": [
        "#create model\n",
        "model = Sequential()\n",
        "#add model layers\n",
        "model.add(Dense(16, activation='relu', input_shape=(n_cols,))) # (3+1)^2\n",
        "model.add(Dense(8, activation='relu'))\n",
        "model.add(Dense(8, activation='relu')) # cải tiến bằng cách thử cho học sâu hơn,\n",
        "model.add(Dense(1))"
      ],
      "execution_count": 25,
      "outputs": []
    },
    {
      "cell_type": "markdown",
      "metadata": {
        "id": "kgs4MpFcv--y"
      },
      "source": [
        "Tham khảo tại https://towardsdatascience.com/building-a-deep-learning-model-using-keras-1548ca149d37 (https://towardsdatascience.com/building-a-deep-learning-model-using-keras-1548ca149d37)"
      ]
    },
    {
      "cell_type": "code",
      "metadata": {
        "id": "UFVftwzPv5Uj"
      },
      "source": [
        "#compile model using mse as a measure of model performance\n",
        "model.compile(optimizer='adam', loss='mean_squared_error')"
      ],
      "execution_count": 26,
      "outputs": []
    },
    {
      "cell_type": "code",
      "metadata": {
        "colab": {
          "base_uri": "https://localhost:8080/"
        },
        "id": "9OeJ1-nGwDZo",
        "outputId": "f1a87f9d-d507-40d3-fb07-00e1786bf46b"
      },
      "source": [
        "from tensorflow.keras.callbacks import EarlyStopping\n",
        "#set early stopping monitor so the model stops training when it won't improve any\n",
        "early_stopping_monitor = EarlyStopping(patience=10)\n",
        "#train model\n",
        "history = model.fit(train_X, train_y,\n",
        "epochs=300,\n",
        "batch_size=32,\n",
        "validation_split=0.2,\n",
        "callbacks=[early_stopping_monitor])"
      ],
      "execution_count": 27,
      "outputs": [
        {
          "output_type": "stream",
          "name": "stdout",
          "text": [
            "Epoch 1/300\n",
            "80/80 [==============================] - 1s 4ms/step - loss: 85.3723 - val_loss: 53.6423\n",
            "Epoch 2/300\n",
            "80/80 [==============================] - 0s 2ms/step - loss: 52.2293 - val_loss: 43.1465\n",
            "Epoch 3/300\n",
            "80/80 [==============================] - 0s 2ms/step - loss: 47.5473 - val_loss: 42.2646\n",
            "Epoch 4/300\n",
            "80/80 [==============================] - 0s 2ms/step - loss: 46.5952 - val_loss: 40.9356\n",
            "Epoch 5/300\n",
            "80/80 [==============================] - 0s 2ms/step - loss: 44.8762 - val_loss: 40.0559\n",
            "Epoch 6/300\n",
            "80/80 [==============================] - 0s 2ms/step - loss: 44.0387 - val_loss: 39.7357\n",
            "Epoch 7/300\n",
            "80/80 [==============================] - 0s 2ms/step - loss: 43.6574 - val_loss: 39.4511\n",
            "Epoch 8/300\n",
            "80/80 [==============================] - 0s 2ms/step - loss: 43.4289 - val_loss: 38.9685\n",
            "Epoch 9/300\n",
            "80/80 [==============================] - 0s 2ms/step - loss: 43.0584 - val_loss: 39.0400\n",
            "Epoch 10/300\n",
            "80/80 [==============================] - 0s 2ms/step - loss: 42.7199 - val_loss: 39.2684\n",
            "Epoch 11/300\n",
            "80/80 [==============================] - 0s 2ms/step - loss: 42.5056 - val_loss: 38.2119\n",
            "Epoch 12/300\n",
            "80/80 [==============================] - 0s 2ms/step - loss: 42.3129 - val_loss: 38.0769\n",
            "Epoch 13/300\n",
            "80/80 [==============================] - 0s 2ms/step - loss: 42.1949 - val_loss: 38.3563\n",
            "Epoch 14/300\n",
            "80/80 [==============================] - 0s 2ms/step - loss: 41.9529 - val_loss: 37.8489\n",
            "Epoch 15/300\n",
            "80/80 [==============================] - 0s 2ms/step - loss: 41.7364 - val_loss: 38.2341\n",
            "Epoch 16/300\n",
            "80/80 [==============================] - 0s 2ms/step - loss: 41.7960 - val_loss: 37.5431\n",
            "Epoch 17/300\n",
            "80/80 [==============================] - 0s 2ms/step - loss: 41.4880 - val_loss: 37.7677\n",
            "Epoch 18/300\n",
            "80/80 [==============================] - 0s 2ms/step - loss: 41.6399 - val_loss: 37.4227\n",
            "Epoch 19/300\n",
            "80/80 [==============================] - 0s 2ms/step - loss: 41.5089 - val_loss: 37.4479\n",
            "Epoch 20/300\n",
            "80/80 [==============================] - 0s 2ms/step - loss: 41.6265 - val_loss: 38.1261\n",
            "Epoch 21/300\n",
            "80/80 [==============================] - 0s 2ms/step - loss: 41.2685 - val_loss: 37.4629\n",
            "Epoch 22/300\n",
            "80/80 [==============================] - 0s 2ms/step - loss: 41.2260 - val_loss: 37.3749\n",
            "Epoch 23/300\n",
            "80/80 [==============================] - 0s 2ms/step - loss: 41.2841 - val_loss: 37.1946\n",
            "Epoch 24/300\n",
            "80/80 [==============================] - 0s 2ms/step - loss: 41.1753 - val_loss: 37.1501\n",
            "Epoch 25/300\n",
            "80/80 [==============================] - 0s 2ms/step - loss: 41.0035 - val_loss: 37.0517\n",
            "Epoch 26/300\n",
            "80/80 [==============================] - 0s 2ms/step - loss: 41.0231 - val_loss: 37.3794\n",
            "Epoch 27/300\n",
            "80/80 [==============================] - 0s 2ms/step - loss: 40.9343 - val_loss: 36.9548\n",
            "Epoch 28/300\n",
            "80/80 [==============================] - 0s 2ms/step - loss: 41.0302 - val_loss: 37.2185\n",
            "Epoch 29/300\n",
            "80/80 [==============================] - 0s 2ms/step - loss: 40.9486 - val_loss: 36.9270\n",
            "Epoch 30/300\n",
            "80/80 [==============================] - 0s 2ms/step - loss: 40.7386 - val_loss: 36.9520\n",
            "Epoch 31/300\n",
            "80/80 [==============================] - 0s 2ms/step - loss: 40.8164 - val_loss: 37.5064\n",
            "Epoch 32/300\n",
            "80/80 [==============================] - 0s 2ms/step - loss: 40.8453 - val_loss: 36.8838\n",
            "Epoch 33/300\n",
            "80/80 [==============================] - 0s 2ms/step - loss: 40.7048 - val_loss: 36.9405\n",
            "Epoch 34/300\n",
            "80/80 [==============================] - 0s 2ms/step - loss: 40.6941 - val_loss: 36.8849\n",
            "Epoch 35/300\n",
            "80/80 [==============================] - 0s 2ms/step - loss: 40.7218 - val_loss: 36.7435\n",
            "Epoch 36/300\n",
            "80/80 [==============================] - 0s 2ms/step - loss: 40.4690 - val_loss: 37.2409\n",
            "Epoch 37/300\n",
            "80/80 [==============================] - 0s 2ms/step - loss: 40.6042 - val_loss: 37.3500\n",
            "Epoch 38/300\n",
            "80/80 [==============================] - 0s 2ms/step - loss: 40.6220 - val_loss: 36.9251\n",
            "Epoch 39/300\n",
            "80/80 [==============================] - 0s 2ms/step - loss: 40.4680 - val_loss: 37.2394\n",
            "Epoch 40/300\n",
            "80/80 [==============================] - 0s 2ms/step - loss: 40.7314 - val_loss: 36.7864\n",
            "Epoch 41/300\n",
            "80/80 [==============================] - 0s 2ms/step - loss: 40.3186 - val_loss: 37.1721\n",
            "Epoch 42/300\n",
            "80/80 [==============================] - 0s 2ms/step - loss: 40.5660 - val_loss: 36.6790\n",
            "Epoch 43/300\n",
            "80/80 [==============================] - 0s 2ms/step - loss: 40.4509 - val_loss: 36.5915\n",
            "Epoch 44/300\n",
            "80/80 [==============================] - 0s 2ms/step - loss: 40.3777 - val_loss: 36.5299\n",
            "Epoch 45/300\n",
            "80/80 [==============================] - 0s 2ms/step - loss: 40.4255 - val_loss: 36.5061\n",
            "Epoch 46/300\n",
            "80/80 [==============================] - 0s 2ms/step - loss: 40.4239 - val_loss: 36.9853\n",
            "Epoch 47/300\n",
            "80/80 [==============================] - 0s 2ms/step - loss: 40.2651 - val_loss: 36.5520\n",
            "Epoch 48/300\n",
            "80/80 [==============================] - 0s 2ms/step - loss: 40.2015 - val_loss: 37.0052\n",
            "Epoch 49/300\n",
            "80/80 [==============================] - 0s 2ms/step - loss: 40.2915 - val_loss: 36.4983\n",
            "Epoch 50/300\n",
            "80/80 [==============================] - 0s 2ms/step - loss: 40.2513 - val_loss: 36.9741\n",
            "Epoch 51/300\n",
            "80/80 [==============================] - 0s 2ms/step - loss: 40.3147 - val_loss: 36.5920\n",
            "Epoch 52/300\n",
            "80/80 [==============================] - 0s 2ms/step - loss: 40.2168 - val_loss: 36.5014\n",
            "Epoch 53/300\n",
            "80/80 [==============================] - 0s 2ms/step - loss: 40.3652 - val_loss: 36.5101\n",
            "Epoch 54/300\n",
            "80/80 [==============================] - 0s 2ms/step - loss: 40.3057 - val_loss: 36.3829\n",
            "Epoch 55/300\n",
            "80/80 [==============================] - 0s 2ms/step - loss: 40.1165 - val_loss: 36.6460\n",
            "Epoch 56/300\n",
            "80/80 [==============================] - 0s 2ms/step - loss: 40.0566 - val_loss: 36.4137\n",
            "Epoch 57/300\n",
            "80/80 [==============================] - 0s 2ms/step - loss: 40.1388 - val_loss: 36.7031\n",
            "Epoch 58/300\n",
            "80/80 [==============================] - 0s 2ms/step - loss: 39.8643 - val_loss: 36.4733\n",
            "Epoch 59/300\n",
            "80/80 [==============================] - 0s 2ms/step - loss: 40.1361 - val_loss: 36.3777\n",
            "Epoch 60/300\n",
            "80/80 [==============================] - 0s 2ms/step - loss: 39.9771 - val_loss: 37.1993\n",
            "Epoch 61/300\n",
            "80/80 [==============================] - 0s 2ms/step - loss: 39.8745 - val_loss: 36.3975\n",
            "Epoch 62/300\n",
            "80/80 [==============================] - 0s 2ms/step - loss: 39.9079 - val_loss: 37.0025\n",
            "Epoch 63/300\n",
            "80/80 [==============================] - 0s 2ms/step - loss: 40.0069 - val_loss: 36.3007\n",
            "Epoch 64/300\n",
            "80/80 [==============================] - 0s 2ms/step - loss: 39.9466 - val_loss: 36.4205\n",
            "Epoch 65/300\n",
            "80/80 [==============================] - 0s 2ms/step - loss: 39.9065 - val_loss: 36.4704\n",
            "Epoch 66/300\n",
            "80/80 [==============================] - 0s 2ms/step - loss: 40.2821 - val_loss: 36.2884\n",
            "Epoch 67/300\n",
            "80/80 [==============================] - 0s 2ms/step - loss: 40.0515 - val_loss: 37.5730\n",
            "Epoch 68/300\n",
            "80/80 [==============================] - 0s 2ms/step - loss: 39.9094 - val_loss: 36.2863\n",
            "Epoch 69/300\n",
            "80/80 [==============================] - 0s 2ms/step - loss: 39.8177 - val_loss: 36.2081\n",
            "Epoch 70/300\n",
            "80/80 [==============================] - 0s 2ms/step - loss: 40.2387 - val_loss: 36.5056\n",
            "Epoch 71/300\n",
            "80/80 [==============================] - 0s 2ms/step - loss: 40.0337 - val_loss: 36.3347\n",
            "Epoch 72/300\n",
            "80/80 [==============================] - 0s 2ms/step - loss: 39.8536 - val_loss: 36.2004\n",
            "Epoch 73/300\n",
            "80/80 [==============================] - 0s 2ms/step - loss: 39.7994 - val_loss: 36.3978\n",
            "Epoch 74/300\n",
            "80/80 [==============================] - 0s 2ms/step - loss: 39.8350 - val_loss: 36.3703\n",
            "Epoch 75/300\n",
            "80/80 [==============================] - 0s 2ms/step - loss: 39.8989 - val_loss: 36.2620\n",
            "Epoch 76/300\n",
            "80/80 [==============================] - 0s 2ms/step - loss: 39.9649 - val_loss: 36.2671\n",
            "Epoch 77/300\n",
            "80/80 [==============================] - 0s 2ms/step - loss: 39.9173 - val_loss: 36.1691\n",
            "Epoch 78/300\n",
            "80/80 [==============================] - 0s 2ms/step - loss: 39.9182 - val_loss: 36.1732\n",
            "Epoch 79/300\n",
            "80/80 [==============================] - 0s 2ms/step - loss: 39.8771 - val_loss: 36.0845\n",
            "Epoch 80/300\n",
            "80/80 [==============================] - 0s 2ms/step - loss: 39.7741 - val_loss: 36.1077\n",
            "Epoch 81/300\n",
            "80/80 [==============================] - 0s 2ms/step - loss: 39.9290 - val_loss: 36.3885\n",
            "Epoch 82/300\n",
            "80/80 [==============================] - 0s 2ms/step - loss: 39.7334 - val_loss: 36.2219\n",
            "Epoch 83/300\n",
            "80/80 [==============================] - 0s 2ms/step - loss: 39.7970 - val_loss: 36.1309\n",
            "Epoch 84/300\n",
            "80/80 [==============================] - 0s 2ms/step - loss: 39.5834 - val_loss: 36.6202\n",
            "Epoch 85/300\n",
            "80/80 [==============================] - 0s 2ms/step - loss: 39.6077 - val_loss: 36.3515\n",
            "Epoch 86/300\n",
            "80/80 [==============================] - 0s 2ms/step - loss: 39.8948 - val_loss: 36.1734\n",
            "Epoch 87/300\n",
            "80/80 [==============================] - 0s 2ms/step - loss: 39.7146 - val_loss: 36.0718\n",
            "Epoch 88/300\n",
            "80/80 [==============================] - 0s 2ms/step - loss: 39.6837 - val_loss: 36.2309\n",
            "Epoch 89/300\n",
            "80/80 [==============================] - 0s 2ms/step - loss: 39.8098 - val_loss: 36.9918\n",
            "Epoch 90/300\n",
            "80/80 [==============================] - 0s 2ms/step - loss: 39.8943 - val_loss: 36.1313\n",
            "Epoch 91/300\n",
            "80/80 [==============================] - 0s 2ms/step - loss: 39.6760 - val_loss: 36.0523\n",
            "Epoch 92/300\n",
            "80/80 [==============================] - 0s 2ms/step - loss: 39.5616 - val_loss: 36.5400\n",
            "Epoch 93/300\n",
            "80/80 [==============================] - 0s 2ms/step - loss: 39.6826 - val_loss: 36.0985\n",
            "Epoch 94/300\n",
            "80/80 [==============================] - 0s 2ms/step - loss: 39.6121 - val_loss: 36.1342\n",
            "Epoch 95/300\n",
            "80/80 [==============================] - 0s 2ms/step - loss: 39.7305 - val_loss: 36.4198\n",
            "Epoch 96/300\n",
            "80/80 [==============================] - 0s 2ms/step - loss: 39.5423 - val_loss: 36.0060\n",
            "Epoch 97/300\n",
            "80/80 [==============================] - 0s 2ms/step - loss: 39.6964 - val_loss: 36.5147\n",
            "Epoch 98/300\n",
            "80/80 [==============================] - 0s 2ms/step - loss: 39.8062 - val_loss: 35.9109\n",
            "Epoch 99/300\n",
            "80/80 [==============================] - 0s 2ms/step - loss: 39.4364 - val_loss: 35.9368\n",
            "Epoch 100/300\n",
            "80/80 [==============================] - 0s 2ms/step - loss: 39.5521 - val_loss: 36.3510\n",
            "Epoch 101/300\n",
            "80/80 [==============================] - 0s 2ms/step - loss: 39.8937 - val_loss: 35.9321\n",
            "Epoch 102/300\n",
            "80/80 [==============================] - 0s 2ms/step - loss: 39.8849 - val_loss: 36.8361\n",
            "Epoch 103/300\n",
            "80/80 [==============================] - 0s 2ms/step - loss: 39.7566 - val_loss: 36.5081\n",
            "Epoch 104/300\n",
            "80/80 [==============================] - 0s 2ms/step - loss: 39.6140 - val_loss: 35.9093\n",
            "Epoch 105/300\n",
            "80/80 [==============================] - 0s 2ms/step - loss: 39.5133 - val_loss: 36.6116\n",
            "Epoch 106/300\n",
            "80/80 [==============================] - 0s 2ms/step - loss: 39.9633 - val_loss: 35.9168\n",
            "Epoch 107/300\n",
            "80/80 [==============================] - 0s 2ms/step - loss: 39.6163 - val_loss: 36.0317\n",
            "Epoch 108/300\n",
            "80/80 [==============================] - 0s 2ms/step - loss: 39.5325 - val_loss: 36.0466\n",
            "Epoch 109/300\n",
            "80/80 [==============================] - 0s 2ms/step - loss: 39.6707 - val_loss: 36.3891\n",
            "Epoch 110/300\n",
            "80/80 [==============================] - 0s 2ms/step - loss: 39.3552 - val_loss: 36.1858\n",
            "Epoch 111/300\n",
            "80/80 [==============================] - 0s 2ms/step - loss: 39.5107 - val_loss: 36.0559\n",
            "Epoch 112/300\n",
            "80/80 [==============================] - 0s 2ms/step - loss: 39.6424 - val_loss: 36.1953\n",
            "Epoch 113/300\n",
            "80/80 [==============================] - 0s 2ms/step - loss: 39.5926 - val_loss: 36.6072\n",
            "Epoch 114/300\n",
            "80/80 [==============================] - 0s 2ms/step - loss: 39.5933 - val_loss: 36.1233\n"
          ]
        }
      ]
    },
    {
      "cell_type": "code",
      "metadata": {
        "colab": {
          "base_uri": "https://localhost:8080/"
        },
        "id": "okXIoHOqwFvR",
        "outputId": "b4d77813-3214-4b18-a8c0-7e5f3ef0612d"
      },
      "source": [
        "import matplotlib.pyplot as plt\n",
        "\n",
        "history.history.keys()"
      ],
      "execution_count": 28,
      "outputs": [
        {
          "output_type": "execute_result",
          "data": {
            "text/plain": [
              "dict_keys(['loss', 'val_loss'])"
            ]
          },
          "metadata": {},
          "execution_count": 28
        }
      ]
    },
    {
      "cell_type": "code",
      "metadata": {
        "colab": {
          "base_uri": "https://localhost:8080/",
          "height": 295
        },
        "id": "fZ-ZGLrtwRJt",
        "outputId": "6b385824-2f13-4f76-d752-c2a6bb2bcbad"
      },
      "source": [
        "# \"Loss\"\n",
        "plt.plot(history.history['loss'])\n",
        "plt.plot(history.history['val_loss'])\n",
        "plt.title('model loss')\n",
        "plt.ylabel('loss')\n",
        "plt.xlabel('epoch')\n",
        "plt.legend(['train', 'validation'], loc='upper left')\n",
        "plt.show()"
      ],
      "execution_count": 29,
      "outputs": [
        {
          "output_type": "display_data",
          "data": {
            "image/png": "[encoded data removed]",
            "text/plain": [
              "<Figure size 432x288 with 1 Axes>"
            ]
          },
          "metadata": {
            "needs_background": "light"
          }
        }
      ]
    },
    {
      "cell_type": "code",
      "metadata": {
        "colab": {
          "base_uri": "https://localhost:8080/"
        },
        "id": "W38RRNTuwS0e",
        "outputId": "49951934-babb-4abc-a231-a76ca5b2e82a"
      },
      "source": [
        "# evaluate the model\n",
        "scores = model.evaluate(train_X, train_y)\n",
        "scores"
      ],
      "execution_count": 30,
      "outputs": [
        {
          "output_type": "stream",
          "name": "stdout",
          "text": [
            "100/100 [==============================] - 0s 1ms/step - loss: 38.9376\n"
          ]
        },
        {
          "output_type": "execute_result",
          "data": {
            "text/plain": [
              "38.937591552734375"
            ]
          },
          "metadata": {},
          "execution_count": 30
        }
      ]
    },
    {
      "cell_type": "code",
      "metadata": {
        "colab": {
          "base_uri": "https://localhost:8080/"
        },
        "id": "YiA2rSeHwVQb",
        "outputId": "fc4082bb-1096-4e66-a3d9-9099dc4da5db"
      },
      "source": [
        "# Making predict on new data\n",
        "df_test = pd.read_csv(\"https://raw.githubusercontent.com/lualua0909/DeepLearning-LDS8/main/Data/all/Income_testing.csv\")\n",
        "df_test.info()"
      ],
      "execution_count": 31,
      "outputs": [
        {
          "output_type": "stream",
          "name": "stdout",
          "text": [
            "<class 'pandas.core.frame.DataFrame'>\n",
            "RangeIndex: 800 entries, 0 to 799\n",
            "Data columns (total 4 columns):\n",
            " #   Column          Non-Null Count  Dtype\n",
            "---  ------          --------------  -----\n",
            " 0   ID              800 non-null    int64\n",
            " 1   age             800 non-null    int64\n",
            " 2   yearsEducation  800 non-null    int64\n",
            " 3   sex1M0F         800 non-null    int64\n",
            "dtypes: int64(4)\n",
            "memory usage: 25.1 KB\n"
          ]
        }
      ]
    },
    {
      "cell_type": "code",
      "metadata": {
        "colab": {
          "base_uri": "https://localhost:8080/",
          "height": 204
        },
        "id": "0mCD_H8nwW04",
        "outputId": "71f99619-c6bf-4750-ff6b-1b7be4bcb788"
      },
      "source": [
        "df_test.head()"
      ],
      "execution_count": 32,
      "outputs": [
        {
          "output_type": "execute_result",
          "data": {
            "text/html": [
              "<div>\n",
              "<style scoped>\n",
              "    .dataframe tbody tr th:only-of-type {\n",
              "        vertical-align: middle;\n",
              "    }\n",
              "\n",
              "    .dataframe tbody tr th {\n",
              "        vertical-align: top;\n",
              "    }\n",
              "\n",
              "    .dataframe thead th {\n",
              "        text-align: right;\n",
              "    }\n",
              "</style>\n",
              "<table border=\"1\" class=\"dataframe\">\n",
              "  <thead>\n",
              "    <tr style=\"text-align: right;\">\n",
              "      <th></th>\n",
              "      <th>ID</th>\n",
              "      <th>age</th>\n",
              "      <th>yearsEducation</th>\n",
              "      <th>sex1M0F</th>\n",
              "    </tr>\n",
              "  </thead>\n",
              "  <tbody>\n",
              "    <tr>\n",
              "      <th>0</th>\n",
              "      <td>1</td>\n",
              "      <td>36</td>\n",
              "      <td>20</td>\n",
              "      <td>0</td>\n",
              "    </tr>\n",
              "    <tr>\n",
              "      <th>1</th>\n",
              "      <td>2</td>\n",
              "      <td>38</td>\n",
              "      <td>17</td>\n",
              "      <td>0</td>\n",
              "    </tr>\n",
              "    <tr>\n",
              "      <th>2</th>\n",
              "      <td>3</td>\n",
              "      <td>24</td>\n",
              "      <td>10</td>\n",
              "      <td>0</td>\n",
              "    </tr>\n",
              "    <tr>\n",
              "      <th>3</th>\n",
              "      <td>4</td>\n",
              "      <td>39</td>\n",
              "      <td>12</td>\n",
              "      <td>1</td>\n",
              "    </tr>\n",
              "    <tr>\n",
              "      <th>4</th>\n",
              "      <td>5</td>\n",
              "      <td>50</td>\n",
              "      <td>12</td>\n",
              "      <td>0</td>\n",
              "    </tr>\n",
              "  </tbody>\n",
              "</table>\n",
              "</div>"
            ],
            "text/plain": [
              "   ID  age  yearsEducation  sex1M0F\n",
              "0   1   36              20        0\n",
              "1   2   38              17        0\n",
              "2   3   24              10        0\n",
              "3   4   39              12        1\n",
              "4   5   50              12        0"
            ]
          },
          "metadata": {},
          "execution_count": 32
        }
      ]
    },
    {
      "cell_type": "code",
      "metadata": {
        "id": "4HUNpLSywvcD"
      },
      "source": [
        "test_X = df_test.drop(columns=[\"ID\"])"
      ],
      "execution_count": 34,
      "outputs": []
    },
    {
      "cell_type": "code",
      "metadata": {
        "id": "ai3rRelCwYOw"
      },
      "source": [
        "test_y_predictions = model.predict(test_X)"
      ],
      "execution_count": 35,
      "outputs": []
    },
    {
      "cell_type": "code",
      "metadata": {
        "colab": {
          "base_uri": "https://localhost:8080/"
        },
        "id": "zDiMop8IwnQw",
        "outputId": "ef5a8a9f-483f-47f3-f184-b138fb7f4b3c"
      },
      "source": [
        "test_y_predictions[:10]"
      ],
      "execution_count": 36,
      "outputs": [
        {
          "output_type": "execute_result",
          "data": {
            "text/plain": [
              "array([[20.776037],\n",
              "       [21.177572],\n",
              "       [10.547922],\n",
              "       [18.97673 ],\n",
              "       [15.293896],\n",
              "       [20.074963],\n",
              "       [18.779615],\n",
              "       [19.258009],\n",
              "       [12.902645],\n",
              "       [15.219203]], dtype=float32)"
            ]
          },
          "metadata": {},
          "execution_count": 36
        }
      ]
    }
  ]
}