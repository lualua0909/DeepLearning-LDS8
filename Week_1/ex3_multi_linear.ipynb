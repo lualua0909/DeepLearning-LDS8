{
  "nbformat": 4,
  "nbformat_minor": 0,
  "metadata": {
    "colab": {
      "name": "ex3_multi_linear.ipynb",
      "provenance": [],
      "collapsed_sections": [],
      "authorship_tag": "ABX9TyMES2da7C0blYM1Xd92Ide6",
      "include_colab_link": true
    },
    "kernelspec": {
      "name": "python3",
      "display_name": "Python 3"
    },
    "language_info": {
      "name": "python"
    }
  },
  "cells": [
    {
      "cell_type": "markdown",
      "metadata": {
        "id": "view-in-github",
        "colab_type": "text"
      },
      "source": [
        "<a href=\"https://colab.research.google.com/github/lualua0909/DeepLearning-LDS8/blob/main/Week_1/ex3_multi_linear.ipynb\" target=\"_parent\"><img src=\"https://colab.research.google.com/assets/colab-badge.svg\" alt=\"Open In Colab\"/></a>"
      ]
    },
    {
      "cell_type": "code",
      "metadata": {
        "id": "o02VD-8bZFeP"
      },
      "source": [
        "import tensorflow as tf\n",
        "import numpy as np\n",
        "import pandas as pd\n",
        "import matplotlib.pyplot as plt\n",
        "import seaborn as sns"
      ],
      "execution_count": 442,
      "outputs": []
    },
    {
      "cell_type": "code",
      "metadata": {
        "colab": {
          "base_uri": "https://localhost:8080/",
          "height": 206
        },
        "id": "606RPG32ZNo6",
        "outputId": "8e939585-149d-4224-c7c6-9a366a912aca"
      },
      "source": [
        "data = pd.read_csv('https://raw.githubusercontent.com/lualua0909/DeepLearning-LDS8/main/Data/iris.csv')\n",
        "data.head()"
      ],
      "execution_count": 443,
      "outputs": [
        {
          "output_type": "execute_result",
          "data": {
            "text/html": [
              "<div>\n",
              "<style scoped>\n",
              "    .dataframe tbody tr th:only-of-type {\n",
              "        vertical-align: middle;\n",
              "    }\n",
              "\n",
              "    .dataframe tbody tr th {\n",
              "        vertical-align: top;\n",
              "    }\n",
              "\n",
              "    .dataframe thead th {\n",
              "        text-align: right;\n",
              "    }\n",
              "</style>\n",
              "<table border=\"1\" class=\"dataframe\">\n",
              "  <thead>\n",
              "    <tr style=\"text-align: right;\">\n",
              "      <th></th>\n",
              "      <th>sepal_length</th>\n",
              "      <th>sepal_width</th>\n",
              "      <th>petal_length</th>\n",
              "      <th>petal_width</th>\n",
              "      <th>species</th>\n",
              "    </tr>\n",
              "  </thead>\n",
              "  <tbody>\n",
              "    <tr>\n",
              "      <th>0</th>\n",
              "      <td>5.1</td>\n",
              "      <td>3.5</td>\n",
              "      <td>1.4</td>\n",
              "      <td>0.2</td>\n",
              "      <td>setosa</td>\n",
              "    </tr>\n",
              "    <tr>\n",
              "      <th>1</th>\n",
              "      <td>4.9</td>\n",
              "      <td>3.0</td>\n",
              "      <td>1.4</td>\n",
              "      <td>0.2</td>\n",
              "      <td>setosa</td>\n",
              "    </tr>\n",
              "    <tr>\n",
              "      <th>2</th>\n",
              "      <td>4.7</td>\n",
              "      <td>3.2</td>\n",
              "      <td>1.3</td>\n",
              "      <td>0.2</td>\n",
              "      <td>setosa</td>\n",
              "    </tr>\n",
              "    <tr>\n",
              "      <th>3</th>\n",
              "      <td>4.6</td>\n",
              "      <td>3.1</td>\n",
              "      <td>1.5</td>\n",
              "      <td>0.2</td>\n",
              "      <td>setosa</td>\n",
              "    </tr>\n",
              "    <tr>\n",
              "      <th>4</th>\n",
              "      <td>5.0</td>\n",
              "      <td>3.6</td>\n",
              "      <td>1.4</td>\n",
              "      <td>0.2</td>\n",
              "      <td>setosa</td>\n",
              "    </tr>\n",
              "  </tbody>\n",
              "</table>\n",
              "</div>"
            ],
            "text/plain": [
              "   sepal_length  sepal_width  petal_length  petal_width species\n",
              "0           5.1          3.5           1.4          0.2  setosa\n",
              "1           4.9          3.0           1.4          0.2  setosa\n",
              "2           4.7          3.2           1.3          0.2  setosa\n",
              "3           4.6          3.1           1.5          0.2  setosa\n",
              "4           5.0          3.6           1.4          0.2  setosa"
            ]
          },
          "metadata": {},
          "execution_count": 443
        }
      ]
    },
    {
      "cell_type": "code",
      "metadata": {
        "colab": {
          "base_uri": "https://localhost:8080/",
          "height": 335
        },
        "id": "2YiBNR1nZPvV",
        "outputId": "97155a80-fb5b-4ebc-c782-eb49af7d777f"
      },
      "source": [
        "plt.figure(figsize=(8,5))\n",
        "sns.regplot(data = data, x =\"petal_width\", y =\"petal_length\")\n",
        "plt.show()"
      ],
      "execution_count": 444,
      "outputs": [
        {
          "output_type": "display_data",
          "data": {
            "image/png": "[encoded data removed]",
            "text/plain": [
              "<Figure size 576x360 with 1 Axes>"
            ]
          },
          "metadata": {
            "needs_background": "light"
          }
        }
      ]
    },
    {
      "cell_type": "code",
      "metadata": {
        "id": "ngpUODW3ZVm8"
      },
      "source": [
        "def multiple_regression(intercept, features, slopes):\n",
        "  return intercept + tf.reduce_sum(slopes * features, 0)"
      ],
      "execution_count": 445,
      "outputs": []
    },
    {
      "cell_type": "code",
      "metadata": {
        "id": "rVfrU1_oekJz"
      },
      "source": [
        "def loss_function(intercept, slopes, features, targets):\n",
        "  predictions = multiple_regression(intercept, features, slopes)\n",
        "  return tf.keras.losses.mse(targets, predictions)"
      ],
      "execution_count": 446,
      "outputs": []
    },
    {
      "cell_type": "code",
      "metadata": {
        "id": "WYXR8aPfet89"
      },
      "source": [
        "sepal_length = tf.cast(data.sepal_length, tf.float32)\n",
        "sepal_width = tf.cast(data.sepal_width, tf.float32)\n",
        "petal_length = tf.cast(data.petal_length, tf.float32)\n",
        "targets = tf.cast(data.petal_width, tf.float32)\n",
        "features = np.array([sepal_length, sepal_width, petal_length])"
      ],
      "execution_count": 447,
      "outputs": []
    },
    {
      "cell_type": "code",
      "metadata": {
        "id": "Qy70A2LPe5h4"
      },
      "source": [
        "intercept = tf.Variable(0.1, tf.float32)\n",
        "slopes = tf.Variable(np.full((features.shape[0], 1), 0.1), dtype=tf.float32)"
      ],
      "execution_count": 450,
      "outputs": []
    },
    {
      "cell_type": "code",
      "metadata": {
        "colab": {
          "base_uri": "https://localhost:8080/"
        },
        "id": "xpyXX3ls72K0",
        "outputId": "56a0331b-5090-4bd0-fa80-061831557927"
      },
      "source": [
        "slopes"
      ],
      "execution_count": 451,
      "outputs": [
        {
          "output_type": "execute_result",
          "data": {
            "text/plain": [
              "<tf.Variable 'Variable:0' shape=(3, 1) dtype=float32, numpy=\n",
              "array([[0.1],\n",
              "       [0.1],\n",
              "       [0.1]], dtype=float32)>"
            ]
          },
          "metadata": {},
          "execution_count": 451
        }
      ]
    },
    {
      "cell_type": "code",
      "metadata": {
        "id": "6IxpH02Oe9OD"
      },
      "source": [
        "opt = tf.keras.optimizers.Adam()"
      ],
      "execution_count": 452,
      "outputs": []
    },
    {
      "cell_type": "code",
      "metadata": {
        "colab": {
          "base_uri": "https://localhost:8080/"
        },
        "id": "y3kn42tafNR_",
        "outputId": "311227e4-3b7c-42a9-c557-9eb4e12d03ea"
      },
      "source": [
        "for j in range(10000):\n",
        "  opt.minimize(lambda: loss_function(intercept, slopes, features, targets), var_list=[intercept, slopes])\n",
        "  if j % 1000 == 0:\n",
        "    print(loss_function(intercept, slopes, features, targets))"
      ],
      "execution_count": 453,
      "outputs": [
        {
          "output_type": "stream",
          "name": "stdout",
          "text": [
            "tf.Tensor(0.32399976, shape=(), dtype=float32)\n",
            "tf.Tensor(0.0415482, shape=(), dtype=float32)\n",
            "tf.Tensor(0.036433335, shape=(), dtype=float32)\n",
            "tf.Tensor(0.03585192, shape=(), dtype=float32)\n",
            "tf.Tensor(0.03584116, shape=(), dtype=float32)\n",
            "tf.Tensor(0.035841115, shape=(), dtype=float32)\n",
            "tf.Tensor(0.035841107, shape=(), dtype=float32)\n",
            "tf.Tensor(0.035841115, shape=(), dtype=float32)\n",
            "tf.Tensor(0.035841107, shape=(), dtype=float32)\n",
            "tf.Tensor(0.03584154, shape=(), dtype=float32)\n"
          ]
        }
      ]
    },
    {
      "cell_type": "code",
      "metadata": {
        "colab": {
          "base_uri": "https://localhost:8080/"
        },
        "id": "n6mNB-GpxcCI",
        "outputId": "a6c32c9e-b65c-47a1-f50a-d85e8921b9f4"
      },
      "source": [
        "print(intercept, slopes)"
      ],
      "execution_count": 454,
      "outputs": [
        {
          "output_type": "stream",
          "name": "stdout",
          "text": [
            "<tf.Variable 'Variable:0' shape=() dtype=float32, numpy=-0.24872388> <tf.Variable 'Variable:0' shape=(3, 1) dtype=float32, numpy=\n",
            "array([[-0.21027166],\n",
            "       [ 0.22877692],\n",
            "       [ 0.52608794]], dtype=float32)>\n"
          ]
        }
      ]
    },
    {
      "cell_type": "code",
      "metadata": {
        "colab": {
          "base_uri": "https://localhost:8080/"
        },
        "id": "ma3L1mxgfcG4",
        "outputId": "3c3facbf-4bb6-404e-af04-18048d93f66e"
      },
      "source": [
        "# Dự đoán\n",
        "x_new = np.array([[5.1], [3.5], [1.4]])\n",
        "y_new = multiple_regression(intercept, x_new, slopes)\n",
        "y_new.numpy()"
      ],
      "execution_count": 456,
      "outputs": [
        {
          "output_type": "execute_result",
          "data": {
            "text/plain": [
              "array([0.21613298], dtype=float32)"
            ]
          },
          "metadata": {},
          "execution_count": 456
        }
      ]
    },
    {
      "cell_type": "code",
      "metadata": {
        "id": "Mqiu2Rc9w21j"
      },
      "source": [
        ""
      ],
      "execution_count": 455,
      "outputs": []
    }
  ]
}