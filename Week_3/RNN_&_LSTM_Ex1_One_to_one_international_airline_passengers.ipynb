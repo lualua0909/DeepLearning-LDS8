{
  "nbformat": 4,
  "nbformat_minor": 0,
  "metadata": {
    "colab": {
      "name": "RNN & LSTM Ex1: One to one: international-airline-passengers.ipynb",
      "provenance": [],
      "authorship_tag": "ABX9TyNd8ObWgu5bA7MODz/1ylcu",
      "include_colab_link": true
    },
    "kernelspec": {
      "name": "python3",
      "display_name": "Python 3"
    },
    "language_info": {
      "name": "python"
    },
    "accelerator": "GPU"
  },
  "cells": [
    {
      "cell_type": "markdown",
      "metadata": {
        "id": "view-in-github",
        "colab_type": "text"
      },
      "source": [
        "<a href=\"https://colab.research.google.com/github/lualua0909/DeepLearning-LDS8/blob/main/Week_3/RNN_%26_LSTM_Ex1_One_to_one_international_airline_passengers.ipynb\" target=\"_parent\"><img src=\"https://colab.research.google.com/assets/colab-badge.svg\" alt=\"Open In Colab\"/></a>"
      ]
    },
    {
      "cell_type": "markdown",
      "metadata": {
        "id": "d1ke8Euh8uyF"
      },
      "source": [
        "* Cho dữ liệu international-airline-passengers.csv.\n",
        "* Xây dựng model để dự đoán số hành khách cho thời gian tiếp theo\n",
        "* Giải thích cách tính tham số từ summary của model"
      ]
    },
    {
      "cell_type": "code",
      "metadata": {
        "id": "2FlVl6Oz9OLC"
      },
      "source": [
        "# LSTM for international airline passengers problem with regression framing\n",
        "import numpy\n",
        "import matplotlib.pyplot as plt\n",
        "import math\n",
        "import pandas as pd\n",
        "from tensorflow.keras import Sequential\n",
        "from tensorflow.keras.layers import Dense\n",
        "from tensorflow.keras.layers import LSTM\n",
        "from sklearn.preprocessing import MinMaxScaler\n",
        "from sklearn.metrics import mean_squared_error"
      ],
      "execution_count": 104,
      "outputs": []
    },
    {
      "cell_type": "code",
      "metadata": {
        "id": "EJ91_pvN9P1m"
      },
      "source": [
        "# convert an array of values into a dataset matrix\n",
        "def create_dataset(dataset, look_back=1):\n",
        "  dataX, dataY = [], []\n",
        "  for i in range(len(dataset)-look_back-1):\n",
        "    #t\n",
        "    a = dataset[i:(i+look_back), 0]\n",
        "    dataX.append(a)\n",
        "    #t+1\n",
        "    dataY.append(dataset[i + look_back, 0])\n",
        "  return numpy.array(dataX), numpy.array(dataY)"
      ],
      "execution_count": 105,
      "outputs": []
    },
    {
      "cell_type": "code",
      "metadata": {
        "id": "NKD0sU5c9SYS"
      },
      "source": [
        "# fix random seed for reproducibility\n",
        "numpy.random.seed(7)"
      ],
      "execution_count": 106,
      "outputs": []
    },
    {
      "cell_type": "code",
      "metadata": {
        "colab": {
          "base_uri": "https://localhost:8080/"
        },
        "id": "kRYMPNjW9f3i",
        "outputId": "67ab69b4-4c63-4fc4-997a-5847017eb513"
      },
      "source": [
        "# load the dataset\n",
        "dataframe = pd.read_csv('https://raw.githubusercontent.com/lualua0909/DeepLearning-LDS8/main/Data/international-airline-passengers.csv',\n",
        "usecols=[1], engine='python')\n",
        "dataframe.info()"
      ],
      "execution_count": 107,
      "outputs": [
        {
          "output_type": "stream",
          "name": "stdout",
          "text": [
            "<class 'pandas.core.frame.DataFrame'>\n",
            "RangeIndex: 144 entries, 0 to 143\n",
            "Data columns (total 1 columns):\n",
            " #   Column                   Non-Null Count  Dtype\n",
            "---  ------                   --------------  -----\n",
            " 0   passengers_in_thousands  144 non-null    int64\n",
            "dtypes: int64(1)\n",
            "memory usage: 1.2 KB\n"
          ]
        }
      ]
    },
    {
      "cell_type": "code",
      "metadata": {
        "colab": {
          "base_uri": "https://localhost:8080/"
        },
        "id": "0oBi8gpa9hU8",
        "outputId": "8e706d32-bdbf-4f0a-e369-8599ca58a3ed"
      },
      "source": [
        "dataset = dataframe.values\n",
        "dataset = dataset.astype('float32')\n",
        "dataset[:10]"
      ],
      "execution_count": 108,
      "outputs": [
        {
          "output_type": "execute_result",
          "data": {
            "text/plain": [
              "array([[112.],\n",
              "       [118.],\n",
              "       [132.],\n",
              "       [129.],\n",
              "       [121.],\n",
              "       [135.],\n",
              "       [148.],\n",
              "       [148.],\n",
              "       [136.],\n",
              "       [119.]], dtype=float32)"
            ]
          },
          "metadata": {},
          "execution_count": 108
        }
      ]
    },
    {
      "cell_type": "code",
      "metadata": {
        "id": "PkF9XWsi9nfF"
      },
      "source": [
        "# normalize the dataset\n",
        "scaler = MinMaxScaler(feature_range=(0, 1))\n",
        "dataset = scaler.fit_transform(dataset)"
      ],
      "execution_count": 109,
      "outputs": []
    },
    {
      "cell_type": "code",
      "metadata": {
        "id": "g5SrUoGj9pkv"
      },
      "source": [
        "# split into train and test sets\n",
        "train_size = int(len(dataset) * 0.67)\n",
        "test_size = len(dataset) - train_size\n",
        "train, test = dataset[0:train_size,:], dataset[train_size:len(dataset),:]"
      ],
      "execution_count": 110,
      "outputs": []
    },
    {
      "cell_type": "code",
      "metadata": {
        "id": "PhRRr9v39q2P"
      },
      "source": [
        "# reshape into X=t and Y=t+1\n",
        "look_back = 1\n",
        "trainX, trainY = create_dataset(train, look_back)\n",
        "testX, testY = create_dataset(test, look_back)"
      ],
      "execution_count": 111,
      "outputs": []
    },
    {
      "cell_type": "code",
      "metadata": {
        "id": "GEeFj-ea9sJf"
      },
      "source": [
        "# reshape input to be [samples, time steps, features]\n",
        "trainX = numpy.reshape(trainX, (trainX.shape[0], 1, trainX.shape[1]))\n",
        "testX = numpy.reshape(testX, (testX.shape[0], 1, testX.shape[1]))"
      ],
      "execution_count": 112,
      "outputs": []
    },
    {
      "cell_type": "code",
      "metadata": {
        "colab": {
          "base_uri": "https://localhost:8080/"
        },
        "id": "gGh1WFiX9tnm",
        "outputId": "e20b23b2-2524-4c89-9da8-e095ca4eea89"
      },
      "source": [
        "# create and fit the LSTM network\n",
        "model = Sequential()\n",
        "model.add(LSTM(4, input_shape=(1, look_back)))\n",
        "model.add(Dense(1))\n",
        "model.summary()"
      ],
      "execution_count": 113,
      "outputs": [
        {
          "output_type": "stream",
          "name": "stdout",
          "text": [
            "Model: \"sequential_7\"\n",
            "_________________________________________________________________\n",
            "Layer (type)                 Output Shape              Param #   \n",
            "=================================================================\n",
            "lstm_7 (LSTM)                (None, 4)                 96        \n",
            "_________________________________________________________________\n",
            "dense_7 (Dense)              (None, 1)                 5         \n",
            "=================================================================\n",
            "Total params: 101\n",
            "Trainable params: 101\n",
            "Non-trainable params: 0\n",
            "_________________________________________________________________\n"
          ]
        }
      ]
    },
    {
      "cell_type": "markdown",
      "metadata": {
        "id": "Bq5M9Aeb90AC"
      },
      "source": [
        "**Giải thích cách tính tham số**\n",
        "* lstm_1 (LSTM) = [(num_units + input_dim + 1) x num_units] x 4 = [(4 + 1 + 1) x 4] x 4 = 96\n",
        "* dense_1 = ((current layer n x previous layer n) + bias) = 1 x 4 + 1 = 5"
      ]
    },
    {
      "cell_type": "code",
      "metadata": {
        "id": "FNoGOwIp9vlI"
      },
      "source": [
        "model.compile(loss='mean_squared_error', optimizer='adam')\n",
        "history = model.fit(trainX, trainY, validation_data=(testX, testY), epochs=100, batch_size=32, verbose=0)"
      ],
      "execution_count": 114,
      "outputs": []
    },
    {
      "cell_type": "code",
      "metadata": {
        "colab": {
          "base_uri": "https://localhost:8080/",
          "height": 268
        },
        "id": "wdtSYwyS99aP",
        "outputId": "b4eba5d1-dbfe-4081-b799-6449ac82a300"
      },
      "source": [
        "# plot history\n",
        "plt.plot(history.history['loss'], label='train')\n",
        "plt.plot(history.history['val_loss'], label='test')\n",
        "plt.legend()\n",
        "plt.show()"
      ],
      "execution_count": 115,
      "outputs": [
        {
          "output_type": "display_data",
          "data": {
            "image/png": "[encoded data removed]",
            "text/plain": [
              "<Figure size 432x288 with 1 Axes>"
            ]
          },
          "metadata": {
            "needs_background": "light"
          }
        }
      ]
    },
    {
      "cell_type": "code",
      "metadata": {
        "id": "CdwbkLvU-CDq"
      },
      "source": [
        "# make predictions\n",
        "trainPredict = model.predict(trainX)\n",
        "testPredict = model.predict(testX)"
      ],
      "execution_count": 116,
      "outputs": []
    },
    {
      "cell_type": "code",
      "metadata": {
        "id": "YkP8--pk-uN9"
      },
      "source": [
        "# invert predictions\n",
        "trainPredict = scaler.inverse_transform(trainPredict)\n",
        "trainY = scaler.inverse_transform([trainY])\n",
        "testPredict = scaler.inverse_transform(testPredict)\n",
        "testY = scaler.inverse_transform([testY])"
      ],
      "execution_count": 117,
      "outputs": []
    },
    {
      "cell_type": "code",
      "metadata": {
        "colab": {
          "base_uri": "https://localhost:8080/"
        },
        "id": "MrIIfC_q-vs1",
        "outputId": "69c406b8-8f97-4d9b-d174-ec3c72eebf0d"
      },
      "source": [
        "# calculate root mean squared error\n",
        "trainScore = math.sqrt(mean_squared_error(trainY[0], trainPredict[:,0]))\n",
        "print('Train Score: %.2f RMSE' % (trainScore))\n",
        "testScore = math.sqrt(mean_squared_error(testY[0], testPredict[:,0]))\n",
        "print('Test Score: %.2f RMSE' % (testScore))"
      ],
      "execution_count": 118,
      "outputs": [
        {
          "output_type": "stream",
          "name": "stdout",
          "text": [
            "Train Score: 45.20 RMSE\n",
            "Test Score: 130.93 RMSE\n"
          ]
        }
      ]
    },
    {
      "cell_type": "code",
      "metadata": {
        "id": "lN1WuZYC-xRi"
      },
      "source": [
        "# shift train predictions for plotting\n",
        "trainPredictPlot = numpy.empty_like(dataset)\n",
        "trainPredictPlot[:, :] = numpy.nan\n",
        "trainPredictPlot[look_back:len(trainPredict)+look_back, :] = trainPredict\n",
        "# shift test predictions for plotting\n",
        "testPredictPlot = numpy.empty_like(dataset)\n",
        "testPredictPlot[:, :] = numpy.nan\n",
        "testPredictPlot[len(trainPredict)+(look_back*2)+1:len(dataset)-1, :] = testPredict"
      ],
      "execution_count": 119,
      "outputs": []
    },
    {
      "cell_type": "code",
      "metadata": {
        "colab": {
          "base_uri": "https://localhost:8080/",
          "height": 374
        },
        "id": "GgcLyzI3-1wg",
        "outputId": "e02bf9cd-336a-444e-b520-1440810045b1"
      },
      "source": [
        "# plot baseline and predictions\n",
        "plt.figure(figsize=(10,6))\n",
        "plt.plot(scaler.inverse_transform(dataset), label='Real Data')\n",
        "plt.plot(trainPredictPlot, label='trainPredict')\n",
        "plt.plot(testPredictPlot, label='testPredict')\n",
        "plt.legend(title=\"Notes\")\n",
        "plt.show()"
      ],
      "execution_count": 120,
      "outputs": [
        {
          "output_type": "display_data",
          "data": {
            "image/png": "[encoded data removed]",
            "text/plain": [
              "<Figure size 720x432 with 1 Axes>"
            ]
          },
          "metadata": {
            "needs_background": "light"
          }
        }
      ]
    },
    {
      "cell_type": "code",
      "metadata": {
        "colab": {
          "base_uri": "https://localhost:8080/"
        },
        "id": "IeZf1LTC-4Ez",
        "outputId": "0baffb27-bd87-454d-eaee-6330356d01df"
      },
      "source": [
        "ws = {}\n",
        "for layer in model.layers:\n",
        "  ws[layer.name] = layer.get_weights()\n",
        "ws"
      ],
      "execution_count": 121,
      "outputs": [
        {
          "output_type": "execute_result",
          "data": {
            "text/plain": [
              "{'dense_7': [array([[ 0.3609515],\n",
              "         [ 0.8189932],\n",
              "         [-1.0437462],\n",
              "         [-1.2790859]], dtype=float32), array([0.07015616], dtype=float32)],\n",
              " 'lstm_7': [array([[-0.2664764 ,  0.40828496,  0.4151788 ,  0.45422256,  0.05685246,\n",
              "          -0.44251135, -0.26932994, -0.24858141,  0.689617  , -0.2117344 ,\n",
              "          -0.45464417, -0.48788318,  0.4683929 ,  0.19376956,  0.12185384,\n",
              "           0.09492896]], dtype=float32),\n",
              "  array([[ 0.24742007,  0.07763102, -0.05387004, -0.12341242, -0.26896125,\n",
              "           0.14450337,  0.08789206, -0.50391227,  0.04714735, -0.5015641 ,\n",
              "           0.03062449,  0.27541372,  0.28550893, -0.3381222 ,  0.17855467,\n",
              "          -0.03803244],\n",
              "         [ 0.01645892,  0.03337638, -0.11554278,  0.37489647, -0.09811411,\n",
              "           0.06033869,  0.32195422, -0.2372933 , -0.2920908 ,  0.5642393 ,\n",
              "          -0.24156335,  0.13740732,  0.29034   ,  0.02584569,  0.18091804,\n",
              "          -0.26995313],\n",
              "         [ 0.03245952, -0.22881323, -0.04709362,  0.33053347, -0.5140521 ,\n",
              "           0.28849238, -0.31599444,  0.09193578, -0.04681973, -0.10350236,\n",
              "           0.2281768 ,  0.24533595, -0.04609063,  0.3802198 , -0.26684758,\n",
              "          -0.19047429],\n",
              "         [-0.20354792, -0.02408237, -0.17024972, -0.02912171, -0.04981198,\n",
              "          -0.20382799,  0.00540271,  0.32174078,  0.07715448, -0.23050657,\n",
              "          -0.41259214,  0.41488585,  0.21089523,  0.3619822 ,  0.3795038 ,\n",
              "           0.24413563]], dtype=float32),\n",
              "  array([ 0.2108762 , -0.13699293,  0.18114854,  0.17759863,  1.        ,\n",
              "          1.        ,  1.        ,  1.        ,  0.05186271,  0.07856955,\n",
              "         -0.06964006, -0.06883559,  0.20144235, -0.13523519,  0.18769635,\n",
              "          0.18498938], dtype=float32)]}"
            ]
          },
          "metadata": {},
          "execution_count": 121
        }
      ]
    },
    {
      "cell_type": "code",
      "metadata": {
        "colab": {
          "base_uri": "https://localhost:8080/"
        },
        "id": "dKWwnnac_Kpl",
        "outputId": "b61ca4a1-505f-4c0b-96bb-efed1e077ed3"
      },
      "source": [
        "# x_new = 432 => next time = ?\n",
        "x_new = scaler.transform([[432]])\n",
        "x_new = numpy.reshape(x_new, (1, 1, 1))\n",
        "y_new = model.predict(x_new)\n",
        "y_new = scaler.inverse_transform(y_new)\n",
        "y_new"
      ],
      "execution_count": 122,
      "outputs": [
        {
          "output_type": "execute_result",
          "data": {
            "text/plain": [
              "array([[304.63318]], dtype=float32)"
            ]
          },
          "metadata": {},
          "execution_count": 122
        }
      ]
    },
    {
      "cell_type": "markdown",
      "metadata": {
        "id": "hyfMIbZI_Sxr"
      },
      "source": [
        "**Với lượng dữ liệu ít, bài toán này hoạt độnng chưa được tốt.**"
      ]
    },
    {
      "cell_type": "code",
      "metadata": {
        "id": "D8KgkCP-_PON"
      },
      "source": [
        ""
      ],
      "execution_count": 122,
      "outputs": []
    }
  ]
}