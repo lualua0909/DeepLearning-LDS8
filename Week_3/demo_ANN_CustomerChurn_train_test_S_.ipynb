{
  "nbformat": 4,
  "nbformat_minor": 0,
  "metadata": {
    "colab": {
      "name": "demo_ANN_CustomerChurn_train_test_S .ipynb",
      "provenance": [],
      "authorship_tag": "ABX9TyNQwqn/msoWUJMwUqGjGqxE",
      "include_colab_link": true
    },
    "kernelspec": {
      "name": "python3",
      "display_name": "Python 3"
    },
    "language_info": {
      "name": "python"
    }
  },
  "cells": [
    {
      "cell_type": "markdown",
      "metadata": {
        "id": "view-in-github",
        "colab_type": "text"
      },
      "source": [
        "<a href=\"https://colab.research.google.com/github/lualua0909/DeepLearning-LDS8/blob/main/Week_3/demo_ANN_CustomerChurn_train_test_S_.ipynb\" target=\"_parent\"><img src=\"https://colab.research.google.com/assets/colab-badge.svg\" alt=\"Open In Colab\"/></a>"
      ]
    },
    {
      "cell_type": "code",
      "metadata": {
        "id": "37WRAJZj2hNq"
      },
      "source": [
        "import warnings\n",
        "warnings.filterwarnings('ignore')"
      ],
      "execution_count": 1,
      "outputs": []
    },
    {
      "cell_type": "code",
      "metadata": {
        "id": "CoRlFvhk3MWq"
      },
      "source": [
        "import pandas as pd\n",
        "import numpy as np\n",
        "import matplotlib.pyplot as plt\n",
        "import tensorflow as tf\n",
        "from tensorflow import keras"
      ],
      "execution_count": 2,
      "outputs": []
    },
    {
      "cell_type": "code",
      "metadata": {
        "colab": {
          "base_uri": "https://localhost:8080/"
        },
        "id": "WmJBGNJ23NzB",
        "outputId": "215004ab-591b-4b2b-aee8-b65870fccdba"
      },
      "source": [
        "print(tf.__version__)\n",
        "print(keras.__version__)"
      ],
      "execution_count": 3,
      "outputs": [
        {
          "output_type": "stream",
          "name": "stdout",
          "text": [
            "2.6.0\n",
            "2.6.0\n"
          ]
        }
      ]
    },
    {
      "cell_type": "code",
      "metadata": {
        "id": "tnzdy4In3PMT"
      },
      "source": [
        "df = pd.read_csv(\"https://raw.githubusercontent.com/lualua0909/DeepLearning-LDS8/main/Data/Churn_Modelling.csv\")"
      ],
      "execution_count": 5,
      "outputs": []
    },
    {
      "cell_type": "code",
      "metadata": {
        "colab": {
          "base_uri": "https://localhost:8080/"
        },
        "id": "GQ6QOyv_3QxH",
        "outputId": "a2124eff-bc69-43f2-9e93-06527b95c5cd"
      },
      "source": [
        "df.info()"
      ],
      "execution_count": 6,
      "outputs": [
        {
          "output_type": "stream",
          "name": "stdout",
          "text": [
            "<class 'pandas.core.frame.DataFrame'>\n",
            "RangeIndex: 10000 entries, 0 to 9999\n",
            "Data columns (total 14 columns):\n",
            " #   Column           Non-Null Count  Dtype  \n",
            "---  ------           --------------  -----  \n",
            " 0   RowNumber        10000 non-null  int64  \n",
            " 1   CustomerId       10000 non-null  int64  \n",
            " 2   Surname          10000 non-null  object \n",
            " 3   CreditScore      10000 non-null  int64  \n",
            " 4   Geography        10000 non-null  object \n",
            " 5   Gender           10000 non-null  object \n",
            " 6   Age              10000 non-null  int64  \n",
            " 7   Tenure           10000 non-null  int64  \n",
            " 8   Balance          10000 non-null  float64\n",
            " 9   NumOfProducts    10000 non-null  int64  \n",
            " 10  HasCrCard        10000 non-null  int64  \n",
            " 11  IsActiveMember   10000 non-null  int64  \n",
            " 12  EstimatedSalary  10000 non-null  float64\n",
            " 13  Exited           10000 non-null  int64  \n",
            "dtypes: float64(2), int64(9), object(3)\n",
            "memory usage: 1.1+ MB\n"
          ]
        }
      ]
    },
    {
      "cell_type": "code",
      "metadata": {
        "colab": {
          "base_uri": "https://localhost:8080/",
          "height": 224
        },
        "id": "s7gUutnS4IzJ",
        "outputId": "bee761e7-8465-4219-8319-77de68c6d546"
      },
      "source": [
        "df.head()"
      ],
      "execution_count": 7,
      "outputs": [
        {
          "output_type": "execute_result",
          "data": {
            "text/html": [
              "<div>\n",
              "<style scoped>\n",
              "    .dataframe tbody tr th:only-of-type {\n",
              "        vertical-align: middle;\n",
              "    }\n",
              "\n",
              "    .dataframe tbody tr th {\n",
              "        vertical-align: top;\n",
              "    }\n",
              "\n",
              "    .dataframe thead th {\n",
              "        text-align: right;\n",
              "    }\n",
              "</style>\n",
              "<table border=\"1\" class=\"dataframe\">\n",
              "  <thead>\n",
              "    <tr style=\"text-align: right;\">\n",
              "      <th></th>\n",
              "      <th>RowNumber</th>\n",
              "      <th>CustomerId</th>\n",
              "      <th>Surname</th>\n",
              "      <th>CreditScore</th>\n",
              "      <th>Geography</th>\n",
              "      <th>Gender</th>\n",
              "      <th>Age</th>\n",
              "      <th>Tenure</th>\n",
              "      <th>Balance</th>\n",
              "      <th>NumOfProducts</th>\n",
              "      <th>HasCrCard</th>\n",
              "      <th>IsActiveMember</th>\n",
              "      <th>EstimatedSalary</th>\n",
              "      <th>Exited</th>\n",
              "    </tr>\n",
              "  </thead>\n",
              "  <tbody>\n",
              "    <tr>\n",
              "      <th>0</th>\n",
              "      <td>1</td>\n",
              "      <td>15634602</td>\n",
              "      <td>Hargrave</td>\n",
              "      <td>619</td>\n",
              "      <td>France</td>\n",
              "      <td>Female</td>\n",
              "      <td>42</td>\n",
              "      <td>2</td>\n",
              "      <td>0.00</td>\n",
              "      <td>1</td>\n",
              "      <td>1</td>\n",
              "      <td>1</td>\n",
              "      <td>101348.88</td>\n",
              "      <td>1</td>\n",
              "    </tr>\n",
              "    <tr>\n",
              "      <th>1</th>\n",
              "      <td>2</td>\n",
              "      <td>15647311</td>\n",
              "      <td>Hill</td>\n",
              "      <td>608</td>\n",
              "      <td>Spain</td>\n",
              "      <td>Female</td>\n",
              "      <td>41</td>\n",
              "      <td>1</td>\n",
              "      <td>83807.86</td>\n",
              "      <td>1</td>\n",
              "      <td>0</td>\n",
              "      <td>1</td>\n",
              "      <td>112542.58</td>\n",
              "      <td>0</td>\n",
              "    </tr>\n",
              "    <tr>\n",
              "      <th>2</th>\n",
              "      <td>3</td>\n",
              "      <td>15619304</td>\n",
              "      <td>Onio</td>\n",
              "      <td>502</td>\n",
              "      <td>France</td>\n",
              "      <td>Female</td>\n",
              "      <td>42</td>\n",
              "      <td>8</td>\n",
              "      <td>159660.80</td>\n",
              "      <td>3</td>\n",
              "      <td>1</td>\n",
              "      <td>0</td>\n",
              "      <td>113931.57</td>\n",
              "      <td>1</td>\n",
              "    </tr>\n",
              "    <tr>\n",
              "      <th>3</th>\n",
              "      <td>4</td>\n",
              "      <td>15701354</td>\n",
              "      <td>Boni</td>\n",
              "      <td>699</td>\n",
              "      <td>France</td>\n",
              "      <td>Female</td>\n",
              "      <td>39</td>\n",
              "      <td>1</td>\n",
              "      <td>0.00</td>\n",
              "      <td>2</td>\n",
              "      <td>0</td>\n",
              "      <td>0</td>\n",
              "      <td>93826.63</td>\n",
              "      <td>0</td>\n",
              "    </tr>\n",
              "    <tr>\n",
              "      <th>4</th>\n",
              "      <td>5</td>\n",
              "      <td>15737888</td>\n",
              "      <td>Mitchell</td>\n",
              "      <td>850</td>\n",
              "      <td>Spain</td>\n",
              "      <td>Female</td>\n",
              "      <td>43</td>\n",
              "      <td>2</td>\n",
              "      <td>125510.82</td>\n",
              "      <td>1</td>\n",
              "      <td>1</td>\n",
              "      <td>1</td>\n",
              "      <td>79084.10</td>\n",
              "      <td>0</td>\n",
              "    </tr>\n",
              "  </tbody>\n",
              "</table>\n",
              "</div>"
            ],
            "text/plain": [
              "   RowNumber  CustomerId   Surname  ...  IsActiveMember EstimatedSalary Exited\n",
              "0          1    15634602  Hargrave  ...               1       101348.88      1\n",
              "1          2    15647311      Hill  ...               1       112542.58      0\n",
              "2          3    15619304      Onio  ...               0       113931.57      1\n",
              "3          4    15701354      Boni  ...               0        93826.63      0\n",
              "4          5    15737888  Mitchell  ...               1        79084.10      0\n",
              "\n",
              "[5 rows x 14 columns]"
            ]
          },
          "metadata": {},
          "execution_count": 7
        }
      ]
    },
    {
      "cell_type": "code",
      "metadata": {
        "colab": {
          "base_uri": "https://localhost:8080/",
          "height": 193
        },
        "id": "MrgVLGPR4Kw5",
        "outputId": "9408cc40-d126-4743-ca08-3dc22f98bffa"
      },
      "source": [
        "df.groupby(by='Geography').count()"
      ],
      "execution_count": 8,
      "outputs": [
        {
          "output_type": "execute_result",
          "data": {
            "text/html": [
              "<div>\n",
              "<style scoped>\n",
              "    .dataframe tbody tr th:only-of-type {\n",
              "        vertical-align: middle;\n",
              "    }\n",
              "\n",
              "    .dataframe tbody tr th {\n",
              "        vertical-align: top;\n",
              "    }\n",
              "\n",
              "    .dataframe thead th {\n",
              "        text-align: right;\n",
              "    }\n",
              "</style>\n",
              "<table border=\"1\" class=\"dataframe\">\n",
              "  <thead>\n",
              "    <tr style=\"text-align: right;\">\n",
              "      <th></th>\n",
              "      <th>RowNumber</th>\n",
              "      <th>CustomerId</th>\n",
              "      <th>Surname</th>\n",
              "      <th>CreditScore</th>\n",
              "      <th>Gender</th>\n",
              "      <th>Age</th>\n",
              "      <th>Tenure</th>\n",
              "      <th>Balance</th>\n",
              "      <th>NumOfProducts</th>\n",
              "      <th>HasCrCard</th>\n",
              "      <th>IsActiveMember</th>\n",
              "      <th>EstimatedSalary</th>\n",
              "      <th>Exited</th>\n",
              "    </tr>\n",
              "    <tr>\n",
              "      <th>Geography</th>\n",
              "      <th></th>\n",
              "      <th></th>\n",
              "      <th></th>\n",
              "      <th></th>\n",
              "      <th></th>\n",
              "      <th></th>\n",
              "      <th></th>\n",
              "      <th></th>\n",
              "      <th></th>\n",
              "      <th></th>\n",
              "      <th></th>\n",
              "      <th></th>\n",
              "      <th></th>\n",
              "    </tr>\n",
              "  </thead>\n",
              "  <tbody>\n",
              "    <tr>\n",
              "      <th>France</th>\n",
              "      <td>5014</td>\n",
              "      <td>5014</td>\n",
              "      <td>5014</td>\n",
              "      <td>5014</td>\n",
              "      <td>5014</td>\n",
              "      <td>5014</td>\n",
              "      <td>5014</td>\n",
              "      <td>5014</td>\n",
              "      <td>5014</td>\n",
              "      <td>5014</td>\n",
              "      <td>5014</td>\n",
              "      <td>5014</td>\n",
              "      <td>5014</td>\n",
              "    </tr>\n",
              "    <tr>\n",
              "      <th>Germany</th>\n",
              "      <td>2509</td>\n",
              "      <td>2509</td>\n",
              "      <td>2509</td>\n",
              "      <td>2509</td>\n",
              "      <td>2509</td>\n",
              "      <td>2509</td>\n",
              "      <td>2509</td>\n",
              "      <td>2509</td>\n",
              "      <td>2509</td>\n",
              "      <td>2509</td>\n",
              "      <td>2509</td>\n",
              "      <td>2509</td>\n",
              "      <td>2509</td>\n",
              "    </tr>\n",
              "    <tr>\n",
              "      <th>Spain</th>\n",
              "      <td>2477</td>\n",
              "      <td>2477</td>\n",
              "      <td>2477</td>\n",
              "      <td>2477</td>\n",
              "      <td>2477</td>\n",
              "      <td>2477</td>\n",
              "      <td>2477</td>\n",
              "      <td>2477</td>\n",
              "      <td>2477</td>\n",
              "      <td>2477</td>\n",
              "      <td>2477</td>\n",
              "      <td>2477</td>\n",
              "      <td>2477</td>\n",
              "    </tr>\n",
              "  </tbody>\n",
              "</table>\n",
              "</div>"
            ],
            "text/plain": [
              "           RowNumber  CustomerId  ...  EstimatedSalary  Exited\n",
              "Geography                         ...                         \n",
              "France          5014        5014  ...             5014    5014\n",
              "Germany         2509        2509  ...             2509    2509\n",
              "Spain           2477        2477  ...             2477    2477\n",
              "\n",
              "[3 rows x 13 columns]"
            ]
          },
          "metadata": {},
          "execution_count": 8
        }
      ]
    },
    {
      "cell_type": "code",
      "metadata": {
        "id": "yQrfESWC4Mbo"
      },
      "source": [
        "X = df.iloc[:, 3:13].values # inputs\n",
        "y = df.iloc[:, 13].values # output"
      ],
      "execution_count": 9,
      "outputs": []
    },
    {
      "cell_type": "code",
      "metadata": {
        "colab": {
          "base_uri": "https://localhost:8080/"
        },
        "id": "3CYXgKff4NzH",
        "outputId": "859aa028-dc8f-41ba-bee5-43510baf9a9d"
      },
      "source": [
        "# khach hang ra di\n",
        "exited = np.count_nonzero(y)\n",
        "exited"
      ],
      "execution_count": 10,
      "outputs": [
        {
          "output_type": "execute_result",
          "data": {
            "text/plain": [
              "2037"
            ]
          },
          "metadata": {},
          "execution_count": 10
        }
      ]
    },
    {
      "cell_type": "code",
      "metadata": {
        "colab": {
          "base_uri": "https://localhost:8080/"
        },
        "id": "5I9LPh2g4QSI",
        "outputId": "1954974f-9d5a-4ff4-b5e9-4582ef17a3ff"
      },
      "source": [
        "# khach hang o lai\n",
        "no_exited = y.shape[0] - exited\n",
        "no_exited"
      ],
      "execution_count": 11,
      "outputs": [
        {
          "output_type": "execute_result",
          "data": {
            "text/plain": [
              "7963"
            ]
          },
          "metadata": {},
          "execution_count": 11
        }
      ]
    },
    {
      "cell_type": "code",
      "metadata": {
        "colab": {
          "base_uri": "https://localhost:8080/"
        },
        "id": "aE2f7qG14R5l",
        "outputId": "ae554c1b-6095-4447-f9b2-90dd355e9121"
      },
      "source": [
        "from scipy.stats import itemfreq\n",
        "# khach hang o lai/ra di\n",
        "itemfreq(y)"
      ],
      "execution_count": 12,
      "outputs": [
        {
          "output_type": "execute_result",
          "data": {
            "text/plain": [
              "array([[   0, 7963],\n",
              "       [   1, 2037]])"
            ]
          },
          "metadata": {},
          "execution_count": 12
        }
      ]
    },
    {
      "cell_type": "code",
      "metadata": {
        "colab": {
          "base_uri": "https://localhost:8080/"
        },
        "id": "W-xDgq7Z4TIS",
        "outputId": "e3939fe1-2bd9-4ac2-c44d-2374ab232e4d"
      },
      "source": [
        "# in thong tin 10 khach hang dau tien\n",
        "X[:10]"
      ],
      "execution_count": 13,
      "outputs": [
        {
          "output_type": "execute_result",
          "data": {
            "text/plain": [
              "array([[619, 'France', 'Female', 42, 2, 0.0, 1, 1, 1, 101348.88],\n",
              "       [608, 'Spain', 'Female', 41, 1, 83807.86, 1, 0, 1, 112542.58],\n",
              "       [502, 'France', 'Female', 42, 8, 159660.8, 3, 1, 0, 113931.57],\n",
              "       [699, 'France', 'Female', 39, 1, 0.0, 2, 0, 0, 93826.63],\n",
              "       [850, 'Spain', 'Female', 43, 2, 125510.82, 1, 1, 1, 79084.1],\n",
              "       [645, 'Spain', 'Male', 44, 8, 113755.78, 2, 1, 0, 149756.71],\n",
              "       [822, 'France', 'Male', 50, 7, 0.0, 2, 1, 1, 10062.8],\n",
              "       [376, 'Germany', 'Female', 29, 4, 115046.74, 4, 1, 0, 119346.88],\n",
              "       [501, 'France', 'Male', 44, 4, 142051.07, 2, 0, 1, 74940.5],\n",
              "       [684, 'France', 'Male', 27, 2, 134603.88, 1, 1, 1, 71725.73]],\n",
              "      dtype=object)"
            ]
          },
          "metadata": {},
          "execution_count": 13
        }
      ]
    },
    {
      "cell_type": "code",
      "metadata": {
        "colab": {
          "base_uri": "https://localhost:8080/"
        },
        "id": "y_jiGcKP4VGA",
        "outputId": "cb52d8b6-d4e7-4720-f9a1-fa3413809f02"
      },
      "source": [
        "# Encoding categorical data\n",
        "# Encoding the Independent Variable\n",
        "from sklearn.preprocessing import LabelEncoder, OneHotEncoder\n",
        "from sklearn.compose import ColumnTransformer\n",
        "labelencoder_X_1 = LabelEncoder()\n",
        "X[:, 1] = labelencoder_X_1.fit_transform(X[:, 1])\n",
        "labelencoder_X_2 = LabelEncoder()\n",
        "X[:, 2] = labelencoder_X_2.fit_transform(X[:, 2])\n",
        "ct = ColumnTransformer([('encoder', OneHotEncoder(), [1])],\n",
        " remainder='passthrough')\n",
        "X = ct.fit_transform(X.tolist())\n",
        "# save 3 model nay pickle: labelencoder_X_1, labelencoder_X_2, ct\n",
        "# Save the Modle to file in the current working directory\n",
        "# Pkl_Filename = \"Pickle_RL_Model.pkl\"\n",
        "# with open(Pkl_Filename, 'wb') as file:\n",
        "# pickle.dump(Model, file)\n",
        "# Load the Model back from file\n",
        "# with open(Pkl_Filename, 'rb') as file:\n",
        "# model_load = pickle.load(file)\n",
        "\n",
        "X[:10]"
      ],
      "execution_count": 14,
      "outputs": [
        {
          "output_type": "execute_result",
          "data": {
            "text/plain": [
              "array([[1.0, 0.0, 0.0, 619, 0, 42, 2, 0.0, 1, 1, 1, 101348.88],\n",
              "       [0.0, 0.0, 1.0, 608, 0, 41, 1, 83807.86, 1, 0, 1, 112542.58],\n",
              "       [1.0, 0.0, 0.0, 502, 0, 42, 8, 159660.8, 3, 1, 0, 113931.57],\n",
              "       [1.0, 0.0, 0.0, 699, 0, 39, 1, 0.0, 2, 0, 0, 93826.63],\n",
              "       [0.0, 0.0, 1.0, 850, 0, 43, 2, 125510.82, 1, 1, 1, 79084.1],\n",
              "       [0.0, 0.0, 1.0, 645, 1, 44, 8, 113755.78, 2, 1, 0, 149756.71],\n",
              "       [1.0, 0.0, 0.0, 822, 1, 50, 7, 0.0, 2, 1, 1, 10062.8],\n",
              "       [0.0, 1.0, 0.0, 376, 0, 29, 4, 115046.74, 4, 1, 0, 119346.88],\n",
              "       [1.0, 0.0, 0.0, 501, 1, 44, 4, 142051.07, 2, 0, 1, 74940.5],\n",
              "       [1.0, 0.0, 0.0, 684, 1, 27, 2, 134603.88, 1, 1, 1, 71725.73]],\n",
              "      dtype=object)"
            ]
          },
          "metadata": {},
          "execution_count": 14
        }
      ]
    },
    {
      "cell_type": "code",
      "metadata": {
        "id": "epgS2w374YbR"
      },
      "source": [
        "# vì chỉ có 3 quốc gia, nên khi tạo ra ma trận OneHotEncoder quốc gia sẽ như sau:\n",
        "# France 1, 0, 0\n",
        "# Germany 0, 1, 0\n",
        "# Spain 0, 0, 1\n",
        "# => Theo đó có thể bỏ đi 1 cột đầu thì 2 cột sau là đủ thể hiện mã của 3 quốc gi\n",
        "# France 0, 0\n",
        "# Germany 1, 0\n",
        "# Spain 0, 1\n",
        "X = X[:, 1:]"
      ],
      "execution_count": 15,
      "outputs": []
    },
    {
      "cell_type": "code",
      "metadata": {
        "colab": {
          "base_uri": "https://localhost:8080/"
        },
        "id": "QpAc6Hvx4c75",
        "outputId": "7fbc1604-6c21-452c-be23-bc555779efeb"
      },
      "source": [
        "X[:10]"
      ],
      "execution_count": 16,
      "outputs": [
        {
          "output_type": "execute_result",
          "data": {
            "text/plain": [
              "array([[0.0, 0.0, 619, 0, 42, 2, 0.0, 1, 1, 1, 101348.88],\n",
              "       [0.0, 1.0, 608, 0, 41, 1, 83807.86, 1, 0, 1, 112542.58],\n",
              "       [0.0, 0.0, 502, 0, 42, 8, 159660.8, 3, 1, 0, 113931.57],\n",
              "       [0.0, 0.0, 699, 0, 39, 1, 0.0, 2, 0, 0, 93826.63],\n",
              "       [0.0, 1.0, 850, 0, 43, 2, 125510.82, 1, 1, 1, 79084.1],\n",
              "       [0.0, 1.0, 645, 1, 44, 8, 113755.78, 2, 1, 0, 149756.71],\n",
              "       [0.0, 0.0, 822, 1, 50, 7, 0.0, 2, 1, 1, 10062.8],\n",
              "       [1.0, 0.0, 376, 0, 29, 4, 115046.74, 4, 1, 0, 119346.88],\n",
              "       [0.0, 0.0, 501, 1, 44, 4, 142051.07, 2, 0, 1, 74940.5],\n",
              "       [0.0, 0.0, 684, 1, 27, 2, 134603.88, 1, 1, 1, 71725.73]],\n",
              "      dtype=object)"
            ]
          },
          "metadata": {},
          "execution_count": 16
        }
      ]
    },
    {
      "cell_type": "code",
      "metadata": {
        "id": "QXkwrf6f4eXB"
      },
      "source": [
        "# scale truoc => split sau\n",
        "from sklearn.preprocessing import StandardScaler\n",
        "sc = StandardScaler()\n",
        "sc.fit(X)\n",
        "X = sc.transform(X)\n",
        "import pickle\n",
        "scalerfile = 'sc.sav'\n",
        "pickle.dump(sc, open(scalerfile, 'wb'))\n",
        "# Hoac lam 1 pipeline: Lable Encoder => OnhotEncoder => Stadard scaler => model p\n",
        "# o noi khac: goi model pre "
      ],
      "execution_count": 17,
      "outputs": []
    },
    {
      "cell_type": "code",
      "metadata": {
        "id": "EXqBck6Y4guJ"
      },
      "source": [
        "# Splitting the dataset into the Training set and Test set\n",
        "from sklearn.model_selection import train_test_split\n",
        "X_train, X_test, y_train, y_test = train_test_split(X, y, test_size = 0.2, random_state = 0)"
      ],
      "execution_count": 21,
      "outputs": []
    },
    {
      "cell_type": "code",
      "metadata": {
        "colab": {
          "base_uri": "https://localhost:8080/"
        },
        "id": "EBH5DEE74khf",
        "outputId": "495ffcd5-9b36-4d62-e1a4-37d6f31e78c4"
      },
      "source": [
        "X_train[:5]"
      ],
      "execution_count": 23,
      "outputs": [
        {
          "output_type": "execute_result",
          "data": {
            "text/plain": [
              "array([[-0.57873591,  1.74273971,  0.17042381, -1.09598752, -0.4693113 ,\n",
              "        -0.00442596, -1.22584767,  0.80773656,  0.64609167, -1.03067011,\n",
              "         1.10838187],\n",
              "       [ 1.72790383, -0.57380915, -2.31280236,  0.91241915,  0.29351742,\n",
              "        -1.38753759, -0.01289171, -0.91158349,  0.64609167,  0.97024255,\n",
              "        -0.74759209],\n",
              "       [-0.57873591, -0.57380915, -1.19535058, -1.09598752, -0.94607926,\n",
              "        -1.04175968,  0.57507592, -0.91158349,  0.64609167, -1.03067011,\n",
              "         1.48746417],\n",
              "       [-0.57873591,  1.74273971,  0.03591573,  0.91241915,  0.10281024,\n",
              "        -0.00442596,  0.46795537, -0.91158349,  0.64609167, -1.03067011,\n",
              "         1.27855845],\n",
              "       [-0.57873591,  1.74273971,  2.06388377, -1.09598752,  1.72382128,\n",
              "         1.03290776,  0.80600989,  0.80773656,  0.64609167,  0.97024255,\n",
              "         0.56006929]])"
            ]
          },
          "metadata": {},
          "execution_count": 23
        }
      ]
    },
    {
      "cell_type": "code",
      "metadata": {
        "colab": {
          "base_uri": "https://localhost:8080/"
        },
        "id": "46rc0kAK4oZK",
        "outputId": "5e5510e1-350a-46f8-adfb-e4e49f0efef0"
      },
      "source": [
        "X_train[0].shape"
      ],
      "execution_count": 24,
      "outputs": [
        {
          "output_type": "execute_result",
          "data": {
            "text/plain": [
              "(11,)"
            ]
          },
          "metadata": {},
          "execution_count": 24
        }
      ]
    },
    {
      "cell_type": "markdown",
      "metadata": {
        "id": "5mfDVPXI4ujU"
      },
      "source": [
        "\n",
        "###Xây dựng model ANN"
      ]
    },
    {
      "cell_type": "code",
      "metadata": {
        "id": "T-NbFZ7T4tCI"
      },
      "source": [
        "from tensorflow.keras.layers import Dense, Dropout\n",
        "from tensorflow.keras import Sequential"
      ],
      "execution_count": 26,
      "outputs": []
    },
    {
      "cell_type": "code",
      "metadata": {
        "id": "z5IsLYVC6JRj"
      },
      "source": [
        "# Intitialing the ANN\n",
        "classifier = Sequential()"
      ],
      "execution_count": 27,
      "outputs": []
    },
    {
      "cell_type": "markdown",
      "metadata": {
        "id": "BY-hC79y6ShO"
      },
      "source": [
        "* Khởi tạo ANN sử dụng keras Sequential class và đặt tên là classifier.\n",
        "* Tạo một Dense input layer với output_dim là 6 (11 inputs + 1 output )/2, hoặc 12 (11+1). Không có một quy tắc nghiêm ngặt nào cho giá trị này,\n",
        "* activation function: ‘relu’ (thường được áp dụng cho input layer và các hidden network layers)\n",
        "* input_shape = (11,) (có independent input variables trong X matrix)\n",
        "* => => add vào hidden layer sử dụng classifier.add()"
      ]
    },
    {
      "cell_type": "code",
      "metadata": {
        "id": "sXt2NPrY6QU0"
      },
      "source": [
        "# Adding the input layer and the first hidden layer\n",
        "classifier.add(Dense(units = 6, activation='relu', input_shape=(11,)))\n",
        "classifier.add(Dropout(rate=0.1))"
      ],
      "execution_count": 28,
      "outputs": []
    },
    {
      "cell_type": "markdown",
      "metadata": {
        "id": "F2-3BEqs6hah"
      },
      "source": [
        "* Tạo Dense hidden layer tiếp theo với cùng tham số mà không cần input_dim (chỉ cần khai báo input_dim ở input layer) => add vào hidden layer sử dụng classifier.add()"
      ]
    },
    {
      "cell_type": "code",
      "metadata": {
        "id": "ZpglW0zY6fw_"
      },
      "source": [
        "# Addding the second hidden layer\n",
        "# lop truoc do da co output => input cua lop sau\n",
        "classifier.add(Dense(units = 6,\n",
        " activation='relu'))\n",
        "classifier.add(Dropout(rate=0.1))"
      ],
      "execution_count": 29,
      "outputs": []
    },
    {
      "cell_type": "markdown",
      "metadata": {
        "id": "82vvvGKB6qJv"
      },
      "source": [
        "* Tạo output layer với output_dim = 1 và sigmoid activation function (kết quả chỉ có 1) => add\n",
        "vào network sử dụng classifier.add()."
      ]
    },
    {
      "cell_type": "code",
      "metadata": {
        "id": "-HCHm4IM6l53"
      },
      "source": [
        "# Adding the output layer\n",
        "classifier.add(Dense(units = 1,\n",
        " activation='sigmoid')) # like logistic regression"
      ],
      "execution_count": 30,
      "outputs": []
    },
    {
      "cell_type": "markdown",
      "metadata": {
        "id": "q3d355JR6tsu"
      },
      "source": [
        "* Compile neural network sử dụng ‘adam’ optimizer, ‘binary_crossentropy’ loss function cho\n",
        "accuracy metrics"
      ]
    },
    {
      "cell_type": "code",
      "metadata": {
        "id": "vmxsmQWb6nU4"
      },
      "source": [
        "#compiling ANN\n",
        "classifier.compile(optimizer='adam', loss='binary_crossentropy', metrics=['accuracy'])"
      ],
      "execution_count": 32,
      "outputs": []
    },
    {
      "cell_type": "code",
      "metadata": {
        "colab": {
          "base_uri": "https://localhost:8080/"
        },
        "id": "Dh_ohRD96vp7",
        "outputId": "c898fa21-8dfa-4f5b-cf12-8cbc58d25517"
      },
      "source": [
        "classifier.summary()"
      ],
      "execution_count": 33,
      "outputs": [
        {
          "output_type": "stream",
          "name": "stdout",
          "text": [
            "Model: \"sequential\"\n",
            "_________________________________________________________________\n",
            "Layer (type)                 Output Shape              Param #   \n",
            "=================================================================\n",
            "dense (Dense)                (None, 6)                 72        \n",
            "_________________________________________________________________\n",
            "dropout (Dropout)            (None, 6)                 0         \n",
            "_________________________________________________________________\n",
            "dense_1 (Dense)              (None, 6)                 42        \n",
            "_________________________________________________________________\n",
            "dropout_1 (Dropout)          (None, 6)                 0         \n",
            "_________________________________________________________________\n",
            "dense_2 (Dense)              (None, 1)                 7         \n",
            "=================================================================\n",
            "Total params: 121\n",
            "Trainable params: 121\n",
            "Non-trainable params: 0\n",
            "_________________________________________________________________\n"
          ]
        }
      ]
    },
    {
      "cell_type": "code",
      "metadata": {
        "colab": {
          "base_uri": "https://localhost:8080/",
          "height": 644
        },
        "id": "zXnqZVjf6zRf",
        "outputId": "437b5ecf-094f-477e-9c31-0d5af144edf4"
      },
      "source": [
        "from tensorflow.keras.utils import plot_model\n",
        "\n",
        "plot_model(classifier, to_file='ANN_model.png', show_shapes=True)"
      ],
      "execution_count": 38,
      "outputs": [
        {
          "output_type": "execute_result",
          "data": {
            "image/png": "[encoded data removed]",
            "text/plain": [
              "<IPython.core.display.Image object>"
            ]
          },
          "metadata": {},
          "execution_count": 38
        }
      ]
    },
    {
      "cell_type": "markdown",
      "metadata": {
        "id": "Mv_-OV0g69gb"
      },
      "source": [
        "##Cách tính params: fully connected: Param # = input * output +\n",
        "output\n",
        "* dense_input: Input layer: shape(None, 11), Param #=0\n",
        "* dense:Dense: shape(?, 6), Param # = input * output + output = 11 * 6 + 6 = 72\n",
        "* dense_1:Dense: shape(?, 6), Param # = input * output + output = 6 * 6 + 6 = 42\n",
        "* dense_2:Dense: shape(?, 6), Param # = input * output + output = 6 * 1 + 1 = 7"
      ]
    },
    {
      "cell_type": "code",
      "metadata": {
        "colab": {
          "base_uri": "https://localhost:8080/"
        },
        "id": "P8OQFOnQ63XQ",
        "outputId": "636b0eb3-6825-422d-fee1-de78c2d50755"
      },
      "source": [
        "# Fitting classifier to the Training set\n",
        "history = classifier.fit(X_train, y_train, epochs = 100, batch_size=64, validation_data=(X_test, y_test)) # default batch size"
      ],
      "execution_count": 39,
      "outputs": [
        {
          "output_type": "stream",
          "name": "stdout",
          "text": [
            "Epoch 1/100\n",
            "125/125 [==============================] - 1s 4ms/step - loss: 0.6050 - accuracy: 0.7041 - val_loss: 0.5293 - val_accuracy: 0.7620\n",
            "Epoch 2/100\n",
            "125/125 [==============================] - 0s 2ms/step - loss: 0.5193 - accuracy: 0.7846 - val_loss: 0.4850 - val_accuracy: 0.7915\n",
            "Epoch 3/100\n",
            "125/125 [==============================] - 0s 2ms/step - loss: 0.4855 - accuracy: 0.7943 - val_loss: 0.4649 - val_accuracy: 0.7945\n",
            "Epoch 4/100\n",
            "125/125 [==============================] - 0s 2ms/step - loss: 0.4734 - accuracy: 0.7950 - val_loss: 0.4544 - val_accuracy: 0.7950\n",
            "Epoch 5/100\n",
            "125/125 [==============================] - 0s 2ms/step - loss: 0.4612 - accuracy: 0.7971 - val_loss: 0.4476 - val_accuracy: 0.7935\n",
            "Epoch 6/100\n",
            "125/125 [==============================] - 0s 2ms/step - loss: 0.4547 - accuracy: 0.7977 - val_loss: 0.4420 - val_accuracy: 0.7940\n",
            "Epoch 7/100\n",
            "125/125 [==============================] - 0s 2ms/step - loss: 0.4546 - accuracy: 0.7975 - val_loss: 0.4377 - val_accuracy: 0.7985\n",
            "Epoch 8/100\n",
            "125/125 [==============================] - 0s 2ms/step - loss: 0.4461 - accuracy: 0.7989 - val_loss: 0.4339 - val_accuracy: 0.7995\n",
            "Epoch 9/100\n",
            "125/125 [==============================] - 0s 2ms/step - loss: 0.4445 - accuracy: 0.8004 - val_loss: 0.4304 - val_accuracy: 0.8025\n",
            "Epoch 10/100\n",
            "125/125 [==============================] - 0s 2ms/step - loss: 0.4397 - accuracy: 0.8041 - val_loss: 0.4275 - val_accuracy: 0.8025\n",
            "Epoch 11/100\n",
            "125/125 [==============================] - 0s 2ms/step - loss: 0.4375 - accuracy: 0.8059 - val_loss: 0.4251 - val_accuracy: 0.8030\n",
            "Epoch 12/100\n",
            "125/125 [==============================] - 0s 2ms/step - loss: 0.4341 - accuracy: 0.8064 - val_loss: 0.4235 - val_accuracy: 0.8075\n",
            "Epoch 13/100\n",
            "125/125 [==============================] - 0s 2ms/step - loss: 0.4336 - accuracy: 0.8049 - val_loss: 0.4217 - val_accuracy: 0.8085\n",
            "Epoch 14/100\n",
            "125/125 [==============================] - 0s 2ms/step - loss: 0.4326 - accuracy: 0.8077 - val_loss: 0.4199 - val_accuracy: 0.8080\n",
            "Epoch 15/100\n",
            "125/125 [==============================] - 0s 2ms/step - loss: 0.4333 - accuracy: 0.8066 - val_loss: 0.4177 - val_accuracy: 0.8100\n",
            "Epoch 16/100\n",
            "125/125 [==============================] - 0s 2ms/step - loss: 0.4318 - accuracy: 0.8094 - val_loss: 0.4164 - val_accuracy: 0.8105\n",
            "Epoch 17/100\n",
            "125/125 [==============================] - 0s 2ms/step - loss: 0.4271 - accuracy: 0.8119 - val_loss: 0.4142 - val_accuracy: 0.8125\n",
            "Epoch 18/100\n",
            "125/125 [==============================] - 0s 2ms/step - loss: 0.4261 - accuracy: 0.8101 - val_loss: 0.4122 - val_accuracy: 0.8170\n",
            "Epoch 19/100\n",
            "125/125 [==============================] - 0s 2ms/step - loss: 0.4274 - accuracy: 0.8115 - val_loss: 0.4095 - val_accuracy: 0.8190\n",
            "Epoch 20/100\n",
            "125/125 [==============================] - 0s 2ms/step - loss: 0.4225 - accuracy: 0.8110 - val_loss: 0.4059 - val_accuracy: 0.8225\n",
            "Epoch 21/100\n",
            "125/125 [==============================] - 0s 2ms/step - loss: 0.4194 - accuracy: 0.8158 - val_loss: 0.4018 - val_accuracy: 0.8280\n",
            "Epoch 22/100\n",
            "125/125 [==============================] - 0s 2ms/step - loss: 0.4179 - accuracy: 0.8180 - val_loss: 0.3983 - val_accuracy: 0.8315\n",
            "Epoch 23/100\n",
            "125/125 [==============================] - 0s 2ms/step - loss: 0.4105 - accuracy: 0.8181 - val_loss: 0.3927 - val_accuracy: 0.8345\n",
            "Epoch 24/100\n",
            "125/125 [==============================] - 0s 2ms/step - loss: 0.4089 - accuracy: 0.8211 - val_loss: 0.3868 - val_accuracy: 0.8380\n",
            "Epoch 25/100\n",
            "125/125 [==============================] - 0s 2ms/step - loss: 0.4053 - accuracy: 0.8244 - val_loss: 0.3816 - val_accuracy: 0.8400\n",
            "Epoch 26/100\n",
            "125/125 [==============================] - 0s 2ms/step - loss: 0.4025 - accuracy: 0.8254 - val_loss: 0.3763 - val_accuracy: 0.8455\n",
            "Epoch 27/100\n",
            "125/125 [==============================] - 0s 2ms/step - loss: 0.3966 - accuracy: 0.8309 - val_loss: 0.3717 - val_accuracy: 0.8485\n",
            "Epoch 28/100\n",
            "125/125 [==============================] - 0s 2ms/step - loss: 0.3983 - accuracy: 0.8357 - val_loss: 0.3687 - val_accuracy: 0.8530\n",
            "Epoch 29/100\n",
            "125/125 [==============================] - 0s 2ms/step - loss: 0.3855 - accuracy: 0.8385 - val_loss: 0.3640 - val_accuracy: 0.8540\n",
            "Epoch 30/100\n",
            "125/125 [==============================] - 0s 2ms/step - loss: 0.3942 - accuracy: 0.8356 - val_loss: 0.3618 - val_accuracy: 0.8560\n",
            "Epoch 31/100\n",
            "125/125 [==============================] - 0s 2ms/step - loss: 0.3854 - accuracy: 0.8410 - val_loss: 0.3593 - val_accuracy: 0.8575\n",
            "Epoch 32/100\n",
            "125/125 [==============================] - 0s 2ms/step - loss: 0.3899 - accuracy: 0.8375 - val_loss: 0.3582 - val_accuracy: 0.8610\n",
            "Epoch 33/100\n",
            "125/125 [==============================] - 0s 2ms/step - loss: 0.3890 - accuracy: 0.8388 - val_loss: 0.3567 - val_accuracy: 0.8630\n",
            "Epoch 34/100\n",
            "125/125 [==============================] - 0s 2ms/step - loss: 0.3860 - accuracy: 0.8391 - val_loss: 0.3561 - val_accuracy: 0.8650\n",
            "Epoch 35/100\n",
            "125/125 [==============================] - 0s 2ms/step - loss: 0.3840 - accuracy: 0.8369 - val_loss: 0.3553 - val_accuracy: 0.8670\n",
            "Epoch 36/100\n",
            "125/125 [==============================] - 0s 2ms/step - loss: 0.3861 - accuracy: 0.8418 - val_loss: 0.3535 - val_accuracy: 0.8665\n",
            "Epoch 37/100\n",
            "125/125 [==============================] - 0s 2ms/step - loss: 0.3832 - accuracy: 0.8407 - val_loss: 0.3531 - val_accuracy: 0.8665\n",
            "Epoch 38/100\n",
            "125/125 [==============================] - 0s 2ms/step - loss: 0.3815 - accuracy: 0.8416 - val_loss: 0.3522 - val_accuracy: 0.8660\n",
            "Epoch 39/100\n",
            "125/125 [==============================] - 0s 2ms/step - loss: 0.3848 - accuracy: 0.8418 - val_loss: 0.3516 - val_accuracy: 0.8650\n",
            "Epoch 40/100\n",
            "125/125 [==============================] - 0s 2ms/step - loss: 0.3762 - accuracy: 0.8407 - val_loss: 0.3504 - val_accuracy: 0.8645\n",
            "Epoch 41/100\n",
            "125/125 [==============================] - 0s 2ms/step - loss: 0.3766 - accuracy: 0.8444 - val_loss: 0.3502 - val_accuracy: 0.8630\n",
            "Epoch 42/100\n",
            "125/125 [==============================] - 0s 2ms/step - loss: 0.3761 - accuracy: 0.8421 - val_loss: 0.3496 - val_accuracy: 0.8610\n",
            "Epoch 43/100\n",
            "125/125 [==============================] - 0s 2ms/step - loss: 0.3794 - accuracy: 0.8407 - val_loss: 0.3489 - val_accuracy: 0.8645\n",
            "Epoch 44/100\n",
            "125/125 [==============================] - 0s 2ms/step - loss: 0.3763 - accuracy: 0.8441 - val_loss: 0.3480 - val_accuracy: 0.8630\n",
            "Epoch 45/100\n",
            "125/125 [==============================] - 0s 2ms/step - loss: 0.3757 - accuracy: 0.8436 - val_loss: 0.3483 - val_accuracy: 0.8625\n",
            "Epoch 46/100\n",
            "125/125 [==============================] - 0s 2ms/step - loss: 0.3808 - accuracy: 0.8400 - val_loss: 0.3488 - val_accuracy: 0.8635\n",
            "Epoch 47/100\n",
            "125/125 [==============================] - 0s 2ms/step - loss: 0.3784 - accuracy: 0.8436 - val_loss: 0.3480 - val_accuracy: 0.8635\n",
            "Epoch 48/100\n",
            "125/125 [==============================] - 0s 2ms/step - loss: 0.3784 - accuracy: 0.8446 - val_loss: 0.3480 - val_accuracy: 0.8630\n",
            "Epoch 49/100\n",
            "125/125 [==============================] - 0s 2ms/step - loss: 0.3756 - accuracy: 0.8435 - val_loss: 0.3479 - val_accuracy: 0.8630\n",
            "Epoch 50/100\n",
            "125/125 [==============================] - 0s 2ms/step - loss: 0.3714 - accuracy: 0.8444 - val_loss: 0.3472 - val_accuracy: 0.8620\n",
            "Epoch 51/100\n",
            "125/125 [==============================] - 0s 2ms/step - loss: 0.3693 - accuracy: 0.8459 - val_loss: 0.3461 - val_accuracy: 0.8625\n",
            "Epoch 52/100\n",
            "125/125 [==============================] - 0s 2ms/step - loss: 0.3771 - accuracy: 0.8430 - val_loss: 0.3464 - val_accuracy: 0.8605\n",
            "Epoch 53/100\n",
            "125/125 [==============================] - 0s 2ms/step - loss: 0.3728 - accuracy: 0.8444 - val_loss: 0.3459 - val_accuracy: 0.8605\n",
            "Epoch 54/100\n",
            "125/125 [==============================] - 0s 2ms/step - loss: 0.3770 - accuracy: 0.8464 - val_loss: 0.3472 - val_accuracy: 0.8620\n",
            "Epoch 55/100\n",
            "125/125 [==============================] - 0s 2ms/step - loss: 0.3770 - accuracy: 0.8400 - val_loss: 0.3493 - val_accuracy: 0.8610\n",
            "Epoch 56/100\n",
            "125/125 [==============================] - 0s 2ms/step - loss: 0.3725 - accuracy: 0.8462 - val_loss: 0.3469 - val_accuracy: 0.8620\n",
            "Epoch 57/100\n",
            "125/125 [==============================] - 0s 2ms/step - loss: 0.3803 - accuracy: 0.8409 - val_loss: 0.3473 - val_accuracy: 0.8620\n",
            "Epoch 58/100\n",
            "125/125 [==============================] - 0s 2ms/step - loss: 0.3737 - accuracy: 0.8447 - val_loss: 0.3462 - val_accuracy: 0.8625\n",
            "Epoch 59/100\n",
            "125/125 [==============================] - 0s 2ms/step - loss: 0.3714 - accuracy: 0.8456 - val_loss: 0.3472 - val_accuracy: 0.8630\n",
            "Epoch 60/100\n",
            "125/125 [==============================] - 0s 2ms/step - loss: 0.3714 - accuracy: 0.8431 - val_loss: 0.3474 - val_accuracy: 0.8585\n",
            "Epoch 61/100\n",
            "125/125 [==============================] - 0s 2ms/step - loss: 0.3676 - accuracy: 0.8470 - val_loss: 0.3462 - val_accuracy: 0.8620\n",
            "Epoch 62/100\n",
            "125/125 [==============================] - 0s 2ms/step - loss: 0.3737 - accuracy: 0.8469 - val_loss: 0.3458 - val_accuracy: 0.8625\n",
            "Epoch 63/100\n",
            "125/125 [==============================] - 0s 2ms/step - loss: 0.3751 - accuracy: 0.8484 - val_loss: 0.3468 - val_accuracy: 0.8635\n",
            "Epoch 64/100\n",
            "125/125 [==============================] - 0s 2ms/step - loss: 0.3705 - accuracy: 0.8479 - val_loss: 0.3457 - val_accuracy: 0.8630\n",
            "Epoch 65/100\n",
            "125/125 [==============================] - 0s 2ms/step - loss: 0.3725 - accuracy: 0.8464 - val_loss: 0.3459 - val_accuracy: 0.8635\n",
            "Epoch 66/100\n",
            "125/125 [==============================] - 0s 2ms/step - loss: 0.3744 - accuracy: 0.8429 - val_loss: 0.3461 - val_accuracy: 0.8615\n",
            "Epoch 67/100\n",
            "125/125 [==============================] - 0s 2ms/step - loss: 0.3710 - accuracy: 0.8453 - val_loss: 0.3460 - val_accuracy: 0.8630\n",
            "Epoch 68/100\n",
            "125/125 [==============================] - 0s 2ms/step - loss: 0.3698 - accuracy: 0.8490 - val_loss: 0.3458 - val_accuracy: 0.8600\n",
            "Epoch 69/100\n",
            "125/125 [==============================] - 0s 2ms/step - loss: 0.3750 - accuracy: 0.8450 - val_loss: 0.3466 - val_accuracy: 0.8595\n",
            "Epoch 70/100\n",
            "125/125 [==============================] - 0s 2ms/step - loss: 0.3708 - accuracy: 0.8456 - val_loss: 0.3456 - val_accuracy: 0.8610\n",
            "Epoch 71/100\n",
            "125/125 [==============================] - 0s 2ms/step - loss: 0.3716 - accuracy: 0.8457 - val_loss: 0.3452 - val_accuracy: 0.8605\n",
            "Epoch 72/100\n",
            "125/125 [==============================] - 0s 2ms/step - loss: 0.3709 - accuracy: 0.8454 - val_loss: 0.3456 - val_accuracy: 0.8615\n",
            "Epoch 73/100\n",
            "125/125 [==============================] - 0s 2ms/step - loss: 0.3742 - accuracy: 0.8447 - val_loss: 0.3464 - val_accuracy: 0.8610\n",
            "Epoch 74/100\n",
            "125/125 [==============================] - 0s 2ms/step - loss: 0.3692 - accuracy: 0.8432 - val_loss: 0.3449 - val_accuracy: 0.8615\n",
            "Epoch 75/100\n",
            "125/125 [==============================] - 0s 2ms/step - loss: 0.3655 - accuracy: 0.8462 - val_loss: 0.3456 - val_accuracy: 0.8605\n",
            "Epoch 76/100\n",
            "125/125 [==============================] - 0s 2ms/step - loss: 0.3747 - accuracy: 0.8429 - val_loss: 0.3448 - val_accuracy: 0.8585\n",
            "Epoch 77/100\n",
            "125/125 [==============================] - 0s 2ms/step - loss: 0.3756 - accuracy: 0.8446 - val_loss: 0.3454 - val_accuracy: 0.8595\n",
            "Epoch 78/100\n",
            "125/125 [==============================] - 0s 2ms/step - loss: 0.3719 - accuracy: 0.8444 - val_loss: 0.3460 - val_accuracy: 0.8595\n",
            "Epoch 79/100\n",
            "125/125 [==============================] - 0s 2ms/step - loss: 0.3682 - accuracy: 0.8466 - val_loss: 0.3449 - val_accuracy: 0.8590\n",
            "Epoch 80/100\n",
            "125/125 [==============================] - 0s 2ms/step - loss: 0.3657 - accuracy: 0.8457 - val_loss: 0.3446 - val_accuracy: 0.8590\n",
            "Epoch 81/100\n",
            "125/125 [==============================] - 0s 2ms/step - loss: 0.3732 - accuracy: 0.8435 - val_loss: 0.3459 - val_accuracy: 0.8585\n",
            "Epoch 82/100\n",
            "125/125 [==============================] - 0s 2ms/step - loss: 0.3750 - accuracy: 0.8436 - val_loss: 0.3481 - val_accuracy: 0.8600\n",
            "Epoch 83/100\n",
            "125/125 [==============================] - 0s 2ms/step - loss: 0.3656 - accuracy: 0.8469 - val_loss: 0.3445 - val_accuracy: 0.8590\n",
            "Epoch 84/100\n",
            "125/125 [==============================] - 0s 2ms/step - loss: 0.3687 - accuracy: 0.8462 - val_loss: 0.3449 - val_accuracy: 0.8610\n",
            "Epoch 85/100\n",
            "125/125 [==============================] - 0s 2ms/step - loss: 0.3664 - accuracy: 0.8468 - val_loss: 0.3442 - val_accuracy: 0.8620\n",
            "Epoch 86/100\n",
            "125/125 [==============================] - 0s 2ms/step - loss: 0.3716 - accuracy: 0.8445 - val_loss: 0.3458 - val_accuracy: 0.8610\n",
            "Epoch 87/100\n",
            "125/125 [==============================] - 0s 2ms/step - loss: 0.3677 - accuracy: 0.8466 - val_loss: 0.3442 - val_accuracy: 0.8625\n",
            "Epoch 88/100\n",
            "125/125 [==============================] - 0s 2ms/step - loss: 0.3680 - accuracy: 0.8462 - val_loss: 0.3436 - val_accuracy: 0.8610\n",
            "Epoch 89/100\n",
            "125/125 [==============================] - 0s 2ms/step - loss: 0.3698 - accuracy: 0.8470 - val_loss: 0.3440 - val_accuracy: 0.8620\n",
            "Epoch 90/100\n",
            "125/125 [==============================] - 0s 2ms/step - loss: 0.3661 - accuracy: 0.8472 - val_loss: 0.3437 - val_accuracy: 0.8615\n",
            "Epoch 91/100\n",
            "125/125 [==============================] - 0s 2ms/step - loss: 0.3728 - accuracy: 0.8428 - val_loss: 0.3438 - val_accuracy: 0.8630\n",
            "Epoch 92/100\n",
            "125/125 [==============================] - 0s 2ms/step - loss: 0.3718 - accuracy: 0.8438 - val_loss: 0.3442 - val_accuracy: 0.8630\n",
            "Epoch 93/100\n",
            "125/125 [==============================] - 0s 2ms/step - loss: 0.3715 - accuracy: 0.8443 - val_loss: 0.3444 - val_accuracy: 0.8625\n",
            "Epoch 94/100\n",
            "125/125 [==============================] - 0s 2ms/step - loss: 0.3720 - accuracy: 0.8457 - val_loss: 0.3432 - val_accuracy: 0.8650\n",
            "Epoch 95/100\n",
            "125/125 [==============================] - 0s 2ms/step - loss: 0.3732 - accuracy: 0.8462 - val_loss: 0.3459 - val_accuracy: 0.8645\n",
            "Epoch 96/100\n",
            "125/125 [==============================] - 0s 2ms/step - loss: 0.3700 - accuracy: 0.8435 - val_loss: 0.3441 - val_accuracy: 0.8660\n",
            "Epoch 97/100\n",
            "125/125 [==============================] - 0s 2ms/step - loss: 0.3699 - accuracy: 0.8441 - val_loss: 0.3425 - val_accuracy: 0.8660\n",
            "Epoch 98/100\n",
            "125/125 [==============================] - 0s 2ms/step - loss: 0.3687 - accuracy: 0.8449 - val_loss: 0.3439 - val_accuracy: 0.8630\n",
            "Epoch 99/100\n",
            "125/125 [==============================] - 0s 2ms/step - loss: 0.3706 - accuracy: 0.8459 - val_loss: 0.3452 - val_accuracy: 0.8620\n",
            "Epoch 100/100\n",
            "125/125 [==============================] - 0s 2ms/step - loss: 0.3696 - accuracy: 0.8420 - val_loss: 0.3441 - val_accuracy: 0.8630\n"
          ]
        }
      ]
    },
    {
      "cell_type": "code",
      "metadata": {
        "colab": {
          "base_uri": "https://localhost:8080/",
          "height": 295
        },
        "id": "QfKjYo3w7ZFJ",
        "outputId": "6169ed35-15ea-493d-c34b-5864813301dd"
      },
      "source": [
        "plt.figure()\n",
        "plt.plot(history.history['loss'])\n",
        "plt.plot(history.history['accuracy'])\n",
        "plt.title('Loss & Accuracy')\n",
        "plt.ylabel('Values')\n",
        "plt.xlabel('Epoch')\n",
        "plt.legend(['Loss', 'Acc'])\n",
        "plt.show()"
      ],
      "execution_count": 40,
      "outputs": [
        {
          "output_type": "display_data",
          "data": {
            "image/png": "[encoded data removed]",
            "text/plain": [
              "<Figure size 432x288 with 1 Axes>"
            ]
          },
          "metadata": {
            "needs_background": "light"
          }
        }
      ]
    },
    {
      "cell_type": "code",
      "metadata": {
        "colab": {
          "base_uri": "https://localhost:8080/",
          "height": 295
        },
        "id": "AT64Lv697erF",
        "outputId": "ab2a0058-9e76-46b8-954b-ffb7c9a7917b"
      },
      "source": [
        "plt.figure()\n",
        "plt.plot(history.history['val_loss'])\n",
        "plt.plot(history.history['val_accuracy'])\n",
        "plt.title('val Loss & val Accuracy')\n",
        "plt.ylabel('Values')\n",
        "plt.xlabel('Epoch')\n",
        "plt.legend(['val Loss', 'val Acc'])\n",
        "plt.show()"
      ],
      "execution_count": 41,
      "outputs": [
        {
          "output_type": "display_data",
          "data": {
            "image/png": "[encoded data removed]",
            "text/plain": [
              "<Figure size 432x288 with 1 Axes>"
            ]
          },
          "metadata": {
            "needs_background": "light"
          }
        }
      ]
    },
    {
      "cell_type": "code",
      "metadata": {
        "colab": {
          "base_uri": "https://localhost:8080/",
          "height": 295
        },
        "id": "cBrwgtQw7geu",
        "outputId": "cf32bbc1-70f4-4fc0-ab3f-009323bab809"
      },
      "source": [
        "# so sanh acc giua train vs test: overfitting? underfitting? => No\n",
        "plt.figure()\n",
        "plt.plot(history.history['accuracy'])\n",
        "plt.plot(history.history['val_accuracy'])\n",
        "plt.title('Model accuracy')\n",
        "plt.ylabel('Accuracy')\n",
        "plt.xlabel('Epoch')\n",
        "plt.legend(['Train', 'Test'])\n",
        "plt.show()"
      ],
      "execution_count": 42,
      "outputs": [
        {
          "output_type": "display_data",
          "data": {
            "image/png": "[encoded data removed]",
            "text/plain": [
              "<Figure size 432x288 with 1 Axes>"
            ]
          },
          "metadata": {
            "needs_background": "light"
          }
        }
      ]
    },
    {
      "cell_type": "code",
      "metadata": {
        "id": "4q_X34Bb7iuc"
      },
      "source": [
        "# Part 3: Making a predictions and evaluating the models\n",
        "# Predicting the Test set results\n",
        "y_pred = classifier.predict(X_test)"
      ],
      "execution_count": 43,
      "outputs": []
    },
    {
      "cell_type": "markdown",
      "metadata": {
        "id": "ovdxo_XD7l5K"
      },
      "source": [
        "##Đánh giá model và dự đoán dữ liệu mới"
      ]
    },
    {
      "cell_type": "code",
      "metadata": {
        "colab": {
          "base_uri": "https://localhost:8080/"
        },
        "id": "FtM8kvpt7kgv",
        "outputId": "356f0177-bc84-4fe6-a1a9-1918b1e0bfe2"
      },
      "source": [
        "y_pred[:5]"
      ],
      "execution_count": 44,
      "outputs": [
        {
          "output_type": "execute_result",
          "data": {
            "text/plain": [
              "array([[0.26352552],\n",
              "       [0.34122443],\n",
              "       [0.1810363 ],\n",
              "       [0.09566706],\n",
              "       [0.09164429]], dtype=float32)"
            ]
          },
          "metadata": {},
          "execution_count": 44
        }
      ]
    },
    {
      "cell_type": "code",
      "metadata": {
        "colab": {
          "base_uri": "https://localhost:8080/"
        },
        "id": "mvhkL68E7nxR",
        "outputId": "5927063b-90e2-497b-d1ec-1b6de0d1d624"
      },
      "source": [
        "# trên 0.5 => 1, ngược lại => 0\n",
        "y_pred = y_pred >= 0.5\n",
        "y_pred"
      ],
      "execution_count": 45,
      "outputs": [
        {
          "output_type": "execute_result",
          "data": {
            "text/plain": [
              "array([[False],\n",
              "       [False],\n",
              "       [False],\n",
              "       ...,\n",
              "       [False],\n",
              "       [False],\n",
              "       [False]])"
            ]
          },
          "metadata": {},
          "execution_count": 45
        }
      ]
    },
    {
      "cell_type": "code",
      "metadata": {
        "colab": {
          "base_uri": "https://localhost:8080/"
        },
        "id": "Df3KBnPi7qQq",
        "outputId": "7d431de5-3c97-4bfc-b046-270ba1355d95"
      },
      "source": [
        "# Making the Confusion Matrix\n",
        "from sklearn.metrics import confusion_matrix\n",
        "cm = confusion_matrix(y_test, y_pred)\n",
        "cm"
      ],
      "execution_count": 46,
      "outputs": [
        {
          "output_type": "execute_result",
          "data": {
            "text/plain": [
              "array([[1532,   63],\n",
              "       [ 211,  194]])"
            ]
          },
          "metadata": {},
          "execution_count": 46
        }
      ]
    },
    {
      "cell_type": "code",
      "metadata": {
        "colab": {
          "base_uri": "https://localhost:8080/"
        },
        "id": "EXSA3nGG7r_-",
        "outputId": "57a024f5-93d0-4a9f-ddec-e15b959d4a06"
      },
      "source": [
        "acc = (cm[0][0] + cm[1][1])/ (cm[0][0] + cm[1][1] + cm[0][1] + cm[1][0])\n",
        "acc"
      ],
      "execution_count": 47,
      "outputs": [
        {
          "output_type": "execute_result",
          "data": {
            "text/plain": [
              "0.863"
            ]
          },
          "metadata": {},
          "execution_count": 47
        }
      ]
    },
    {
      "cell_type": "code",
      "metadata": {
        "colab": {
          "base_uri": "https://localhost:8080/"
        },
        "id": "NLDa31ci7uLD",
        "outputId": "04f57061-5446-4055-e029-bf88241aee27"
      },
      "source": [
        "#Evaluation\n",
        "print(\"Accuracy:\", classifier.evaluate(X_test, y_test))"
      ],
      "execution_count": 49,
      "outputs": [
        {
          "output_type": "stream",
          "name": "stdout",
          "text": [
            "63/63 [==============================] - 0s 1ms/step - loss: 0.3441 - accuracy: 0.8630\n",
            "Accuracy: [0.3440905809402466, 0.8629999756813049]\n"
          ]
        }
      ]
    },
    {
      "cell_type": "code",
      "metadata": {
        "id": "oyAkHBeK7wW0"
      },
      "source": [
        "#Save the result\n",
        "from tensorflow.keras.models import load_model\n",
        "# Creates a HDF5 file 'my_model.h5'\n",
        "classifier.save('ANN_model.h5')"
      ],
      "execution_count": 50,
      "outputs": []
    },
    {
      "cell_type": "markdown",
      "metadata": {
        "id": "nGRyBhe072RG"
      },
      "source": [
        "Use our ANN model to predict if the customer with the following informations will leave the\n",
        "bank:\n",
        "* Geography: France\n",
        "* Credit Score: 600\n",
        "* Gender: Male\n",
        "* Age: 40 years old\n",
        "* Tenure: 3 years\n",
        "* Balance: 60000\n",
        "* Number of Products: 2\n",
        "* Does this customer have a credit card ? Yes\n",
        "* Is this customer an Active Member: Yes\n",
        "* Estimated Salary: 50000\n",
        "* So should we say goodbye to that customer ?"
      ]
    },
    {
      "cell_type": "code",
      "metadata": {
        "colab": {
          "base_uri": "https://localhost:8080/"
        },
        "id": "BKY1WaeG70IR",
        "outputId": "6b07506a-08e5-4e56-864f-4c256fa49175"
      },
      "source": [
        "new_pred = classifier.predict(sc.transform(np.array([[0, 0, 600, 1, 40, 3, 60000, 2, 1, 1, 50000]])))\n",
        "new_pred = new_pred > 0.5\n",
        "new_pred"
      ],
      "execution_count": 51,
      "outputs": [
        {
          "output_type": "execute_result",
          "data": {
            "text/plain": [
              "array([[False]])"
            ]
          },
          "metadata": {},
          "execution_count": 51
        }
      ]
    },
    {
      "cell_type": "markdown",
      "metadata": {
        "id": "5nZ1ORBk8CEv"
      },
      "source": [
        "**the customer doesn't leave the bank**"
      ]
    },
    {
      "cell_type": "code",
      "metadata": {
        "id": "IH7G-sEn8C9E"
      },
      "source": [
        ""
      ],
      "execution_count": null,
      "outputs": []
    }
  ]
}