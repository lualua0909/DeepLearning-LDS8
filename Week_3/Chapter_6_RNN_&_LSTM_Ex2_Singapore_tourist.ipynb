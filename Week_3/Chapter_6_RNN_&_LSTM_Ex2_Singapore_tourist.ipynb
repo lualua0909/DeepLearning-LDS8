{
  "nbformat": 4,
  "nbformat_minor": 0,
  "metadata": {
    "colab": {
      "name": "Chapter 6: RNN & LSTM Ex2: Singapore tourist.ipynb",
      "provenance": [],
      "authorship_tag": "ABX9TyO7IPh1LE2so16RPcxMZk+d",
      "include_colab_link": true
    },
    "kernelspec": {
      "name": "python3",
      "display_name": "Python 3"
    },
    "language_info": {
      "name": "python"
    },
    "accelerator": "GPU"
  },
  "cells": [
    {
      "cell_type": "markdown",
      "metadata": {
        "id": "view-in-github",
        "colab_type": "text"
      },
      "source": [
        "<a href=\"https://colab.research.google.com/github/lualua0909/DeepLearning-LDS8/blob/main/Week_3/Chapter_6_RNN_%26_LSTM_Ex2_Singapore_tourist.ipynb\" target=\"_parent\"><img src=\"https://colab.research.google.com/assets/colab-badge.svg\" alt=\"Open In Colab\"/></a>"
      ]
    },
    {
      "cell_type": "markdown",
      "metadata": {
        "id": "tyE4557p_zcm"
      },
      "source": [
        "* Cho dữ liệu singapore_tourist.csv.\n",
        "* Xây dựng model để dự đoán values cho thời gian tiếp theo\n",
        "* Giải thích cách tính tham số từ summary của model"
      ]
    },
    {
      "cell_type": "code",
      "metadata": {
        "id": "B5UYSwkS_weJ"
      },
      "source": [
        "# LSTM for international airline passengers problem with regression framing\n",
        "import numpy\n",
        "import matplotlib.pyplot as plt\n",
        "import math\n",
        "import pandas as pd\n",
        "from tensorflow.keras import Sequential\n",
        "from tensorflow.keras.layers import Dense\n",
        "from tensorflow.keras.layers import LSTM\n",
        "from sklearn.preprocessing import MinMaxScaler\n",
        "from sklearn.metrics import mean_squared_error"
      ],
      "execution_count": 32,
      "outputs": []
    },
    {
      "cell_type": "code",
      "metadata": {
        "id": "mOFc-aVM_5of"
      },
      "source": [
        "# convert an array of values into a dataset matrix\n",
        "def create_dataset(dataset, look_back=1):\n",
        "  dataX, dataY = [], []\n",
        "  for i in range(len(dataset)-look_back-1):\n",
        "    a = dataset[i:(i+look_back), 0]\n",
        "    dataX.append(a)\n",
        "    dataY.append(dataset[i + look_back, 0])\n",
        "  return numpy.array(dataX), numpy.array(dataY)\n",
        "\n",
        "# fix random seed for reproducibility\n",
        "numpy.random.seed(7)"
      ],
      "execution_count": 33,
      "outputs": []
    },
    {
      "cell_type": "code",
      "metadata": {
        "colab": {
          "base_uri": "https://localhost:8080/"
        },
        "id": "Dc8rycSnAG4q",
        "outputId": "179c7a85-f6a2-4280-a545-4d913b6213d5"
      },
      "source": [
        "# load the dataset\n",
        "dataframe = pd.read_csv('https://raw.githubusercontent.com/lualua0909/DeepLearning-LDS8/main/Data/singapore_tourist.csv', usecols=[1], engine='python')\n",
        "dataframe.info()"
      ],
      "execution_count": 34,
      "outputs": [
        {
          "output_type": "stream",
          "name": "stdout",
          "text": [
            "<class 'pandas.core.frame.DataFrame'>\n",
            "RangeIndex: 97 entries, 0 to 96\n",
            "Data columns (total 1 columns):\n",
            " #   Column  Non-Null Count  Dtype\n",
            "---  ------  --------------  -----\n",
            " 0   values  97 non-null     int64\n",
            "dtypes: int64(1)\n",
            "memory usage: 904.0 bytes\n"
          ]
        }
      ]
    },
    {
      "cell_type": "code",
      "metadata": {
        "colab": {
          "base_uri": "https://localhost:8080/"
        },
        "id": "z40OoQN6ALiQ",
        "outputId": "79d1cceb-1b94-4d85-cb89-f567c468c34e"
      },
      "source": [
        "dataset = dataframe.values\n",
        "dataset = dataset.astype('float32')\n",
        "dataset[:10]"
      ],
      "execution_count": 35,
      "outputs": [
        {
          "output_type": "execute_result",
          "data": {
            "text/plain": [
              "array([[22.],\n",
              "       [21.],\n",
              "       [24.],\n",
              "       [22.],\n",
              "       [35.],\n",
              "       [34.],\n",
              "       [35.],\n",
              "       [51.],\n",
              "       [49.],\n",
              "       [53.]], dtype=float32)"
            ]
          },
          "metadata": {},
          "execution_count": 35
        }
      ]
    },
    {
      "cell_type": "code",
      "metadata": {
        "id": "ZLBGDBzQAOcl"
      },
      "source": [
        "# normalize the dataset\n",
        "scaler = MinMaxScaler(feature_range=(0, 1))\n",
        "dataset = scaler.fit_transform(dataset)"
      ],
      "execution_count": 36,
      "outputs": []
    },
    {
      "cell_type": "code",
      "metadata": {
        "id": "uL4U-5GYARdI"
      },
      "source": [
        "# split into train and test sets\n",
        "train_size = int(len(dataset) * 0.67)\n",
        "test_size = len(dataset) - train_size\n",
        "train, test = dataset[0:train_size,:], dataset[train_size:len(dataset),:]"
      ],
      "execution_count": 37,
      "outputs": []
    },
    {
      "cell_type": "code",
      "metadata": {
        "id": "tiPxi7u-ATLq"
      },
      "source": [
        "# reshape into X=t and Y=t+1\n",
        "look_back = 1\n",
        "trainX, trainY = create_dataset(train, look_back)\n",
        "testX, testY = create_dataset(test, look_back)"
      ],
      "execution_count": 38,
      "outputs": []
    },
    {
      "cell_type": "code",
      "metadata": {
        "id": "kxP4s4VXAuRX"
      },
      "source": [
        "# reshape input to be [samples, time steps, features]\n",
        "trainX = numpy.reshape(trainX, (trainX.shape[0], 1, trainX.shape[1]))\n",
        "testX = numpy.reshape(testX, (testX.shape[0], 1, testX.shape[1]))"
      ],
      "execution_count": 39,
      "outputs": []
    },
    {
      "cell_type": "code",
      "metadata": {
        "colab": {
          "base_uri": "https://localhost:8080/"
        },
        "id": "qMKtcaLtAvyn",
        "outputId": "59009985-f07e-40c8-817a-36b76a76c9a3"
      },
      "source": [
        "# create and fit the LSTM network\n",
        "model = Sequential()\n",
        "model.add(LSTM(4, input_shape=(1, look_back))) # somtimes: bigger output shape (e\n",
        "model.add(Dense(1))\n",
        "\n",
        "model.summary()"
      ],
      "execution_count": 40,
      "outputs": [
        {
          "output_type": "stream",
          "name": "stdout",
          "text": [
            "Model: \"sequential_2\"\n",
            "_________________________________________________________________\n",
            "Layer (type)                 Output Shape              Param #   \n",
            "=================================================================\n",
            "lstm_2 (LSTM)                (None, 4)                 96        \n",
            "_________________________________________________________________\n",
            "dense_2 (Dense)              (None, 1)                 5         \n",
            "=================================================================\n",
            "Total params: 101\n",
            "Trainable params: 101\n",
            "Non-trainable params: 0\n",
            "_________________________________________________________________\n"
          ]
        }
      ]
    },
    {
      "cell_type": "markdown",
      "metadata": {
        "id": "LlQf1qt4A0wz"
      },
      "source": [
        "**Giải thích cách tính tham số**\n",
        "* lstm_1 (LSTM) = [(num_units + input_dim + 1) x num_units] x 4 = [(4 + 1 + 1) x 4] x 4 = 96\n",
        "* dense_1 = ((current layer n x previous layer n) + bias) = 1 x 4 + 1 = 5"
      ]
    },
    {
      "cell_type": "code",
      "metadata": {
        "colab": {
          "base_uri": "https://localhost:8080/"
        },
        "id": "dVcqn9NnBYvm",
        "outputId": "91d6d319-d23c-4804-f912-a288bed714e0"
      },
      "source": [
        "model.compile(loss='mean_squared_error', optimizer='adam')\n",
        "model.fit(trainX, trainY, epochs=100, batch_size=1, verbose=1)"
      ],
      "execution_count": 41,
      "outputs": [
        {
          "output_type": "stream",
          "name": "stdout",
          "text": [
            "Epoch 1/100\n",
            "62/62 [==============================] - 2s 3ms/step - loss: 0.2241\n",
            "Epoch 2/100\n",
            "62/62 [==============================] - 0s 3ms/step - loss: 0.1497\n",
            "Epoch 3/100\n",
            "62/62 [==============================] - 0s 3ms/step - loss: 0.1039\n",
            "Epoch 4/100\n",
            "62/62 [==============================] - 0s 3ms/step - loss: 0.0752\n",
            "Epoch 5/100\n",
            "62/62 [==============================] - 0s 3ms/step - loss: 0.0583\n",
            "Epoch 6/100\n",
            "62/62 [==============================] - 0s 3ms/step - loss: 0.0494\n",
            "Epoch 7/100\n",
            "62/62 [==============================] - 0s 3ms/step - loss: 0.0450\n",
            "Epoch 8/100\n",
            "62/62 [==============================] - 0s 3ms/step - loss: 0.0427\n",
            "Epoch 9/100\n",
            "62/62 [==============================] - 0s 3ms/step - loss: 0.0408\n",
            "Epoch 10/100\n",
            "62/62 [==============================] - 0s 3ms/step - loss: 0.0395\n",
            "Epoch 11/100\n",
            "62/62 [==============================] - 0s 3ms/step - loss: 0.0386\n",
            "Epoch 12/100\n",
            "62/62 [==============================] - 0s 3ms/step - loss: 0.0376\n",
            "Epoch 13/100\n",
            "62/62 [==============================] - 0s 3ms/step - loss: 0.0362\n",
            "Epoch 14/100\n",
            "62/62 [==============================] - 0s 3ms/step - loss: 0.0355\n",
            "Epoch 15/100\n",
            "62/62 [==============================] - 0s 3ms/step - loss: 0.0342\n",
            "Epoch 16/100\n",
            "62/62 [==============================] - 0s 3ms/step - loss: 0.0334\n",
            "Epoch 17/100\n",
            "62/62 [==============================] - 0s 3ms/step - loss: 0.0321\n",
            "Epoch 18/100\n",
            "62/62 [==============================] - 0s 4ms/step - loss: 0.0313\n",
            "Epoch 19/100\n",
            "62/62 [==============================] - 0s 3ms/step - loss: 0.0306\n",
            "Epoch 20/100\n",
            "62/62 [==============================] - 0s 3ms/step - loss: 0.0296\n",
            "Epoch 21/100\n",
            "62/62 [==============================] - 0s 3ms/step - loss: 0.0287\n",
            "Epoch 22/100\n",
            "62/62 [==============================] - 0s 3ms/step - loss: 0.0279\n",
            "Epoch 23/100\n",
            "62/62 [==============================] - 0s 3ms/step - loss: 0.0271\n",
            "Epoch 24/100\n",
            "62/62 [==============================] - 0s 3ms/step - loss: 0.0264\n",
            "Epoch 25/100\n",
            "62/62 [==============================] - 0s 3ms/step - loss: 0.0263\n",
            "Epoch 26/100\n",
            "62/62 [==============================] - 0s 3ms/step - loss: 0.0253\n",
            "Epoch 27/100\n",
            "62/62 [==============================] - 0s 3ms/step - loss: 0.0247\n",
            "Epoch 28/100\n",
            "62/62 [==============================] - 0s 3ms/step - loss: 0.0241\n",
            "Epoch 29/100\n",
            "62/62 [==============================] - 0s 3ms/step - loss: 0.0234\n",
            "Epoch 30/100\n",
            "62/62 [==============================] - 0s 3ms/step - loss: 0.0229\n",
            "Epoch 31/100\n",
            "62/62 [==============================] - 0s 3ms/step - loss: 0.0225\n",
            "Epoch 32/100\n",
            "62/62 [==============================] - 0s 3ms/step - loss: 0.0219\n",
            "Epoch 33/100\n",
            "62/62 [==============================] - 0s 3ms/step - loss: 0.0221\n",
            "Epoch 34/100\n",
            "62/62 [==============================] - 0s 3ms/step - loss: 0.0213\n",
            "Epoch 35/100\n",
            "62/62 [==============================] - 0s 3ms/step - loss: 0.0209\n",
            "Epoch 36/100\n",
            "62/62 [==============================] - 0s 3ms/step - loss: 0.0208\n",
            "Epoch 37/100\n",
            "62/62 [==============================] - 0s 3ms/step - loss: 0.0203\n",
            "Epoch 38/100\n",
            "62/62 [==============================] - 0s 3ms/step - loss: 0.0201\n",
            "Epoch 39/100\n",
            "62/62 [==============================] - 0s 3ms/step - loss: 0.0199\n",
            "Epoch 40/100\n",
            "62/62 [==============================] - 0s 3ms/step - loss: 0.0196\n",
            "Epoch 41/100\n",
            "62/62 [==============================] - 0s 3ms/step - loss: 0.0195\n",
            "Epoch 42/100\n",
            "62/62 [==============================] - 0s 4ms/step - loss: 0.0195\n",
            "Epoch 43/100\n",
            "62/62 [==============================] - 0s 3ms/step - loss: 0.0192\n",
            "Epoch 44/100\n",
            "62/62 [==============================] - 0s 3ms/step - loss: 0.0190\n",
            "Epoch 45/100\n",
            "62/62 [==============================] - 0s 3ms/step - loss: 0.0190\n",
            "Epoch 46/100\n",
            "62/62 [==============================] - 0s 3ms/step - loss: 0.0188\n",
            "Epoch 47/100\n",
            "62/62 [==============================] - 0s 3ms/step - loss: 0.0189\n",
            "Epoch 48/100\n",
            "62/62 [==============================] - 0s 3ms/step - loss: 0.0187\n",
            "Epoch 49/100\n",
            "62/62 [==============================] - 0s 3ms/step - loss: 0.0188\n",
            "Epoch 50/100\n",
            "62/62 [==============================] - 0s 3ms/step - loss: 0.0188\n",
            "Epoch 51/100\n",
            "62/62 [==============================] - 0s 3ms/step - loss: 0.0185\n",
            "Epoch 52/100\n",
            "62/62 [==============================] - 0s 3ms/step - loss: 0.0185\n",
            "Epoch 53/100\n",
            "62/62 [==============================] - 0s 3ms/step - loss: 0.0186\n",
            "Epoch 54/100\n",
            "62/62 [==============================] - 0s 3ms/step - loss: 0.0184\n",
            "Epoch 55/100\n",
            "62/62 [==============================] - 0s 3ms/step - loss: 0.0188\n",
            "Epoch 56/100\n",
            "62/62 [==============================] - 0s 3ms/step - loss: 0.0186\n",
            "Epoch 57/100\n",
            "62/62 [==============================] - 0s 3ms/step - loss: 0.0185\n",
            "Epoch 58/100\n",
            "62/62 [==============================] - 0s 3ms/step - loss: 0.0184\n",
            "Epoch 59/100\n",
            "62/62 [==============================] - 0s 3ms/step - loss: 0.0186\n",
            "Epoch 60/100\n",
            "62/62 [==============================] - 0s 3ms/step - loss: 0.0184\n",
            "Epoch 61/100\n",
            "62/62 [==============================] - 0s 3ms/step - loss: 0.0185\n",
            "Epoch 62/100\n",
            "62/62 [==============================] - 0s 3ms/step - loss: 0.0183\n",
            "Epoch 63/100\n",
            "62/62 [==============================] - 0s 3ms/step - loss: 0.0184\n",
            "Epoch 64/100\n",
            "62/62 [==============================] - 0s 3ms/step - loss: 0.0186\n",
            "Epoch 65/100\n",
            "62/62 [==============================] - 0s 3ms/step - loss: 0.0183\n",
            "Epoch 66/100\n",
            "62/62 [==============================] - 0s 3ms/step - loss: 0.0184\n",
            "Epoch 67/100\n",
            "62/62 [==============================] - 0s 3ms/step - loss: 0.0185\n",
            "Epoch 68/100\n",
            "62/62 [==============================] - 0s 3ms/step - loss: 0.0184\n",
            "Epoch 69/100\n",
            "62/62 [==============================] - 0s 3ms/step - loss: 0.0186\n",
            "Epoch 70/100\n",
            "62/62 [==============================] - 0s 3ms/step - loss: 0.0187\n",
            "Epoch 71/100\n",
            "62/62 [==============================] - 0s 3ms/step - loss: 0.0182\n",
            "Epoch 72/100\n",
            "62/62 [==============================] - 0s 3ms/step - loss: 0.0184\n",
            "Epoch 73/100\n",
            "62/62 [==============================] - 0s 3ms/step - loss: 0.0184\n",
            "Epoch 74/100\n",
            "62/62 [==============================] - 0s 4ms/step - loss: 0.0184\n",
            "Epoch 75/100\n",
            "62/62 [==============================] - 0s 3ms/step - loss: 0.0183\n",
            "Epoch 76/100\n",
            "62/62 [==============================] - 0s 3ms/step - loss: 0.0184\n",
            "Epoch 77/100\n",
            "62/62 [==============================] - 0s 3ms/step - loss: 0.0183\n",
            "Epoch 78/100\n",
            "62/62 [==============================] - 0s 3ms/step - loss: 0.0185\n",
            "Epoch 79/100\n",
            "62/62 [==============================] - 0s 3ms/step - loss: 0.0184\n",
            "Epoch 80/100\n",
            "62/62 [==============================] - 0s 4ms/step - loss: 0.0183\n",
            "Epoch 81/100\n",
            "62/62 [==============================] - 0s 3ms/step - loss: 0.0183\n",
            "Epoch 82/100\n",
            "62/62 [==============================] - 0s 3ms/step - loss: 0.0184\n",
            "Epoch 83/100\n",
            "62/62 [==============================] - 0s 3ms/step - loss: 0.0184\n",
            "Epoch 84/100\n",
            "62/62 [==============================] - 0s 3ms/step - loss: 0.0184\n",
            "Epoch 85/100\n",
            "62/62 [==============================] - 0s 3ms/step - loss: 0.0185\n",
            "Epoch 86/100\n",
            "62/62 [==============================] - 0s 3ms/step - loss: 0.0183\n",
            "Epoch 87/100\n",
            "62/62 [==============================] - 0s 3ms/step - loss: 0.0184\n",
            "Epoch 88/100\n",
            "62/62 [==============================] - 0s 3ms/step - loss: 0.0187\n",
            "Epoch 89/100\n",
            "62/62 [==============================] - 0s 3ms/step - loss: 0.0185\n",
            "Epoch 90/100\n",
            "62/62 [==============================] - 0s 3ms/step - loss: 0.0184\n",
            "Epoch 91/100\n",
            "62/62 [==============================] - 0s 3ms/step - loss: 0.0184\n",
            "Epoch 92/100\n",
            "62/62 [==============================] - 0s 3ms/step - loss: 0.0185\n",
            "Epoch 93/100\n",
            "62/62 [==============================] - 0s 4ms/step - loss: 0.0184\n",
            "Epoch 94/100\n",
            "62/62 [==============================] - 0s 3ms/step - loss: 0.0184\n",
            "Epoch 95/100\n",
            "62/62 [==============================] - 0s 3ms/step - loss: 0.0184\n",
            "Epoch 96/100\n",
            "62/62 [==============================] - 0s 3ms/step - loss: 0.0183\n",
            "Epoch 97/100\n",
            "62/62 [==============================] - 0s 4ms/step - loss: 0.0185\n",
            "Epoch 98/100\n",
            "62/62 [==============================] - 0s 3ms/step - loss: 0.0184\n",
            "Epoch 99/100\n",
            "62/62 [==============================] - 0s 3ms/step - loss: 0.0183\n",
            "Epoch 100/100\n",
            "62/62 [==============================] - 0s 3ms/step - loss: 0.0185\n"
          ]
        },
        {
          "output_type": "execute_result",
          "data": {
            "text/plain": [
              "<keras.callbacks.History at 0x7fb230031b10>"
            ]
          },
          "metadata": {},
          "execution_count": 41
        }
      ]
    },
    {
      "cell_type": "code",
      "metadata": {
        "id": "f-cHx7qrAyRz"
      },
      "source": [
        "# make predictions\n",
        "trainPredict = model.predict(trainX)\n",
        "testPredict = model.predict(testX)"
      ],
      "execution_count": 42,
      "outputs": []
    },
    {
      "cell_type": "code",
      "metadata": {
        "id": "Hh6113LgA3zK"
      },
      "source": [
        "# invert predictions\n",
        "trainPredict = scaler.inverse_transform(trainPredict)\n",
        "trainY = scaler.inverse_transform([trainY])\n",
        "testPredict = scaler.inverse_transform(testPredict)\n",
        "testY = scaler.inverse_transform([testY])"
      ],
      "execution_count": 43,
      "outputs": []
    },
    {
      "cell_type": "code",
      "metadata": {
        "colab": {
          "base_uri": "https://localhost:8080/"
        },
        "id": "ou2EWwBXA5TP",
        "outputId": "33d545c8-b2bf-468d-bdf8-0657c0507a48"
      },
      "source": [
        "# calculate root mean squared error\n",
        "trainScore = math.sqrt(mean_squared_error(trainY[0], trainPredict[:,0]))\n",
        "print('Train Score: %.2f RMSE' % (trainScore))\n",
        "testScore = math.sqrt(mean_squared_error(testY[0], testPredict[:,0]))\n",
        "print('Test Score: %.2f RMSE' % (testScore))"
      ],
      "execution_count": 44,
      "outputs": [
        {
          "output_type": "stream",
          "name": "stdout",
          "text": [
            "Train Score: 10.63 RMSE\n",
            "Test Score: 12.08 RMSE\n"
          ]
        }
      ]
    },
    {
      "cell_type": "code",
      "metadata": {
        "id": "wym36OzQA60F"
      },
      "source": [
        "# shift train predictions for plotting\n",
        "trainPredictPlot = numpy.empty_like(dataset)\n",
        "trainPredictPlot[:, :] = numpy.nan\n",
        "trainPredictPlot[look_back:len(trainPredict)+look_back, :] = trainPredict"
      ],
      "execution_count": 45,
      "outputs": []
    },
    {
      "cell_type": "code",
      "metadata": {
        "id": "jK1LMdKbA87r"
      },
      "source": [
        "# shift test predictions for plotting\n",
        "testPredictPlot = numpy.empty_like(dataset)\n",
        "testPredictPlot[:, :] = numpy.nan\n",
        "testPredictPlot[len(trainPredict)+(look_back*2)+1:len(dataset)-1, :] = testPredict"
      ],
      "execution_count": 46,
      "outputs": []
    },
    {
      "cell_type": "code",
      "metadata": {
        "colab": {
          "base_uri": "https://localhost:8080/",
          "height": 374
        },
        "id": "HDQvA2O_A-m7",
        "outputId": "05d18731-b423-4c3a-cdec-1533fa7ee235"
      },
      "source": [
        "# plot baseline and predictions\n",
        "plt.figure(figsize=(10,6))\n",
        "plt.plot(scaler.inverse_transform(dataset), label='Real Data')\n",
        "plt.plot(trainPredictPlot, label='trainPredict')\n",
        "plt.plot(testPredictPlot, label='testPredict')\n",
        "plt.legend(title=\"Notes\")\n",
        "plt.show()"
      ],
      "execution_count": 47,
      "outputs": [
        {
          "output_type": "display_data",
          "data": {
            "image/png": "[encoded data removed]",
            "text/plain": [
              "<Figure size 720x432 with 1 Axes>"
            ]
          },
          "metadata": {
            "needs_background": "light"
          }
        }
      ]
    },
    {
      "cell_type": "code",
      "metadata": {
        "colab": {
          "base_uri": "https://localhost:8080/"
        },
        "id": "OLLs-VbaBA6-",
        "outputId": "6f1c64a9-2a90-40a9-cdda-071f083bc183"
      },
      "source": [
        "ws = {}\n",
        "for layer in model.layers:\n",
        "  ws[layer.name] = layer.get_weights()\n",
        "ws"
      ],
      "execution_count": 48,
      "outputs": [
        {
          "output_type": "execute_result",
          "data": {
            "text/plain": [
              "{'dense_2': [array([[ 1.1713535 ],\n",
              "         [-0.17152214],\n",
              "         [-1.0101221 ],\n",
              "         [-0.35710782]], dtype=float32), array([0.0796046], dtype=float32)],\n",
              " 'lstm_2': [array([[ 1.1585295 , -0.7153108 ,  0.3135463 ,  0.3591114 ,  0.2586084 ,\n",
              "           0.39366364, -0.23467714, -0.30566135,  0.3737473 ,  0.1566441 ,\n",
              "          -1.0391674 , -0.06398113,  1.206854  ,  0.23613498,  1.1130955 ,\n",
              "          -0.29022777]], dtype=float32),\n",
              "  array([[-0.52328134,  0.19930929,  0.40253618,  0.05615793,  0.14631042,\n",
              "           0.01383542,  0.27627534, -0.12195578, -0.3293625 , -0.12419195,\n",
              "          -0.36977267,  0.03212616, -0.05403245,  0.08827101, -0.31695288,\n",
              "          -0.18874943],\n",
              "         [-0.15351681, -0.20057876, -0.07763547, -0.21882248, -0.13514604,\n",
              "          -0.4996338 , -0.13870977, -0.3970373 , -0.24323283,  0.12663744,\n",
              "          -0.14208364, -0.09820961, -0.34327075, -0.29859093,  0.06449317,\n",
              "           0.34832466],\n",
              "         [-0.3418566 ,  0.01497037, -0.0890625 , -0.03930859, -0.26918694,\n",
              "           0.1833989 , -0.36582154,  0.12511477, -0.29185605,  0.38478556,\n",
              "          -0.1987783 , -0.04996315,  0.37808383,  0.3069376 ,  0.30582142,\n",
              "           0.10919183],\n",
              "         [-0.12387845,  0.4143592 , -0.1957724 ,  0.21375537, -0.43668917,\n",
              "          -0.06871662,  0.36503196, -0.19734612,  0.40151167, -0.02942822,\n",
              "          -0.17467088, -0.30519617,  0.19521944, -0.11000183,  0.05892999,\n",
              "           0.14803144]], dtype=float32),\n",
              "  array([ 0.04600801, -0.36132514,  0.62783414, -0.3219489 ,  1.        ,\n",
              "          1.        ,  1.        ,  1.        ,  0.21221374, -0.07545602,\n",
              "          0.08804177, -0.08259554,  0.04548463, -0.42327043,  0.568071  ,\n",
              "         -0.25884968], dtype=float32)]}"
            ]
          },
          "metadata": {},
          "execution_count": 48
        }
      ]
    },
    {
      "cell_type": "code",
      "metadata": {
        "colab": {
          "base_uri": "https://localhost:8080/"
        },
        "id": "5-UxevUsBdw0",
        "outputId": "0d1c2030-e9f4-4a01-eee4-7750944e6329"
      },
      "source": [
        "# x_new = 66 => next time = ?\n",
        "x_new = scaler.transform([[66]])\n",
        "x_new = numpy.reshape(x_new, (1, 1,1))\n",
        "y_new = model.predict(x_new)\n",
        "y_new = scaler.inverse_transform(y_new)\n",
        "y_new"
      ],
      "execution_count": 49,
      "outputs": [
        {
          "output_type": "execute_result",
          "data": {
            "text/plain": [
              "array([[63.361572]], dtype=float32)"
            ]
          },
          "metadata": {},
          "execution_count": 49
        }
      ]
    },
    {
      "cell_type": "markdown",
      "metadata": {
        "id": "MVebSL5IBnI6"
      },
      "source": [
        "**Với lượng dữ liệu ít, bài toán này họa động chưa được tốt**"
      ]
    },
    {
      "cell_type": "code",
      "metadata": {
        "id": "GkortJIoBeis"
      },
      "source": [
        ""
      ],
      "execution_count": null,
      "outputs": []
    }
  ]
}