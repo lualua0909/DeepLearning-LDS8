{
  "nbformat": 4,
  "nbformat_minor": 0,
  "metadata": {
    "colab": {
      "name": "chapter6_demo_pollution_one_to_one.ipynb",
      "provenance": [],
      "authorship_tag": "ABX9TyPzo3GulhSj6V15zfl4S9D7",
      "include_colab_link": true
    },
    "kernelspec": {
      "name": "python3",
      "display_name": "Python 3"
    },
    "language_info": {
      "name": "python"
    },
    "accelerator": "GPU"
  },
  "cells": [
    {
      "cell_type": "markdown",
      "metadata": {
        "id": "view-in-github",
        "colab_type": "text"
      },
      "source": [
        "<a href=\"https://colab.research.google.com/github/lualua0909/DeepLearning-LDS8/blob/main/Week_4/chapter6_demo_pollution_one_to_one.ipynb\" target=\"_parent\"><img src=\"https://colab.research.google.com/assets/colab-badge.svg\" alt=\"Open In Colab\"/></a>"
      ]
    },
    {
      "cell_type": "code",
      "metadata": {
        "id": "60mvGbDulFIf"
      },
      "source": [
        "# LSTM for air pollution problem with regression framing\n",
        "import numpy\n",
        "import matplotlib.pyplot as plt\n",
        "import math\n",
        "import pandas as pd\n",
        "from tensorflow.keras import Sequential\n",
        "from tensorflow.keras.layers import Dense\n",
        "from tensorflow.keras.layers import LSTM\n",
        "from sklearn.preprocessing import MinMaxScaler\n",
        "from sklearn.metrics import mean_squared_error, mean_absolute_error"
      ],
      "execution_count": 2,
      "outputs": []
    },
    {
      "cell_type": "code",
      "metadata": {
        "id": "mjWSRwfloxxG"
      },
      "source": [
        "# convert an array of values into a dataset matrix\n",
        "def create_dataset(dataset, look_back=1):\n",
        "\tdataX, dataY = [], []\n",
        "\tfor i in range(len(dataset)-look_back-1):\n",
        "\t#t\n",
        "\t\ta = dataset[i:(i+look_back), 0]\n",
        "\t\tdataX.append(a)\n",
        "\t#t+1\n",
        "\t\tdataY.append(dataset[i + look_back, 0])\n",
        "\treturn numpy.array(dataX), numpy.array(dataY)"
      ],
      "execution_count": 3,
      "outputs": []
    },
    {
      "cell_type": "code",
      "metadata": {
        "id": "TyZIeDkxoz5O"
      },
      "source": [
        "numpy.random.seed(7)"
      ],
      "execution_count": 4,
      "outputs": []
    },
    {
      "cell_type": "code",
      "metadata": {
        "id": "cQxkrS42o8bB"
      },
      "source": [
        "dataframe = pd.read_csv('https://raw.githubusercontent.com/lualua0909/DeepLearning-LDS8/main/Data/pollution_new.csv', index_col=0)"
      ],
      "execution_count": 5,
      "outputs": []
    },
    {
      "cell_type": "code",
      "metadata": {
        "colab": {
          "base_uri": "https://localhost:8080/",
          "height": 235
        },
        "id": "RPreOCXhpKmN",
        "outputId": "4950b88a-8aef-4352-fad2-ad05c7ccef04"
      },
      "source": [
        "dataframe.head()"
      ],
      "execution_count": 6,
      "outputs": [
        {
          "output_type": "execute_result",
          "data": {
            "text/html": [
              "<div>\n",
              "<style scoped>\n",
              "    .dataframe tbody tr th:only-of-type {\n",
              "        vertical-align: middle;\n",
              "    }\n",
              "\n",
              "    .dataframe tbody tr th {\n",
              "        vertical-align: top;\n",
              "    }\n",
              "\n",
              "    .dataframe thead th {\n",
              "        text-align: right;\n",
              "    }\n",
              "</style>\n",
              "<table border=\"1\" class=\"dataframe\">\n",
              "  <thead>\n",
              "    <tr style=\"text-align: right;\">\n",
              "      <th></th>\n",
              "      <th>pollution</th>\n",
              "      <th>dew</th>\n",
              "      <th>temp</th>\n",
              "      <th>press</th>\n",
              "      <th>wnd_dir</th>\n",
              "      <th>wnd_spd</th>\n",
              "      <th>snow</th>\n",
              "      <th>rain</th>\n",
              "    </tr>\n",
              "    <tr>\n",
              "      <th>date</th>\n",
              "      <th></th>\n",
              "      <th></th>\n",
              "      <th></th>\n",
              "      <th></th>\n",
              "      <th></th>\n",
              "      <th></th>\n",
              "      <th></th>\n",
              "      <th></th>\n",
              "    </tr>\n",
              "  </thead>\n",
              "  <tbody>\n",
              "    <tr>\n",
              "      <th>1/2/2010 0:00</th>\n",
              "      <td>129</td>\n",
              "      <td>-16</td>\n",
              "      <td>-4.0</td>\n",
              "      <td>1020.0</td>\n",
              "      <td>SE</td>\n",
              "      <td>1.79</td>\n",
              "      <td>0</td>\n",
              "      <td>0</td>\n",
              "    </tr>\n",
              "    <tr>\n",
              "      <th>1/2/2010 1:00</th>\n",
              "      <td>148</td>\n",
              "      <td>-15</td>\n",
              "      <td>-4.0</td>\n",
              "      <td>1020.0</td>\n",
              "      <td>SE</td>\n",
              "      <td>2.68</td>\n",
              "      <td>0</td>\n",
              "      <td>0</td>\n",
              "    </tr>\n",
              "    <tr>\n",
              "      <th>1/2/2010 2:00</th>\n",
              "      <td>159</td>\n",
              "      <td>-11</td>\n",
              "      <td>-5.0</td>\n",
              "      <td>1021.0</td>\n",
              "      <td>SE</td>\n",
              "      <td>3.57</td>\n",
              "      <td>0</td>\n",
              "      <td>0</td>\n",
              "    </tr>\n",
              "    <tr>\n",
              "      <th>1/2/2010 3:00</th>\n",
              "      <td>181</td>\n",
              "      <td>-7</td>\n",
              "      <td>-5.0</td>\n",
              "      <td>1022.0</td>\n",
              "      <td>SE</td>\n",
              "      <td>5.36</td>\n",
              "      <td>1</td>\n",
              "      <td>0</td>\n",
              "    </tr>\n",
              "    <tr>\n",
              "      <th>1/2/2010 4:00</th>\n",
              "      <td>138</td>\n",
              "      <td>-7</td>\n",
              "      <td>-5.0</td>\n",
              "      <td>1022.0</td>\n",
              "      <td>SE</td>\n",
              "      <td>6.25</td>\n",
              "      <td>2</td>\n",
              "      <td>0</td>\n",
              "    </tr>\n",
              "  </tbody>\n",
              "</table>\n",
              "</div>"
            ],
            "text/plain": [
              "               pollution  dew  temp   press wnd_dir  wnd_spd  snow  rain\n",
              "date                                                                    \n",
              "1/2/2010 0:00        129  -16  -4.0  1020.0      SE     1.79     0     0\n",
              "1/2/2010 1:00        148  -15  -4.0  1020.0      SE     2.68     0     0\n",
              "1/2/2010 2:00        159  -11  -5.0  1021.0      SE     3.57     0     0\n",
              "1/2/2010 3:00        181   -7  -5.0  1022.0      SE     5.36     1     0\n",
              "1/2/2010 4:00        138   -7  -5.0  1022.0      SE     6.25     2     0"
            ]
          },
          "metadata": {},
          "execution_count": 6
        }
      ]
    },
    {
      "cell_type": "code",
      "metadata": {
        "id": "He1I14LwpMH7"
      },
      "source": [
        "dataset = dataframe[['pollution']]\n",
        "dataset = dataset.values.astype('float32')"
      ],
      "execution_count": 7,
      "outputs": []
    },
    {
      "cell_type": "code",
      "metadata": {
        "id": "P5l6fl_9qS-U"
      },
      "source": [
        "import matplotlib.pyplot as plt\n",
        "import seaborn as sns"
      ],
      "execution_count": 8,
      "outputs": []
    },
    {
      "cell_type": "code",
      "metadata": {
        "id": "jOeTlpb3qbN5"
      },
      "source": [
        "scaler = MinMaxScaler(feature_range=(0, 1))\n",
        "dataset = scaler.fit_transform(dataset)"
      ],
      "execution_count": 9,
      "outputs": []
    },
    {
      "cell_type": "code",
      "metadata": {
        "id": "Iu1cF9YZqpHF"
      },
      "source": [
        " train_size = 365 * 24 * 4 # chia theo năm\n",
        " #train_size = int(len(dataset) * 0.67) # chia theo tỷ lệ\n",
        " test_size = len(dataset) - train_size\n",
        " train, test = dataset[0:train_size, :], dataset[train_size:len(dataset), :]"
      ],
      "execution_count": 10,
      "outputs": []
    },
    {
      "cell_type": "code",
      "metadata": {
        "id": "PdBlLX_QrM0w"
      },
      "source": [
        "look_back = 1\n",
        "trainX, trainY = create_dataset(train, look_back)\n",
        "testX, testY = create_dataset(test, look_back)"
      ],
      "execution_count": 11,
      "outputs": []
    },
    {
      "cell_type": "code",
      "metadata": {
        "colab": {
          "base_uri": "https://localhost:8080/"
        },
        "id": "kSv3QHLgrZzK",
        "outputId": "1ea1399a-4b85-4493-bc9b-42cab9eea325"
      },
      "source": [
        "type(trainX)"
      ],
      "execution_count": 12,
      "outputs": [
        {
          "output_type": "execute_result",
          "data": {
            "text/plain": [
              "numpy.ndarray"
            ]
          },
          "metadata": {},
          "execution_count": 12
        }
      ]
    },
    {
      "cell_type": "code",
      "metadata": {
        "id": "glhBDeCBrdsv"
      },
      "source": [
        "trainX = numpy.reshape(trainX, (trainX.shape[0], 1, trainX.shape[1]))"
      ],
      "execution_count": 13,
      "outputs": []
    },
    {
      "cell_type": "code",
      "metadata": {
        "id": "qZBnuQOwv36Z"
      },
      "source": [
        "testX = numpy.reshape(testX, (testX.shape[0], 1, testX.shape[1]))"
      ],
      "execution_count": 14,
      "outputs": []
    },
    {
      "cell_type": "code",
      "metadata": {
        "id": "-jOrSZO7v_Ca"
      },
      "source": [
        "model = Sequential()\n",
        "model.add(LSTM(32, input_shape=(1, look_back)))\n",
        "model.add(Dense(1))"
      ],
      "execution_count": 15,
      "outputs": []
    },
    {
      "cell_type": "code",
      "metadata": {
        "colab": {
          "base_uri": "https://localhost:8080/"
        },
        "id": "CsDyodC1wJpZ",
        "outputId": "4bd9b664-5672-498a-8809-c7dcadce97bb"
      },
      "source": [
        "model.summary()"
      ],
      "execution_count": 16,
      "outputs": [
        {
          "output_type": "stream",
          "name": "stdout",
          "text": [
            "Model: \"sequential\"\n",
            "_________________________________________________________________\n",
            "Layer (type)                 Output Shape              Param #   \n",
            "=================================================================\n",
            "lstm (LSTM)                  (None, 32)                4352      \n",
            "_________________________________________________________________\n",
            "dense (Dense)                (None, 1)                 33        \n",
            "=================================================================\n",
            "Total params: 4,385\n",
            "Trainable params: 4,385\n",
            "Non-trainable params: 0\n",
            "_________________________________________________________________\n"
          ]
        }
      ]
    },
    {
      "cell_type": "markdown",
      "metadata": {
        "id": "dCR_sYYdwNBU"
      },
      "source": [
        "##**Cách tính tham số**\n",
        "LSTM = ((num_units + input_dim + 1) * num_units) * 4 = (32 + 1 + 1) * 32 * 4 = 4352"
      ]
    },
    {
      "cell_type": "code",
      "metadata": {
        "id": "D0Pw_HBTwKte"
      },
      "source": [
        "from tensorflow.keras.callbacks import EarlyStopping\n",
        "\n",
        "early_stopping = EarlyStopping(\n",
        "    min_delta=0.0001,\n",
        "    patience=20,\n",
        "    restore_best_weights=True\n",
        ")"
      ],
      "execution_count": 17,
      "outputs": []
    },
    {
      "cell_type": "code",
      "metadata": {
        "colab": {
          "base_uri": "https://localhost:8080/"
        },
        "id": "rQEgXL-czRe4",
        "outputId": "28558e10-1e6a-490b-cd7b-6c7037342135"
      },
      "source": [
        "model.compile(loss='mean_squared_error', optimizer='adam')\n",
        "history = model.fit(trainX, trainY,\n",
        "                    validation_data=(testX, testY),\n",
        "                    epochs=50,\n",
        "                    batch_size=128,\n",
        "                    callbacks=[early_stopping],\n",
        "                    verbose=1)"
      ],
      "execution_count": 18,
      "outputs": [
        {
          "output_type": "stream",
          "name": "stdout",
          "text": [
            "Epoch 1/50\n",
            "274/274 [==============================] - 9s 7ms/step - loss: 0.0044 - val_loss: 7.2353e-04\n",
            "Epoch 2/50\n",
            "274/274 [==============================] - 1s 5ms/step - loss: 8.1837e-04 - val_loss: 6.0712e-04\n",
            "Epoch 3/50\n",
            "274/274 [==============================] - 1s 5ms/step - loss: 8.0770e-04 - val_loss: 6.2069e-04\n",
            "Epoch 4/50\n",
            "274/274 [==============================] - 1s 5ms/step - loss: 8.0584e-04 - val_loss: 6.0581e-04\n",
            "Epoch 5/50\n",
            "274/274 [==============================] - 1s 5ms/step - loss: 8.0314e-04 - val_loss: 5.9956e-04\n",
            "Epoch 6/50\n",
            "274/274 [==============================] - 1s 5ms/step - loss: 8.0182e-04 - val_loss: 6.0070e-04\n",
            "Epoch 7/50\n",
            "274/274 [==============================] - 1s 5ms/step - loss: 8.0001e-04 - val_loss: 5.9950e-04\n",
            "Epoch 8/50\n",
            "274/274 [==============================] - 1s 5ms/step - loss: 7.9712e-04 - val_loss: 6.0032e-04\n",
            "Epoch 9/50\n",
            "274/274 [==============================] - 1s 5ms/step - loss: 7.9653e-04 - val_loss: 6.0266e-04\n",
            "Epoch 10/50\n",
            "274/274 [==============================] - 1s 5ms/step - loss: 7.9820e-04 - val_loss: 6.1009e-04\n",
            "Epoch 11/50\n",
            "274/274 [==============================] - 1s 5ms/step - loss: 7.9310e-04 - val_loss: 5.9986e-04\n",
            "Epoch 12/50\n",
            "274/274 [==============================] - 1s 5ms/step - loss: 7.9386e-04 - val_loss: 5.9867e-04\n",
            "Epoch 13/50\n",
            "274/274 [==============================] - 1s 5ms/step - loss: 7.9301e-04 - val_loss: 6.0486e-04\n",
            "Epoch 14/50\n",
            "274/274 [==============================] - 1s 5ms/step - loss: 7.9143e-04 - val_loss: 6.0749e-04\n",
            "Epoch 15/50\n",
            "274/274 [==============================] - 1s 5ms/step - loss: 7.9324e-04 - val_loss: 6.1758e-04\n",
            "Epoch 16/50\n",
            "274/274 [==============================] - 1s 5ms/step - loss: 7.9087e-04 - val_loss: 6.0594e-04\n",
            "Epoch 17/50\n",
            "274/274 [==============================] - 1s 5ms/step - loss: 7.9040e-04 - val_loss: 6.0204e-04\n",
            "Epoch 18/50\n",
            "274/274 [==============================] - 1s 5ms/step - loss: 7.9217e-04 - val_loss: 5.9950e-04\n",
            "Epoch 19/50\n",
            "274/274 [==============================] - 1s 5ms/step - loss: 7.8935e-04 - val_loss: 6.0831e-04\n",
            "Epoch 20/50\n",
            "274/274 [==============================] - 1s 5ms/step - loss: 7.8986e-04 - val_loss: 6.0830e-04\n",
            "Epoch 21/50\n",
            "274/274 [==============================] - 1s 5ms/step - loss: 7.8806e-04 - val_loss: 6.0449e-04\n",
            "Epoch 22/50\n",
            "274/274 [==============================] - 1s 5ms/step - loss: 7.8991e-04 - val_loss: 6.0857e-04\n"
          ]
        }
      ]
    },
    {
      "cell_type": "code",
      "metadata": {
        "colab": {
          "base_uri": "https://localhost:8080/",
          "height": 265
        },
        "id": "rIvsT-6QzqaJ",
        "outputId": "3fa10671-74ee-4a69-f8d6-05620ab99ac7"
      },
      "source": [
        "# plot history\n",
        "plt.plot(history.history['loss'], label='train')\n",
        "plt.plot(history.history['val_loss'], label='test')\n",
        "plt.legend()\n",
        "plt.show()"
      ],
      "execution_count": 19,
      "outputs": [
        {
          "output_type": "display_data",
          "data": {
            "image/png": "[encoded data removed]",
            "text/plain": [
              "<Figure size 432x288 with 1 Axes>"
            ]
          },
          "metadata": {
            "needs_background": "light"
          }
        }
      ]
    },
    {
      "cell_type": "code",
      "metadata": {
        "id": "eFBSyV9a031o"
      },
      "source": [
        "train_predict = model.predict(trainX)\n",
        "test_predict= model.predict(testX)"
      ],
      "execution_count": 20,
      "outputs": []
    },
    {
      "cell_type": "code",
      "metadata": {
        "id": "sVo5p2XJ0_gd"
      },
      "source": [
        "train_predict = scaler.inverse_transform(train_predict)\n",
        "trainY = scaler.inverse_transform([trainY])"
      ],
      "execution_count": 21,
      "outputs": []
    },
    {
      "cell_type": "code",
      "metadata": {
        "id": "04Sn8KTG1jqe"
      },
      "source": [
        "test_predict = scaler.inverse_transform(test_predict)\n",
        "testY = scaler.inverse_transform([testY])"
      ],
      "execution_count": 22,
      "outputs": []
    },
    {
      "cell_type": "code",
      "metadata": {
        "colab": {
          "base_uri": "https://localhost:8080/"
        },
        "id": "9jwibquK1KUV",
        "outputId": "0d53e580-07f7-4acb-c548-047d138d3fdf"
      },
      "source": [
        "trainY[0][:5]"
      ],
      "execution_count": 23,
      "outputs": [
        {
          "output_type": "execute_result",
          "data": {
            "text/plain": [
              "array([148.00000139, 158.99999549, 180.9999985 , 137.99999329,\n",
              "       108.99999942])"
            ]
          },
          "metadata": {},
          "execution_count": 23
        }
      ]
    },
    {
      "cell_type": "code",
      "metadata": {
        "colab": {
          "base_uri": "https://localhost:8080/"
        },
        "id": "2xnSq1PC1MZx",
        "outputId": "acbd4dfd-3080-4c7f-d2d2-02bbe4d150ce"
      },
      "source": [
        "train_predict[:5]"
      ],
      "execution_count": 24,
      "outputs": [
        {
          "output_type": "execute_result",
          "data": {
            "text/plain": [
              "array([[127.01804],\n",
              "       [144.8792 ],\n",
              "       [155.27303],\n",
              "       [176.17613],\n",
              "       [135.46399]], dtype=float32)"
            ]
          },
          "metadata": {},
          "execution_count": 24
        }
      ]
    },
    {
      "cell_type": "code",
      "metadata": {
        "colab": {
          "base_uri": "https://localhost:8080/"
        },
        "id": "fdsDGDNj1RgQ",
        "outputId": "df8bb5c4-8fec-441b-c276-3a56d408c490"
      },
      "source": [
        "train_rmse = math.sqrt(mean_squared_error(trainY[0], train_predict[:,0]))\n",
        "train_rmse"
      ],
      "execution_count": 25,
      "outputs": [
        {
          "output_type": "execute_result",
          "data": {
            "text/plain": [
              "28.282300609506155"
            ]
          },
          "metadata": {},
          "execution_count": 25
        }
      ]
    },
    {
      "cell_type": "code",
      "metadata": {
        "colab": {
          "base_uri": "https://localhost:8080/"
        },
        "id": "oc6X1uwL3ODX",
        "outputId": "68ca8a39-ea88-46c5-f8a8-74c8668c962c"
      },
      "source": [
        "test_rmse = math.sqrt(mean_squared_error(testY[0], test_predict[:,0]))\n",
        "test_rmse"
      ],
      "execution_count": 26,
      "outputs": [
        {
          "output_type": "execute_result",
          "data": {
            "text/plain": [
              "24.491877915729166"
            ]
          },
          "metadata": {},
          "execution_count": 26
        }
      ]
    },
    {
      "cell_type": "code",
      "metadata": {
        "id": "_kutWSf43XUc"
      },
      "source": [
        "train_mae = mean_absolute_error(trainY[0], train_predict[:,0])\n",
        "test_mae = mean_absolute_error(testY[0], test_predict[:,0])"
      ],
      "execution_count": 27,
      "outputs": []
    },
    {
      "cell_type": "code",
      "metadata": {
        "id": "XMihz65v4ss9"
      },
      "source": [
        "#Shift train predictions for plotting\n",
        "trainPredictPlot = numpy.empty_like(dataset)\n",
        "trainPredictPlot[:, :] = numpy.nan\n",
        "trainPredictPlot[look_back:len(train_predict)+look_back, :] = train_predict\n",
        "# shift test predictions for plotting\n",
        "testPredictPlot = numpy.empty_like(dataset)\n",
        "testPredictPlot[:, :] = numpy.nan\n",
        "testPredictPlot[len(train_predict)+(look_back*2)+1:len(dataset)-1, :] = test_predict"
      ],
      "execution_count": 28,
      "outputs": []
    },
    {
      "cell_type": "code",
      "metadata": {
        "colab": {
          "base_uri": "https://localhost:8080/",
          "height": 374
        },
        "id": "EghXq6a36AN0",
        "outputId": "778eaefe-3865-464a-d56f-709206c7d9f4"
      },
      "source": [
        "# plot baseline and predictions\n",
        "plt.figure(figsize=(10,6))\n",
        "plt.plot(scaler.inverse_transform(dataset), label='Real Data')\n",
        "plt.plot(trainPredictPlot, label='trainPredict')\n",
        "plt.plot(testPredictPlot, label='testPredict')\n",
        "plt.legend(title=\"Notes\")\n",
        "plt.show()"
      ],
      "execution_count": 29,
      "outputs": [
        {
          "output_type": "display_data",
          "data": {
            "image/png": "[encoded data removed]",
            "text/plain": [
              "<Figure size 720x432 with 1 Axes>"
            ]
          },
          "metadata": {
            "needs_background": "light"
          }
        }
      ]
    },
    {
      "cell_type": "code",
      "metadata": {
        "id": "KQa7Pq_j6IHP",
        "outputId": "ed0b0db4-8982-4b57-b9e7-cb0a73b5fe8a",
        "colab": {
          "base_uri": "https://localhost:8080/"
        }
      },
      "source": [
        "ws = {}\n",
        "for layer in model.layers:\n",
        "  ws[layer.name] = layer.get_weights()\n",
        "ws"
      ],
      "execution_count": 30,
      "outputs": [
        {
          "output_type": "execute_result",
          "data": {
            "text/plain": [
              "{'dense': [array([[-0.29444748],\n",
              "         [-0.16114664],\n",
              "         [-0.24034044],\n",
              "         [ 0.20867948],\n",
              "         [ 0.21945342],\n",
              "         [-0.0901482 ],\n",
              "         [-0.62479985],\n",
              "         [ 0.60653055],\n",
              "         [ 0.6150019 ],\n",
              "         [ 0.6157689 ],\n",
              "         [ 0.17780995],\n",
              "         [ 0.29830882],\n",
              "         [ 0.25198263],\n",
              "         [ 0.20378563],\n",
              "         [-0.03770069],\n",
              "         [ 0.3318703 ],\n",
              "         [ 0.5035508 ],\n",
              "         [ 0.54370534],\n",
              "         [ 0.3644861 ],\n",
              "         [ 0.02792366],\n",
              "         [-0.26760292],\n",
              "         [ 0.5385892 ],\n",
              "         [-0.6294354 ],\n",
              "         [-0.60522497],\n",
              "         [ 0.49569663],\n",
              "         [ 0.46683168],\n",
              "         [-0.3336892 ],\n",
              "         [ 0.32621968],\n",
              "         [-0.28386137],\n",
              "         [-0.26135144],\n",
              "         [-0.21135387],\n",
              "         [ 0.607923  ]], dtype=float32), array([0.00913928], dtype=float32)],\n",
              " 'lstm': [array([[ 0.09436181, -0.17368871,  0.17058492,  0.06203702, -0.12076326,\n",
              "          -0.00913407,  0.3619173 ,  0.37043914,  0.31656647,  0.3101247 ,\n",
              "           0.20533998,  0.14734785,  0.16652447,  0.28412703, -0.2651401 ,\n",
              "           0.01556474,  0.26180443,  0.03817897,  0.02848352,  0.10033628,\n",
              "           0.17423108,  0.3016021 ,  0.32303   ,  0.21779938,  0.02652519,\n",
              "           0.05376676,  0.09456112,  0.03723986,  0.24784692,  0.20926513,\n",
              "           0.0324926 ,  0.4078238 ,  0.05766127, -0.17762539, -0.09462918,\n",
              "          -0.0011691 ,  0.11763725, -0.10570677, -0.14943166, -0.14726329,\n",
              "          -0.04384923,  0.00643618, -0.02135001,  0.14669901, -0.07511687,\n",
              "          -0.01782346,  0.14558426, -0.11811985,  0.19004291, -0.01110813,\n",
              "          -0.21446225,  0.10530117, -0.14124092,  0.0430094 ,  0.21376285,\n",
              "          -0.20443448,  0.04177043,  0.12008503, -0.04135244,  0.11788622,\n",
              "          -0.12983674,  0.14812335, -0.11001977,  0.01085937, -0.11376746,\n",
              "           0.06366606, -0.04531414,  0.01871935, -0.01846153,  0.09171849,\n",
              "          -0.32558152,  0.25553104,  0.38360178,  0.22706094,  0.07403184,\n",
              "           0.35710236,  0.4837058 ,  0.3313509 , -0.14598499,  0.11504447,\n",
              "           0.19895443,  0.25359213,  0.2435638 ,  0.07540493, -0.39525887,\n",
              "           0.29615405, -0.2337553 , -0.29883602,  0.34760204,  0.4022026 ,\n",
              "          -0.28230327,  0.28478807, -0.3622561 , -0.04604695,  0.05206635,\n",
              "           0.20295677,  0.1877276 , -0.03889225,  0.25765458, -0.10576691,\n",
              "           0.07386688,  0.05546052,  0.21976356,  0.43224615,  0.1128307 ,\n",
              "           0.37353814, -0.04664446,  0.14294034,  0.27990225,  0.06518941,\n",
              "          -0.18242384,  0.32147542,  0.09189361,  0.20506854,  0.38856226,\n",
              "          -0.08444437,  0.0736166 ,  0.2756261 ,  0.18324566,  0.30369726,\n",
              "           0.11642508,  0.41713613,  0.3862048 ,  0.13895977,  0.23921072,\n",
              "           0.17983222, -0.09439448,  0.04616773]], dtype=float32),\n",
              "  array([[ 0.09652221, -0.06711443,  0.14694485, ...,  0.02712006,\n",
              "          -0.19916251,  0.17546664],\n",
              "         [ 0.03206136,  0.07813137,  0.09749224, ...,  0.05831296,\n",
              "          -0.09042656,  0.02825696],\n",
              "         [-0.08568582,  0.05887508,  0.17832744, ..., -0.02741565,\n",
              "           0.17201887,  0.00193651],\n",
              "         ...,\n",
              "         [-0.05719607,  0.06278269,  0.00988222, ..., -0.04123339,\n",
              "          -0.17093576, -0.0527875 ],\n",
              "         [ 0.00824351,  0.02467828, -0.04511041, ..., -0.04888258,\n",
              "          -0.09554823, -0.04219319],\n",
              "         [ 0.03279267,  0.06176246,  0.12023741, ..., -0.01008472,\n",
              "           0.02463671, -0.04711174]], dtype=float32),\n",
              "  array([ 0.09120977, -0.11401851, -0.06762505, -0.09367695, -0.10830299,\n",
              "         -0.10978011,  0.21437119,  0.22769843,  0.20942804,  0.235619  ,\n",
              "         -0.01333524,  0.39454418,  0.38585615,  0.28224343, -0.06575932,\n",
              "          0.09852286,  0.25075772,  0.23864566,  0.29009488, -0.0688496 ,\n",
              "          0.35881263,  0.22597876,  0.23363207,  0.22004409,  0.22487979,\n",
              "          0.21953906,  0.29256025,  0.31171265,  0.3847204 , -0.06901192,\n",
              "         -0.11604818,  0.24257393,  1.        ,  1.        ,  1.        ,\n",
              "          1.        ,  1.        ,  1.        ,  1.        ,  1.        ,\n",
              "          1.        ,  1.        ,  1.        ,  1.        ,  1.        ,\n",
              "          1.        ,  1.        ,  1.        ,  1.        ,  1.        ,\n",
              "          1.        ,  1.        ,  1.        ,  1.        ,  1.        ,\n",
              "          1.        ,  1.        ,  1.        ,  1.        ,  1.        ,\n",
              "          1.        ,  1.        ,  1.        ,  1.        , -0.01047973,\n",
              "         -0.01268178, -0.01850277,  0.01276474,  0.01377028, -0.01817642,\n",
              "         -0.01186421,  0.01763899,  0.00731413,  0.01459978,  0.01313584,\n",
              "         -0.06015074, -0.06120126, -0.05723841,  0.02256239,  0.01132397,\n",
              "          0.00420128,  0.00189477, -0.00147865, -0.02433744,  0.04207904,\n",
              "          0.01105055, -0.01012189, -0.01029658, -0.00201704,  0.00609188,\n",
              "          0.00194061, -0.01714065,  0.03981978, -0.01770965, -0.01416293,\n",
              "          0.0083744 ,  0.08769391, -0.11467767, -0.06929601, -0.09184631,\n",
              "         -0.10975469, -0.11005609,  0.21417984,  0.22750771,  0.20903094,\n",
              "          0.23533176, -0.00607629,  0.39405888,  0.38724387,  0.2764876 ,\n",
              "         -0.06579908,  0.08678918,  0.25186193,  0.23870955,  0.29033554,\n",
              "         -0.06835875,  0.35659075,  0.22583912,  0.23380308,  0.21998471,\n",
              "          0.2249725 ,  0.22018875,  0.29398343,  0.312304  ,  0.38400102,\n",
              "         -0.06845766, -0.11527773,  0.24466565], dtype=float32)]}"
            ]
          },
          "metadata": {},
          "execution_count": 30
        }
      ]
    },
    {
      "cell_type": "code",
      "metadata": {
        "id": "hbL3QD8HCFW3"
      },
      "source": [
        "# x_new = 8 => next time = ?\n",
        "x_new = scaler.transform([[8]])\n",
        "x_new = numpy.reshape(x_new, (1, 1, 1))"
      ],
      "execution_count": 31,
      "outputs": []
    },
    {
      "cell_type": "code",
      "metadata": {
        "id": "jSJURRDZCMrX",
        "outputId": "7e9ba620-c679-4491-c6eb-330f156711b5",
        "colab": {
          "base_uri": "https://localhost:8080/"
        }
      },
      "source": [
        "y_new = model.predict(x_new)\n",
        "y_new = scaler.inverse_transform(y_new)\n",
        "y_new"
      ],
      "execution_count": 32,
      "outputs": [
        {
          "output_type": "execute_result",
          "data": {
            "text/plain": [
              "array([[16.101608]], dtype=float32)"
            ]
          },
          "metadata": {},
          "execution_count": 32
        }
      ]
    },
    {
      "cell_type": "code",
      "metadata": {
        "id": "VqR5tZyFCM9Y"
      },
      "source": [
        ""
      ],
      "execution_count": null,
      "outputs": []
    }
  ]
}