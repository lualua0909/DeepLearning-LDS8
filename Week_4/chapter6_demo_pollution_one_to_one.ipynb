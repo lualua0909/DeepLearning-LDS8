{
  "nbformat": 4,
  "nbformat_minor": 0,
  "metadata": {
    "colab": {
      "name": "chapter6_demo_pollution_one_to_one.ipynb",
      "provenance": [],
      "authorship_tag": "ABX9TyNqRu2DNtmzu/EeIaVafjQ3",
      "include_colab_link": true
    },
    "kernelspec": {
      "name": "python3",
      "display_name": "Python 3"
    },
    "language_info": {
      "name": "python"
    },
    "accelerator": "GPU"
  },
  "cells": [
    {
      "cell_type": "markdown",
      "metadata": {
        "id": "view-in-github",
        "colab_type": "text"
      },
      "source": [
        "<a href=\"https://colab.research.google.com/github/lualua0909/DeepLearning-LDS8/blob/main/Week_4/chapter6_demo_pollution_one_to_one.ipynb\" target=\"_parent\"><img src=\"https://colab.research.google.com/assets/colab-badge.svg\" alt=\"Open In Colab\"/></a>"
      ]
    },
    {
      "cell_type": "code",
      "metadata": {
        "id": "60mvGbDulFIf"
      },
      "source": [
        "# LSTM for air pollution problem with regression framing\n",
        "import numpy\n",
        "import matplotlib.pyplot as plt\n",
        "import math\n",
        "import pandas as pd\n",
        "from tensorflow.keras import Sequential\n",
        "from tensorflow.keras.layers import Dense\n",
        "from tensorflow.keras.layers import LSTM\n",
        "from sklearn.preprocessing import MinMaxScaler\n",
        "from sklearn.metrics import mean_squared_error, mean_absolute_error"
      ],
      "execution_count": 18,
      "outputs": []
    },
    {
      "cell_type": "code",
      "metadata": {
        "id": "mjWSRwfloxxG"
      },
      "source": [
        "# convert an array of values into a dataset matrix\n",
        "def create_dataset(dataset, look_back=1):\n",
        "\tdataX, dataY = [], []\n",
        "\tfor i in range(len(dataset)-look_back-1):\n",
        "\t#t\n",
        "\t\ta = dataset[i:(i+look_back), 0]\n",
        "\t\tdataX.append(a)\n",
        "\t#t+1\n",
        "\t\tdataY.append(dataset[i + look_back, 0])\n",
        "\treturn numpy.array(dataX), numpy.array(dataY)"
      ],
      "execution_count": 19,
      "outputs": []
    },
    {
      "cell_type": "code",
      "metadata": {
        "id": "TyZIeDkxoz5O"
      },
      "source": [
        "numpy.random.seed(7)"
      ],
      "execution_count": 20,
      "outputs": []
    },
    {
      "cell_type": "code",
      "metadata": {
        "id": "cQxkrS42o8bB"
      },
      "source": [
        "dataframe = pd.read_csv('https://raw.githubusercontent.com/lualua0909/DeepLearning-LDS8/main/Data/pollution_new.csv', index_col=0)"
      ],
      "execution_count": 21,
      "outputs": []
    },
    {
      "cell_type": "code",
      "metadata": {
        "colab": {
          "base_uri": "https://localhost:8080/",
          "height": 237
        },
        "id": "RPreOCXhpKmN",
        "outputId": "4bb74cbf-a3b7-4f4c-e40a-304996644405"
      },
      "source": [
        "dataframe.head()"
      ],
      "execution_count": 22,
      "outputs": [
        {
          "output_type": "execute_result",
          "data": {
            "text/html": [
              "<div>\n",
              "<style scoped>\n",
              "    .dataframe tbody tr th:only-of-type {\n",
              "        vertical-align: middle;\n",
              "    }\n",
              "\n",
              "    .dataframe tbody tr th {\n",
              "        vertical-align: top;\n",
              "    }\n",
              "\n",
              "    .dataframe thead th {\n",
              "        text-align: right;\n",
              "    }\n",
              "</style>\n",
              "<table border=\"1\" class=\"dataframe\">\n",
              "  <thead>\n",
              "    <tr style=\"text-align: right;\">\n",
              "      <th></th>\n",
              "      <th>pollution</th>\n",
              "      <th>dew</th>\n",
              "      <th>temp</th>\n",
              "      <th>press</th>\n",
              "      <th>wnd_dir</th>\n",
              "      <th>wnd_spd</th>\n",
              "      <th>snow</th>\n",
              "      <th>rain</th>\n",
              "    </tr>\n",
              "    <tr>\n",
              "      <th>date</th>\n",
              "      <th></th>\n",
              "      <th></th>\n",
              "      <th></th>\n",
              "      <th></th>\n",
              "      <th></th>\n",
              "      <th></th>\n",
              "      <th></th>\n",
              "      <th></th>\n",
              "    </tr>\n",
              "  </thead>\n",
              "  <tbody>\n",
              "    <tr>\n",
              "      <th>1/2/2010 0:00</th>\n",
              "      <td>129</td>\n",
              "      <td>-16</td>\n",
              "      <td>-4.0</td>\n",
              "      <td>1020.0</td>\n",
              "      <td>SE</td>\n",
              "      <td>1.79</td>\n",
              "      <td>0</td>\n",
              "      <td>0</td>\n",
              "    </tr>\n",
              "    <tr>\n",
              "      <th>1/2/2010 1:00</th>\n",
              "      <td>148</td>\n",
              "      <td>-15</td>\n",
              "      <td>-4.0</td>\n",
              "      <td>1020.0</td>\n",
              "      <td>SE</td>\n",
              "      <td>2.68</td>\n",
              "      <td>0</td>\n",
              "      <td>0</td>\n",
              "    </tr>\n",
              "    <tr>\n",
              "      <th>1/2/2010 2:00</th>\n",
              "      <td>159</td>\n",
              "      <td>-11</td>\n",
              "      <td>-5.0</td>\n",
              "      <td>1021.0</td>\n",
              "      <td>SE</td>\n",
              "      <td>3.57</td>\n",
              "      <td>0</td>\n",
              "      <td>0</td>\n",
              "    </tr>\n",
              "    <tr>\n",
              "      <th>1/2/2010 3:00</th>\n",
              "      <td>181</td>\n",
              "      <td>-7</td>\n",
              "      <td>-5.0</td>\n",
              "      <td>1022.0</td>\n",
              "      <td>SE</td>\n",
              "      <td>5.36</td>\n",
              "      <td>1</td>\n",
              "      <td>0</td>\n",
              "    </tr>\n",
              "    <tr>\n",
              "      <th>1/2/2010 4:00</th>\n",
              "      <td>138</td>\n",
              "      <td>-7</td>\n",
              "      <td>-5.0</td>\n",
              "      <td>1022.0</td>\n",
              "      <td>SE</td>\n",
              "      <td>6.25</td>\n",
              "      <td>2</td>\n",
              "      <td>0</td>\n",
              "    </tr>\n",
              "  </tbody>\n",
              "</table>\n",
              "</div>"
            ],
            "text/plain": [
              "               pollution  dew  temp   press wnd_dir  wnd_spd  snow  rain\n",
              "date                                                                    \n",
              "1/2/2010 0:00        129  -16  -4.0  1020.0      SE     1.79     0     0\n",
              "1/2/2010 1:00        148  -15  -4.0  1020.0      SE     2.68     0     0\n",
              "1/2/2010 2:00        159  -11  -5.0  1021.0      SE     3.57     0     0\n",
              "1/2/2010 3:00        181   -7  -5.0  1022.0      SE     5.36     1     0\n",
              "1/2/2010 4:00        138   -7  -5.0  1022.0      SE     6.25     2     0"
            ]
          },
          "metadata": {},
          "execution_count": 22
        }
      ]
    },
    {
      "cell_type": "code",
      "metadata": {
        "id": "He1I14LwpMH7"
      },
      "source": [
        "dataset = dataframe[['pollution']]\n",
        "dataset = dataset.values.astype('float32')"
      ],
      "execution_count": 23,
      "outputs": []
    },
    {
      "cell_type": "code",
      "metadata": {
        "id": "P5l6fl_9qS-U"
      },
      "source": [
        "import matplotlib.pyplot as plt\n",
        "import seaborn as sns"
      ],
      "execution_count": 24,
      "outputs": []
    },
    {
      "cell_type": "code",
      "metadata": {
        "id": "jOeTlpb3qbN5"
      },
      "source": [
        "scaler = MinMaxScaler(feature_range=(0, 1))\n",
        "dataset = scaler.fit_transform(dataset)"
      ],
      "execution_count": 25,
      "outputs": []
    },
    {
      "cell_type": "code",
      "metadata": {
        "id": "Iu1cF9YZqpHF"
      },
      "source": [
        " train_size = 365 * 24 * 4 # chia theo năm\n",
        " #train_size = int(len(dataset) * 0.67) # chia theo tỷ lệ\n",
        " test_size = len(dataset) - train_size\n",
        " train, test = dataset[0:train_size, :], dataset[train_size:len(dataset), :]"
      ],
      "execution_count": 26,
      "outputs": []
    },
    {
      "cell_type": "code",
      "metadata": {
        "id": "PdBlLX_QrM0w"
      },
      "source": [
        "look_back = 1\n",
        "trainX, trainY = create_dataset(train, look_back)\n",
        "testX, testY = create_dataset(test, look_back)"
      ],
      "execution_count": 27,
      "outputs": []
    },
    {
      "cell_type": "code",
      "metadata": {
        "colab": {
          "base_uri": "https://localhost:8080/"
        },
        "id": "kSv3QHLgrZzK",
        "outputId": "6dd540f6-1277-4c63-bc4d-b5b1b1977f25"
      },
      "source": [
        "type(trainX)"
      ],
      "execution_count": 28,
      "outputs": [
        {
          "output_type": "execute_result",
          "data": {
            "text/plain": [
              "numpy.ndarray"
            ]
          },
          "metadata": {},
          "execution_count": 28
        }
      ]
    },
    {
      "cell_type": "code",
      "metadata": {
        "id": "glhBDeCBrdsv"
      },
      "source": [
        "trainX = numpy.reshape(trainX, (trainX.shape[0], 1, trainX.shape[1]))"
      ],
      "execution_count": 29,
      "outputs": []
    },
    {
      "cell_type": "code",
      "metadata": {
        "id": "qZBnuQOwv36Z"
      },
      "source": [
        "testX = numpy.reshape(testX, (testX.shape[0], 1, testX.shape[1]))"
      ],
      "execution_count": 30,
      "outputs": []
    },
    {
      "cell_type": "code",
      "metadata": {
        "id": "-jOrSZO7v_Ca"
      },
      "source": [
        "model = Sequential()\n",
        "model.add(LSTM(32, input_shape=(1, look_back)))\n",
        "model.add(Dense(1))"
      ],
      "execution_count": 31,
      "outputs": []
    },
    {
      "cell_type": "code",
      "metadata": {
        "colab": {
          "base_uri": "https://localhost:8080/"
        },
        "id": "CsDyodC1wJpZ",
        "outputId": "9c5b1ad8-f5a3-4232-ce14-9f350b69f915"
      },
      "source": [
        "model.summary()"
      ],
      "execution_count": 32,
      "outputs": [
        {
          "output_type": "stream",
          "name": "stdout",
          "text": [
            "Model: \"sequential_1\"\n",
            "_________________________________________________________________\n",
            "Layer (type)                 Output Shape              Param #   \n",
            "=================================================================\n",
            "lstm_1 (LSTM)                (None, 32)                4352      \n",
            "_________________________________________________________________\n",
            "dense_1 (Dense)              (None, 1)                 33        \n",
            "=================================================================\n",
            "Total params: 4,385\n",
            "Trainable params: 4,385\n",
            "Non-trainable params: 0\n",
            "_________________________________________________________________\n"
          ]
        }
      ]
    },
    {
      "cell_type": "markdown",
      "metadata": {
        "id": "dCR_sYYdwNBU"
      },
      "source": [
        "##**Cách tính tham số**\n",
        "LSTM = ((num_units + input_dim + 1) * num_units) * 4 = (32 + 1 + 1) * 32 * 4 = 4352"
      ]
    },
    {
      "cell_type": "code",
      "metadata": {
        "id": "D0Pw_HBTwKte"
      },
      "source": [
        "from tensorflow.keras.callbacks import EarlyStopping\n",
        "\n",
        "early_stopping = EarlyStopping(\n",
        "    min_delta=0.0001,\n",
        "    patience=20,\n",
        "    restore_best_weights=True\n",
        ")"
      ],
      "execution_count": 33,
      "outputs": []
    },
    {
      "cell_type": "code",
      "metadata": {
        "colab": {
          "base_uri": "https://localhost:8080/"
        },
        "id": "rQEgXL-czRe4",
        "outputId": "a2d838af-229b-472e-af32-456eab6d8a0a"
      },
      "source": [
        "model.compile(loss='mean_squared_error', optimizer='adam')\n",
        "history = model.fit(trainX, trainY,\n",
        "                    validation_data=(testX, testY),\n",
        "                    epochs=50,\n",
        "                    batch_size=128,\n",
        "                    callbacks=[early_stopping],\n",
        "                    verbose=1)"
      ],
      "execution_count": 34,
      "outputs": [
        {
          "output_type": "stream",
          "name": "stdout",
          "text": [
            "Epoch 1/50\n",
            "274/274 [==============================] - 4s 7ms/step - loss: 0.0047 - val_loss: 8.2312e-04\n",
            "Epoch 2/50\n",
            "274/274 [==============================] - 1s 5ms/step - loss: 8.2786e-04 - val_loss: 6.0501e-04\n",
            "Epoch 3/50\n",
            "274/274 [==============================] - 1s 5ms/step - loss: 8.0826e-04 - val_loss: 6.0448e-04\n",
            "Epoch 4/50\n",
            "274/274 [==============================] - 1s 5ms/step - loss: 8.0579e-04 - val_loss: 6.0192e-04\n",
            "Epoch 5/50\n",
            "274/274 [==============================] - 1s 5ms/step - loss: 8.0300e-04 - val_loss: 6.0698e-04\n",
            "Epoch 6/50\n",
            "274/274 [==============================] - 1s 5ms/step - loss: 8.0049e-04 - val_loss: 5.9930e-04\n",
            "Epoch 7/50\n",
            "274/274 [==============================] - 1s 5ms/step - loss: 8.0134e-04 - val_loss: 6.0526e-04\n",
            "Epoch 8/50\n",
            "274/274 [==============================] - 1s 5ms/step - loss: 7.9903e-04 - val_loss: 6.0365e-04\n",
            "Epoch 9/50\n",
            "274/274 [==============================] - 1s 5ms/step - loss: 7.9459e-04 - val_loss: 6.0128e-04\n",
            "Epoch 10/50\n",
            "274/274 [==============================] - 1s 5ms/step - loss: 7.9346e-04 - val_loss: 5.9793e-04\n",
            "Epoch 11/50\n",
            "274/274 [==============================] - 1s 5ms/step - loss: 7.9407e-04 - val_loss: 5.9914e-04\n",
            "Epoch 12/50\n",
            "274/274 [==============================] - 1s 5ms/step - loss: 7.9231e-04 - val_loss: 6.0238e-04\n",
            "Epoch 13/50\n",
            "274/274 [==============================] - 1s 5ms/step - loss: 7.9036e-04 - val_loss: 6.1880e-04\n",
            "Epoch 14/50\n",
            "274/274 [==============================] - 1s 5ms/step - loss: 7.9249e-04 - val_loss: 6.0509e-04\n",
            "Epoch 15/50\n",
            "274/274 [==============================] - 1s 5ms/step - loss: 7.9286e-04 - val_loss: 5.9963e-04\n",
            "Epoch 16/50\n",
            "274/274 [==============================] - 1s 5ms/step - loss: 7.9092e-04 - val_loss: 6.1051e-04\n",
            "Epoch 17/50\n",
            "274/274 [==============================] - 1s 5ms/step - loss: 7.9020e-04 - val_loss: 6.1828e-04\n",
            "Epoch 18/50\n",
            "274/274 [==============================] - 1s 5ms/step - loss: 7.9208e-04 - val_loss: 6.0298e-04\n",
            "Epoch 19/50\n",
            "274/274 [==============================] - 1s 5ms/step - loss: 7.9335e-04 - val_loss: 6.2435e-04\n",
            "Epoch 20/50\n",
            "274/274 [==============================] - 1s 5ms/step - loss: 7.8907e-04 - val_loss: 6.1100e-04\n",
            "Epoch 21/50\n",
            "274/274 [==============================] - 1s 5ms/step - loss: 7.9003e-04 - val_loss: 6.0682e-04\n",
            "Epoch 22/50\n",
            "274/274 [==============================] - 1s 5ms/step - loss: 7.9099e-04 - val_loss: 6.0389e-04\n"
          ]
        }
      ]
    },
    {
      "cell_type": "code",
      "metadata": {
        "colab": {
          "base_uri": "https://localhost:8080/",
          "height": 265
        },
        "id": "rIvsT-6QzqaJ",
        "outputId": "4c344e1c-ab6e-4c5d-8488-c0bf7e4571f0"
      },
      "source": [
        "# plot history\n",
        "plt.plot(history.history['loss'], label='train')\n",
        "plt.plot(history.history['val_loss'], label='test')\n",
        "plt.legend()\n",
        "plt.show()"
      ],
      "execution_count": 35,
      "outputs": [
        {
          "output_type": "display_data",
          "data": {
            "image/png": "[encoded data removed]",
            "text/plain": [
              "<Figure size 432x288 with 1 Axes>"
            ]
          },
          "metadata": {
            "needs_background": "light"
          }
        }
      ]
    },
    {
      "cell_type": "code",
      "metadata": {
        "id": "eFBSyV9a031o"
      },
      "source": [
        "train_predict = model.predict(trainX)\n",
        "test_predict= model.predict(testX)"
      ],
      "execution_count": 36,
      "outputs": []
    },
    {
      "cell_type": "code",
      "metadata": {
        "id": "sVo5p2XJ0_gd"
      },
      "source": [
        "train_predict = scaler.inverse_transform(train_predict)\n",
        "trainY = scaler.inverse_transform([trainY])"
      ],
      "execution_count": 37,
      "outputs": []
    },
    {
      "cell_type": "code",
      "metadata": {
        "id": "04Sn8KTG1jqe"
      },
      "source": [
        "test_predict = scaler.inverse_transform(test_predict)\n",
        "testY = scaler.inverse_transform([testY])"
      ],
      "execution_count": 40,
      "outputs": []
    },
    {
      "cell_type": "code",
      "metadata": {
        "colab": {
          "base_uri": "https://localhost:8080/"
        },
        "id": "9jwibquK1KUV",
        "outputId": "0808ea81-d334-4e96-a3ae-a7b49d72c156"
      },
      "source": [
        "trainY[0][:5]"
      ],
      "execution_count": 38,
      "outputs": [
        {
          "output_type": "execute_result",
          "data": {
            "text/plain": [
              "array([148.00000139, 158.99999549, 180.9999985 , 137.99999329,\n",
              "       108.99999942])"
            ]
          },
          "metadata": {},
          "execution_count": 38
        }
      ]
    },
    {
      "cell_type": "code",
      "metadata": {
        "colab": {
          "base_uri": "https://localhost:8080/"
        },
        "id": "2xnSq1PC1MZx",
        "outputId": "c819ba85-7dfc-4dc0-dd2a-89e53ec5710d"
      },
      "source": [
        "train_predict[:5]"
      ],
      "execution_count": 39,
      "outputs": [
        {
          "output_type": "execute_result",
          "data": {
            "text/plain": [
              "array([[124.243065],\n",
              "       [142.2881  ],\n",
              "       [152.78975 ],\n",
              "       [173.91121 ],\n",
              "       [132.77576 ]], dtype=float32)"
            ]
          },
          "metadata": {},
          "execution_count": 39
        }
      ]
    },
    {
      "cell_type": "code",
      "metadata": {
        "colab": {
          "base_uri": "https://localhost:8080/"
        },
        "id": "fdsDGDNj1RgQ",
        "outputId": "ea1b6892-3c1c-4d74-b0c3-8cef5f928361"
      },
      "source": [
        "train_rmse = math.sqrt(mean_squared_error(trainY[0], train_predict[:,0]))\n",
        "train_rmse"
      ],
      "execution_count": 41,
      "outputs": [
        {
          "output_type": "execute_result",
          "data": {
            "text/plain": [
              "28.25771317025216"
            ]
          },
          "metadata": {},
          "execution_count": 41
        }
      ]
    },
    {
      "cell_type": "code",
      "metadata": {
        "colab": {
          "base_uri": "https://localhost:8080/"
        },
        "id": "oc6X1uwL3ODX",
        "outputId": "9bd07d8d-15fd-44c5-96aa-f14367484188"
      },
      "source": [
        "test_rmse = math.sqrt(mean_squared_error(testY[0], test_predict[:,0]))\n",
        "test_rmse"
      ],
      "execution_count": 42,
      "outputs": [
        {
          "output_type": "execute_result",
          "data": {
            "text/plain": [
              "24.449338556376787"
            ]
          },
          "metadata": {},
          "execution_count": 42
        }
      ]
    },
    {
      "cell_type": "code",
      "metadata": {
        "id": "_kutWSf43XUc"
      },
      "source": [
        "train_mae = mean_absolute_error(trainY[0], train_predict[:,0])\n",
        "test_mae = mean_absolute_error(testY[0], test_predict[:,0])"
      ],
      "execution_count": 43,
      "outputs": []
    },
    {
      "cell_type": "code",
      "metadata": {
        "id": "XMihz65v4ss9"
      },
      "source": [
        "#Shift train predictions for plotting\n",
        "trainPredictPlot = numpy.empty_like(dataset)\n",
        "trainPredictPlot[:, :] = numpy.nan\n",
        "trainPredictPlot[look_back:len(train_predict)+look_back, :] = train_predict\n",
        "# shift test predictions for plotting\n",
        "testPredictPlot = numpy.empty_like(dataset)\n",
        "testPredictPlot[:, :] = numpy.nan\n",
        "testPredictPlot[len(train_predict)+(look_back*2)+1:len(dataset)-1, :] = test_predict"
      ],
      "execution_count": 46,
      "outputs": []
    },
    {
      "cell_type": "code",
      "metadata": {
        "colab": {
          "base_uri": "https://localhost:8080/",
          "height": 374
        },
        "id": "EghXq6a36AN0",
        "outputId": "a3689a45-6246-4edf-f225-9363693e6a38"
      },
      "source": [
        "# plot baseline and predictions\n",
        "plt.figure(figsize=(10,6))\n",
        "plt.plot(scaler.inverse_transform(dataset), label='Real Data')\n",
        "plt.plot(trainPredictPlot, label='trainPredict')\n",
        "plt.plot(testPredictPlot, label='testPredict')\n",
        "plt.legend(title=\"Notes\")\n",
        "plt.show()"
      ],
      "execution_count": 48,
      "outputs": [
        {
          "output_type": "display_data",
          "data": {
            "image/png": "[encoded data removed]",
            "text/plain": [
              "<Figure size 720x432 with 1 Axes>"
            ]
          },
          "metadata": {
            "needs_background": "light"
          }
        }
      ]
    },
    {
      "cell_type": "code",
      "metadata": {
        "id": "KQa7Pq_j6IHP"
      },
      "source": [
        "``````````````"
      ],
      "execution_count": null,
      "outputs": []
    }
  ]
}