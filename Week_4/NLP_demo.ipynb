{
  "nbformat": 4,
  "nbformat_minor": 0,
  "metadata": {
    "colab": {
      "name": "NLP_demo.ipynb",
      "provenance": [],
      "authorship_tag": "ABX9TyPnU5ewqiSuO3j+HUQqPV+I",
      "include_colab_link": true
    },
    "kernelspec": {
      "name": "python3",
      "display_name": "Python 3"
    },
    "language_info": {
      "name": "python"
    }
  },
  "cells": [
    {
      "cell_type": "markdown",
      "metadata": {
        "id": "view-in-github",
        "colab_type": "text"
      },
      "source": [
        "<a href=\"https://colab.research.google.com/github/lualua0909/DeepLearning-LDS8/blob/main/Week_4/NLP_demo.ipynb\" target=\"_parent\"><img src=\"https://colab.research.google.com/assets/colab-badge.svg\" alt=\"Open In Colab\"/></a>"
      ]
    },
    {
      "cell_type": "code",
      "metadata": {
        "id": "z93xYwMDKj9M"
      },
      "source": [
        "from tensorflow.keras.preprocessing.text import text_to_word_sequence"
      ],
      "execution_count": 2,
      "outputs": []
    },
    {
      "cell_type": "code",
      "metadata": {
        "id": "W-lxqQW-KWKa"
      },
      "source": [
        "# define the document\n",
        "text = ''' Natural language processing (NLP) is a subfield of linguistics, \n",
        "computer science, information engineering, and artificial intelligence...'''"
      ],
      "execution_count": 7,
      "outputs": []
    },
    {
      "cell_type": "code",
      "metadata": {
        "colab": {
          "base_uri": "https://localhost:8080/"
        },
        "id": "nO2KgGObKgIF",
        "outputId": "dfda8a9a-7a21-4f6d-882c-1175ec54415b"
      },
      "source": [
        "words = text_to_word_sequence(text)\n",
        "words"
      ],
      "execution_count": 8,
      "outputs": [
        {
          "output_type": "execute_result",
          "data": {
            "text/plain": [
              "['natural',\n",
              " 'language',\n",
              " 'processing',\n",
              " 'nlp',\n",
              " 'is',\n",
              " 'a',\n",
              " 'subfield',\n",
              " 'of',\n",
              " 'linguistics',\n",
              " 'computer',\n",
              " 'science',\n",
              " 'information',\n",
              " 'engineering',\n",
              " 'and',\n",
              " 'artificial',\n",
              " 'intelligence']"
            ]
          },
          "metadata": {},
          "execution_count": 8
        }
      ]
    },
    {
      "cell_type": "code",
      "metadata": {
        "colab": {
          "base_uri": "https://localhost:8080/"
        },
        "id": "qgEDzOrOKuHJ",
        "outputId": "40e67fd5-ac22-4f99-c7fb-072bd2470fe1"
      },
      "source": [
        "from tensorflow.keras.preprocessing.text import one_hot\n",
        "\n",
        "text = 'The cat sat on the mat. The dog ate my hoomework'\n",
        "words = text_to_word_sequence(text)\n",
        "words, len(words)"
      ],
      "execution_count": 10,
      "outputs": [
        {
          "output_type": "execute_result",
          "data": {
            "text/plain": [
              "(['the',\n",
              "  'cat',\n",
              "  'sat',\n",
              "  'on',\n",
              "  'the',\n",
              "  'mat',\n",
              "  'the',\n",
              "  'dog',\n",
              "  'ate',\n",
              "  'my',\n",
              "  'hoomework'],\n",
              " 11)"
            ]
          },
          "metadata": {},
          "execution_count": 10
        }
      ]
    },
    {
      "cell_type": "code",
      "metadata": {
        "colab": {
          "base_uri": "https://localhost:8080/"
        },
        "id": "uU6iqRjzM7Lr",
        "outputId": "96f41c61-8fdd-42d3-e8d2-1f2ef83d8698"
      },
      "source": [
        "vocabs = set(words)\n",
        "vocab_size = len(vocabs)\n",
        "vocab_size"
      ],
      "execution_count": 11,
      "outputs": [
        {
          "output_type": "execute_result",
          "data": {
            "text/plain": [
              "9"
            ]
          },
          "metadata": {},
          "execution_count": 11
        }
      ]
    },
    {
      "cell_type": "code",
      "metadata": {
        "colab": {
          "base_uri": "https://localhost:8080/"
        },
        "id": "yqILaSJQNrDD",
        "outputId": "26c864dd-aa82-4366-c663-f6af43465e6b"
      },
      "source": [
        "result = one_hot(text, round(vocab_size * 1.3))\n",
        "result"
      ],
      "execution_count": 12,
      "outputs": [
        {
          "output_type": "execute_result",
          "data": {
            "text/plain": [
              "[4, 2, 3, 1, 4, 4, 4, 7, 6, 4, 1]"
            ]
          },
          "metadata": {},
          "execution_count": 12
        }
      ]
    },
    {
      "cell_type": "code",
      "metadata": {
        "id": "ZPuGgB8wNxn2"
      },
      "source": [
        "from tensorflow.keras.preprocessing.text import Tokenizer\n",
        "\n",
        "docs = ['Well done!',\n",
        "        'Good job',\n",
        "        'Great effort',\n",
        "        'Nice job asd hi hi a ',\n",
        "        'Excellent']"
      ],
      "execution_count": 24,
      "outputs": []
    },
    {
      "cell_type": "code",
      "metadata": {
        "id": "zuPC9cUCPWNN"
      },
      "source": [
        "t = Tokenizer()\n",
        "t.fit_on_texts(docs)"
      ],
      "execution_count": 25,
      "outputs": []
    },
    {
      "cell_type": "code",
      "metadata": {
        "colab": {
          "base_uri": "https://localhost:8080/"
        },
        "id": "_u7Q5gi9PbHp",
        "outputId": "d9bdb1de-f709-4399-90d6-7a8087fc23fa"
      },
      "source": [
        "t.word_counts"
      ],
      "execution_count": 26,
      "outputs": [
        {
          "output_type": "execute_result",
          "data": {
            "text/plain": [
              "OrderedDict([('well', 1),\n",
              "             ('done', 1),\n",
              "             ('good', 1),\n",
              "             ('job', 2),\n",
              "             ('great', 1),\n",
              "             ('effort', 1),\n",
              "             ('nice', 1),\n",
              "             ('asd', 1),\n",
              "             ('hi', 2),\n",
              "             ('a', 1),\n",
              "             ('excellent', 1)])"
            ]
          },
          "metadata": {},
          "execution_count": 26
        }
      ]
    },
    {
      "cell_type": "code",
      "metadata": {
        "colab": {
          "base_uri": "https://localhost:8080/"
        },
        "id": "OtI0d1S2PdHz",
        "outputId": "1b24c8ee-9dc5-4694-a040-ee358ff9b018"
      },
      "source": [
        "t.document_count"
      ],
      "execution_count": 27,
      "outputs": [
        {
          "output_type": "execute_result",
          "data": {
            "text/plain": [
              "5"
            ]
          },
          "metadata": {},
          "execution_count": 27
        }
      ]
    },
    {
      "cell_type": "code",
      "metadata": {
        "colab": {
          "base_uri": "https://localhost:8080/"
        },
        "id": "3x6FmlVsPpZK",
        "outputId": "78618cca-5a06-4b83-e5f4-1de26904cafd"
      },
      "source": [
        "t.word_index"
      ],
      "execution_count": 28,
      "outputs": [
        {
          "output_type": "execute_result",
          "data": {
            "text/plain": [
              "{'a': 10,\n",
              " 'asd': 9,\n",
              " 'done': 4,\n",
              " 'effort': 7,\n",
              " 'excellent': 11,\n",
              " 'good': 5,\n",
              " 'great': 6,\n",
              " 'hi': 2,\n",
              " 'job': 1,\n",
              " 'nice': 8,\n",
              " 'well': 3}"
            ]
          },
          "metadata": {},
          "execution_count": 28
        }
      ]
    },
    {
      "cell_type": "code",
      "metadata": {
        "colab": {
          "base_uri": "https://localhost:8080/"
        },
        "id": "xiwEoaJXQAik",
        "outputId": "e4721631-9d93-49d7-baa4-bfa2850e1e89"
      },
      "source": [
        "encoded_docs = t.texts_to_matrix(docs, mode='count')\n",
        "encoded_docs"
      ],
      "execution_count": 29,
      "outputs": [
        {
          "output_type": "execute_result",
          "data": {
            "text/plain": [
              "array([[0., 0., 0., 1., 1., 0., 0., 0., 0., 0., 0., 0.],\n",
              "       [0., 1., 0., 0., 0., 1., 0., 0., 0., 0., 0., 0.],\n",
              "       [0., 0., 0., 0., 0., 0., 1., 1., 0., 0., 0., 0.],\n",
              "       [0., 1., 2., 0., 0., 0., 0., 0., 1., 1., 1., 0.],\n",
              "       [0., 0., 0., 0., 0., 0., 0., 0., 0., 0., 0., 1.]])"
            ]
          },
          "metadata": {},
          "execution_count": 29
        }
      ]
    },
    {
      "cell_type": "code",
      "metadata": {
        "colab": {
          "base_uri": "https://localhost:8080/"
        },
        "id": "iB1v2zloQDNC",
        "outputId": "6e517e03-dfbd-4b8f-f328-4c9ae061a1fc"
      },
      "source": [
        "x = t.texts_to_sequences(docs)\n",
        "x"
      ],
      "execution_count": 30,
      "outputs": [
        {
          "output_type": "execute_result",
          "data": {
            "text/plain": [
              "[[3, 4], [5, 1], [6, 7], [8, 1, 9, 2, 2, 10], [11]]"
            ]
          },
          "metadata": {},
          "execution_count": 30
        }
      ]
    },
    {
      "cell_type": "code",
      "metadata": {
        "colab": {
          "base_uri": "https://localhost:8080/"
        },
        "id": "fNA1SZTxTlVJ",
        "outputId": "51a78966-ccd3-4b3c-ea95-c7a74d4e1f90"
      },
      "source": [
        "from tensorflow.keras.preprocessing.sequence import pad_sequences\n",
        "\n",
        "X = pad_sequences(x, maxlen=3, truncating='post')\n",
        "X"
      ],
      "execution_count": 34,
      "outputs": [
        {
          "output_type": "execute_result",
          "data": {
            "text/plain": [
              "array([[ 0,  3,  4],\n",
              "       [ 0,  5,  1],\n",
              "       [ 0,  6,  7],\n",
              "       [ 8,  1,  9],\n",
              "       [ 0,  0, 11]], dtype=int32)"
            ]
          },
          "metadata": {},
          "execution_count": 34
        }
      ]
    },
    {
      "cell_type": "code",
      "metadata": {
        "id": "bGYO9GNTT7qE"
      },
      "source": [
        ""
      ],
      "execution_count": null,
      "outputs": []
    }
  ]
}