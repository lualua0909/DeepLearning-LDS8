{
  "nbformat": 4,
  "nbformat_minor": 0,
  "metadata": {
    "colab": {
      "name": "LDS8_Examination_k270.ipynb",
      "provenance": [],
      "collapsed_sections": [],
      "include_colab_link": true
    },
    "kernelspec": {
      "name": "python3",
      "display_name": "Python 3"
    },
    "accelerator": "GPU"
  },
  "cells": [
    {
      "cell_type": "markdown",
      "metadata": {
        "id": "view-in-github",
        "colab_type": "text"
      },
      "source": [
        "<a href=\"https://colab.research.google.com/github/lualua0909/DeepLearning-LDS8/blob/main/DeThi/LDS8_Examination_k270.ipynb\" target=\"_parent\"><img src=\"https://colab.research.google.com/assets/colab-badge.svg\" alt=\"Open In Colab\"/></a>"
      ]
    },
    {
      "cell_type": "markdown",
      "metadata": {
        "id": "ePbsYp9CqYaJ"
      },
      "source": [
        "### Đề thi KHÓA 270:\n",
        "# <b> <font color='red'> LDS8 - DEEP LEARNING WITH PYTHON </font></b> \n",
        "### <i> Hạn chót nộp bài : 23h00 ngày Chủ Nhật 14/11/2021 </i>"
      ]
    },
    {
      "cell_type": "markdown",
      "metadata": {
        "id": "-u70KkFPrBkE"
      },
      "source": [
        "- HV tạo 1 thư mục là LDS8_K270_HoVaTen_Cuoi_ky nằm trong thư mục Googgle Drive đã share LDS8_K270_ONLINE_HoVaTen , lưu tất cả bài làm vào để nộp chấm điểm\n",
        "- HV được sử dụng tài liệu\n",
        "- Điểm trừ : Bài làm giống nhau"
      ]
    },
    {
      "cell_type": "markdown",
      "metadata": {
        "id": "3KfOVvUzrTzk"
      },
      "source": [
        "### Chú ý, với mỗi câu:\n",
        "- HV cần tiền xử lý dữ liệu\n",
        "- Mỗi câu là 1 file, các yêu cầu nhận xét kết quả trong từng câu được viết trong cell dưới định dạng Markdown."
      ]
    },
    {
      "cell_type": "markdown",
      "metadata": {
        "id": "Ev8nKF5bEdfw"
      },
      "source": [
        "#### <font color=\"red\"> Tổng số điểm của 8 câu là 10 điểm => sau khi có điểm tổng sẽ tính = 80% của điểm tổng => điểm thi</font>"
      ]
    },
    {
      "cell_type": "markdown",
      "metadata": {
        "id": "usHXuSRmFC_N"
      },
      "source": [
        "#### <font color=\"blue\"> Điểm tổng kết môn học = Điểm bài tập + Điểm thi + Điểm cộng Chuyên cần + Điểm cộng làm tất cả bài tập. Tối đa: 10.0 điểm.</font>"
      ]
    },
    {
      "cell_type": "markdown",
      "metadata": {
        "id": "3SWgVfPJrkHK"
      },
      "source": [
        "# Question 1: ANN (1.0 điểm)\n",
        "- Use MELBOURNE_HOUSE_PRICE dataset (MELBOURNE_HOUSE_PRICES_LESS.csv) to precdict house prices from other features.\n",
        "- Read more: https://www.kaggle.com/anthonypino/melbourne-housing-market/data\n",
        "### Requirement:\n",
        "- Apply ANN to build a model that predicts house prices from the provided features.\n",
        "- Make new predictions for samples that have no prices in the dataset."
      ]
    },
    {
      "cell_type": "markdown",
      "metadata": {
        "id": "ZQmwKoBxsFG_"
      },
      "source": [
        "# Question 2: ANN (1.0 điểm)\n",
        "- Software to detect network intrusions protects a computer network\n",
        "from unauthorized users, including perhaps insiders. The intrusion\n",
        "detector learning task is to build a predictive model (i.e. a classifier)\n",
        "capable of distinguishing between 'bad' connections, called intrusions\n",
        "or attacks, and 'good' normal connections.\n",
        "- Read more: https://archive.ics.uci.edu/ml/datasets/KDD+Cup+1999+Data\n",
        "### Requirement: \n",
        "- Use KDD dataset (kddcup.data.gz)  to try to classify a connection as 'normal.' or others.\n",
        "- Make a new prediction for each sample in KDD test dataset (kddcup.testdata.unlabeled.gz)."
      ]
    },
    {
      "cell_type": "markdown",
      "metadata": {
        "id": "ZaqZEONwAovU"
      },
      "source": [
        "# Question 3: CNN (1.5 điểm)\n",
        "- Choose a topic in classification (such as: brand classification, cosmetic classification, traditional costumes classification, healthy and unhealthy dishes classification...) => apply CNN to build a model to classify class of each sample.\n",
        "## Note:\n",
        "- Create dataset (like dog/cat dataset): with at least 2 classes, each class has at least 3000 training samples, 700 testing samples)"
      ]
    },
    {
      "cell_type": "markdown",
      "metadata": {
        "id": "h-3OjxnyaP17"
      },
      "source": [
        "# Question 4: Transfer Learning (1.5 điểm)\n",
        "- Basing on your dataset in Question 3: CNN, please choose a suitable pre-trained model (VGG16, Resnet50, InceptionV3, MobileNet....) and a strategy (Chapter 5: Transfer Learling from Pre-trained model) to build a model to classify class of each sample.\n",
        "- Compare execution time and accuracy of two models (Question 3 vs. Question 4)"
      ]
    },
    {
      "cell_type": "markdown",
      "metadata": {
        "id": "pH8sbd3oLYRp"
      },
      "source": [
        "# Question 5: RNN - LSTM (1.5 điểm)\n",
        "- Use AAPL.csv dataset or dowload from link https://finance.yahoo.com/quote/AAPL/history?period1=1479081600&period2=1605312000&interval=1d&filter=history&frequency=1d&includeAdjustedClose=true\n",
        "### Requirement:\n",
        "- Build a model to predict the tomorrow's **Open** value based on the today's **Open** value.\n",
        "- Build a model to predict the tomorrow's **Open** value based on the today's **Open, High, Low, Close, Adj Close, Volume**"
      ]
    },
    {
      "cell_type": "markdown",
      "metadata": {
        "id": "MaYpW4T8ykPv"
      },
      "source": [
        "# Question 6: RNN - LSTM - NLP (1.0 điểm)\n",
        "- Use Clothing, Shoes and Jewelry dataset (file Clothing_Shoes_and_Jewelry_5.json in reviews_Clothing_Shoes_and_Jewelry_5.json.gz) to build a model to predict customer sentiment (You can categories into 3 groups such as like: 4 or 5 stars, dislike: 1 or 2 stars, neutral :3 stars; or categories into 2 groups...) (**overall** column) based on their review (**reviewText** column)\n",
        "- Read more information here: http://jmcauley.ucsd.edu/data/amazon/"
      ]
    },
    {
      "cell_type": "markdown",
      "metadata": {
        "id": "ZzubKkSnY6ca"
      },
      "source": [
        "# Question 7: Object Detection (1.5 điểm)\n",
        "- Let's build an object detection model to recognize the class and location of objects from image file, movie file and camera.\n",
        "- Note: Use dataset from Question 3 to label and draw rectangle => obj.zip (image file + image text file) => Inputs of the object detection model."
      ]
    },
    {
      "cell_type": "markdown",
      "metadata": {
        "id": "49dgn2DXDkdC"
      },
      "source": [
        "# Question 8: Face Detection & Body detection (1.0 điểm)\n",
        "### Requirement 1: Face Detection\n",
        "- Detect face with and without glasses.\n",
        "- Input: image => Output: faces and eyes (in image) have boundary rectangles.\n",
        "- Example: Input (face_glasses_1.jpg) => Output (face_glasses_1_output.jpg)\n"
      ]
    },
    {
      "cell_type": "markdown",
      "metadata": {
        "id": "2YLDFGnbZiZE"
      },
      "source": [
        "### Requirement 2: Body detection\n",
        "- Detect body .\n",
        "- Input: image => Output: bodies (in image) have boundary rectangles.\n",
        "- Example: Input (body.jpg) => Output (body_output.png)"
      ]
    },
    {
      "cell_type": "markdown",
      "metadata": {
        "id": "HiHIIs9BD4qh"
      },
      "source": [
        "#### <font color=\"blue\"> Đề thi đến đây là hết rồi, cảm ơn các bạn đã tham gia khóa học.</font>"
      ]
    },
    {
      "cell_type": "markdown",
      "metadata": {
        "id": "wKVOfKrk0K2a"
      },
      "source": [
        "#### <font color='red'> Chúc các bạn làm bài thật tốt nha!!! </font>"
      ]
    }
  ]
}