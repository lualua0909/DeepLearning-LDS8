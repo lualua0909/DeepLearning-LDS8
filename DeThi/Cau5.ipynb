{
  "nbformat": 4,
  "nbformat_minor": 0,
  "metadata": {
    "colab": {
      "name": "Cau5.ipynb",
      "provenance": [],
      "authorship_tag": "ABX9TyO41ExfzuMt+4TuDcRlirEU",
      "include_colab_link": true
    },
    "kernelspec": {
      "name": "python3",
      "display_name": "Python 3"
    },
    "language_info": {
      "name": "python"
    }
  },
  "cells": [
    {
      "cell_type": "markdown",
      "metadata": {
        "id": "view-in-github",
        "colab_type": "text"
      },
      "source": [
        "<a href=\"https://colab.research.google.com/github/lualua0909/DeepLearning-LDS8/blob/main/DeThi/Cau5.ipynb\" target=\"_parent\"><img src=\"https://colab.research.google.com/assets/colab-badge.svg\" alt=\"Open In Colab\"/></a>"
      ]
    },
    {
      "cell_type": "markdown",
      "metadata": {
        "id": "6VbAKF8dzZSx"
      },
      "source": [
        "# Question 5: RNN - LSTM (1.5 điểm)\n",
        "- Use AAPL.csv dataset or dowload from link https://finance.yahoo.com/quote/AAPL/history?period1=1479081600&period2=1605312000&interval=1d&filter=history&frequency=1d&includeAdjustedClose=true\n",
        "### Requirement:\n",
        "- Build a model to predict the tomorrow's **Open** value based on the today's **Open** value.\n",
        "- Build a model to predict the tomorrow's **Open** value based on the today's **Open, High, Low, Close, Adj Close, Volume**"
      ]
    },
    {
      "cell_type": "code",
      "metadata": {
        "id": "CGTRm7XKtyGf"
      },
      "source": [
        "import numpy\n",
        "import matplotlib.pyplot as plt\n",
        "import math\n",
        "import pandas as pd\n",
        "from tensorflow.keras import Sequential\n",
        "from tensorflow.keras.layers import Dense\n",
        "from tensorflow.keras.layers import LSTM\n",
        "from sklearn.preprocessing import MinMaxScaler\n",
        "from sklearn.metrics import mean_squared_error, mean_absolute_error"
      ],
      "execution_count": 40,
      "outputs": []
    },
    {
      "cell_type": "code",
      "metadata": {
        "id": "tc_oBLdsG_jL"
      },
      "source": [
        "# convert an array of values into a dataset matrix\n",
        "def create_dataset(dataset, look_back=1):\n",
        "\tdataX, dataY = [], []\n",
        "\tfor i in range(len(dataset)-look_back-1):\n",
        "\t#t\n",
        "\t\ta = dataset[i:(i+look_back), 0]\n",
        "\t\tdataX.append(a)\n",
        "\t#t+1\n",
        "\t\tdataY.append(dataset[i + look_back, 0])\n",
        "\treturn numpy.array(dataX), numpy.array(dataY)"
      ],
      "execution_count": 41,
      "outputs": []
    },
    {
      "cell_type": "code",
      "metadata": {
        "colab": {
          "base_uri": "https://localhost:8080/",
          "height": 237
        },
        "id": "moPEqng2HCGx",
        "outputId": "c6d258e2-237d-43b5-dae8-aa99ca98ed8f"
      },
      "source": [
        "numpy.random.seed(7)\n",
        "dataframe = pd.read_csv('https://raw.githubusercontent.com/lualua0909/DeepLearning-LDS8/main/Data/TSLA.csv', index_col=0)\n",
        "dataframe.head()"
      ],
      "execution_count": 42,
      "outputs": [
        {
          "output_type": "execute_result",
          "data": {
            "text/html": [
              "<div>\n",
              "<style scoped>\n",
              "    .dataframe tbody tr th:only-of-type {\n",
              "        vertical-align: middle;\n",
              "    }\n",
              "\n",
              "    .dataframe tbody tr th {\n",
              "        vertical-align: top;\n",
              "    }\n",
              "\n",
              "    .dataframe thead th {\n",
              "        text-align: right;\n",
              "    }\n",
              "</style>\n",
              "<table border=\"1\" class=\"dataframe\">\n",
              "  <thead>\n",
              "    <tr style=\"text-align: right;\">\n",
              "      <th></th>\n",
              "      <th>Open</th>\n",
              "      <th>High</th>\n",
              "      <th>Low</th>\n",
              "      <th>Close</th>\n",
              "      <th>Adj Close</th>\n",
              "      <th>Volume</th>\n",
              "    </tr>\n",
              "    <tr>\n",
              "      <th>Date</th>\n",
              "      <th></th>\n",
              "      <th></th>\n",
              "      <th></th>\n",
              "      <th></th>\n",
              "      <th></th>\n",
              "      <th></th>\n",
              "    </tr>\n",
              "  </thead>\n",
              "  <tbody>\n",
              "    <tr>\n",
              "      <th>2016-11-14</th>\n",
              "      <td>37.599998</td>\n",
              "      <td>37.650002</td>\n",
              "      <td>35.638000</td>\n",
              "      <td>36.290001</td>\n",
              "      <td>36.290001</td>\n",
              "      <td>32761000</td>\n",
              "    </tr>\n",
              "    <tr>\n",
              "      <th>2016-11-15</th>\n",
              "      <td>36.556000</td>\n",
              "      <td>37.285999</td>\n",
              "      <td>36.410000</td>\n",
              "      <td>36.754002</td>\n",
              "      <td>36.754002</td>\n",
              "      <td>19510000</td>\n",
              "    </tr>\n",
              "    <tr>\n",
              "      <th>2016-11-16</th>\n",
              "      <td>36.529999</td>\n",
              "      <td>36.945999</td>\n",
              "      <td>36.242001</td>\n",
              "      <td>36.785999</td>\n",
              "      <td>36.785999</td>\n",
              "      <td>17172000</td>\n",
              "    </tr>\n",
              "    <tr>\n",
              "      <th>2016-11-17</th>\n",
              "      <td>36.698002</td>\n",
              "      <td>37.897999</td>\n",
              "      <td>36.422001</td>\n",
              "      <td>37.731998</td>\n",
              "      <td>37.731998</td>\n",
              "      <td>24435500</td>\n",
              "    </tr>\n",
              "    <tr>\n",
              "      <th>2016-11-18</th>\n",
              "      <td>38.130001</td>\n",
              "      <td>38.599998</td>\n",
              "      <td>37.000000</td>\n",
              "      <td>37.004002</td>\n",
              "      <td>37.004002</td>\n",
              "      <td>26051500</td>\n",
              "    </tr>\n",
              "  </tbody>\n",
              "</table>\n",
              "</div>"
            ],
            "text/plain": [
              "                 Open       High        Low      Close  Adj Close    Volume\n",
              "Date                                                                       \n",
              "2016-11-14  37.599998  37.650002  35.638000  36.290001  36.290001  32761000\n",
              "2016-11-15  36.556000  37.285999  36.410000  36.754002  36.754002  19510000\n",
              "2016-11-16  36.529999  36.945999  36.242001  36.785999  36.785999  17172000\n",
              "2016-11-17  36.698002  37.897999  36.422001  37.731998  37.731998  24435500\n",
              "2016-11-18  38.130001  38.599998  37.000000  37.004002  37.004002  26051500"
            ]
          },
          "metadata": {},
          "execution_count": 42
        }
      ]
    },
    {
      "cell_type": "code",
      "metadata": {
        "id": "-8484UNpHMF4"
      },
      "source": [
        "dataset = dataframe[['Open']]\n",
        "dataset = dataset.values.astype('float32')"
      ],
      "execution_count": 43,
      "outputs": []
    },
    {
      "cell_type": "code",
      "metadata": {
        "id": "u9kvgDPRHP2U"
      },
      "source": [
        "import matplotlib.pyplot as plt\n",
        "import seaborn as sns"
      ],
      "execution_count": 44,
      "outputs": []
    },
    {
      "cell_type": "code",
      "metadata": {
        "id": "rGI_nvwLHSFM"
      },
      "source": [
        "scaler = MinMaxScaler(feature_range=(0, 1))\n",
        "dataset = scaler.fit_transform(dataset)"
      ],
      "execution_count": 45,
      "outputs": []
    },
    {
      "cell_type": "code",
      "metadata": {
        "id": "x5_pmYgMHTXb"
      },
      "source": [
        "# train_size = 365 * 24 * 3 # chia theo năm\n",
        "train_size = int(len(dataset) * 0.67) # chia theo tỷ lệ\n",
        "test_size = len(dataset) - train_size\n",
        "train, test = dataset[0:train_size, :], dataset[train_size:len(dataset), :]\n",
        "look_back = 1\n",
        "trainX, trainY = create_dataset(train, look_back)\n",
        "testX, testY = create_dataset(test, look_back)"
      ],
      "execution_count": 46,
      "outputs": []
    },
    {
      "cell_type": "code",
      "metadata": {
        "colab": {
          "base_uri": "https://localhost:8080/"
        },
        "id": "p3W-4gWgIFL3",
        "outputId": "a55bbad9-9d62-4a0c-ba12-1b92e8cf1e6f"
      },
      "source": [
        "testX.shape"
      ],
      "execution_count": 47,
      "outputs": [
        {
          "output_type": "execute_result",
          "data": {
            "text/plain": [
              "(331, 1)"
            ]
          },
          "metadata": {},
          "execution_count": 47
        }
      ]
    },
    {
      "cell_type": "code",
      "metadata": {
        "colab": {
          "base_uri": "https://localhost:8080/"
        },
        "id": "BR9LKDMIHVCW",
        "outputId": "5c36d8dc-dbb8-440b-8729-670ae909d97b"
      },
      "source": [
        "trainX.shape"
      ],
      "execution_count": 48,
      "outputs": [
        {
          "output_type": "execute_result",
          "data": {
            "text/plain": [
              "(673, 1)"
            ]
          },
          "metadata": {},
          "execution_count": 48
        }
      ]
    },
    {
      "cell_type": "code",
      "metadata": {
        "id": "LTxc0YooHap9"
      },
      "source": [
        "model = Sequential()\n",
        "model.add(LSTM(32, input_shape=(1, look_back)))\n",
        "model.add(Dense(1))"
      ],
      "execution_count": 49,
      "outputs": []
    },
    {
      "cell_type": "code",
      "metadata": {
        "colab": {
          "base_uri": "https://localhost:8080/"
        },
        "id": "BHt6Kg0EHutY",
        "outputId": "442d254d-8d28-4dfa-d5a5-a3a5bd77cf6c"
      },
      "source": [
        "model.summary()"
      ],
      "execution_count": 50,
      "outputs": [
        {
          "output_type": "stream",
          "name": "stdout",
          "text": [
            "Model: \"sequential_2\"\n",
            "_________________________________________________________________\n",
            " Layer (type)                Output Shape              Param #   \n",
            "=================================================================\n",
            " lstm_2 (LSTM)               (None, 32)                4352      \n",
            "                                                                 \n",
            " dense_2 (Dense)             (None, 1)                 33        \n",
            "                                                                 \n",
            "=================================================================\n",
            "Total params: 4,385\n",
            "Trainable params: 4,385\n",
            "Non-trainable params: 0\n",
            "_________________________________________________________________\n"
          ]
        }
      ]
    },
    {
      "cell_type": "code",
      "metadata": {
        "id": "B0P9-KxbHwZI"
      },
      "source": [
        "from tensorflow.keras.callbacks import EarlyStopping\n",
        "\n",
        "early_stopping = EarlyStopping(\n",
        "    min_delta=0.0001,\n",
        "    patience=20,\n",
        "    restore_best_weights=True\n",
        ")"
      ],
      "execution_count": 51,
      "outputs": []
    },
    {
      "cell_type": "code",
      "metadata": {
        "colab": {
          "base_uri": "https://localhost:8080/"
        },
        "id": "maZH1IO9Hyve",
        "outputId": "7a17debf-629f-44cb-a6e3-3eee6da3e6c9"
      },
      "source": [
        "model.compile(loss='mean_squared_error', optimizer='adam')\n",
        "history = model.fit(trainX, trainY,\n",
        "                    validation_data=(testX, testY),\n",
        "                    epochs=50,\n",
        "                    batch_size=128,\n",
        "                    callbacks=[early_stopping],\n",
        "                    verbose=1)"
      ],
      "execution_count": 52,
      "outputs": [
        {
          "output_type": "stream",
          "name": "stdout",
          "text": [
            "Epoch 1/50\n",
            "6/6 [==============================] - 3s 109ms/step - loss: 0.0024 - val_loss: 0.1599\n",
            "Epoch 2/50\n",
            "6/6 [==============================] - 0s 7ms/step - loss: 0.0012 - val_loss: 0.1476\n",
            "Epoch 3/50\n",
            "6/6 [==============================] - 0s 8ms/step - loss: 5.9149e-04 - val_loss: 0.1372\n",
            "Epoch 4/50\n",
            "6/6 [==============================] - 0s 8ms/step - loss: 3.7371e-04 - val_loss: 0.1296\n",
            "Epoch 5/50\n",
            "6/6 [==============================] - 0s 11ms/step - loss: 3.8850e-04 - val_loss: 0.1256\n",
            "Epoch 6/50\n",
            "6/6 [==============================] - 0s 10ms/step - loss: 4.1930e-04 - val_loss: 0.1248\n",
            "Epoch 7/50\n",
            "6/6 [==============================] - 0s 13ms/step - loss: 3.9401e-04 - val_loss: 0.1257\n",
            "Epoch 8/50\n",
            "6/6 [==============================] - 0s 10ms/step - loss: 3.5986e-04 - val_loss: 0.1270\n",
            "Epoch 9/50\n",
            "6/6 [==============================] - 0s 15ms/step - loss: 3.4946e-04 - val_loss: 0.1273\n",
            "Epoch 10/50\n",
            "6/6 [==============================] - 0s 11ms/step - loss: 3.4997e-04 - val_loss: 0.1264\n",
            "Epoch 11/50\n",
            "6/6 [==============================] - 0s 11ms/step - loss: 3.4718e-04 - val_loss: 0.1246\n",
            "Epoch 12/50\n",
            "6/6 [==============================] - 0s 12ms/step - loss: 3.3983e-04 - val_loss: 0.1222\n",
            "Epoch 13/50\n",
            "6/6 [==============================] - 0s 14ms/step - loss: 3.3574e-04 - val_loss: 0.1200\n",
            "Epoch 14/50\n",
            "6/6 [==============================] - 0s 13ms/step - loss: 3.3147e-04 - val_loss: 0.1185\n",
            "Epoch 15/50\n",
            "6/6 [==============================] - 0s 12ms/step - loss: 3.2717e-04 - val_loss: 0.1171\n",
            "Epoch 16/50\n",
            "6/6 [==============================] - 0s 13ms/step - loss: 3.2281e-04 - val_loss: 0.1155\n",
            "Epoch 17/50\n",
            "6/6 [==============================] - 0s 10ms/step - loss: 3.1846e-04 - val_loss: 0.1139\n",
            "Epoch 18/50\n",
            "6/6 [==============================] - 0s 10ms/step - loss: 3.1421e-04 - val_loss: 0.1122\n",
            "Epoch 19/50\n",
            "6/6 [==============================] - 0s 11ms/step - loss: 3.0965e-04 - val_loss: 0.1103\n",
            "Epoch 20/50\n",
            "6/6 [==============================] - 0s 10ms/step - loss: 3.0494e-04 - val_loss: 0.1087\n",
            "Epoch 21/50\n",
            "6/6 [==============================] - 0s 8ms/step - loss: 3.0059e-04 - val_loss: 0.1068\n",
            "Epoch 22/50\n",
            "6/6 [==============================] - 0s 11ms/step - loss: 2.9542e-04 - val_loss: 0.1045\n",
            "Epoch 23/50\n",
            "6/6 [==============================] - 0s 7ms/step - loss: 2.9014e-04 - val_loss: 0.1023\n",
            "Epoch 24/50\n",
            "6/6 [==============================] - 0s 9ms/step - loss: 2.8487e-04 - val_loss: 0.1002\n",
            "Epoch 25/50\n",
            "6/6 [==============================] - 0s 8ms/step - loss: 2.7962e-04 - val_loss: 0.0983\n",
            "Epoch 26/50\n",
            "6/6 [==============================] - 0s 8ms/step - loss: 2.7399e-04 - val_loss: 0.0959\n",
            "Epoch 27/50\n",
            "6/6 [==============================] - 0s 8ms/step - loss: 2.6832e-04 - val_loss: 0.0937\n",
            "Epoch 28/50\n",
            "6/6 [==============================] - 0s 8ms/step - loss: 2.6284e-04 - val_loss: 0.0915\n",
            "Epoch 29/50\n",
            "6/6 [==============================] - 0s 9ms/step - loss: 2.5666e-04 - val_loss: 0.0888\n",
            "Epoch 30/50\n",
            "6/6 [==============================] - 0s 8ms/step - loss: 2.5057e-04 - val_loss: 0.0863\n",
            "Epoch 31/50\n",
            "6/6 [==============================] - 0s 8ms/step - loss: 2.4456e-04 - val_loss: 0.0838\n",
            "Epoch 32/50\n",
            "6/6 [==============================] - 0s 8ms/step - loss: 2.3829e-04 - val_loss: 0.0814\n",
            "Epoch 33/50\n",
            "6/6 [==============================] - 0s 9ms/step - loss: 2.3196e-04 - val_loss: 0.0793\n",
            "Epoch 34/50\n",
            "6/6 [==============================] - 0s 9ms/step - loss: 2.2582e-04 - val_loss: 0.0767\n",
            "Epoch 35/50\n",
            "6/6 [==============================] - 0s 8ms/step - loss: 2.1896e-04 - val_loss: 0.0737\n",
            "Epoch 36/50\n",
            "6/6 [==============================] - 0s 8ms/step - loss: 2.1181e-04 - val_loss: 0.0706\n",
            "Epoch 37/50\n",
            "6/6 [==============================] - 0s 8ms/step - loss: 2.0576e-04 - val_loss: 0.0674\n",
            "Epoch 38/50\n",
            "6/6 [==============================] - 0s 8ms/step - loss: 1.9880e-04 - val_loss: 0.0653\n",
            "Epoch 39/50\n",
            "6/6 [==============================] - 0s 12ms/step - loss: 1.9106e-04 - val_loss: 0.0627\n",
            "Epoch 40/50\n",
            "6/6 [==============================] - 0s 8ms/step - loss: 1.8396e-04 - val_loss: 0.0596\n",
            "Epoch 41/50\n",
            "6/6 [==============================] - 0s 11ms/step - loss: 1.7662e-04 - val_loss: 0.0566\n",
            "Epoch 42/50\n",
            "6/6 [==============================] - 0s 8ms/step - loss: 1.7013e-04 - val_loss: 0.0540\n",
            "Epoch 43/50\n",
            "6/6 [==============================] - 0s 8ms/step - loss: 1.6206e-04 - val_loss: 0.0510\n",
            "Epoch 44/50\n",
            "6/6 [==============================] - 0s 12ms/step - loss: 1.5478e-04 - val_loss: 0.0482\n",
            "Epoch 45/50\n",
            "6/6 [==============================] - 0s 10ms/step - loss: 1.4750e-04 - val_loss: 0.0457\n",
            "Epoch 46/50\n",
            "6/6 [==============================] - 0s 8ms/step - loss: 1.4021e-04 - val_loss: 0.0423\n",
            "Epoch 47/50\n",
            "6/6 [==============================] - 0s 11ms/step - loss: 1.3278e-04 - val_loss: 0.0393\n",
            "Epoch 48/50\n",
            "6/6 [==============================] - 0s 8ms/step - loss: 1.2511e-04 - val_loss: 0.0369\n",
            "Epoch 49/50\n",
            "6/6 [==============================] - 0s 8ms/step - loss: 1.1807e-04 - val_loss: 0.0343\n",
            "Epoch 50/50\n",
            "6/6 [==============================] - 0s 10ms/step - loss: 1.1075e-04 - val_loss: 0.0313\n"
          ]
        }
      ]
    },
    {
      "cell_type": "code",
      "metadata": {
        "colab": {
          "base_uri": "https://localhost:8080/"
        },
        "id": "7m9-GBLOH6YE",
        "outputId": "11b740c1-2ffe-4325-d103-fb41037650e3"
      },
      "source": [
        "history.history"
      ],
      "execution_count": 53,
      "outputs": [
        {
          "output_type": "execute_result",
          "data": {
            "text/plain": [
              "{'loss': [0.0023534076754003763,\n",
              "  0.0012186520034447312,\n",
              "  0.0005914908833801746,\n",
              "  0.0003737097722478211,\n",
              "  0.0003884978941641748,\n",
              "  0.00041929533472284675,\n",
              "  0.00039400512469001114,\n",
              "  0.00035985882277600467,\n",
              "  0.0003494556585792452,\n",
              "  0.0003499676240608096,\n",
              "  0.0003471778763923794,\n",
              "  0.0003398297412786633,\n",
              "  0.00033574411645531654,\n",
              "  0.0003314730420242995,\n",
              "  0.0003271743771620095,\n",
              "  0.0003228134592063725,\n",
              "  0.0003184586821589619,\n",
              "  0.00031420920277014375,\n",
              "  0.0003096516302321106,\n",
              "  0.00030493922531604767,\n",
              "  0.0003005922771990299,\n",
              "  0.0002954165975097567,\n",
              "  0.0002901364932768047,\n",
              "  0.0002848721924237907,\n",
              "  0.0002796229673549533,\n",
              "  0.00027399294776842,\n",
              "  0.0002683189231902361,\n",
              "  0.00026284190244041383,\n",
              "  0.00025666237343102694,\n",
              "  0.00025057370658032596,\n",
              "  0.00024455800303258,\n",
              "  0.00023828854318708181,\n",
              "  0.00023196281108539551,\n",
              "  0.00022582290694117546,\n",
              "  0.0002189582010032609,\n",
              "  0.0002118084958055988,\n",
              "  0.0002057644014712423,\n",
              "  0.00019879714818671346,\n",
              "  0.0001910571299958974,\n",
              "  0.00018395835650153458,\n",
              "  0.0001766218920238316,\n",
              "  0.0001701328146737069,\n",
              "  0.000162056356202811,\n",
              "  0.0001547765568830073,\n",
              "  0.00014749859110452235,\n",
              "  0.00014021470269653946,\n",
              "  0.00013278047845233232,\n",
              "  0.0001251113717444241,\n",
              "  0.00011807030386989936,\n",
              "  0.0001107548305299133],\n",
              " 'val_loss': [0.1599152386188507,\n",
              "  0.14762458205223083,\n",
              "  0.13715235888957977,\n",
              "  0.12955325841903687,\n",
              "  0.12556566298007965,\n",
              "  0.12479159981012344,\n",
              "  0.12572695314884186,\n",
              "  0.12699399888515472,\n",
              "  0.1273103654384613,\n",
              "  0.12637832760810852,\n",
              "  0.12456885725259781,\n",
              "  0.12224116921424866,\n",
              "  0.11995550990104675,\n",
              "  0.11846139281988144,\n",
              "  0.11707413196563721,\n",
              "  0.11549217253923416,\n",
              "  0.11385788023471832,\n",
              "  0.11217722296714783,\n",
              "  0.1103062853217125,\n",
              "  0.10872709006071091,\n",
              "  0.10682272911071777,\n",
              "  0.1045355424284935,\n",
              "  0.10230457037687302,\n",
              "  0.10020402818918228,\n",
              "  0.09826193749904633,\n",
              "  0.09588178992271423,\n",
              "  0.09365228563547134,\n",
              "  0.09153323620557785,\n",
              "  0.08884796500205994,\n",
              "  0.08631917834281921,\n",
              "  0.08381188660860062,\n",
              "  0.08139406889677048,\n",
              "  0.07929319888353348,\n",
              "  0.07674410194158554,\n",
              "  0.07370956242084503,\n",
              "  0.07062708586454391,\n",
              "  0.06744853407144547,\n",
              "  0.06525511294603348,\n",
              "  0.06273642182350159,\n",
              "  0.059579309076070786,\n",
              "  0.05664407089352608,\n",
              "  0.05397079139947891,\n",
              "  0.05095933750271797,\n",
              "  0.04815821722149849,\n",
              "  0.0457109697163105,\n",
              "  0.042320143431425095,\n",
              "  0.03929777070879936,\n",
              "  0.03689341992139816,\n",
              "  0.03430548682808876,\n",
              "  0.03127576783299446]}"
            ]
          },
          "metadata": {},
          "execution_count": 53
        }
      ]
    },
    {
      "cell_type": "code",
      "metadata": {
        "colab": {
          "base_uri": "https://localhost:8080/",
          "height": 265
        },
        "id": "TyLljB0yH0PS",
        "outputId": "3ecd9f80-36a2-4bf4-d692-f525d61c8b30"
      },
      "source": [
        "# plot history\n",
        "plt.plot(history.history['loss'], label='train')\n",
        "plt.plot(history.history['val_loss'], label='test')\n",
        "plt.legend()\n",
        "plt.show()"
      ],
      "execution_count": 54,
      "outputs": [
        {
          "output_type": "display_data",
          "data": {
            "image/png": "[encoded data removed]",
            "text/plain": [
              "<Figure size 432x288 with 1 Axes>"
            ]
          },
          "metadata": {
            "needs_background": "light"
          }
        }
      ]
    },
    {
      "cell_type": "code",
      "metadata": {
        "colab": {
          "base_uri": "https://localhost:8080/"
        },
        "id": "zNnCt8XMH4UJ",
        "outputId": "c48f57ab-64c0-404c-936b-c22e2f15b9b2"
      },
      "source": [
        "train_predict = model.predict(trainX)\n",
        "test_predict= model.predict(testX)\n",
        "train_predict = scaler.inverse_transform(train_predict)\n",
        "trainY = scaler.inverse_transform([trainY])\n",
        "test_predict = scaler.inverse_transform(test_predict)\n",
        "testY = scaler.inverse_transform([testY])\n",
        "trainY[0][:5]"
      ],
      "execution_count": 55,
      "outputs": [
        {
          "output_type": "execute_result",
          "data": {
            "text/plain": [
              "array([36.55599881, 36.52999821, 36.69800233, 38.12999995, 37.00799957])"
            ]
          },
          "metadata": {},
          "execution_count": 55
        }
      ]
    },
    {
      "cell_type": "code",
      "metadata": {
        "colab": {
          "base_uri": "https://localhost:8080/"
        },
        "id": "dPXu8TiOIYtl",
        "outputId": "bc957f0e-8faf-4e19-d504-49d8e30cc02e"
      },
      "source": [
        "train_predict[:5]"
      ],
      "execution_count": 56,
      "outputs": [
        {
          "output_type": "execute_result",
          "data": {
            "text/plain": [
              "array([[48.636032],\n",
              "       [48.10616 ],\n",
              "       [48.092964],\n",
              "       [48.17821 ],\n",
              "       [48.905163]], dtype=float32)"
            ]
          },
          "metadata": {},
          "execution_count": 56
        }
      ]
    },
    {
      "cell_type": "code",
      "metadata": {
        "colab": {
          "base_uri": "https://localhost:8080/"
        },
        "id": "pT5qdMsBIarS",
        "outputId": "a94d55de-aa59-485c-9d10-6356585b9dc5"
      },
      "source": [
        "train_rmse = math.sqrt(mean_squared_error(trainY[0], train_predict[:,0]))\n",
        "train_rmse"
      ],
      "execution_count": 57,
      "outputs": [
        {
          "output_type": "execute_result",
          "data": {
            "text/plain": [
              "4.79524528872513"
            ]
          },
          "metadata": {},
          "execution_count": 57
        }
      ]
    },
    {
      "cell_type": "code",
      "metadata": {
        "colab": {
          "base_uri": "https://localhost:8080/"
        },
        "id": "jqIwIer5Idi2",
        "outputId": "11cc05e1-06ff-45e5-e85d-40fbe25ff2cb"
      },
      "source": [
        "test_rmse = math.sqrt(mean_squared_error(testY[0], test_predict[:,0]))\n",
        "test_rmse"
      ],
      "execution_count": 58,
      "outputs": [
        {
          "output_type": "execute_result",
          "data": {
            "text/plain": [
              "82.39775418320559"
            ]
          },
          "metadata": {},
          "execution_count": 58
        }
      ]
    },
    {
      "cell_type": "code",
      "metadata": {
        "id": "9m4Ov3XcIfBz"
      },
      "source": [
        "train_mae = mean_absolute_error(trainY[0], train_predict[:,0])\n",
        "test_mae = mean_absolute_error(testY[0], test_predict[:,0])"
      ],
      "execution_count": 59,
      "outputs": []
    },
    {
      "cell_type": "code",
      "metadata": {
        "id": "jw4jKq2vIh_l"
      },
      "source": [
        "#Shift train predictions for plotting\n",
        "trainPredictPlot = numpy.empty_like(dataset)\n",
        "trainPredictPlot[:, :] = numpy.nan\n",
        "trainPredictPlot[look_back:len(train_predict)+look_back, :] = train_predict\n",
        "# shift test predictions for plotting\n",
        "testPredictPlot = numpy.empty_like(dataset)\n",
        "testPredictPlot[:, :] = numpy.nan\n",
        "testPredictPlot[len(train_predict)+(look_back*2)+1:len(dataset)-1, :] = test_predict"
      ],
      "execution_count": 60,
      "outputs": []
    },
    {
      "cell_type": "code",
      "metadata": {
        "colab": {
          "base_uri": "https://localhost:8080/",
          "height": 374
        },
        "id": "j5Uj-5JSIkv0",
        "outputId": "b0c14fcf-0593-45ce-9beb-fcb10c786e10"
      },
      "source": [
        "# plot baseline and predictions\n",
        "plt.figure(figsize=(10,6))\n",
        "plt.plot(scaler.inverse_transform(dataset), label='Real Data')\n",
        "plt.plot(trainPredictPlot, label='trainPredict')\n",
        "plt.plot(testPredictPlot, label='testPredict')\n",
        "plt.legend(title=\"Notes\")\n",
        "plt.show()"
      ],
      "execution_count": 61,
      "outputs": [
        {
          "output_type": "display_data",
          "data": {
            "image/png": "[encoded data removed]",
            "text/plain": [
              "<Figure size 720x432 with 1 Axes>"
            ]
          },
          "metadata": {
            "needs_background": "light"
          }
        }
      ]
    },
    {
      "cell_type": "code",
      "metadata": {
        "id": "RKqgK0RfImDJ"
      },
      "source": [
        ""
      ],
      "execution_count": null,
      "outputs": []
    }
  ]
}