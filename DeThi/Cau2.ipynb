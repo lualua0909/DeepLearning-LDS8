{
  "nbformat": 4,
  "nbformat_minor": 0,
  "metadata": {
    "colab": {
      "name": "Cau2.ipynb",
      "provenance": [],
      "authorship_tag": "ABX9TyM/Sc981w2SH7K6F5faPyyh",
      "include_colab_link": true
    },
    "kernelspec": {
      "name": "python3",
      "display_name": "Python 3"
    },
    "language_info": {
      "name": "python"
    }
  },
  "cells": [
    {
      "cell_type": "markdown",
      "metadata": {
        "id": "view-in-github",
        "colab_type": "text"
      },
      "source": [
        "<a href=\"https://colab.research.google.com/github/lualua0909/DeepLearning-LDS8/blob/main/DeThi/Cau2.ipynb\" target=\"_parent\"><img src=\"https://colab.research.google.com/assets/colab-badge.svg\" alt=\"Open In Colab\"/></a>"
      ]
    },
    {
      "cell_type": "markdown",
      "metadata": {
        "id": "lqhSHG8K9mZy"
      },
      "source": [
        "##**Question 2: ANN**\n",
        "* Software to detect network intrusions protects a computer network from unauthorized users, including perhaps insiders. The intrusion detector learning task is to build a predictive model (i.e. a classifier) capable of distinguishing between 'bad' connections, called intrusions or attacks, and 'good' normal connections.\n",
        "* Read more: https://archive.ics.uci.edu/ml/datasets/KDD+Cup+1999+Data ### Requirement:\n",
        "* Use KDD dataset (kddcup.data.gz) to try to classify a connection as 'normal.' or others.\n",
        "* Make a new prediction for each sample in KDD test dataset (kddcup.testdata.unlabeled.gz)."
      ]
    },
    {
      "cell_type": "code",
      "metadata": {
        "id": "13I6_SoU9j4M"
      },
      "source": [
        ""
      ],
      "execution_count": null,
      "outputs": []
    }
  ]
}