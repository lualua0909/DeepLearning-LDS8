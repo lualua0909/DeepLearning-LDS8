{
  "nbformat": 4,
  "nbformat_minor": 0,
  "metadata": {
    "colab": {
      "name": "Cau4.ipynb",
      "provenance": [],
      "authorship_tag": "ABX9TyOSE3V8QlxlP2Q4vjVGsK0E",
      "include_colab_link": true
    },
    "kernelspec": {
      "name": "python3",
      "display_name": "Python 3"
    },
    "language_info": {
      "name": "python"
    }
  },
  "cells": [
    {
      "cell_type": "markdown",
      "metadata": {
        "id": "view-in-github",
        "colab_type": "text"
      },
      "source": [
        "<a href=\"https://colab.research.google.com/github/lualua0909/DeepLearning-LDS8/blob/main/DeThi/Cau4.ipynb\" target=\"_parent\"><img src=\"https://colab.research.google.com/assets/colab-badge.svg\" alt=\"Open In Colab\"/></a>"
      ]
    },
    {
      "cell_type": "markdown",
      "metadata": {
        "id": "rahYteGKLfOo"
      },
      "source": [
        "# Question 4: Transfer Learning\n",
        "- Basing on your dataset in Question 3: CNN, please choose a suitable pre-trained model (VGG16, Resnet50, InceptionV3, MobileNet....) and a strategy (Chapter 5: Transfer Learling from Pre-trained model) to build a model to classify class of each sample.\n",
        "- Compare execution time and accuracy of two models (Question 3 vs. Question 4)"
      ]
    },
    {
      "cell_type": "code",
      "metadata": {
        "id": "NhRtTuVqLeRE"
      },
      "source": [
        ""
      ],
      "execution_count": null,
      "outputs": []
    }
  ]
}