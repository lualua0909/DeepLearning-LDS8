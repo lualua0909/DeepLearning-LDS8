{
  "nbformat": 4,
  "nbformat_minor": 0,
  "metadata": {
    "colab": {
      "name": "Cau1.ipynb",
      "provenance": [],
      "authorship_tag": "ABX9TyMc23SLWheyoOMvxyW0SGW/",
      "include_colab_link": true
    },
    "kernelspec": {
      "name": "python3",
      "display_name": "Python 3"
    },
    "language_info": {
      "name": "python"
    },
    "accelerator": "GPU"
  },
  "cells": [
    {
      "cell_type": "markdown",
      "metadata": {
        "id": "view-in-github",
        "colab_type": "text"
      },
      "source": [
        "<a href=\"https://colab.research.google.com/github/lualua0909/DeepLearning-LDS8/blob/main/DeThi/Cau1.ipynb\" target=\"_parent\"><img src=\"https://colab.research.google.com/assets/colab-badge.svg\" alt=\"Open In Colab\"/></a>"
      ]
    },
    {
      "cell_type": "markdown",
      "metadata": {
        "id": "2mawjrmN79wt"
      },
      "source": [
        "##**Question 1: ANN**\n",
        "* Use MELBOURNE_HOUSE_PRICE dataset (MELBOURNE_HOUSE_PRICES_LESS.csv) to precdict house prices from other features.\n",
        "* Read more: https://www.kaggle.com/anthonypino/melbourne-housing-market/data ### Requirement:\n",
        "* Apply ANN to build a model that predicts house prices from the provided features.\n",
        "* Make new predictions for samples that have no prices in the dataset."
      ]
    },
    {
      "cell_type": "code",
      "metadata": {
        "id": "T3wi3iST7os6"
      },
      "source": [
        "# Import\n",
        "import tensorflow as tf\n",
        "from tensorflow import keras\n",
        "from tensorflow.keras import Sequential\n",
        "from tensorflow.keras.layers import Dense\n",
        "import numpy as np\n",
        "import pandas as pd"
      ],
      "execution_count": 92,
      "outputs": []
    },
    {
      "cell_type": "code",
      "metadata": {
        "colab": {
          "base_uri": "https://localhost:8080/"
        },
        "id": "NegpEyY28qRD",
        "outputId": "ad295eb5-0de5-415d-84d2-639baba478f0"
      },
      "source": [
        "df = pd.read_csv(\"https://raw.githubusercontent.com/lualua0909/DeepLearning-LDS8/main/Data/MELBOURNE_HOUSE_PRICES_LESS.csv\")\n",
        "df.info()"
      ],
      "execution_count": 93,
      "outputs": [
        {
          "output_type": "stream",
          "name": "stdout",
          "text": [
            "<class 'pandas.core.frame.DataFrame'>\n",
            "RangeIndex: 63023 entries, 0 to 63022\n",
            "Data columns (total 13 columns):\n",
            " #   Column         Non-Null Count  Dtype  \n",
            "---  ------         --------------  -----  \n",
            " 0   Suburb         63023 non-null  object \n",
            " 1   Address        63023 non-null  object \n",
            " 2   Rooms          63023 non-null  int64  \n",
            " 3   Type           63023 non-null  object \n",
            " 4   Price          48433 non-null  float64\n",
            " 5   Method         63023 non-null  object \n",
            " 6   SellerG        63023 non-null  object \n",
            " 7   Date           63023 non-null  object \n",
            " 8   Postcode       63023 non-null  int64  \n",
            " 9   Regionname     63023 non-null  object \n",
            " 10  Propertycount  63023 non-null  int64  \n",
            " 11  Distance       63023 non-null  float64\n",
            " 12  CouncilArea    63023 non-null  object \n",
            "dtypes: float64(2), int64(3), object(8)\n",
            "memory usage: 6.3+ MB\n"
          ]
        }
      ]
    },
    {
      "cell_type": "code",
      "metadata": {
        "colab": {
          "base_uri": "https://localhost:8080/",
          "height": 289
        },
        "id": "ZcN6YRes80T_",
        "outputId": "671b3f36-4467-43a8-df91-6060787c89a1"
      },
      "source": [
        "df.head()"
      ],
      "execution_count": 94,
      "outputs": [
        {
          "output_type": "execute_result",
          "data": {
            "text/html": [
              "<div>\n",
              "<style scoped>\n",
              "    .dataframe tbody tr th:only-of-type {\n",
              "        vertical-align: middle;\n",
              "    }\n",
              "\n",
              "    .dataframe tbody tr th {\n",
              "        vertical-align: top;\n",
              "    }\n",
              "\n",
              "    .dataframe thead th {\n",
              "        text-align: right;\n",
              "    }\n",
              "</style>\n",
              "<table border=\"1\" class=\"dataframe\">\n",
              "  <thead>\n",
              "    <tr style=\"text-align: right;\">\n",
              "      <th></th>\n",
              "      <th>Suburb</th>\n",
              "      <th>Address</th>\n",
              "      <th>Rooms</th>\n",
              "      <th>Type</th>\n",
              "      <th>Price</th>\n",
              "      <th>Method</th>\n",
              "      <th>SellerG</th>\n",
              "      <th>Date</th>\n",
              "      <th>Postcode</th>\n",
              "      <th>Regionname</th>\n",
              "      <th>Propertycount</th>\n",
              "      <th>Distance</th>\n",
              "      <th>CouncilArea</th>\n",
              "    </tr>\n",
              "  </thead>\n",
              "  <tbody>\n",
              "    <tr>\n",
              "      <th>0</th>\n",
              "      <td>Abbotsford</td>\n",
              "      <td>49 Lithgow St</td>\n",
              "      <td>3</td>\n",
              "      <td>h</td>\n",
              "      <td>1490000.0</td>\n",
              "      <td>S</td>\n",
              "      <td>Jellis</td>\n",
              "      <td>1/04/2017</td>\n",
              "      <td>3067</td>\n",
              "      <td>Northern Metropolitan</td>\n",
              "      <td>4019</td>\n",
              "      <td>3.0</td>\n",
              "      <td>Yarra City Council</td>\n",
              "    </tr>\n",
              "    <tr>\n",
              "      <th>1</th>\n",
              "      <td>Abbotsford</td>\n",
              "      <td>59A Turner St</td>\n",
              "      <td>3</td>\n",
              "      <td>h</td>\n",
              "      <td>1220000.0</td>\n",
              "      <td>S</td>\n",
              "      <td>Marshall</td>\n",
              "      <td>1/04/2017</td>\n",
              "      <td>3067</td>\n",
              "      <td>Northern Metropolitan</td>\n",
              "      <td>4019</td>\n",
              "      <td>3.0</td>\n",
              "      <td>Yarra City Council</td>\n",
              "    </tr>\n",
              "    <tr>\n",
              "      <th>2</th>\n",
              "      <td>Abbotsford</td>\n",
              "      <td>119B Yarra St</td>\n",
              "      <td>3</td>\n",
              "      <td>h</td>\n",
              "      <td>1420000.0</td>\n",
              "      <td>S</td>\n",
              "      <td>Nelson</td>\n",
              "      <td>1/04/2017</td>\n",
              "      <td>3067</td>\n",
              "      <td>Northern Metropolitan</td>\n",
              "      <td>4019</td>\n",
              "      <td>3.0</td>\n",
              "      <td>Yarra City Council</td>\n",
              "    </tr>\n",
              "    <tr>\n",
              "      <th>3</th>\n",
              "      <td>Aberfeldie</td>\n",
              "      <td>68 Vida St</td>\n",
              "      <td>3</td>\n",
              "      <td>h</td>\n",
              "      <td>1515000.0</td>\n",
              "      <td>S</td>\n",
              "      <td>Barry</td>\n",
              "      <td>1/04/2017</td>\n",
              "      <td>3040</td>\n",
              "      <td>Western Metropolitan</td>\n",
              "      <td>1543</td>\n",
              "      <td>7.5</td>\n",
              "      <td>Moonee Valley City Council</td>\n",
              "    </tr>\n",
              "    <tr>\n",
              "      <th>4</th>\n",
              "      <td>Airport West</td>\n",
              "      <td>92 Clydesdale Rd</td>\n",
              "      <td>2</td>\n",
              "      <td>h</td>\n",
              "      <td>670000.0</td>\n",
              "      <td>S</td>\n",
              "      <td>Nelson</td>\n",
              "      <td>1/04/2017</td>\n",
              "      <td>3042</td>\n",
              "      <td>Western Metropolitan</td>\n",
              "      <td>3464</td>\n",
              "      <td>10.4</td>\n",
              "      <td>Moonee Valley City Council</td>\n",
              "    </tr>\n",
              "  </tbody>\n",
              "</table>\n",
              "</div>"
            ],
            "text/plain": [
              "         Suburb           Address  ...  Distance                 CouncilArea\n",
              "0    Abbotsford     49 Lithgow St  ...       3.0          Yarra City Council\n",
              "1    Abbotsford     59A Turner St  ...       3.0          Yarra City Council\n",
              "2    Abbotsford     119B Yarra St  ...       3.0          Yarra City Council\n",
              "3    Aberfeldie        68 Vida St  ...       7.5  Moonee Valley City Council\n",
              "4  Airport West  92 Clydesdale Rd  ...      10.4  Moonee Valley City Council\n",
              "\n",
              "[5 rows x 13 columns]"
            ]
          },
          "metadata": {},
          "execution_count": 94
        }
      ]
    },
    {
      "cell_type": "code",
      "metadata": {
        "id": "bxQOqgKEMR0U"
      },
      "source": [
        "#Xoa null price\n",
        "df.dropna(inplace=True)"
      ],
      "execution_count": 95,
      "outputs": []
    },
    {
      "cell_type": "code",
      "metadata": {
        "colab": {
          "base_uri": "https://localhost:8080/",
          "height": 204
        },
        "id": "izPShe3y84o0",
        "outputId": "efb0f76f-2cb7-4c6f-c90b-41030893d28a"
      },
      "source": [
        "#create a dataframe with all training data except the target column\n",
        "train_X = df.drop(columns=['Suburb', 'Address', 'Method', 'SellerG', 'Date', 'Regionname', 'Price'])\n",
        "#check that the target variable has been removed\n",
        "train_X.head()"
      ],
      "execution_count": 96,
      "outputs": [
        {
          "output_type": "execute_result",
          "data": {
            "text/html": [
              "<div>\n",
              "<style scoped>\n",
              "    .dataframe tbody tr th:only-of-type {\n",
              "        vertical-align: middle;\n",
              "    }\n",
              "\n",
              "    .dataframe tbody tr th {\n",
              "        vertical-align: top;\n",
              "    }\n",
              "\n",
              "    .dataframe thead th {\n",
              "        text-align: right;\n",
              "    }\n",
              "</style>\n",
              "<table border=\"1\" class=\"dataframe\">\n",
              "  <thead>\n",
              "    <tr style=\"text-align: right;\">\n",
              "      <th></th>\n",
              "      <th>Rooms</th>\n",
              "      <th>Type</th>\n",
              "      <th>Postcode</th>\n",
              "      <th>Propertycount</th>\n",
              "      <th>Distance</th>\n",
              "      <th>CouncilArea</th>\n",
              "    </tr>\n",
              "  </thead>\n",
              "  <tbody>\n",
              "    <tr>\n",
              "      <th>0</th>\n",
              "      <td>3</td>\n",
              "      <td>h</td>\n",
              "      <td>3067</td>\n",
              "      <td>4019</td>\n",
              "      <td>3.0</td>\n",
              "      <td>Yarra City Council</td>\n",
              "    </tr>\n",
              "    <tr>\n",
              "      <th>1</th>\n",
              "      <td>3</td>\n",
              "      <td>h</td>\n",
              "      <td>3067</td>\n",
              "      <td>4019</td>\n",
              "      <td>3.0</td>\n",
              "      <td>Yarra City Council</td>\n",
              "    </tr>\n",
              "    <tr>\n",
              "      <th>2</th>\n",
              "      <td>3</td>\n",
              "      <td>h</td>\n",
              "      <td>3067</td>\n",
              "      <td>4019</td>\n",
              "      <td>3.0</td>\n",
              "      <td>Yarra City Council</td>\n",
              "    </tr>\n",
              "    <tr>\n",
              "      <th>3</th>\n",
              "      <td>3</td>\n",
              "      <td>h</td>\n",
              "      <td>3040</td>\n",
              "      <td>1543</td>\n",
              "      <td>7.5</td>\n",
              "      <td>Moonee Valley City Council</td>\n",
              "    </tr>\n",
              "    <tr>\n",
              "      <th>4</th>\n",
              "      <td>2</td>\n",
              "      <td>h</td>\n",
              "      <td>3042</td>\n",
              "      <td>3464</td>\n",
              "      <td>10.4</td>\n",
              "      <td>Moonee Valley City Council</td>\n",
              "    </tr>\n",
              "  </tbody>\n",
              "</table>\n",
              "</div>"
            ],
            "text/plain": [
              "   Rooms Type  Postcode  Propertycount  Distance                 CouncilArea\n",
              "0      3    h      3067           4019       3.0          Yarra City Council\n",
              "1      3    h      3067           4019       3.0          Yarra City Council\n",
              "2      3    h      3067           4019       3.0          Yarra City Council\n",
              "3      3    h      3040           1543       7.5  Moonee Valley City Council\n",
              "4      2    h      3042           3464      10.4  Moonee Valley City Council"
            ]
          },
          "metadata": {},
          "execution_count": 96
        }
      ]
    },
    {
      "cell_type": "code",
      "metadata": {
        "colab": {
          "base_uri": "https://localhost:8080/"
        },
        "id": "5SzX1ANgMyNP",
        "outputId": "9ff63778-c06d-4ecc-dfc6-52ca60cc4ec4"
      },
      "source": [
        "train_X.shape"
      ],
      "execution_count": 97,
      "outputs": [
        {
          "output_type": "execute_result",
          "data": {
            "text/plain": [
              "(48433, 6)"
            ]
          },
          "metadata": {},
          "execution_count": 97
        }
      ]
    },
    {
      "cell_type": "code",
      "metadata": {
        "colab": {
          "base_uri": "https://localhost:8080/",
          "height": 204
        },
        "id": "kC1k4myC9ywr",
        "outputId": "89ef8fce-710c-49e1-9ce5-367120227865"
      },
      "source": [
        "#create a dataframe with only the target column\n",
        "train_y = df[['Price']]\n",
        "#view dataframe\n",
        "train_y.head()"
      ],
      "execution_count": 98,
      "outputs": [
        {
          "output_type": "execute_result",
          "data": {
            "text/html": [
              "<div>\n",
              "<style scoped>\n",
              "    .dataframe tbody tr th:only-of-type {\n",
              "        vertical-align: middle;\n",
              "    }\n",
              "\n",
              "    .dataframe tbody tr th {\n",
              "        vertical-align: top;\n",
              "    }\n",
              "\n",
              "    .dataframe thead th {\n",
              "        text-align: right;\n",
              "    }\n",
              "</style>\n",
              "<table border=\"1\" class=\"dataframe\">\n",
              "  <thead>\n",
              "    <tr style=\"text-align: right;\">\n",
              "      <th></th>\n",
              "      <th>Price</th>\n",
              "    </tr>\n",
              "  </thead>\n",
              "  <tbody>\n",
              "    <tr>\n",
              "      <th>0</th>\n",
              "      <td>1490000.0</td>\n",
              "    </tr>\n",
              "    <tr>\n",
              "      <th>1</th>\n",
              "      <td>1220000.0</td>\n",
              "    </tr>\n",
              "    <tr>\n",
              "      <th>2</th>\n",
              "      <td>1420000.0</td>\n",
              "    </tr>\n",
              "    <tr>\n",
              "      <th>3</th>\n",
              "      <td>1515000.0</td>\n",
              "    </tr>\n",
              "    <tr>\n",
              "      <th>4</th>\n",
              "      <td>670000.0</td>\n",
              "    </tr>\n",
              "  </tbody>\n",
              "</table>\n",
              "</div>"
            ],
            "text/plain": [
              "       Price\n",
              "0  1490000.0\n",
              "1  1220000.0\n",
              "2  1420000.0\n",
              "3  1515000.0\n",
              "4   670000.0"
            ]
          },
          "metadata": {},
          "execution_count": 98
        }
      ]
    },
    {
      "cell_type": "code",
      "metadata": {
        "colab": {
          "base_uri": "https://localhost:8080/"
        },
        "id": "oKQeYhmo9_st",
        "outputId": "46be6bf0-b82a-47f4-824b-099c25311c43"
      },
      "source": [
        "#get number of columns in training data\n",
        "n_cols = train_X.shape[1]\n",
        "n_cols"
      ],
      "execution_count": 99,
      "outputs": [
        {
          "output_type": "execute_result",
          "data": {
            "text/plain": [
              "6"
            ]
          },
          "metadata": {},
          "execution_count": 99
        }
      ]
    },
    {
      "cell_type": "code",
      "metadata": {
        "id": "alNrc_OOBouP"
      },
      "source": [
        "X = train_X[:].values\n",
        "y = train_y[:].values"
      ],
      "execution_count": 100,
      "outputs": []
    },
    {
      "cell_type": "code",
      "metadata": {
        "colab": {
          "base_uri": "https://localhost:8080/"
        },
        "id": "CRinxrCBCzPv",
        "outputId": "a5840374-af83-4f3e-e478-3f86064da4b2"
      },
      "source": [
        "X[:10]"
      ],
      "execution_count": 101,
      "outputs": [
        {
          "output_type": "execute_result",
          "data": {
            "text/plain": [
              "array([[3, 'h', 3067, 4019, 3.0, 'Yarra City Council'],\n",
              "       [3, 'h', 3067, 4019, 3.0, 'Yarra City Council'],\n",
              "       [3, 'h', 3067, 4019, 3.0, 'Yarra City Council'],\n",
              "       [3, 'h', 3040, 1543, 7.5, 'Moonee Valley City Council'],\n",
              "       [2, 'h', 3042, 3464, 10.4, 'Moonee Valley City Council'],\n",
              "       [2, 't', 3042, 3464, 10.4, 'Moonee Valley City Council'],\n",
              "       [2, 'u', 3042, 3464, 10.4, 'Moonee Valley City Council'],\n",
              "       [3, 'h', 3042, 3464, 10.4, 'Moonee Valley City Council'],\n",
              "       [3, 'h', 3206, 3280, 3.0, 'Port Phillip City Council'],\n",
              "       [3, 'u', 3020, 2185, 10.5, 'Brimbank City Council']], dtype=object)"
            ]
          },
          "metadata": {},
          "execution_count": 101
        }
      ]
    },
    {
      "cell_type": "code",
      "metadata": {
        "colab": {
          "base_uri": "https://localhost:8080/"
        },
        "id": "aR_-zv3jC-3j",
        "outputId": "23bf15eb-45f3-4f22-9d34-639aac4f3d32"
      },
      "source": [
        "from sklearn.preprocessing import LabelEncoder, OneHotEncoder\n",
        "from sklearn.compose import ColumnTransformer\n",
        "\n",
        "labelencoder_X_1 = LabelEncoder()\n",
        "X[:, 1] = labelencoder_X_1.fit_transform(X[:, 1])\n",
        "labelencoder_X_2 = LabelEncoder()\n",
        "X[:, 5] = labelencoder_X_2.fit_transform(X[:, 5])\n",
        "\n",
        "X[:10]"
      ],
      "execution_count": 102,
      "outputs": [
        {
          "output_type": "execute_result",
          "data": {
            "text/plain": [
              "array([[3, 0, 3067, 4019, 3.0, 32],\n",
              "       [3, 0, 3067, 4019, 3.0, 32],\n",
              "       [3, 0, 3067, 4019, 3.0, 32],\n",
              "       [3, 0, 3040, 1543, 7.5, 22],\n",
              "       [2, 0, 3042, 3464, 10.4, 22],\n",
              "       [2, 1, 3042, 3464, 10.4, 22],\n",
              "       [2, 2, 3042, 3464, 10.4, 22],\n",
              "       [3, 0, 3042, 3464, 10.4, 22],\n",
              "       [3, 0, 3206, 3280, 3.0, 27],\n",
              "       [3, 2, 3020, 2185, 10.5, 3]], dtype=object)"
            ]
          },
          "metadata": {},
          "execution_count": 102
        }
      ]
    },
    {
      "cell_type": "code",
      "metadata": {
        "colab": {
          "base_uri": "https://localhost:8080/"
        },
        "id": "ycBjGoYcDt6_",
        "outputId": "44998529-ca0a-4540-ca68-19e5ec35e4d7"
      },
      "source": [
        "ct = ColumnTransformer([('encoder', OneHotEncoder(), [1])],\n",
        " remainder='passthrough')\n",
        "X = ct.fit_transform(X.tolist())\n",
        "\n",
        "X = X[:, 1:]\n",
        "X[:10]"
      ],
      "execution_count": 103,
      "outputs": [
        {
          "output_type": "execute_result",
          "data": {
            "text/plain": [
              "array([[0.0, 0.0, 3, 3067, 4019, 3.0, 32],\n",
              "       [0.0, 0.0, 3, 3067, 4019, 3.0, 32],\n",
              "       [0.0, 0.0, 3, 3067, 4019, 3.0, 32],\n",
              "       [0.0, 0.0, 3, 3040, 1543, 7.5, 22],\n",
              "       [0.0, 0.0, 2, 3042, 3464, 10.4, 22],\n",
              "       [1.0, 0.0, 2, 3042, 3464, 10.4, 22],\n",
              "       [0.0, 1.0, 2, 3042, 3464, 10.4, 22],\n",
              "       [0.0, 0.0, 3, 3042, 3464, 10.4, 22],\n",
              "       [0.0, 0.0, 3, 3206, 3280, 3.0, 27],\n",
              "       [0.0, 1.0, 3, 3020, 2185, 10.5, 3]], dtype=object)"
            ]
          },
          "metadata": {},
          "execution_count": 103
        }
      ]
    },
    {
      "cell_type": "code",
      "metadata": {
        "id": "0-Zoef-6EKv3"
      },
      "source": [
        "from sklearn.preprocessing import StandardScaler\n",
        "sc = StandardScaler()\n",
        "sc.fit(X)\n",
        "X = sc.transform(X)"
      ],
      "execution_count": 104,
      "outputs": []
    },
    {
      "cell_type": "code",
      "metadata": {
        "id": "Yobk84rlEt-z"
      },
      "source": [
        "# Splitting the dataset into the Training set and Test set\n",
        "from sklearn.model_selection import train_test_split\n",
        "X_train, X_test, y_train, y_test = train_test_split(X, y, test_size = 0.2, random_state = 0)"
      ],
      "execution_count": 105,
      "outputs": []
    },
    {
      "cell_type": "code",
      "metadata": {
        "colab": {
          "base_uri": "https://localhost:8080/"
        },
        "id": "DndPMb30EwPe",
        "outputId": "db56ef40-c23c-4f34-ea44-24527dbab0b3"
      },
      "source": [
        "X_train[:10]"
      ],
      "execution_count": 106,
      "outputs": [
        {
          "output_type": "execute_result",
          "data": {
            "text/plain": [
              "array([[-0.33853595, -0.48723518, -0.07586129, -0.88590061, -0.82860707,\n",
              "        -0.83480801,  0.19427816],\n",
              "       [-0.33853595,  2.05239694, -0.07586129,  0.51611398, -0.4739128 ,\n",
              "         0.14533065, -1.28658043],\n",
              "       [-0.33853595, -0.48723518,  0.98267796,  0.51611398, -0.4739128 ,\n",
              "         0.14533065, -1.28658043],\n",
              "       [-0.33853595, -0.48723518, -0.07586129, -0.41590708,  0.29246014,\n",
              "        -0.75533731, -0.7929609 ],\n",
              "       [-0.33853595, -0.48723518, -0.07586129, -0.35217915, -0.45259974,\n",
              "        -0.64937637, -1.38530434],\n",
              "       [-0.33853595, -0.48723518,  0.98267796,  0.1974743 , -0.89389236,\n",
              "        -0.1328168 ,  0.68789769],\n",
              "       [-0.33853595, -0.48723518,  0.98267796,  0.51611398, -1.16894307,\n",
              "         0.14533065, -1.28658043],\n",
              "       [-0.33853595,  2.05239694, -1.13440054,  0.65950183, -1.24454836,\n",
              "        -1.28514199,  1.28024113],\n",
              "       [-0.33853595, -0.48723518, -0.07586129, -0.7903087 , -0.51698763,\n",
              "         1.92017635,  1.67513676],\n",
              "       [-0.33853595,  2.05239694, -1.13440054,  0.48425001,  0.31915756,\n",
              "        -0.72884708,  1.28024113]])"
            ]
          },
          "metadata": {},
          "execution_count": 106
        }
      ]
    },
    {
      "cell_type": "markdown",
      "metadata": {
        "id": "x0tqa9PcE4-9"
      },
      "source": [
        "**Xây dựng model ANN**\n",
        "\n",
        "units = (7 + 1) / 2 = 4\n",
        "\n",
        "Nhưng mà 4 hơi nhỏ, dùng 4 thì ít param nên dùng 7 luôn"
      ]
    },
    {
      "cell_type": "code",
      "metadata": {
        "id": "1S8dZSfoE0ag"
      },
      "source": [
        "from tensorflow.keras.layers import Dense, Dropout\n",
        "from tensorflow.keras import Sequential\n"
      ],
      "execution_count": 107,
      "outputs": []
    },
    {
      "cell_type": "code",
      "metadata": {
        "id": "u2VOGZsmE7yc"
      },
      "source": [
        "model = Sequential()\n",
        "model.add(Dense(units = 7, activation='relu', input_shape=(7,)))\n",
        "model.add(Dropout(rate=0.1))\n",
        "model.add(Dense(units = 4, activation='relu'))\n",
        "model.add(Dropout(rate=0.1))\n",
        "model.add(Dense(1))"
      ],
      "execution_count": 108,
      "outputs": []
    },
    {
      "cell_type": "code",
      "metadata": {
        "id": "lJQRz5KdHCRN"
      },
      "source": [
        "model.compile(optimizer='adam', loss='mse')"
      ],
      "execution_count": 109,
      "outputs": []
    },
    {
      "cell_type": "code",
      "metadata": {
        "colab": {
          "base_uri": "https://localhost:8080/"
        },
        "id": "NUrigbllHFTG",
        "outputId": "f05c7757-e79d-4df0-e580-b4107a900821"
      },
      "source": [
        "model.summary()"
      ],
      "execution_count": 110,
      "outputs": [
        {
          "output_type": "stream",
          "name": "stdout",
          "text": [
            "Model: \"sequential_1\"\n",
            "_________________________________________________________________\n",
            "Layer (type)                 Output Shape              Param #   \n",
            "=================================================================\n",
            "dense_3 (Dense)              (None, 7)                 56        \n",
            "_________________________________________________________________\n",
            "dropout_2 (Dropout)          (None, 7)                 0         \n",
            "_________________________________________________________________\n",
            "dense_4 (Dense)              (None, 4)                 32        \n",
            "_________________________________________________________________\n",
            "dropout_3 (Dropout)          (None, 4)                 0         \n",
            "_________________________________________________________________\n",
            "dense_5 (Dense)              (None, 1)                 5         \n",
            "=================================================================\n",
            "Total params: 93\n",
            "Trainable params: 93\n",
            "Non-trainable params: 0\n",
            "_________________________________________________________________\n"
          ]
        }
      ]
    },
    {
      "cell_type": "code",
      "metadata": {
        "colab": {
          "base_uri": "https://localhost:8080/"
        },
        "id": "a-LZnjJ5Hhie",
        "outputId": "3cf899ff-b1c6-4aba-8215-ed6643a8d8a7"
      },
      "source": [
        "history = model.fit(X_train, y_train, epochs = 100, batch_size=64, validation_data=(X_test, y_test))"
      ],
      "execution_count": 111,
      "outputs": [
        {
          "output_type": "stream",
          "name": "stdout",
          "text": [
            "Epoch 1/100\n",
            "606/606 [==============================] - 3s 4ms/step - loss: 1343290998784.0000 - val_loss: 1366861152256.0000\n",
            "Epoch 2/100\n",
            "606/606 [==============================] - 2s 4ms/step - loss: 1342968692736.0000 - val_loss: 1366184558592.0000\n",
            "Epoch 3/100\n",
            "606/606 [==============================] - 2s 3ms/step - loss: 1341829545984.0000 - val_loss: 1364518633472.0000\n",
            "Epoch 4/100\n",
            "606/606 [==============================] - 2s 4ms/step - loss: 1339420180480.0000 - val_loss: 1361234886656.0000\n",
            "Epoch 5/100\n",
            "606/606 [==============================] - 2s 3ms/step - loss: 1335311728640.0000 - val_loss: 1356248121344.0000\n",
            "Epoch 6/100\n",
            "606/606 [==============================] - 2s 4ms/step - loss: 1329527783424.0000 - val_loss: 1349466980352.0000\n",
            "Epoch 7/100\n",
            "606/606 [==============================] - 2s 4ms/step - loss: 1321837264896.0000 - val_loss: 1340769173504.0000\n",
            "Epoch 8/100\n",
            "606/606 [==============================] - 2s 3ms/step - loss: 1312327073792.0000 - val_loss: 1330103844864.0000\n",
            "Epoch 9/100\n",
            "606/606 [==============================] - 2s 4ms/step - loss: 1300683685888.0000 - val_loss: 1317361287168.0000\n",
            "Epoch 10/100\n",
            "606/606 [==============================] - 2s 3ms/step - loss: 1286819414016.0000 - val_loss: 1302437167104.0000\n",
            "Epoch 11/100\n",
            "606/606 [==============================] - 2s 3ms/step - loss: 1271283318784.0000 - val_loss: 1285414060032.0000\n",
            "Epoch 12/100\n",
            "606/606 [==============================] - 2s 4ms/step - loss: 1253119754240.0000 - val_loss: 1266227085312.0000\n",
            "Epoch 13/100\n",
            "606/606 [==============================] - 2s 4ms/step - loss: 1232837672960.0000 - val_loss: 1244779905024.0000\n",
            "Epoch 14/100\n",
            "606/606 [==============================] - 2s 3ms/step - loss: 1211094925312.0000 - val_loss: 1221204639744.0000\n",
            "Epoch 15/100\n",
            "606/606 [==============================] - 2s 4ms/step - loss: 1186827337728.0000 - val_loss: 1195506663424.0000\n",
            "Epoch 16/100\n",
            "606/606 [==============================] - 2s 3ms/step - loss: 1160141471744.0000 - val_loss: 1167504572416.0000\n",
            "Epoch 17/100\n",
            "606/606 [==============================] - 2s 3ms/step - loss: 1131646287872.0000 - val_loss: 1137559994368.0000\n",
            "Epoch 18/100\n",
            "606/606 [==============================] - 2s 4ms/step - loss: 1100957745152.0000 - val_loss: 1105630068736.0000\n",
            "Epoch 19/100\n",
            "606/606 [==============================] - 2s 3ms/step - loss: 1068668157952.0000 - val_loss: 1071839313920.0000\n",
            "Epoch 20/100\n",
            "606/606 [==============================] - 2s 3ms/step - loss: 1035710300160.0000 - val_loss: 1036595560448.0000\n",
            "Epoch 21/100\n",
            "606/606 [==============================] - 2s 3ms/step - loss: 999525908480.0000 - val_loss: 999849525248.0000\n",
            "Epoch 22/100\n",
            "606/606 [==============================] - 2s 4ms/step - loss: 962762833920.0000 - val_loss: 961710194688.0000\n",
            "Epoch 23/100\n",
            "606/606 [==============================] - 2s 4ms/step - loss: 925626204160.0000 - val_loss: 922666336256.0000\n",
            "Epoch 24/100\n",
            "606/606 [==============================] - 2s 4ms/step - loss: 887237640192.0000 - val_loss: 882727714816.0000\n",
            "Epoch 25/100\n",
            "606/606 [==============================] - 2s 4ms/step - loss: 848112123904.0000 - val_loss: 842235969536.0000\n",
            "Epoch 26/100\n",
            "606/606 [==============================] - 2s 4ms/step - loss: 808479555584.0000 - val_loss: 801455276032.0000\n",
            "Epoch 27/100\n",
            "606/606 [==============================] - 2s 4ms/step - loss: 770499215360.0000 - val_loss: 760964186112.0000\n",
            "Epoch 28/100\n",
            "606/606 [==============================] - 2s 3ms/step - loss: 731024719872.0000 - val_loss: 720837541888.0000\n",
            "Epoch 29/100\n",
            "606/606 [==============================] - 2s 4ms/step - loss: 693310652416.0000 - val_loss: 681542615040.0000\n",
            "Epoch 30/100\n",
            "606/606 [==============================] - 2s 3ms/step - loss: 656394092544.0000 - val_loss: 643376939008.0000\n",
            "Epoch 31/100\n",
            "606/606 [==============================] - 2s 4ms/step - loss: 622597701632.0000 - val_loss: 606815191040.0000\n",
            "Epoch 32/100\n",
            "606/606 [==============================] - 2s 4ms/step - loss: 587232837632.0000 - val_loss: 571772698624.0000\n",
            "Epoch 33/100\n",
            "606/606 [==============================] - 2s 4ms/step - loss: 562295341056.0000 - val_loss: 539142488064.0000\n",
            "Epoch 34/100\n",
            "606/606 [==============================] - 2s 4ms/step - loss: 529338826752.0000 - val_loss: 508514861056.0000\n",
            "Epoch 35/100\n",
            "606/606 [==============================] - 2s 3ms/step - loss: 503455449088.0000 - val_loss: 480055689216.0000\n",
            "Epoch 36/100\n",
            "606/606 [==============================] - 2s 4ms/step - loss: 478012047360.0000 - val_loss: 454212452352.0000\n",
            "Epoch 37/100\n",
            "606/606 [==============================] - 2s 4ms/step - loss: 457222094848.0000 - val_loss: 430516371456.0000\n",
            "Epoch 38/100\n",
            "606/606 [==============================] - 2s 4ms/step - loss: 437230272512.0000 - val_loss: 409364267008.0000\n",
            "Epoch 39/100\n",
            "606/606 [==============================] - 2s 4ms/step - loss: 421112217600.0000 - val_loss: 391048560640.0000\n",
            "Epoch 40/100\n",
            "606/606 [==============================] - 2s 4ms/step - loss: 410072547328.0000 - val_loss: 375711170560.0000\n",
            "Epoch 41/100\n",
            "606/606 [==============================] - 2s 4ms/step - loss: 397000245248.0000 - val_loss: 362017816576.0000\n",
            "Epoch 42/100\n",
            "606/606 [==============================] - 2s 4ms/step - loss: 388575789056.0000 - val_loss: 350692868096.0000\n",
            "Epoch 43/100\n",
            "606/606 [==============================] - 2s 4ms/step - loss: 380937043968.0000 - val_loss: 341598666752.0000\n",
            "Epoch 44/100\n",
            "606/606 [==============================] - 2s 4ms/step - loss: 375093100544.0000 - val_loss: 334046920704.0000\n",
            "Epoch 45/100\n",
            "606/606 [==============================] - 2s 4ms/step - loss: 363815010304.0000 - val_loss: 327413727232.0000\n",
            "Epoch 46/100\n",
            "606/606 [==============================] - 2s 3ms/step - loss: 358551355392.0000 - val_loss: 321619951616.0000\n",
            "Epoch 47/100\n",
            "606/606 [==============================] - 2s 4ms/step - loss: 357293785088.0000 - val_loss: 316899917824.0000\n",
            "Epoch 48/100\n",
            "606/606 [==============================] - 2s 3ms/step - loss: 354835464192.0000 - val_loss: 312656723968.0000\n",
            "Epoch 49/100\n",
            "606/606 [==============================] - 2s 4ms/step - loss: 350214422528.0000 - val_loss: 308739473408.0000\n",
            "Epoch 50/100\n",
            "606/606 [==============================] - 2s 4ms/step - loss: 349580427264.0000 - val_loss: 305213407232.0000\n",
            "Epoch 51/100\n",
            "606/606 [==============================] - 2s 4ms/step - loss: 346987724800.0000 - val_loss: 302082916352.0000\n",
            "Epoch 52/100\n",
            "606/606 [==============================] - 2s 4ms/step - loss: 348850159616.0000 - val_loss: 299195465728.0000\n",
            "Epoch 53/100\n",
            "606/606 [==============================] - 2s 3ms/step - loss: 340724744192.0000 - val_loss: 296366309376.0000\n",
            "Epoch 54/100\n",
            "606/606 [==============================] - 2s 4ms/step - loss: 339382435840.0000 - val_loss: 293531582464.0000\n",
            "Epoch 55/100\n",
            "606/606 [==============================] - 2s 4ms/step - loss: 336158523392.0000 - val_loss: 290706718720.0000\n",
            "Epoch 56/100\n",
            "606/606 [==============================] - 2s 4ms/step - loss: 332871794688.0000 - val_loss: 287887556608.0000\n",
            "Epoch 57/100\n",
            "606/606 [==============================] - 2s 4ms/step - loss: 328880193536.0000 - val_loss: 285223550976.0000\n",
            "Epoch 58/100\n",
            "606/606 [==============================] - 2s 4ms/step - loss: 329265741824.0000 - val_loss: 282472218624.0000\n",
            "Epoch 59/100\n",
            "606/606 [==============================] - 2s 4ms/step - loss: 326918373376.0000 - val_loss: 279826890752.0000\n",
            "Epoch 60/100\n",
            "606/606 [==============================] - 2s 4ms/step - loss: 326482984960.0000 - val_loss: 277234778112.0000\n",
            "Epoch 61/100\n",
            "606/606 [==============================] - 2s 3ms/step - loss: 322863693824.0000 - val_loss: 274694799360.0000\n",
            "Epoch 62/100\n",
            "606/606 [==============================] - 2s 4ms/step - loss: 315848687616.0000 - val_loss: 272052830208.0000\n",
            "Epoch 63/100\n",
            "606/606 [==============================] - 2s 4ms/step - loss: 317374857216.0000 - val_loss: 269609435136.0000\n",
            "Epoch 64/100\n",
            "606/606 [==============================] - 2s 4ms/step - loss: 313968656384.0000 - val_loss: 267207114752.0000\n",
            "Epoch 65/100\n",
            "606/606 [==============================] - 2s 4ms/step - loss: 309966569472.0000 - val_loss: 264727347200.0000\n",
            "Epoch 66/100\n",
            "606/606 [==============================] - 2s 4ms/step - loss: 313142214656.0000 - val_loss: 262296797184.0000\n",
            "Epoch 67/100\n",
            "606/606 [==============================] - 2s 4ms/step - loss: 308882669568.0000 - val_loss: 259959603200.0000\n",
            "Epoch 68/100\n",
            "606/606 [==============================] - 2s 4ms/step - loss: 303656730624.0000 - val_loss: 257730134016.0000\n",
            "Epoch 69/100\n",
            "606/606 [==============================] - 2s 4ms/step - loss: 301867204608.0000 - val_loss: 255660015616.0000\n",
            "Epoch 70/100\n",
            "606/606 [==============================] - 2s 4ms/step - loss: 299931762688.0000 - val_loss: 253645324288.0000\n",
            "Epoch 71/100\n",
            "606/606 [==============================] - 2s 4ms/step - loss: 296523595776.0000 - val_loss: 251430912000.0000\n",
            "Epoch 72/100\n",
            "606/606 [==============================] - 2s 4ms/step - loss: 297676537856.0000 - val_loss: 249344360448.0000\n",
            "Epoch 73/100\n",
            "606/606 [==============================] - 2s 4ms/step - loss: 294351306752.0000 - val_loss: 247292739584.0000\n",
            "Epoch 74/100\n",
            "606/606 [==============================] - 2s 4ms/step - loss: 295533805568.0000 - val_loss: 245535277056.0000\n",
            "Epoch 75/100\n",
            "606/606 [==============================] - 2s 4ms/step - loss: 290700165120.0000 - val_loss: 243628638208.0000\n",
            "Epoch 76/100\n",
            "606/606 [==============================] - 2s 3ms/step - loss: 286834229248.0000 - val_loss: 241633951744.0000\n",
            "Epoch 77/100\n",
            "606/606 [==============================] - 2s 4ms/step - loss: 286708989952.0000 - val_loss: 239820800000.0000\n",
            "Epoch 78/100\n",
            "606/606 [==============================] - 2s 4ms/step - loss: 286055858176.0000 - val_loss: 238162329600.0000\n",
            "Epoch 79/100\n",
            "606/606 [==============================] - 2s 3ms/step - loss: 286675927040.0000 - val_loss: 236757630976.0000\n",
            "Epoch 80/100\n",
            "606/606 [==============================] - 2s 4ms/step - loss: 284423520256.0000 - val_loss: 235151212544.0000\n",
            "Epoch 81/100\n",
            "606/606 [==============================] - 2s 4ms/step - loss: 285379428352.0000 - val_loss: 233906618368.0000\n",
            "Epoch 82/100\n",
            "606/606 [==============================] - 2s 4ms/step - loss: 281382944768.0000 - val_loss: 232416854016.0000\n",
            "Epoch 83/100\n",
            "606/606 [==============================] - 2s 4ms/step - loss: 280961155072.0000 - val_loss: 231096107008.0000\n",
            "Epoch 84/100\n",
            "606/606 [==============================] - 2s 4ms/step - loss: 278287843328.0000 - val_loss: 229720817664.0000\n",
            "Epoch 85/100\n",
            "606/606 [==============================] - 2s 4ms/step - loss: 276196032512.0000 - val_loss: 228413227008.0000\n",
            "Epoch 86/100\n",
            "606/606 [==============================] - 2s 3ms/step - loss: 277225340928.0000 - val_loss: 227256303616.0000\n",
            "Epoch 87/100\n",
            "606/606 [==============================] - 2s 4ms/step - loss: 278458171392.0000 - val_loss: 226287648768.0000\n",
            "Epoch 88/100\n",
            "606/606 [==============================] - 2s 4ms/step - loss: 270596931584.0000 - val_loss: 225064697856.0000\n",
            "Epoch 89/100\n",
            "606/606 [==============================] - 2s 4ms/step - loss: 274165694464.0000 - val_loss: 224120668160.0000\n",
            "Epoch 90/100\n",
            "606/606 [==============================] - 2s 4ms/step - loss: 274622562304.0000 - val_loss: 223096553472.0000\n",
            "Epoch 91/100\n",
            "606/606 [==============================] - 2s 4ms/step - loss: 270865301504.0000 - val_loss: 222223728640.0000\n",
            "Epoch 92/100\n",
            "606/606 [==============================] - 2s 4ms/step - loss: 269093814272.0000 - val_loss: 221394976768.0000\n",
            "Epoch 93/100\n",
            "606/606 [==============================] - 2s 4ms/step - loss: 267383226368.0000 - val_loss: 220617916416.0000\n",
            "Epoch 94/100\n",
            "606/606 [==============================] - 2s 4ms/step - loss: 271664250880.0000 - val_loss: 219911847936.0000\n",
            "Epoch 95/100\n",
            "606/606 [==============================] - 2s 4ms/step - loss: 268009603072.0000 - val_loss: 219043069952.0000\n",
            "Epoch 96/100\n",
            "606/606 [==============================] - 2s 4ms/step - loss: 267091165184.0000 - val_loss: 218344407040.0000\n",
            "Epoch 97/100\n",
            "606/606 [==============================] - 2s 4ms/step - loss: 266637754368.0000 - val_loss: 217829687296.0000\n",
            "Epoch 98/100\n",
            "606/606 [==============================] - 2s 4ms/step - loss: 268184027136.0000 - val_loss: 217148882944.0000\n",
            "Epoch 99/100\n",
            "606/606 [==============================] - 2s 4ms/step - loss: 265586442240.0000 - val_loss: 216495423488.0000\n",
            "Epoch 100/100\n",
            "606/606 [==============================] - 2s 4ms/step - loss: 266648207360.0000 - val_loss: 216177328128.0000\n"
          ]
        }
      ]
    },
    {
      "cell_type": "code",
      "metadata": {
        "colab": {
          "base_uri": "https://localhost:8080/"
        },
        "id": "-vpcNEkcItbK",
        "outputId": "1dc363bf-35b6-46cd-ad76-8cb02563bcdb"
      },
      "source": [
        "history"
      ],
      "execution_count": 112,
      "outputs": [
        {
          "output_type": "execute_result",
          "data": {
            "text/plain": [
              "<keras.callbacks.History at 0x7f2b86a55790>"
            ]
          },
          "metadata": {},
          "execution_count": 112
        }
      ]
    },
    {
      "cell_type": "code",
      "metadata": {
        "colab": {
          "base_uri": "https://localhost:8080/",
          "height": 293
        },
        "id": "dh5S9Jg6HkbK",
        "outputId": "403caa5a-1a42-47f1-ef3c-aecf5de00a07"
      },
      "source": [
        "history_df = pd.DataFrame(history.history)\n",
        "history_df.loc[:, ['loss', 'val_loss']].plot()"
      ],
      "execution_count": 113,
      "outputs": [
        {
          "output_type": "execute_result",
          "data": {
            "text/plain": [
              "<matplotlib.axes._subplots.AxesSubplot at 0x7f2b86f032d0>"
            ]
          },
          "metadata": {},
          "execution_count": 113
        },
        {
          "output_type": "display_data",
          "data": {
            "image/png": "[encoded data removed]",
            "text/plain": [
              "<Figure size 432x288 with 1 Axes>"
            ]
          },
          "metadata": {
            "needs_background": "light"
          }
        }
      ]
    },
    {
      "cell_type": "markdown",
      "metadata": {
        "id": "PnB3tdHfOels"
      },
      "source": [
        "## Thử predict giá trị mới\n"
      ]
    },
    {
      "cell_type": "code",
      "metadata": {
        "colab": {
          "base_uri": "https://localhost:8080/"
        },
        "id": "07Uvku2eIkLg",
        "outputId": "d1b7f2d1-eefd-480f-c9cf-f841392fe043"
      },
      "source": [
        "test_data = np.array([[3, 'h',13067, 5019, 3.0, 'Yarra City Council']])\n",
        "test_data[:, 1] = labelencoder_X_1.transform(test_data[:, 1])\n",
        "test_data[:, 5] = labelencoder_X_2.transform(test_data[:, 5])\n",
        "np.array(test_data, np.float)"
      ],
      "execution_count": 154,
      "outputs": [
        {
          "output_type": "execute_result",
          "data": {
            "text/plain": [
              "array([[3.0000e+00, 0.0000e+00, 1.3067e+04, 5.0190e+03, 3.0000e+00,\n",
              "        3.2000e+01]])"
            ]
          },
          "metadata": {},
          "execution_count": 154
        }
      ]
    },
    {
      "cell_type": "code",
      "metadata": {
        "id": "JKnXCrXLPZA3"
      },
      "source": [
        "test_data = ct.transform([[3.0000e+00, 0.0000e+00, 1.3067e+04, 5.0190e+03, 3.0000e+00,\n",
        "        3.2000e+01]])"
      ],
      "execution_count": 155,
      "outputs": []
    },
    {
      "cell_type": "code",
      "metadata": {
        "id": "2y-CJYm1UeUW"
      },
      "source": [
        "test_data = test_data[:, 1:]\n",
        "test_data = sc.transform(test_data)"
      ],
      "execution_count": 156,
      "outputs": []
    },
    {
      "cell_type": "code",
      "metadata": {
        "colab": {
          "base_uri": "https://localhost:8080/"
        },
        "id": "11QlUt5obyEQ",
        "outputId": "aafbebc4-f940-4391-a6e5-81cdbaaf903b"
      },
      "source": [
        "test_data"
      ],
      "execution_count": 157,
      "outputs": [
        {
          "output_type": "execute_result",
          "data": {
            "text/plain": [
              "array([[-3.38535946e-01, -4.87235184e-01, -7.58612874e-02,\n",
              "         7.92121484e+01, -5.71504206e-01, -1.28514199e+00,\n",
              "         1.77386066e+00]])"
            ]
          },
          "metadata": {},
          "execution_count": 157
        }
      ]
    },
    {
      "cell_type": "code",
      "metadata": {
        "colab": {
          "base_uri": "https://localhost:8080/"
        },
        "id": "HGyyUyZbcdjV",
        "outputId": "da9755af-5ed2-4483-a7b6-db123e4263cf"
      },
      "source": [
        "predicted_value = model.predict(test_data)\n",
        "predicted_value"
      ],
      "execution_count": 158,
      "outputs": [
        {
          "output_type": "execute_result",
          "data": {
            "text/plain": [
              "array([[15475678.]], dtype=float32)"
            ]
          },
          "metadata": {},
          "execution_count": 158
        }
      ]
    },
    {
      "cell_type": "code",
      "metadata": {
        "id": "Xs-XUjG7cnxj"
      },
      "source": [
        "#Save the result\n",
        "from tensorflow.keras.models import load_model\n",
        "# Creates a HDF5 file 'my_model.h5'\n",
        "model.save('Cau1_model.h5')"
      ],
      "execution_count": 160,
      "outputs": []
    },
    {
      "cell_type": "code",
      "metadata": {
        "id": "eXNhlW6udANw"
      },
      "source": [
        ""
      ],
      "execution_count": null,
      "outputs": []
    }
  ]
}